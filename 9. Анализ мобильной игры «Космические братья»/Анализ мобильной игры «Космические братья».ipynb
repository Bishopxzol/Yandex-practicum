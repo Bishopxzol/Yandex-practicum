{
 "cells": [
  {
   "cell_type": "markdown",
   "id": "a2791f01",
   "metadata": {},
   "source": [
    "# Анализ мобильной игры «Космические братья»"
   ]
  },
  {
   "cell_type": "markdown",
   "id": "eacd3d1d",
   "metadata": {},
   "source": [
    "## Содержание:"
   ]
  },
  {
   "cell_type": "markdown",
   "id": "d6631cd8",
   "metadata": {},
   "source": [
    "1. Изучение общей информации, предварительный просмотр данных\n",
    "\n",
    "- 1.1. Импортируем все нужные библиотеки\n",
    "\n",
    "- 1.2. Загрузка файлов и предварительный просмотр данных\n",
    "\n",
    "2. Подготовка данных\n",
    "- 2.1. Обработка формата столбцов\n",
    "- 2.2. Изучение дубликатов\n",
    "\n",
    "3. Исследовательский анализ данных \n",
    "\n",
    "- 3.1. Изучение оставшихся после подготовки данных. Построение графиков. Анализ общих показателей игры\n",
    "- 3.2. Анализ показателей с разбивкой по каналам привлечения\n",
    "- 3.3. Анализ конверсии перехода на второй уровень пользователей в общем случае.\n",
    "- 3.4. Анализ конверсии перехода на второй уровень пользователей с разбивкой по каналам привлечения\n",
    "- 3.5. Изучение игровой активности пользователей в общем случае\n",
    "-  3.5.1. Изучение наиболее часто встречающихся типов построек в общем случае\n",
    "-  3.5.2. Изучение игроков, выполнивших необходимые условия для перехода на следующий уровень, но так и не перешедших в общем случае \n",
    "- 3.6. Изучение игровой активности пользователей с разбивкой по каналам привлечения\n",
    "-  3.6.1. Изучение наиболее часто встречающихся типов построек отдельно по каналам\n",
    "- 3.7. Анализ завершения уровня и способа его прохождения в общем случае\n",
    "- 3.8. Анализ завершения уровня и способа его прохождения с разбивкой по каналам привлечения\n",
    "\n",
    "4. Ранжирвание каналов по принципу цена/качество.\n",
    "- 4.1. Изучение общей стоимости всех кликов с разбивкой по каналам в конкретные дни\n",
    "- 4.2. Ранжировка с помощью конверсии перехода и стоимости кликов\n",
    "\n",
    "\n",
    "5. Статистический анализ данных\n",
    "- 5.1. Проверка статистической гипотезы: время завершения уровня различается в зависимости способа прохождения:\n",
    "  - через реализацию проекта,\n",
    "  - через победу над первым игроком\n",
    "- 5.2. Формирование собственной гипотезы. Проверка статистической гипотезы: Существует ли статистическая разница между конверсией перехода на следующий уровень игроков из двух разных каналов(Попарное сравнение всех каналов)\n",
    "6. Подготовка презентации\n",
    "7. Формирование дашбордов\n",
    "8. Общий вывод."
   ]
  },
  {
   "cell_type": "markdown",
   "id": "3b9130d2",
   "metadata": {},
   "source": [
    "<b>Цель исследования</b> - выполнить предобработку данных и изучить их. Приоритизировать гипотезы, запуск A/B-теста и анализ результатов.\n",
    "\n",
    "<b>Исходные данные</b> - данные интернет-магазина."
   ]
  },
  {
   "cell_type": "markdown",
   "id": "e77ef202",
   "metadata": {},
   "source": [
    "**Описание данных**\n",
    "\n",
    "**Датасет game_actions.csv:**\n",
    "- event_datetime — время события;\n",
    "- event — одно из трёх событий:\n",
    "  - 1 building — объект построен,\n",
    "  - 2 finished_stage_1 — первый уровень завершён,\n",
    "  - 3 project — проект завершён;\n",
    "- building_type — один из трёх типов здания:\n",
    "  - 1 assembly_shop — сборочный цех,\n",
    "  - 2 spaceport — космопорт,\n",
    "    3 research_center — исследовательский центр;\n",
    "- user_id — идентификатор пользователя;\n",
    "- project_type — тип реализованного проекта;\n",
    "\n",
    "**Датасет ad_costs.csv:**\n",
    "- day - день, в который был совершен клик по объявлению\n",
    "- source - источник трафика\n",
    "- cost - стоимость кликов\n",
    "\n",
    "**Датасет user_source.csv содержит колонки:**\n",
    "- user_id - идентификатор пользователя\n",
    "- source - источников, с которого пришёл пользователь, установивший приложение"
   ]
  },
  {
   "cell_type": "markdown",
   "id": "a7b09926",
   "metadata": {},
   "source": [
    "## 1. Изучение общей информации, предварительный просмотр данных"
   ]
  },
  {
   "cell_type": "markdown",
   "id": "a38ee780",
   "metadata": {},
   "source": [
    "#### 1.1. Импортируем все нужные библиотеки"
   ]
  },
  {
   "cell_type": "code",
   "execution_count": 1,
   "id": "726e14e0",
   "metadata": {},
   "outputs": [
    {
     "name": "stdout",
     "output_type": "stream",
     "text": [
      "Defaulting to user installation because normal site-packages is not writeable\n",
      "Requirement already satisfied: missingno in c:\\users\\кирилл\\appdata\\roaming\\python\\python310\\site-packages (0.5.2)\n",
      "Requirement already satisfied: scipy in c:\\programdata\\anaconda3\\lib\\site-packages (from missingno) (1.10.0)\n",
      "Requirement already satisfied: seaborn in c:\\programdata\\anaconda3\\lib\\site-packages (from missingno) (0.12.2)\n",
      "Requirement already satisfied: numpy in c:\\programdata\\anaconda3\\lib\\site-packages (from missingno) (1.23.5)\n",
      "Requirement already satisfied: matplotlib in c:\\programdata\\anaconda3\\lib\\site-packages (from missingno) (3.7.0)\n",
      "Requirement already satisfied: pyparsing>=2.3.1 in c:\\programdata\\anaconda3\\lib\\site-packages (from matplotlib->missingno) (3.0.9)\n",
      "Requirement already satisfied: contourpy>=1.0.1 in c:\\programdata\\anaconda3\\lib\\site-packages (from matplotlib->missingno) (1.0.5)\n",
      "Requirement already satisfied: python-dateutil>=2.7 in c:\\programdata\\anaconda3\\lib\\site-packages (from matplotlib->missingno) (2.8.2)\n",
      "Requirement already satisfied: kiwisolver>=1.0.1 in c:\\programdata\\anaconda3\\lib\\site-packages (from matplotlib->missingno) (1.4.4)\n",
      "Requirement already satisfied: cycler>=0.10 in c:\\programdata\\anaconda3\\lib\\site-packages (from matplotlib->missingno) (0.11.0)\n",
      "Requirement already satisfied: packaging>=20.0 in c:\\programdata\\anaconda3\\lib\\site-packages (from matplotlib->missingno) (22.0)\n",
      "Requirement already satisfied: fonttools>=4.22.0 in c:\\programdata\\anaconda3\\lib\\site-packages (from matplotlib->missingno) (4.25.0)\n",
      "Requirement already satisfied: pillow>=6.2.0 in c:\\programdata\\anaconda3\\lib\\site-packages (from matplotlib->missingno) (9.4.0)\n",
      "Requirement already satisfied: pandas>=0.25 in c:\\programdata\\anaconda3\\lib\\site-packages (from seaborn->missingno) (1.5.3)\n",
      "Requirement already satisfied: pytz>=2020.1 in c:\\programdata\\anaconda3\\lib\\site-packages (from pandas>=0.25->seaborn->missingno) (2022.7)\n",
      "Requirement already satisfied: six>=1.5 in c:\\programdata\\anaconda3\\lib\\site-packages (from python-dateutil>=2.7->matplotlib->missingno) (1.16.0)\n"
     ]
    }
   ],
   "source": [
    "! pip install missingno"
   ]
  },
  {
   "cell_type": "code",
   "execution_count": 2,
   "id": "02e1bcc7",
   "metadata": {},
   "outputs": [],
   "source": [
    "import pandas as pd\n",
    "import seaborn as sns\n",
    "import numpy as np\n",
    "import matplotlib.pyplot as plt\n",
    "import datetime as dt\n",
    "import scipy as sp\n",
    "import missingno as msno\n",
    "import plotly as pt\n",
    "from math import sqrt\n",
    "from math import fabs\n",
    "import statsmodels.api as sm"
   ]
  },
  {
   "cell_type": "markdown",
   "id": "ce2d3cac",
   "metadata": {},
   "source": [
    "#### 1.2. Загрузка файлов и предварительный просмотр данных"
   ]
  },
  {
   "cell_type": "code",
   "execution_count": 3,
   "id": "ff718b9f",
   "metadata": {},
   "outputs": [],
   "source": [
    "try:\n",
    "    game_actions = pd.read_csv('D://datasets/game_actions.csv')\n",
    "    ad_costs = pd.read_csv('D://datasets/ad_costs.csv')\n",
    "    user_source = pd.read_csv('D://datasets/user_source.csv')\n",
    "except:\n",
    "    game_actions = pd.read_csv('https://code.s3.yandex.net//datasets/game_actions.csv')\n",
    "    ad_costs = pd.read_csv('https://code.s3.yandex.net//datasets/ad_costs.csv')\n",
    "    user_source = pd.read_csv('https://code.s3.yandex.net//datasets/user_source.csv')"
   ]
  },
  {
   "cell_type": "code",
   "execution_count": 4,
   "id": "3f453e6a",
   "metadata": {},
   "outputs": [
    {
     "data": {
      "text/html": [
       "<div>\n",
       "<style scoped>\n",
       "    .dataframe tbody tr th:only-of-type {\n",
       "        vertical-align: middle;\n",
       "    }\n",
       "\n",
       "    .dataframe tbody tr th {\n",
       "        vertical-align: top;\n",
       "    }\n",
       "\n",
       "    .dataframe thead th {\n",
       "        text-align: right;\n",
       "    }\n",
       "</style>\n",
       "<table border=\"1\" class=\"dataframe\">\n",
       "  <thead>\n",
       "    <tr style=\"text-align: right;\">\n",
       "      <th></th>\n",
       "      <th>event_datetime</th>\n",
       "      <th>event</th>\n",
       "      <th>building_type</th>\n",
       "      <th>user_id</th>\n",
       "      <th>project_type</th>\n",
       "    </tr>\n",
       "  </thead>\n",
       "  <tbody>\n",
       "    <tr>\n",
       "      <th>0</th>\n",
       "      <td>2020-05-04 00:00:01</td>\n",
       "      <td>building</td>\n",
       "      <td>assembly_shop</td>\n",
       "      <td>55e92310-cb8e-4754-b622-597e124b03de</td>\n",
       "      <td>NaN</td>\n",
       "    </tr>\n",
       "    <tr>\n",
       "      <th>1</th>\n",
       "      <td>2020-05-04 00:00:03</td>\n",
       "      <td>building</td>\n",
       "      <td>assembly_shop</td>\n",
       "      <td>c07b1c10-f477-44dc-81dc-ec82254b1347</td>\n",
       "      <td>NaN</td>\n",
       "    </tr>\n",
       "    <tr>\n",
       "      <th>2</th>\n",
       "      <td>2020-05-04 00:00:16</td>\n",
       "      <td>building</td>\n",
       "      <td>assembly_shop</td>\n",
       "      <td>6edd42cc-e753-4ff6-a947-2107cd560710</td>\n",
       "      <td>NaN</td>\n",
       "    </tr>\n",
       "    <tr>\n",
       "      <th>3</th>\n",
       "      <td>2020-05-04 00:00:16</td>\n",
       "      <td>building</td>\n",
       "      <td>assembly_shop</td>\n",
       "      <td>92c69003-d60a-444a-827f-8cc51bf6bf4c</td>\n",
       "      <td>NaN</td>\n",
       "    </tr>\n",
       "    <tr>\n",
       "      <th>4</th>\n",
       "      <td>2020-05-04 00:00:35</td>\n",
       "      <td>building</td>\n",
       "      <td>assembly_shop</td>\n",
       "      <td>cdc6bb92-0ccb-4490-9866-ef142f09139d</td>\n",
       "      <td>NaN</td>\n",
       "    </tr>\n",
       "  </tbody>\n",
       "</table>\n",
       "</div>"
      ],
      "text/plain": [
       "        event_datetime     event  building_type  \\\n",
       "0  2020-05-04 00:00:01  building  assembly_shop   \n",
       "1  2020-05-04 00:00:03  building  assembly_shop   \n",
       "2  2020-05-04 00:00:16  building  assembly_shop   \n",
       "3  2020-05-04 00:00:16  building  assembly_shop   \n",
       "4  2020-05-04 00:00:35  building  assembly_shop   \n",
       "\n",
       "                                user_id project_type  \n",
       "0  55e92310-cb8e-4754-b622-597e124b03de          NaN  \n",
       "1  c07b1c10-f477-44dc-81dc-ec82254b1347          NaN  \n",
       "2  6edd42cc-e753-4ff6-a947-2107cd560710          NaN  \n",
       "3  92c69003-d60a-444a-827f-8cc51bf6bf4c          NaN  \n",
       "4  cdc6bb92-0ccb-4490-9866-ef142f09139d          NaN  "
      ]
     },
     "execution_count": 4,
     "metadata": {},
     "output_type": "execute_result"
    }
   ],
   "source": [
    "game_actions.head()"
   ]
  },
  {
   "cell_type": "code",
   "execution_count": 5,
   "id": "93e91941",
   "metadata": {},
   "outputs": [
    {
     "name": "stdout",
     "output_type": "stream",
     "text": [
      "<class 'pandas.core.frame.DataFrame'>\n",
      "RangeIndex: 135640 entries, 0 to 135639\n",
      "Data columns (total 5 columns):\n",
      " #   Column          Non-Null Count   Dtype \n",
      "---  ------          --------------   ----- \n",
      " 0   event_datetime  135640 non-null  object\n",
      " 1   event           135640 non-null  object\n",
      " 2   building_type   127957 non-null  object\n",
      " 3   user_id         135640 non-null  object\n",
      " 4   project_type    1866 non-null    object\n",
      "dtypes: object(5)\n",
      "memory usage: 5.2+ MB\n"
     ]
    }
   ],
   "source": [
    "game_actions.info()"
   ]
  },
  {
   "cell_type": "code",
   "execution_count": 6,
   "id": "8f92f760",
   "metadata": {},
   "outputs": [
    {
     "data": {
      "text/html": [
       "<div>\n",
       "<style scoped>\n",
       "    .dataframe tbody tr th:only-of-type {\n",
       "        vertical-align: middle;\n",
       "    }\n",
       "\n",
       "    .dataframe tbody tr th {\n",
       "        vertical-align: top;\n",
       "    }\n",
       "\n",
       "    .dataframe thead th {\n",
       "        text-align: right;\n",
       "    }\n",
       "</style>\n",
       "<table border=\"1\" class=\"dataframe\">\n",
       "  <thead>\n",
       "    <tr style=\"text-align: right;\">\n",
       "      <th></th>\n",
       "      <th>source</th>\n",
       "      <th>day</th>\n",
       "      <th>cost</th>\n",
       "    </tr>\n",
       "  </thead>\n",
       "  <tbody>\n",
       "    <tr>\n",
       "      <th>0</th>\n",
       "      <td>facebook_ads</td>\n",
       "      <td>2020-05-03</td>\n",
       "      <td>935.882786</td>\n",
       "    </tr>\n",
       "    <tr>\n",
       "      <th>1</th>\n",
       "      <td>facebook_ads</td>\n",
       "      <td>2020-05-04</td>\n",
       "      <td>548.354480</td>\n",
       "    </tr>\n",
       "    <tr>\n",
       "      <th>2</th>\n",
       "      <td>facebook_ads</td>\n",
       "      <td>2020-05-05</td>\n",
       "      <td>260.185754</td>\n",
       "    </tr>\n",
       "    <tr>\n",
       "      <th>3</th>\n",
       "      <td>facebook_ads</td>\n",
       "      <td>2020-05-06</td>\n",
       "      <td>177.982200</td>\n",
       "    </tr>\n",
       "    <tr>\n",
       "      <th>4</th>\n",
       "      <td>facebook_ads</td>\n",
       "      <td>2020-05-07</td>\n",
       "      <td>111.766796</td>\n",
       "    </tr>\n",
       "  </tbody>\n",
       "</table>\n",
       "</div>"
      ],
      "text/plain": [
       "         source         day        cost\n",
       "0  facebook_ads  2020-05-03  935.882786\n",
       "1  facebook_ads  2020-05-04  548.354480\n",
       "2  facebook_ads  2020-05-05  260.185754\n",
       "3  facebook_ads  2020-05-06  177.982200\n",
       "4  facebook_ads  2020-05-07  111.766796"
      ]
     },
     "execution_count": 6,
     "metadata": {},
     "output_type": "execute_result"
    }
   ],
   "source": [
    "ad_costs.head()"
   ]
  },
  {
   "cell_type": "code",
   "execution_count": 7,
   "id": "8e636d8c",
   "metadata": {},
   "outputs": [
    {
     "name": "stdout",
     "output_type": "stream",
     "text": [
      "<class 'pandas.core.frame.DataFrame'>\n",
      "RangeIndex: 28 entries, 0 to 27\n",
      "Data columns (total 3 columns):\n",
      " #   Column  Non-Null Count  Dtype  \n",
      "---  ------  --------------  -----  \n",
      " 0   source  28 non-null     object \n",
      " 1   day     28 non-null     object \n",
      " 2   cost    28 non-null     float64\n",
      "dtypes: float64(1), object(2)\n",
      "memory usage: 800.0+ bytes\n"
     ]
    }
   ],
   "source": [
    "ad_costs.info()"
   ]
  },
  {
   "cell_type": "code",
   "execution_count": 8,
   "id": "1c1fd670",
   "metadata": {},
   "outputs": [
    {
     "data": {
      "text/html": [
       "<div>\n",
       "<style scoped>\n",
       "    .dataframe tbody tr th:only-of-type {\n",
       "        vertical-align: middle;\n",
       "    }\n",
       "\n",
       "    .dataframe tbody tr th {\n",
       "        vertical-align: top;\n",
       "    }\n",
       "\n",
       "    .dataframe thead th {\n",
       "        text-align: right;\n",
       "    }\n",
       "</style>\n",
       "<table border=\"1\" class=\"dataframe\">\n",
       "  <thead>\n",
       "    <tr style=\"text-align: right;\">\n",
       "      <th></th>\n",
       "      <th>user_id</th>\n",
       "      <th>source</th>\n",
       "    </tr>\n",
       "  </thead>\n",
       "  <tbody>\n",
       "    <tr>\n",
       "      <th>0</th>\n",
       "      <td>0001f83c-c6ac-4621-b7f0-8a28b283ac30</td>\n",
       "      <td>facebook_ads</td>\n",
       "    </tr>\n",
       "    <tr>\n",
       "      <th>1</th>\n",
       "      <td>00151b4f-ba38-44a8-a650-d7cf130a0105</td>\n",
       "      <td>yandex_direct</td>\n",
       "    </tr>\n",
       "    <tr>\n",
       "      <th>2</th>\n",
       "      <td>001aaea6-3d14-43f1-8ca8-7f48820f17aa</td>\n",
       "      <td>youtube_channel_reklama</td>\n",
       "    </tr>\n",
       "    <tr>\n",
       "      <th>3</th>\n",
       "      <td>001d39dc-366c-4021-9604-6a3b9ff01e25</td>\n",
       "      <td>instagram_new_adverts</td>\n",
       "    </tr>\n",
       "    <tr>\n",
       "      <th>4</th>\n",
       "      <td>002f508f-67b6-479f-814b-b05f00d4e995</td>\n",
       "      <td>facebook_ads</td>\n",
       "    </tr>\n",
       "  </tbody>\n",
       "</table>\n",
       "</div>"
      ],
      "text/plain": [
       "                                user_id                   source\n",
       "0  0001f83c-c6ac-4621-b7f0-8a28b283ac30             facebook_ads\n",
       "1  00151b4f-ba38-44a8-a650-d7cf130a0105            yandex_direct\n",
       "2  001aaea6-3d14-43f1-8ca8-7f48820f17aa  youtube_channel_reklama\n",
       "3  001d39dc-366c-4021-9604-6a3b9ff01e25    instagram_new_adverts\n",
       "4  002f508f-67b6-479f-814b-b05f00d4e995             facebook_ads"
      ]
     },
     "execution_count": 8,
     "metadata": {},
     "output_type": "execute_result"
    }
   ],
   "source": [
    "user_source.head()"
   ]
  },
  {
   "cell_type": "code",
   "execution_count": 9,
   "id": "31eb0604",
   "metadata": {},
   "outputs": [
    {
     "name": "stdout",
     "output_type": "stream",
     "text": [
      "<class 'pandas.core.frame.DataFrame'>\n",
      "RangeIndex: 13576 entries, 0 to 13575\n",
      "Data columns (total 2 columns):\n",
      " #   Column   Non-Null Count  Dtype \n",
      "---  ------   --------------  ----- \n",
      " 0   user_id  13576 non-null  object\n",
      " 1   source   13576 non-null  object\n",
      "dtypes: object(2)\n",
      "memory usage: 212.2+ KB\n"
     ]
    }
   ],
   "source": [
    "user_source.info()"
   ]
  },
  {
   "cell_type": "markdown",
   "id": "816c32dc",
   "metadata": {},
   "source": [
    "**Выводы:**\n",
    "- Имеем 3 дата сета **game_actions, ad_costs, user_source:**\n",
    "  - game_actions: 5 колонок, 135640 строк, а также пропущенные значения и некорректные форматы столбцов\n",
    "  - ad_costs: 3 колонки, 28 строк, пропущенных значений нет, неккоректные форматы столбцов присутствуют\n",
    "  - user_source: 2 колонки, 13576 строк, пропусков нет."
   ]
  },
  {
   "cell_type": "markdown",
   "id": "a802616c",
   "metadata": {},
   "source": [
    "## 2. Подготовка данных"
   ]
  },
  {
   "cell_type": "markdown",
   "id": "5b93ba14",
   "metadata": {},
   "source": [
    "#### 2.1. Обработка формата столбцов, пропусков"
   ]
  },
  {
   "cell_type": "markdown",
   "id": "76b19e50",
   "metadata": {},
   "source": [
    "Приведем форматы колонок с датами к нужному типо, также отдельно для game_actions выделим дату в отдельную колонку"
   ]
  },
  {
   "cell_type": "code",
   "execution_count": 10,
   "id": "bb1f2135",
   "metadata": {},
   "outputs": [],
   "source": [
    "game_actions['event_datetime'] = pd.to_datetime(game_actions['event_datetime'])\n",
    "game_actions['event_date'] = game_actions['event_datetime'].dt.date\n",
    "ad_costs['day'] = pd.to_datetime(ad_costs['day'])"
   ]
  },
  {
   "cell_type": "markdown",
   "id": "afa03161",
   "metadata": {},
   "source": [
    "Теперь по скольку пропуски присутствуют в таблице game_actions, посмотрим на них"
   ]
  },
  {
   "cell_type": "code",
   "execution_count": 11,
   "id": "4d759bec",
   "metadata": {},
   "outputs": [
    {
     "data": {
      "text/html": [
       "<div>\n",
       "<style scoped>\n",
       "    .dataframe tbody tr th:only-of-type {\n",
       "        vertical-align: middle;\n",
       "    }\n",
       "\n",
       "    .dataframe tbody tr th {\n",
       "        vertical-align: top;\n",
       "    }\n",
       "\n",
       "    .dataframe thead th {\n",
       "        text-align: right;\n",
       "    }\n",
       "</style>\n",
       "<table border=\"1\" class=\"dataframe\">\n",
       "  <thead>\n",
       "    <tr style=\"text-align: right;\">\n",
       "      <th></th>\n",
       "      <th>event_datetime</th>\n",
       "      <th>event</th>\n",
       "      <th>building_type</th>\n",
       "      <th>user_id</th>\n",
       "      <th>project_type</th>\n",
       "      <th>event_date</th>\n",
       "    </tr>\n",
       "  </thead>\n",
       "  <tbody>\n",
       "    <tr>\n",
       "      <th>0</th>\n",
       "      <td>2020-05-04 00:00:01</td>\n",
       "      <td>building</td>\n",
       "      <td>assembly_shop</td>\n",
       "      <td>55e92310-cb8e-4754-b622-597e124b03de</td>\n",
       "      <td>NaN</td>\n",
       "      <td>2020-05-04</td>\n",
       "    </tr>\n",
       "    <tr>\n",
       "      <th>1</th>\n",
       "      <td>2020-05-04 00:00:03</td>\n",
       "      <td>building</td>\n",
       "      <td>assembly_shop</td>\n",
       "      <td>c07b1c10-f477-44dc-81dc-ec82254b1347</td>\n",
       "      <td>NaN</td>\n",
       "      <td>2020-05-04</td>\n",
       "    </tr>\n",
       "    <tr>\n",
       "      <th>2</th>\n",
       "      <td>2020-05-04 00:00:16</td>\n",
       "      <td>building</td>\n",
       "      <td>assembly_shop</td>\n",
       "      <td>6edd42cc-e753-4ff6-a947-2107cd560710</td>\n",
       "      <td>NaN</td>\n",
       "      <td>2020-05-04</td>\n",
       "    </tr>\n",
       "    <tr>\n",
       "      <th>3</th>\n",
       "      <td>2020-05-04 00:00:16</td>\n",
       "      <td>building</td>\n",
       "      <td>assembly_shop</td>\n",
       "      <td>92c69003-d60a-444a-827f-8cc51bf6bf4c</td>\n",
       "      <td>NaN</td>\n",
       "      <td>2020-05-04</td>\n",
       "    </tr>\n",
       "    <tr>\n",
       "      <th>4</th>\n",
       "      <td>2020-05-04 00:00:35</td>\n",
       "      <td>building</td>\n",
       "      <td>assembly_shop</td>\n",
       "      <td>cdc6bb92-0ccb-4490-9866-ef142f09139d</td>\n",
       "      <td>NaN</td>\n",
       "      <td>2020-05-04</td>\n",
       "    </tr>\n",
       "  </tbody>\n",
       "</table>\n",
       "</div>"
      ],
      "text/plain": [
       "       event_datetime     event  building_type  \\\n",
       "0 2020-05-04 00:00:01  building  assembly_shop   \n",
       "1 2020-05-04 00:00:03  building  assembly_shop   \n",
       "2 2020-05-04 00:00:16  building  assembly_shop   \n",
       "3 2020-05-04 00:00:16  building  assembly_shop   \n",
       "4 2020-05-04 00:00:35  building  assembly_shop   \n",
       "\n",
       "                                user_id project_type  event_date  \n",
       "0  55e92310-cb8e-4754-b622-597e124b03de          NaN  2020-05-04  \n",
       "1  c07b1c10-f477-44dc-81dc-ec82254b1347          NaN  2020-05-04  \n",
       "2  6edd42cc-e753-4ff6-a947-2107cd560710          NaN  2020-05-04  \n",
       "3  92c69003-d60a-444a-827f-8cc51bf6bf4c          NaN  2020-05-04  \n",
       "4  cdc6bb92-0ccb-4490-9866-ef142f09139d          NaN  2020-05-04  "
      ]
     },
     "execution_count": 11,
     "metadata": {},
     "output_type": "execute_result"
    }
   ],
   "source": [
    "game_actions.head()"
   ]
  },
  {
   "cell_type": "code",
   "execution_count": 12,
   "id": "fbbd352d",
   "metadata": {},
   "outputs": [
    {
     "data": {
      "image/png": "[encoded data removed]",
      "text/plain": [
       "<Figure size 2500x1000 with 3 Axes>"
      ]
     },
     "metadata": {},
     "output_type": "display_data"
    }
   ],
   "source": [
    "msno.bar(game_actions)\n",
    "plt.title('Пропуски в game_actions', fontdict = {'fontsize' : 50})\n",
    "plt.show()"
   ]
  },
  {
   "cell_type": "code",
   "execution_count": 13,
   "id": "19e5e03b",
   "metadata": {},
   "outputs": [
    {
     "data": {
      "text/plain": [
       "event_datetime         0\n",
       "event                  0\n",
       "building_type       7683\n",
       "user_id                0\n",
       "project_type      133774\n",
       "event_date             0\n",
       "dtype: int64"
      ]
     },
     "execution_count": 13,
     "metadata": {},
     "output_type": "execute_result"
    }
   ],
   "source": [
    "game_actions.isna().sum()"
   ]
  },
  {
   "cell_type": "markdown",
   "id": "269c8d0d",
   "metadata": {},
   "source": [
    "Заметим, что пропусков в **building_type** = 7683, а в **project_type** = 133774. Запомним эти цифры"
   ]
  },
  {
   "cell_type": "markdown",
   "id": "8ba03c16",
   "metadata": {},
   "source": [
    "Создадим сводную таблицу, чтобы узнать скольок игроков в колонке **event** имеют статус **building** и **project**"
   ]
  },
  {
   "cell_type": "code",
   "execution_count": 14,
   "id": "cd9c35ff",
   "metadata": {},
   "outputs": [
    {
     "data": {
      "text/html": [
       "<div>\n",
       "<style scoped>\n",
       "    .dataframe tbody tr th:only-of-type {\n",
       "        vertical-align: middle;\n",
       "    }\n",
       "\n",
       "    .dataframe tbody tr th {\n",
       "        vertical-align: top;\n",
       "    }\n",
       "\n",
       "    .dataframe thead th {\n",
       "        text-align: right;\n",
       "    }\n",
       "</style>\n",
       "<table border=\"1\" class=\"dataframe\">\n",
       "  <thead>\n",
       "    <tr style=\"text-align: right;\">\n",
       "      <th></th>\n",
       "      <th>event</th>\n",
       "      <th>user_id</th>\n",
       "    </tr>\n",
       "  </thead>\n",
       "  <tbody>\n",
       "    <tr>\n",
       "      <th>0</th>\n",
       "      <td>building</td>\n",
       "      <td>127957</td>\n",
       "    </tr>\n",
       "    <tr>\n",
       "      <th>1</th>\n",
       "      <td>finished_stage_1</td>\n",
       "      <td>5817</td>\n",
       "    </tr>\n",
       "    <tr>\n",
       "      <th>2</th>\n",
       "      <td>project</td>\n",
       "      <td>1866</td>\n",
       "    </tr>\n",
       "  </tbody>\n",
       "</table>\n",
       "</div>"
      ],
      "text/plain": [
       "              event  user_id\n",
       "0          building   127957\n",
       "1  finished_stage_1     5817\n",
       "2           project     1866"
      ]
     },
     "execution_count": 14,
     "metadata": {},
     "output_type": "execute_result"
    }
   ],
   "source": [
    "game_event_pivot = game_actions.pivot_table(index='event', values = 'user_id', aggfunc='count').reset_index()\n",
    "game_event_pivot"
   ]
  },
  {
   "cell_type": "code",
   "execution_count": 15,
   "id": "d18cbdb9",
   "metadata": {},
   "outputs": [
    {
     "data": {
      "text/plain": [
       "event_datetime         0\n",
       "event                  0\n",
       "building_type          0\n",
       "user_id                0\n",
       "project_type      127957\n",
       "event_date             0\n",
       "dtype: int64"
      ]
     },
     "execution_count": 15,
     "metadata": {},
     "output_type": "execute_result"
    }
   ],
   "source": [
    "miss_building_type = game_actions[game_actions['event']=='building']\n",
    "miss_building_type = miss_building_type.isna().sum()\n",
    "miss_building_type"
   ]
  },
  {
   "cell_type": "code",
   "execution_count": 16,
   "id": "2157bee9",
   "metadata": {},
   "outputs": [
    {
     "data": {
      "text/plain": [
       "event_datetime       0\n",
       "event                0\n",
       "building_type     1866\n",
       "user_id              0\n",
       "project_type         0\n",
       "event_date           0\n",
       "dtype: int64"
      ]
     },
     "execution_count": 16,
     "metadata": {},
     "output_type": "execute_result"
    }
   ],
   "source": [
    "miss_project_type = game_actions[game_actions['event']=='project']\n",
    "miss_project_type = miss_project_type.isna().sum()\n",
    "miss_project_type"
   ]
  },
  {
   "cell_type": "markdown",
   "id": "12adf339",
   "metadata": {},
   "source": [
    "**Выводы:**\n",
    "- Изменили формат даты в колонках двух таблиц, также добавили колонку с датой для game_actions\n",
    "- Получается, что если к 127957 прибавить 7683, то у нас как раз и получится 135640. Выходит, что building_type - колонка, которая носит информацию о пользователях со статусом в **event** - **building**. Пропуски обоснованы.\n",
    "- Аналогичная ситуация и с project_type. Пропуски также обоснованы"
   ]
  },
  {
   "cell_type": "markdown",
   "id": "213d8975",
   "metadata": {},
   "source": [
    "#### 2.2. Изучение дубликатов"
   ]
  },
  {
   "cell_type": "markdown",
   "id": "d7ba9983",
   "metadata": {},
   "source": [
    "Проверим явные дубликаты во всех таблицах"
   ]
  },
  {
   "cell_type": "code",
   "execution_count": 17,
   "id": "32f8da9f",
   "metadata": {},
   "outputs": [
    {
     "name": "stdout",
     "output_type": "stream",
     "text": [
      "Явные дубликаты в game_actions: 1\n",
      "Явные дубликаты в ad_costs: 0\n",
      "Явные дубликаты в user_source: 0\n"
     ]
    }
   ],
   "source": [
    "print('Явные дубликаты в game_actions:',game_actions.duplicated().sum())\n",
    "print('Явные дубликаты в ad_costs:',ad_costs.duplicated().sum())\n",
    "print('Явные дубликаты в user_source:',user_source.duplicated().sum())"
   ]
  },
  {
   "cell_type": "markdown",
   "id": "e5c8a3f5",
   "metadata": {},
   "source": [
    "Удалим найденные дубликаты"
   ]
  },
  {
   "cell_type": "code",
   "execution_count": 18,
   "id": "0a46a6fa",
   "metadata": {},
   "outputs": [],
   "source": [
    "game_actions = game_actions.drop_duplicates().reset_index(drop=True)"
   ]
  },
  {
   "cell_type": "markdown",
   "id": "a46a19a5",
   "metadata": {},
   "source": [
    "Найдем не явные дубликаты в game_actions опираясь на user_id и event_datetime(Осмелюсь предположить, что первый датасет- это обычные логи, где записаны действия пользователей, по этому рассматривать только user_id будет ошибкой) и user_source опираясь на user_id"
   ]
  },
  {
   "cell_type": "code",
   "execution_count": 19,
   "id": "e84879d3",
   "metadata": {},
   "outputs": [
    {
     "name": "stdout",
     "output_type": "stream",
     "text": [
      "Не явные дубликаты в game_actions: 0\n",
      "Не явные дубликаты в user_source: 0\n"
     ]
    }
   ],
   "source": [
    "print('Не явные дубликаты в game_actions:',game_actions.duplicated(['user_id', 'event_datetime']).sum())\n",
    "print('Не явные дубликаты в user_source:',user_source.duplicated(['user_id']).sum())"
   ]
  },
  {
   "cell_type": "markdown",
   "id": "7970e354",
   "metadata": {},
   "source": [
    "**Вывод:**\n",
    "- Удалены явные дубликаты, не явных дубликатов найдено не было"
   ]
  },
  {
   "cell_type": "markdown",
   "id": "ac2f29da",
   "metadata": {},
   "source": [
    "## 3. Исследовательский анализ данных "
   ]
  },
  {
   "cell_type": "markdown",
   "id": "acd56c70",
   "metadata": {},
   "source": [
    "#### 3.1. Изучение оставшихся после подготовки данных. Построение графиков. Анализ общих показателей игры."
   ]
  },
  {
   "cell_type": "markdown",
   "id": "3ae9fba7",
   "metadata": {},
   "source": [
    "Ознакомимся поверхностно с игровыми показателями и финансовыми показателями, такими как: \n",
    "- Общее количество пользователей\n",
    "- Общая активность пользователей\n",
    "- Средние показатели стоимости кликов"
   ]
  },
  {
   "cell_type": "code",
   "execution_count": 20,
   "id": "db7bd053",
   "metadata": {},
   "outputs": [
    {
     "name": "stdout",
     "output_type": "stream",
     "text": [
      "Всего в логах данные на: 13576\n"
     ]
    }
   ],
   "source": [
    "print('Всего в логах данные на:', game_actions['user_id'].nunique())"
   ]
  },
  {
   "cell_type": "code",
   "execution_count": 21,
   "id": "b3016551",
   "metadata": {},
   "outputs": [
    {
     "data": {
      "image/png": "[encoded data removed]",
      "text/plain": [
       "<Figure size 1200x600 with 1 Axes>"
      ]
     },
     "metadata": {},
     "output_type": "display_data"
    }
   ],
   "source": [
    "plt.figure(figsize=(12, 6))\n",
    "sns.histplot(data=game_actions, y=\"event_date\",bins=20)\n",
    "plt.title('Гистограмма активности пользователей по дате')\n",
    "plt.xlabel('Количество пользователей')\n",
    "plt.ylabel('Дата')\n",
    "plt.show()"
   ]
  },
  {
   "cell_type": "code",
   "execution_count": 22,
   "id": "1d2610ee",
   "metadata": {},
   "outputs": [
    {
     "data": {
      "text/html": [
       "<div>\n",
       "<style scoped>\n",
       "    .dataframe tbody tr th:only-of-type {\n",
       "        vertical-align: middle;\n",
       "    }\n",
       "\n",
       "    .dataframe tbody tr th {\n",
       "        vertical-align: top;\n",
       "    }\n",
       "\n",
       "    .dataframe thead th {\n",
       "        text-align: right;\n",
       "    }\n",
       "</style>\n",
       "<table border=\"1\" class=\"dataframe\">\n",
       "  <thead>\n",
       "    <tr style=\"text-align: right;\">\n",
       "      <th></th>\n",
       "      <th>source</th>\n",
       "      <th>cost</th>\n",
       "    </tr>\n",
       "  </thead>\n",
       "  <tbody>\n",
       "    <tr>\n",
       "      <th>2</th>\n",
       "      <td>yandex_direct</td>\n",
       "      <td>319.015921</td>\n",
       "    </tr>\n",
       "    <tr>\n",
       "      <th>1</th>\n",
       "      <td>instagram_new_adverts</td>\n",
       "      <td>308.777384</td>\n",
       "    </tr>\n",
       "    <tr>\n",
       "      <th>0</th>\n",
       "      <td>facebook_ads</td>\n",
       "      <td>305.843520</td>\n",
       "    </tr>\n",
       "    <tr>\n",
       "      <th>3</th>\n",
       "      <td>youtube_channel_reklama</td>\n",
       "      <td>152.588458</td>\n",
       "    </tr>\n",
       "  </tbody>\n",
       "</table>\n",
       "</div>"
      ],
      "text/plain": [
       "                    source        cost\n",
       "2            yandex_direct  319.015921\n",
       "1    instagram_new_adverts  308.777384\n",
       "0             facebook_ads  305.843520\n",
       "3  youtube_channel_reklama  152.588458"
      ]
     },
     "execution_count": 22,
     "metadata": {},
     "output_type": "execute_result"
    }
   ],
   "source": [
    "ad_costs_hist = ad_costs.pivot_table(index='source', values='cost', aggfunc='mean').reset_index().sort_values(by='cost', ascending=False)\n",
    "ad_costs_hist"
   ]
  },
  {
   "cell_type": "markdown",
   "id": "5584dbbf",
   "metadata": {},
   "source": [
    "**Вывод:**\n",
    "- Изучаем данные на 13576 пользователей\n",
    "- Нарастающая активность заметна в период рекламной кампании, затем виден спад.\n",
    "- Самые дорогие пользователи приходят из Яндекса, затем идут фейсбук и твиттер. Замыкает топ реклама на ютуб каналах"
   ]
  },
  {
   "cell_type": "markdown",
   "id": "fb9cf72a",
   "metadata": {},
   "source": [
    "#### 3.2. Анализ показателей с разбивкой по каналам привлечения"
   ]
  },
  {
   "cell_type": "markdown",
   "id": "ff792ba1",
   "metadata": {},
   "source": [
    "Построим такую же гистограмму активности, но уже с разбивкой по каналам"
   ]
  },
  {
   "cell_type": "code",
   "execution_count": 23,
   "id": "be3bafc4",
   "metadata": {},
   "outputs": [
    {
     "data": {
      "text/html": [
       "<div>\n",
       "<style scoped>\n",
       "    .dataframe tbody tr th:only-of-type {\n",
       "        vertical-align: middle;\n",
       "    }\n",
       "\n",
       "    .dataframe tbody tr th {\n",
       "        vertical-align: top;\n",
       "    }\n",
       "\n",
       "    .dataframe thead th {\n",
       "        text-align: right;\n",
       "    }\n",
       "</style>\n",
       "<table border=\"1\" class=\"dataframe\">\n",
       "  <thead>\n",
       "    <tr style=\"text-align: right;\">\n",
       "      <th></th>\n",
       "      <th>event_datetime</th>\n",
       "      <th>event</th>\n",
       "      <th>building_type</th>\n",
       "      <th>user_id</th>\n",
       "      <th>project_type</th>\n",
       "      <th>event_date</th>\n",
       "      <th>source</th>\n",
       "    </tr>\n",
       "  </thead>\n",
       "  <tbody>\n",
       "    <tr>\n",
       "      <th>0</th>\n",
       "      <td>2020-05-04 00:00:01</td>\n",
       "      <td>building</td>\n",
       "      <td>assembly_shop</td>\n",
       "      <td>55e92310-cb8e-4754-b622-597e124b03de</td>\n",
       "      <td>NaN</td>\n",
       "      <td>2020-05-04</td>\n",
       "      <td>youtube_channel_reklama</td>\n",
       "    </tr>\n",
       "    <tr>\n",
       "      <th>1</th>\n",
       "      <td>2020-05-05 05:20:15</td>\n",
       "      <td>building</td>\n",
       "      <td>assembly_shop</td>\n",
       "      <td>55e92310-cb8e-4754-b622-597e124b03de</td>\n",
       "      <td>NaN</td>\n",
       "      <td>2020-05-05</td>\n",
       "      <td>youtube_channel_reklama</td>\n",
       "    </tr>\n",
       "    <tr>\n",
       "      <th>2</th>\n",
       "      <td>2020-05-05 19:24:02</td>\n",
       "      <td>building</td>\n",
       "      <td>assembly_shop</td>\n",
       "      <td>55e92310-cb8e-4754-b622-597e124b03de</td>\n",
       "      <td>NaN</td>\n",
       "      <td>2020-05-05</td>\n",
       "      <td>youtube_channel_reklama</td>\n",
       "    </tr>\n",
       "    <tr>\n",
       "      <th>3</th>\n",
       "      <td>2020-05-05 20:59:19</td>\n",
       "      <td>building</td>\n",
       "      <td>assembly_shop</td>\n",
       "      <td>55e92310-cb8e-4754-b622-597e124b03de</td>\n",
       "      <td>NaN</td>\n",
       "      <td>2020-05-05</td>\n",
       "      <td>youtube_channel_reklama</td>\n",
       "    </tr>\n",
       "    <tr>\n",
       "      <th>4</th>\n",
       "      <td>2020-05-06 00:52:56</td>\n",
       "      <td>building</td>\n",
       "      <td>assembly_shop</td>\n",
       "      <td>55e92310-cb8e-4754-b622-597e124b03de</td>\n",
       "      <td>NaN</td>\n",
       "      <td>2020-05-06</td>\n",
       "      <td>youtube_channel_reklama</td>\n",
       "    </tr>\n",
       "  </tbody>\n",
       "</table>\n",
       "</div>"
      ],
      "text/plain": [
       "       event_datetime     event  building_type  \\\n",
       "0 2020-05-04 00:00:01  building  assembly_shop   \n",
       "1 2020-05-05 05:20:15  building  assembly_shop   \n",
       "2 2020-05-05 19:24:02  building  assembly_shop   \n",
       "3 2020-05-05 20:59:19  building  assembly_shop   \n",
       "4 2020-05-06 00:52:56  building  assembly_shop   \n",
       "\n",
       "                                user_id project_type  event_date  \\\n",
       "0  55e92310-cb8e-4754-b622-597e124b03de          NaN  2020-05-04   \n",
       "1  55e92310-cb8e-4754-b622-597e124b03de          NaN  2020-05-05   \n",
       "2  55e92310-cb8e-4754-b622-597e124b03de          NaN  2020-05-05   \n",
       "3  55e92310-cb8e-4754-b622-597e124b03de          NaN  2020-05-05   \n",
       "4  55e92310-cb8e-4754-b622-597e124b03de          NaN  2020-05-06   \n",
       "\n",
       "                    source  \n",
       "0  youtube_channel_reklama  \n",
       "1  youtube_channel_reklama  \n",
       "2  youtube_channel_reklama  \n",
       "3  youtube_channel_reklama  \n",
       "4  youtube_channel_reklama  "
      ]
     },
     "execution_count": 23,
     "metadata": {},
     "output_type": "execute_result"
    }
   ],
   "source": [
    "merged_data = game_actions.merge(user_source[['user_id', 'source']], on='user_id', how='inner')\n",
    "merged_data.head()"
   ]
  },
  {
   "cell_type": "code",
   "execution_count": 24,
   "id": "2d42e126",
   "metadata": {},
   "outputs": [
    {
     "data": {
      "text/html": [
       "<div>\n",
       "<style scoped>\n",
       "    .dataframe tbody tr th:only-of-type {\n",
       "        vertical-align: middle;\n",
       "    }\n",
       "\n",
       "    .dataframe tbody tr th {\n",
       "        vertical-align: top;\n",
       "    }\n",
       "\n",
       "    .dataframe thead th {\n",
       "        text-align: right;\n",
       "    }\n",
       "</style>\n",
       "<table border=\"1\" class=\"dataframe\">\n",
       "  <thead>\n",
       "    <tr style=\"text-align: right;\">\n",
       "      <th></th>\n",
       "      <th>source</th>\n",
       "      <th>event_date</th>\n",
       "      <th>user_id</th>\n",
       "    </tr>\n",
       "  </thead>\n",
       "  <tbody>\n",
       "    <tr>\n",
       "      <th>0</th>\n",
       "      <td>facebook_ads</td>\n",
       "      <td>2020-05-04</td>\n",
       "      <td>1184</td>\n",
       "    </tr>\n",
       "    <tr>\n",
       "      <th>1</th>\n",
       "      <td>facebook_ads</td>\n",
       "      <td>2020-05-05</td>\n",
       "      <td>1328</td>\n",
       "    </tr>\n",
       "    <tr>\n",
       "      <th>2</th>\n",
       "      <td>facebook_ads</td>\n",
       "      <td>2020-05-06</td>\n",
       "      <td>1389</td>\n",
       "    </tr>\n",
       "    <tr>\n",
       "      <th>3</th>\n",
       "      <td>facebook_ads</td>\n",
       "      <td>2020-05-07</td>\n",
       "      <td>1535</td>\n",
       "    </tr>\n",
       "    <tr>\n",
       "      <th>4</th>\n",
       "      <td>facebook_ads</td>\n",
       "      <td>2020-05-08</td>\n",
       "      <td>1583</td>\n",
       "    </tr>\n",
       "    <tr>\n",
       "      <th>...</th>\n",
       "      <td>...</td>\n",
       "      <td>...</td>\n",
       "      <td>...</td>\n",
       "    </tr>\n",
       "    <tr>\n",
       "      <th>126</th>\n",
       "      <td>youtube_channel_reklama</td>\n",
       "      <td>2020-05-31</td>\n",
       "      <td>7</td>\n",
       "    </tr>\n",
       "    <tr>\n",
       "      <th>127</th>\n",
       "      <td>youtube_channel_reklama</td>\n",
       "      <td>2020-06-01</td>\n",
       "      <td>2</td>\n",
       "    </tr>\n",
       "    <tr>\n",
       "      <th>128</th>\n",
       "      <td>youtube_channel_reklama</td>\n",
       "      <td>2020-06-02</td>\n",
       "      <td>3</td>\n",
       "    </tr>\n",
       "    <tr>\n",
       "      <th>129</th>\n",
       "      <td>youtube_channel_reklama</td>\n",
       "      <td>2020-06-03</td>\n",
       "      <td>2</td>\n",
       "    </tr>\n",
       "    <tr>\n",
       "      <th>130</th>\n",
       "      <td>youtube_channel_reklama</td>\n",
       "      <td>2020-06-05</td>\n",
       "      <td>1</td>\n",
       "    </tr>\n",
       "  </tbody>\n",
       "</table>\n",
       "<p>131 rows × 3 columns</p>\n",
       "</div>"
      ],
      "text/plain": [
       "                      source  event_date  user_id\n",
       "0               facebook_ads  2020-05-04     1184\n",
       "1               facebook_ads  2020-05-05     1328\n",
       "2               facebook_ads  2020-05-06     1389\n",
       "3               facebook_ads  2020-05-07     1535\n",
       "4               facebook_ads  2020-05-08     1583\n",
       "..                       ...         ...      ...\n",
       "126  youtube_channel_reklama  2020-05-31        7\n",
       "127  youtube_channel_reklama  2020-06-01        2\n",
       "128  youtube_channel_reklama  2020-06-02        3\n",
       "129  youtube_channel_reklama  2020-06-03        2\n",
       "130  youtube_channel_reklama  2020-06-05        1\n",
       "\n",
       "[131 rows x 3 columns]"
      ]
     },
     "execution_count": 24,
     "metadata": {},
     "output_type": "execute_result"
    }
   ],
   "source": [
    "merge_data_sns = merged_data.pivot_table(index=['source', 'event_date'], values='user_id', aggfunc='nunique').reset_index()\n",
    "merge_data_sns"
   ]
  },
  {
   "cell_type": "code",
   "execution_count": 25,
   "id": "ff908cb6",
   "metadata": {},
   "outputs": [
    {
     "data": {
      "image/png": "[encoded data removed]",
      "text/plain": [
       "<Figure size 1200x600 with 1 Axes>"
      ]
     },
     "metadata": {},
     "output_type": "display_data"
    }
   ],
   "source": [
    "plt.figure(figsize=(12, 6))\n",
    "sns.barplot(data=merge_data_sns, x='event_date', y='user_id', hue='source')\n",
    "plt.xlabel('Дата')\n",
    "plt.ylabel('Количество пользователей и их действий')\n",
    "plt.title('Распределение уникальных пользователей и их действий по датам и каналам')\n",
    "plt.xticks(rotation=90)\n",
    "plt.legend(title='Канал')\n",
    "plt.show()"
   ]
  },
  {
   "cell_type": "markdown",
   "id": "2759cc81",
   "metadata": {},
   "source": [
    "**Вывод:**\n",
    "- Яндекс является очевидным лидером по количество привлекаемых пользователей и их активности, затем идет инстаграмм. Замыкают топ фейсбук и ютуб, имея примерно одинаковые показатели в сравнении с другими каналами."
   ]
  },
  {
   "cell_type": "markdown",
   "id": "c5152861",
   "metadata": {},
   "source": [
    "#### 3.3. Анализ конверсии перехода на второй уровень пользователей в общем случае"
   ]
  },
  {
   "cell_type": "markdown",
   "id": "8b528e61",
   "metadata": {},
   "source": [
    "Посмотрим на общую конверсую перехода пользователей на 2 уровень."
   ]
  },
  {
   "cell_type": "code",
   "execution_count": 26,
   "id": "36cb221f",
   "metadata": {},
   "outputs": [
    {
     "name": "stdout",
     "output_type": "stream",
     "text": [
      "Конверсия перехода на 2 уровень составляет: 42.85\n"
     ]
    }
   ],
   "source": [
    "print('Конверсия перехода на 2 уровень составляет:', round(game_actions['event'][game_actions['event']=='finished_stage_1'].count()/game_actions['user_id'].nunique()*100,2))"
   ]
  },
  {
   "cell_type": "markdown",
   "id": "e3a39736",
   "metadata": {},
   "source": [
    "**Вывод:**\n",
    "- Общая конверсия перехода для всех пользователей составляет 42.82%"
   ]
  },
  {
   "cell_type": "markdown",
   "id": "5e120180",
   "metadata": {},
   "source": [
    "#### 3.4. Анализ конверсии перехода на второй уровень пользователей с разбивкой по каналам привлечения"
   ]
  },
  {
   "cell_type": "markdown",
   "id": "d50d07cc",
   "metadata": {},
   "source": [
    "Теперь посмотрим на конверсию перехода на 2 уровень для пользователей по разным каналам."
   ]
  },
  {
   "cell_type": "code",
   "execution_count": 27,
   "id": "feb81440",
   "metadata": {},
   "outputs": [
    {
     "name": "stderr",
     "output_type": "stream",
     "text": [
      "C:\\Users\\Кирилл\\AppData\\Local\\Temp\\ipykernel_16280\\1761080693.py:7: FutureWarning: The frame.append method is deprecated and will be removed from pandas in a future version. Use pandas.concat instead.\n",
      "  conv_data = conv_data.append(df_added, ignore_index = True)\n"
     ]
    },
    {
     "data": {
      "text/html": [
       "<div>\n",
       "<style scoped>\n",
       "    .dataframe tbody tr th:only-of-type {\n",
       "        vertical-align: middle;\n",
       "    }\n",
       "\n",
       "    .dataframe tbody tr th {\n",
       "        vertical-align: top;\n",
       "    }\n",
       "\n",
       "    .dataframe thead th {\n",
       "        text-align: right;\n",
       "    }\n",
       "</style>\n",
       "<table border=\"1\" class=\"dataframe\">\n",
       "  <thead>\n",
       "    <tr style=\"text-align: right;\">\n",
       "      <th></th>\n",
       "      <th>source</th>\n",
       "      <th>finished_users</th>\n",
       "      <th>all_users_in_source</th>\n",
       "      <th>conv</th>\n",
       "    </tr>\n",
       "  </thead>\n",
       "  <tbody>\n",
       "    <tr>\n",
       "      <th>1</th>\n",
       "      <td>instagram_new_adverts</td>\n",
       "      <td>1466</td>\n",
       "      <td>3347</td>\n",
       "      <td>43.80</td>\n",
       "    </tr>\n",
       "    <tr>\n",
       "      <th>3</th>\n",
       "      <td>youtube_channel_reklama</td>\n",
       "      <td>1159</td>\n",
       "      <td>2686</td>\n",
       "      <td>43.15</td>\n",
       "    </tr>\n",
       "    <tr>\n",
       "      <th>4</th>\n",
       "      <td>all_users</td>\n",
       "      <td>5817</td>\n",
       "      <td>13576</td>\n",
       "      <td>42.85</td>\n",
       "    </tr>\n",
       "    <tr>\n",
       "      <th>2</th>\n",
       "      <td>yandex_direct</td>\n",
       "      <td>2042</td>\n",
       "      <td>4817</td>\n",
       "      <td>42.39</td>\n",
       "    </tr>\n",
       "    <tr>\n",
       "      <th>0</th>\n",
       "      <td>facebook_ads</td>\n",
       "      <td>1150</td>\n",
       "      <td>2726</td>\n",
       "      <td>42.19</td>\n",
       "    </tr>\n",
       "  </tbody>\n",
       "</table>\n",
       "</div>"
      ],
      "text/plain": [
       "                    source  finished_users  all_users_in_source   conv\n",
       "1    instagram_new_adverts            1466                 3347  43.80\n",
       "3  youtube_channel_reklama            1159                 2686  43.15\n",
       "4                all_users            5817                13576  42.85\n",
       "2            yandex_direct            2042                 4817  42.39\n",
       "0             facebook_ads            1150                 2726  42.19"
      ]
     },
     "execution_count": 27,
     "metadata": {},
     "output_type": "execute_result"
    }
   ],
   "source": [
    "conv_channel = merged_data[merged_data['event']=='finished_stage_1']\n",
    "conv_channel = conv_channel.pivot_table(index='source', values='user_id', aggfunc='count').reset_index()\n",
    "all_channel = merged_data.pivot_table(index='source', values='user_id', aggfunc='nunique').reset_index()\n",
    "conv_data = conv_channel.merge(all_channel[['user_id', 'source']], on='source', how='inner')\n",
    "\n",
    "df_added = {'source': 'all_users', 'user_id_x': merged_data['user_id'][merged_data['event']=='finished_stage_1'].nunique(), 'user_id_y': merged_data['user_id'].nunique()}\n",
    "conv_data = conv_data.append(df_added, ignore_index = True)\n",
    "conv_data['conv'] = round(conv_data['user_id_x'] / conv_data['user_id_y'] * 100, 2)\n",
    "conv_data = conv_data.sort_values(by='conv',ascending=False)\n",
    "conv_data = conv_data.rename(columns = {'user_id_x':'finished_users', 'user_id_y':'all_users_in_source'})\n",
    "conv_data"
   ]
  },
  {
   "cell_type": "markdown",
   "id": "c507d653",
   "metadata": {},
   "source": [
    "**Вывод:**\n",
    "- Конверсия только у двух каналов больше общей по всем пользователям: Инстаграм и Ютуб\n",
    "- Самая низкая конверсия перехода на 2 уровень у пользователей Яндекса и фейсбука"
   ]
  },
  {
   "cell_type": "markdown",
   "id": "679c6250",
   "metadata": {},
   "source": [
    "#### 3.5. Изучение игровой активности пользователей в общем случае\n",
    "#### 3.5.1. Изучение наиболее часто встречающихся типов построек в общем случае"
   ]
  },
  {
   "cell_type": "code",
   "execution_count": 28,
   "id": "a6a80fb8",
   "metadata": {},
   "outputs": [
    {
     "data": {
      "text/html": [
       "<div>\n",
       "<style scoped>\n",
       "    .dataframe tbody tr th:only-of-type {\n",
       "        vertical-align: middle;\n",
       "    }\n",
       "\n",
       "    .dataframe tbody tr th {\n",
       "        vertical-align: top;\n",
       "    }\n",
       "\n",
       "    .dataframe thead th {\n",
       "        text-align: right;\n",
       "    }\n",
       "</style>\n",
       "<table border=\"1\" class=\"dataframe\">\n",
       "  <thead>\n",
       "    <tr style=\"text-align: right;\">\n",
       "      <th></th>\n",
       "      <th>building_type</th>\n",
       "      <th>user_id</th>\n",
       "    </tr>\n",
       "  </thead>\n",
       "  <tbody>\n",
       "    <tr>\n",
       "      <th>2</th>\n",
       "      <td>spaceport</td>\n",
       "      <td>59325</td>\n",
       "    </tr>\n",
       "    <tr>\n",
       "      <th>0</th>\n",
       "      <td>assembly_shop</td>\n",
       "      <td>54494</td>\n",
       "    </tr>\n",
       "    <tr>\n",
       "      <th>1</th>\n",
       "      <td>research_center</td>\n",
       "      <td>14137</td>\n",
       "    </tr>\n",
       "  </tbody>\n",
       "</table>\n",
       "</div>"
      ],
      "text/plain": [
       "     building_type  user_id\n",
       "2        spaceport    59325\n",
       "0    assembly_shop    54494\n",
       "1  research_center    14137"
      ]
     },
     "execution_count": 28,
     "metadata": {},
     "output_type": "execute_result"
    }
   ],
   "source": [
    "merged_data[['building_type', 'user_id']].groupby('building_type').count().reset_index().sort_values(by='user_id', ascending=False)"
   ]
  },
  {
   "cell_type": "markdown",
   "id": "fe4f4a44",
   "metadata": {},
   "source": [
    "**Вывод:**\n",
    " - Чаще всего игроки сторят космопрот, исследовательский центр же наоборот не пользуется особой популярностью"
   ]
  },
  {
   "cell_type": "markdown",
   "id": "6a51de75",
   "metadata": {},
   "source": [
    "#### 3.5.2. Изучение игроков, выполнивших необходимые условия для перехода на следующий уровень, но так и не перешедших в общем случае"
   ]
  },
  {
   "cell_type": "code",
   "execution_count": 29,
   "id": "c0fc44dd",
   "metadata": {},
   "outputs": [
    {
     "data": {
      "text/plain": [
       "[]"
      ]
     },
     "execution_count": 29,
     "metadata": {},
     "output_type": "execute_result"
    }
   ],
   "source": [
    "project_logs = merged_data[merged_data['event'] == 'project']\n",
    "\n",
    "users_with_finished_stage_1 = merged_data[merged_data['event'] == 'finished_stage_1']['user_id'].unique()\n",
    "filtered_users = project_logs[~project_logs['user_id'].isin(users_with_finished_stage_1)]['user_id'].unique()\n",
    "\n",
    "\n",
    "users_with_project_only = list(filtered_users)\n",
    "users_with_project_only"
   ]
  },
  {
   "cell_type": "markdown",
   "id": "5b7c03c6",
   "metadata": {},
   "source": [
    "**Вывод:**\n",
    "- Пользователи, которые завершили проект, но не перешли на следующий уровень отсутствуют"
   ]
  },
  {
   "cell_type": "markdown",
   "id": "12c77ccb",
   "metadata": {},
   "source": [
    "#### 3.6. Изучение игровой активности пользователей с разбивкой по каналам привлечения.\n",
    "#### 3.6.1. Изучение наиболее часто встречающихся типов построек отдельно по каналам"
   ]
  },
  {
   "cell_type": "markdown",
   "id": "fd73af95",
   "metadata": {},
   "source": [
    "Изучимчим что чаще всего строят пользователи приходящие с разных каналов привлечения"
   ]
  },
  {
   "cell_type": "code",
   "execution_count": 30,
   "id": "46954815",
   "metadata": {},
   "outputs": [
    {
     "data": {
      "text/plain": [
       "source\n",
       "facebook_ads               9.585840\n",
       "instagram_new_adverts      9.505527\n",
       "yandex_direct              9.348557\n",
       "youtube_channel_reklama    9.299330\n",
       "Name: buildings_count, dtype: float64"
      ]
     },
     "execution_count": 30,
     "metadata": {},
     "output_type": "execute_result"
    }
   ],
   "source": [
    "grouped_data = merged_data.groupby(['source', 'user_id'])['event'].apply(lambda x: (x == 'building').sum()).reset_index(name='buildings_count')\n",
    "\n",
    "mean_buildings_count = grouped_data.groupby('source')['buildings_count'].mean()\n",
    "mean_buildings_count"
   ]
  },
  {
   "cell_type": "markdown",
   "id": "b799dce3",
   "metadata": {},
   "source": [
    "**Вывод:**\n",
    "- Среднее количество построек на одного игрока у всех каналов больше 9."
   ]
  },
  {
   "cell_type": "markdown",
   "id": "2139034a",
   "metadata": {},
   "source": [
    "#### 3.7. Анализ завершения уровня и способа его прохождения в общем случае"
   ]
  },
  {
   "cell_type": "markdown",
   "id": "2006af50",
   "metadata": {},
   "source": [
    "Изучим сколько поьзователей перешли на второй уровень после завершения проекта, а сколько после победы над игроком."
   ]
  },
  {
   "cell_type": "code",
   "execution_count": 31,
   "id": "d648776b",
   "metadata": {},
   "outputs": [
    {
     "name": "stdout",
     "output_type": "stream",
     "text": [
      "Количество пользователей, перешедших на другой уровень благодаря реализованному проекту: 1866\n",
      "Количество пользователей, перешедших на другой уровень благодаря победе над другим игроком: 3951\n"
     ]
    }
   ],
   "source": [
    "finish_users = merged_data[merged_data['project_type']=='satellite_orbital_assembly']\n",
    "print('Количество пользователей, перешедших на другой уровень благодаря реализованному проекту:', finish_users['user_id'].count())\n",
    "print('Количество пользователей, перешедших на другой уровень благодаря победе над другим игроком:', merged_data['event'][merged_data['event']=='finished_stage_1'].count()-finish_users['user_id'].count())"
   ]
  },
  {
   "cell_type": "markdown",
   "id": "7577a143",
   "metadata": {},
   "source": [
    "**Вывод:**\n",
    "- Пользователи в общем случае чаще всего предпочитают побеждать в PVP  и переходить на следующий уровень, чем реализовывать проект. 1866 пользователей реализовали проект, а 3951 игроков предпочли победу в PVP"
   ]
  },
  {
   "cell_type": "markdown",
   "id": "d1a9703c",
   "metadata": {},
   "source": [
    "#### 3.8. Анализ завершения уровня и способа его прохождения с разбивкой по каналам привлечения"
   ]
  },
  {
   "cell_type": "markdown",
   "id": "3b93f638",
   "metadata": {},
   "source": [
    "Изучим такую же информацию как и в прошлом пункте, но добавим каналы привлеченя."
   ]
  },
  {
   "cell_type": "code",
   "execution_count": 58,
   "id": "b537906f",
   "metadata": {},
   "outputs": [
    {
     "data": {
      "text/html": [
       "<div>\n",
       "<style scoped>\n",
       "    .dataframe tbody tr th:only-of-type {\n",
       "        vertical-align: middle;\n",
       "    }\n",
       "\n",
       "    .dataframe tbody tr th {\n",
       "        vertical-align: top;\n",
       "    }\n",
       "\n",
       "    .dataframe thead th {\n",
       "        text-align: right;\n",
       "    }\n",
       "</style>\n",
       "<table border=\"1\" class=\"dataframe\">\n",
       "  <thead>\n",
       "    <tr style=\"text-align: right;\">\n",
       "      <th></th>\n",
       "      <th>source</th>\n",
       "      <th>user_id_x</th>\n",
       "      <th>user_id_y</th>\n",
       "      <th>user_id_z</th>\n",
       "    </tr>\n",
       "  </thead>\n",
       "  <tbody>\n",
       "    <tr>\n",
       "      <th>0</th>\n",
       "      <td>yandex_direct</td>\n",
       "      <td>620</td>\n",
       "      <td>2042</td>\n",
       "      <td>1422</td>\n",
       "    </tr>\n",
       "    <tr>\n",
       "      <th>1</th>\n",
       "      <td>instagram_new_adverts</td>\n",
       "      <td>476</td>\n",
       "      <td>1466</td>\n",
       "      <td>990</td>\n",
       "    </tr>\n",
       "    <tr>\n",
       "      <th>2</th>\n",
       "      <td>facebook_ads</td>\n",
       "      <td>391</td>\n",
       "      <td>1150</td>\n",
       "      <td>759</td>\n",
       "    </tr>\n",
       "    <tr>\n",
       "      <th>3</th>\n",
       "      <td>youtube_channel_reklama</td>\n",
       "      <td>379</td>\n",
       "      <td>1159</td>\n",
       "      <td>780</td>\n",
       "    </tr>\n",
       "  </tbody>\n",
       "</table>\n",
       "</div>"
      ],
      "text/plain": [
       "                    source  user_id_x  user_id_y  user_id_z\n",
       "0            yandex_direct        620       2042       1422\n",
       "1    instagram_new_adverts        476       1466        990\n",
       "2             facebook_ads        391       1150        759\n",
       "3  youtube_channel_reklama        379       1159        780"
      ]
     },
     "execution_count": 58,
     "metadata": {},
     "output_type": "execute_result"
    }
   ],
   "source": [
    "finish_users_per_channel_on_project = finish_users.pivot_table(index='source', values='user_id', aggfunc='count').reset_index().sort_values(by='user_id', ascending=False)\n",
    "finish_users_per_channek_on_pvp = merged_data[merged_data['event']=='finished_stage_1']\n",
    "finish_users_per_channek_on_pvp = finish_users_per_channek_on_pvp.pivot_table(index='source', values='user_id', aggfunc='nunique').reset_index().sort_values(by='user_id', ascending=False)\n",
    "users_finish_per_source = finish_users_per_channel_on_project.merge(finish_users_per_channek_on_pvp[['user_id', 'source']], on='source', how='inner')\n",
    "users_finish_per_source['user_id_z'] = users_finish_per_source['user_id_y'] - users_finish_per_source['user_id_x']\n",
    "users_finish_per_source\n"
   ]
  },
  {
   "cell_type": "code",
   "execution_count": 57,
   "id": "c7ce6cec",
   "metadata": {},
   "outputs": [],
   "source": [
    "users_finish_per_source['user_id_z'] = users_finish_per_source['user_id_y'] - users_finish_per_source['user_id_x']"
   ]
  },
  {
   "cell_type": "code",
   "execution_count": 59,
   "id": "ff0f9d99",
   "metadata": {},
   "outputs": [
    {
     "data": {
      "image/png": "[encoded data removed]",
      "text/plain": [
       "<Figure size 1600x600 with 4 Axes>"
      ]
     },
     "metadata": {},
     "output_type": "display_data"
    }
   ],
   "source": [
    "sources = users_finish_per_source['source']\n",
    "pve_counts = users_finish_per_source['user_id_x']\n",
    "pvp_counts = users_finish_per_source['user_id_z']\n",
    "\n",
    "fig, axs = plt.subplots(1, len(sources), figsize=(16, 6))\n",
    "\n",
    "for i, source in enumerate(sources):\n",
    "    labels = ['PVE', 'PVP']\n",
    "    sizes = [pve_counts[i], pvp_counts[i]]\n",
    "    axs[i].pie(sizes, labels=labels, autopct='%1.1f%%', startangle=90, colors=['lightblue', 'lightgreen'])\n",
    "    axs[i].set_title(source)\n",
    "\n",
    "plt.tight_layout()\n",
    "plt.show()"
   ]
  },
  {
   "cell_type": "markdown",
   "id": "20a82bc9",
   "metadata": {},
   "source": [
    "**Вывод:**\n",
    "- Чаще всего пользователи завершают первый уровень посредством победы над другим игроком, Разница по всем каналам между \"Стилем игры\" пользователей в 2 раза."
   ]
  },
  {
   "cell_type": "markdown",
   "id": "cd3b7097",
   "metadata": {},
   "source": [
    "## 4. Ранжирвание каналов по принципу цена/качество."
   ]
  },
  {
   "cell_type": "markdown",
   "id": "dd5ce664",
   "metadata": {},
   "source": [
    "#### 4.1. Изучение общей стоимости всех кликов с разбивкой по каналам в конкретные дни"
   ]
  },
  {
   "cell_type": "markdown",
   "id": "7e475111",
   "metadata": {},
   "source": [
    "Рассмотрим датасет ad_costs и проанализируем его."
   ]
  },
  {
   "cell_type": "code",
   "execution_count": 73,
   "id": "47a5d9f0",
   "metadata": {},
   "outputs": [
    {
     "data": {
      "text/html": [
       "<div>\n",
       "<style scoped>\n",
       "    .dataframe tbody tr th:only-of-type {\n",
       "        vertical-align: middle;\n",
       "    }\n",
       "\n",
       "    .dataframe tbody tr th {\n",
       "        vertical-align: top;\n",
       "    }\n",
       "\n",
       "    .dataframe thead th {\n",
       "        text-align: right;\n",
       "    }\n",
       "</style>\n",
       "<table border=\"1\" class=\"dataframe\">\n",
       "  <thead>\n",
       "    <tr style=\"text-align: right;\">\n",
       "      <th></th>\n",
       "      <th>source</th>\n",
       "      <th>day</th>\n",
       "      <th>cost</th>\n",
       "    </tr>\n",
       "  </thead>\n",
       "  <tbody>\n",
       "    <tr>\n",
       "      <th>0</th>\n",
       "      <td>facebook_ads</td>\n",
       "      <td>2020-05-04</td>\n",
       "      <td>935.882786</td>\n",
       "    </tr>\n",
       "    <tr>\n",
       "      <th>1</th>\n",
       "      <td>facebook_ads</td>\n",
       "      <td>2020-05-05</td>\n",
       "      <td>548.354480</td>\n",
       "    </tr>\n",
       "    <tr>\n",
       "      <th>2</th>\n",
       "      <td>facebook_ads</td>\n",
       "      <td>2020-05-06</td>\n",
       "      <td>260.185754</td>\n",
       "    </tr>\n",
       "    <tr>\n",
       "      <th>3</th>\n",
       "      <td>facebook_ads</td>\n",
       "      <td>2020-05-07</td>\n",
       "      <td>177.982200</td>\n",
       "    </tr>\n",
       "    <tr>\n",
       "      <th>4</th>\n",
       "      <td>facebook_ads</td>\n",
       "      <td>2020-05-08</td>\n",
       "      <td>111.766796</td>\n",
       "    </tr>\n",
       "    <tr>\n",
       "      <th>5</th>\n",
       "      <td>facebook_ads</td>\n",
       "      <td>2020-05-09</td>\n",
       "      <td>68.009276</td>\n",
       "    </tr>\n",
       "    <tr>\n",
       "      <th>6</th>\n",
       "      <td>facebook_ads</td>\n",
       "      <td>2020-05-10</td>\n",
       "      <td>38.723350</td>\n",
       "    </tr>\n",
       "    <tr>\n",
       "      <th>7</th>\n",
       "      <td>instagram_new_adverts</td>\n",
       "      <td>2020-05-04</td>\n",
       "      <td>943.204717</td>\n",
       "    </tr>\n",
       "    <tr>\n",
       "      <th>8</th>\n",
       "      <td>instagram_new_adverts</td>\n",
       "      <td>2020-05-05</td>\n",
       "      <td>502.925451</td>\n",
       "    </tr>\n",
       "    <tr>\n",
       "      <th>9</th>\n",
       "      <td>instagram_new_adverts</td>\n",
       "      <td>2020-05-06</td>\n",
       "      <td>313.970984</td>\n",
       "    </tr>\n",
       "    <tr>\n",
       "      <th>10</th>\n",
       "      <td>instagram_new_adverts</td>\n",
       "      <td>2020-05-07</td>\n",
       "      <td>173.071145</td>\n",
       "    </tr>\n",
       "    <tr>\n",
       "      <th>11</th>\n",
       "      <td>instagram_new_adverts</td>\n",
       "      <td>2020-05-08</td>\n",
       "      <td>109.915254</td>\n",
       "    </tr>\n",
       "    <tr>\n",
       "      <th>12</th>\n",
       "      <td>instagram_new_adverts</td>\n",
       "      <td>2020-05-09</td>\n",
       "      <td>71.578739</td>\n",
       "    </tr>\n",
       "    <tr>\n",
       "      <th>13</th>\n",
       "      <td>instagram_new_adverts</td>\n",
       "      <td>2020-05-10</td>\n",
       "      <td>46.775400</td>\n",
       "    </tr>\n",
       "    <tr>\n",
       "      <th>14</th>\n",
       "      <td>yandex_direct</td>\n",
       "      <td>2020-05-04</td>\n",
       "      <td>969.139394</td>\n",
       "    </tr>\n",
       "    <tr>\n",
       "      <th>15</th>\n",
       "      <td>yandex_direct</td>\n",
       "      <td>2020-05-05</td>\n",
       "      <td>554.651494</td>\n",
       "    </tr>\n",
       "    <tr>\n",
       "      <th>16</th>\n",
       "      <td>yandex_direct</td>\n",
       "      <td>2020-05-06</td>\n",
       "      <td>308.232990</td>\n",
       "    </tr>\n",
       "    <tr>\n",
       "      <th>17</th>\n",
       "      <td>yandex_direct</td>\n",
       "      <td>2020-05-07</td>\n",
       "      <td>180.917099</td>\n",
       "    </tr>\n",
       "    <tr>\n",
       "      <th>18</th>\n",
       "      <td>yandex_direct</td>\n",
       "      <td>2020-05-08</td>\n",
       "      <td>114.429338</td>\n",
       "    </tr>\n",
       "    <tr>\n",
       "      <th>19</th>\n",
       "      <td>yandex_direct</td>\n",
       "      <td>2020-05-09</td>\n",
       "      <td>62.961630</td>\n",
       "    </tr>\n",
       "    <tr>\n",
       "      <th>20</th>\n",
       "      <td>yandex_direct</td>\n",
       "      <td>2020-05-10</td>\n",
       "      <td>42.779505</td>\n",
       "    </tr>\n",
       "    <tr>\n",
       "      <th>21</th>\n",
       "      <td>youtube_channel_reklama</td>\n",
       "      <td>2020-05-04</td>\n",
       "      <td>454.224943</td>\n",
       "    </tr>\n",
       "    <tr>\n",
       "      <th>22</th>\n",
       "      <td>youtube_channel_reklama</td>\n",
       "      <td>2020-05-05</td>\n",
       "      <td>259.073224</td>\n",
       "    </tr>\n",
       "    <tr>\n",
       "      <th>23</th>\n",
       "      <td>youtube_channel_reklama</td>\n",
       "      <td>2020-05-06</td>\n",
       "      <td>147.041741</td>\n",
       "    </tr>\n",
       "    <tr>\n",
       "      <th>24</th>\n",
       "      <td>youtube_channel_reklama</td>\n",
       "      <td>2020-05-07</td>\n",
       "      <td>88.506074</td>\n",
       "    </tr>\n",
       "    <tr>\n",
       "      <th>25</th>\n",
       "      <td>youtube_channel_reklama</td>\n",
       "      <td>2020-05-08</td>\n",
       "      <td>55.740645</td>\n",
       "    </tr>\n",
       "    <tr>\n",
       "      <th>26</th>\n",
       "      <td>youtube_channel_reklama</td>\n",
       "      <td>2020-05-09</td>\n",
       "      <td>40.217907</td>\n",
       "    </tr>\n",
       "    <tr>\n",
       "      <th>27</th>\n",
       "      <td>youtube_channel_reklama</td>\n",
       "      <td>2020-05-10</td>\n",
       "      <td>23.314669</td>\n",
       "    </tr>\n",
       "  </tbody>\n",
       "</table>\n",
       "</div>"
      ],
      "text/plain": [
       "                     source        day        cost\n",
       "0              facebook_ads 2020-05-04  935.882786\n",
       "1              facebook_ads 2020-05-05  548.354480\n",
       "2              facebook_ads 2020-05-06  260.185754\n",
       "3              facebook_ads 2020-05-07  177.982200\n",
       "4              facebook_ads 2020-05-08  111.766796\n",
       "5              facebook_ads 2020-05-09   68.009276\n",
       "6              facebook_ads 2020-05-10   38.723350\n",
       "7     instagram_new_adverts 2020-05-04  943.204717\n",
       "8     instagram_new_adverts 2020-05-05  502.925451\n",
       "9     instagram_new_adverts 2020-05-06  313.970984\n",
       "10    instagram_new_adverts 2020-05-07  173.071145\n",
       "11    instagram_new_adverts 2020-05-08  109.915254\n",
       "12    instagram_new_adverts 2020-05-09   71.578739\n",
       "13    instagram_new_adverts 2020-05-10   46.775400\n",
       "14            yandex_direct 2020-05-04  969.139394\n",
       "15            yandex_direct 2020-05-05  554.651494\n",
       "16            yandex_direct 2020-05-06  308.232990\n",
       "17            yandex_direct 2020-05-07  180.917099\n",
       "18            yandex_direct 2020-05-08  114.429338\n",
       "19            yandex_direct 2020-05-09   62.961630\n",
       "20            yandex_direct 2020-05-10   42.779505\n",
       "21  youtube_channel_reklama 2020-05-04  454.224943\n",
       "22  youtube_channel_reklama 2020-05-05  259.073224\n",
       "23  youtube_channel_reklama 2020-05-06  147.041741\n",
       "24  youtube_channel_reklama 2020-05-07   88.506074\n",
       "25  youtube_channel_reklama 2020-05-08   55.740645\n",
       "26  youtube_channel_reklama 2020-05-09   40.217907\n",
       "27  youtube_channel_reklama 2020-05-10   23.314669"
      ]
     },
     "execution_count": 73,
     "metadata": {},
     "output_type": "execute_result"
    }
   ],
   "source": [
    "ad_costs_for_merge = ad_costs.copy()\n",
    "ad_costs_for_merge['day'] = pd.DatetimeIndex(ad_costs_for_merge['day']) + pd.DateOffset(1)\n",
    "ad_costs_for_merge"
   ]
  },
  {
   "cell_type": "code",
   "execution_count": 69,
   "id": "04e308dc",
   "metadata": {},
   "outputs": [
    {
     "data": {
      "text/html": [
       "<div>\n",
       "<style scoped>\n",
       "    .dataframe tbody tr th:only-of-type {\n",
       "        vertical-align: middle;\n",
       "    }\n",
       "\n",
       "    .dataframe tbody tr th {\n",
       "        vertical-align: top;\n",
       "    }\n",
       "\n",
       "    .dataframe thead th {\n",
       "        text-align: right;\n",
       "    }\n",
       "</style>\n",
       "<table border=\"1\" class=\"dataframe\">\n",
       "  <thead>\n",
       "    <tr style=\"text-align: right;\">\n",
       "      <th></th>\n",
       "      <th>day</th>\n",
       "      <th>source</th>\n",
       "      <th>user_id</th>\n",
       "    </tr>\n",
       "  </thead>\n",
       "  <tbody>\n",
       "    <tr>\n",
       "      <th>0</th>\n",
       "      <td>2020-05-04</td>\n",
       "      <td>facebook_ads</td>\n",
       "      <td>1184</td>\n",
       "    </tr>\n",
       "    <tr>\n",
       "      <th>1</th>\n",
       "      <td>2020-05-04</td>\n",
       "      <td>instagram_new_adverts</td>\n",
       "      <td>1452</td>\n",
       "    </tr>\n",
       "    <tr>\n",
       "      <th>2</th>\n",
       "      <td>2020-05-04</td>\n",
       "      <td>yandex_direct</td>\n",
       "      <td>2078</td>\n",
       "    </tr>\n",
       "    <tr>\n",
       "      <th>3</th>\n",
       "      <td>2020-05-04</td>\n",
       "      <td>youtube_channel_reklama</td>\n",
       "      <td>1146</td>\n",
       "    </tr>\n",
       "    <tr>\n",
       "      <th>4</th>\n",
       "      <td>2020-05-05</td>\n",
       "      <td>facebook_ads</td>\n",
       "      <td>694</td>\n",
       "    </tr>\n",
       "    <tr>\n",
       "      <th>5</th>\n",
       "      <td>2020-05-05</td>\n",
       "      <td>instagram_new_adverts</td>\n",
       "      <td>796</td>\n",
       "    </tr>\n",
       "    <tr>\n",
       "      <th>6</th>\n",
       "      <td>2020-05-05</td>\n",
       "      <td>yandex_direct</td>\n",
       "      <td>1208</td>\n",
       "    </tr>\n",
       "    <tr>\n",
       "      <th>7</th>\n",
       "      <td>2020-05-05</td>\n",
       "      <td>youtube_channel_reklama</td>\n",
       "      <td>663</td>\n",
       "    </tr>\n",
       "    <tr>\n",
       "      <th>8</th>\n",
       "      <td>2020-05-06</td>\n",
       "      <td>facebook_ads</td>\n",
       "      <td>345</td>\n",
       "    </tr>\n",
       "    <tr>\n",
       "      <th>9</th>\n",
       "      <td>2020-05-06</td>\n",
       "      <td>instagram_new_adverts</td>\n",
       "      <td>472</td>\n",
       "    </tr>\n",
       "    <tr>\n",
       "      <th>10</th>\n",
       "      <td>2020-05-06</td>\n",
       "      <td>yandex_direct</td>\n",
       "      <td>664</td>\n",
       "    </tr>\n",
       "    <tr>\n",
       "      <th>11</th>\n",
       "      <td>2020-05-06</td>\n",
       "      <td>youtube_channel_reklama</td>\n",
       "      <td>366</td>\n",
       "    </tr>\n",
       "    <tr>\n",
       "      <th>12</th>\n",
       "      <td>2020-05-07</td>\n",
       "      <td>facebook_ads</td>\n",
       "      <td>224</td>\n",
       "    </tr>\n",
       "    <tr>\n",
       "      <th>13</th>\n",
       "      <td>2020-05-07</td>\n",
       "      <td>instagram_new_adverts</td>\n",
       "      <td>270</td>\n",
       "    </tr>\n",
       "    <tr>\n",
       "      <th>14</th>\n",
       "      <td>2020-05-07</td>\n",
       "      <td>yandex_direct</td>\n",
       "      <td>395</td>\n",
       "    </tr>\n",
       "    <tr>\n",
       "      <th>15</th>\n",
       "      <td>2020-05-07</td>\n",
       "      <td>youtube_channel_reklama</td>\n",
       "      <td>220</td>\n",
       "    </tr>\n",
       "    <tr>\n",
       "      <th>16</th>\n",
       "      <td>2020-05-08</td>\n",
       "      <td>facebook_ads</td>\n",
       "      <td>139</td>\n",
       "    </tr>\n",
       "    <tr>\n",
       "      <th>17</th>\n",
       "      <td>2020-05-08</td>\n",
       "      <td>instagram_new_adverts</td>\n",
       "      <td>175</td>\n",
       "    </tr>\n",
       "    <tr>\n",
       "      <th>18</th>\n",
       "      <td>2020-05-08</td>\n",
       "      <td>yandex_direct</td>\n",
       "      <td>239</td>\n",
       "    </tr>\n",
       "    <tr>\n",
       "      <th>19</th>\n",
       "      <td>2020-05-08</td>\n",
       "      <td>youtube_channel_reklama</td>\n",
       "      <td>135</td>\n",
       "    </tr>\n",
       "    <tr>\n",
       "      <th>20</th>\n",
       "      <td>2020-05-09</td>\n",
       "      <td>facebook_ads</td>\n",
       "      <td>84</td>\n",
       "    </tr>\n",
       "    <tr>\n",
       "      <th>21</th>\n",
       "      <td>2020-05-09</td>\n",
       "      <td>instagram_new_adverts</td>\n",
       "      <td>112</td>\n",
       "    </tr>\n",
       "    <tr>\n",
       "      <th>22</th>\n",
       "      <td>2020-05-09</td>\n",
       "      <td>yandex_direct</td>\n",
       "      <td>144</td>\n",
       "    </tr>\n",
       "    <tr>\n",
       "      <th>23</th>\n",
       "      <td>2020-05-09</td>\n",
       "      <td>youtube_channel_reklama</td>\n",
       "      <td>100</td>\n",
       "    </tr>\n",
       "    <tr>\n",
       "      <th>24</th>\n",
       "      <td>2020-05-10</td>\n",
       "      <td>facebook_ads</td>\n",
       "      <td>56</td>\n",
       "    </tr>\n",
       "    <tr>\n",
       "      <th>25</th>\n",
       "      <td>2020-05-10</td>\n",
       "      <td>instagram_new_adverts</td>\n",
       "      <td>70</td>\n",
       "    </tr>\n",
       "    <tr>\n",
       "      <th>26</th>\n",
       "      <td>2020-05-10</td>\n",
       "      <td>yandex_direct</td>\n",
       "      <td>89</td>\n",
       "    </tr>\n",
       "    <tr>\n",
       "      <th>27</th>\n",
       "      <td>2020-05-10</td>\n",
       "      <td>youtube_channel_reklama</td>\n",
       "      <td>56</td>\n",
       "    </tr>\n",
       "  </tbody>\n",
       "</table>\n",
       "</div>"
      ],
      "text/plain": [
       "           day                   source  user_id\n",
       "0   2020-05-04             facebook_ads     1184\n",
       "1   2020-05-04    instagram_new_adverts     1452\n",
       "2   2020-05-04            yandex_direct     2078\n",
       "3   2020-05-04  youtube_channel_reklama     1146\n",
       "4   2020-05-05             facebook_ads      694\n",
       "5   2020-05-05    instagram_new_adverts      796\n",
       "6   2020-05-05            yandex_direct     1208\n",
       "7   2020-05-05  youtube_channel_reklama      663\n",
       "8   2020-05-06             facebook_ads      345\n",
       "9   2020-05-06    instagram_new_adverts      472\n",
       "10  2020-05-06            yandex_direct      664\n",
       "11  2020-05-06  youtube_channel_reklama      366\n",
       "12  2020-05-07             facebook_ads      224\n",
       "13  2020-05-07    instagram_new_adverts      270\n",
       "14  2020-05-07            yandex_direct      395\n",
       "15  2020-05-07  youtube_channel_reklama      220\n",
       "16  2020-05-08             facebook_ads      139\n",
       "17  2020-05-08    instagram_new_adverts      175\n",
       "18  2020-05-08            yandex_direct      239\n",
       "19  2020-05-08  youtube_channel_reklama      135\n",
       "20  2020-05-09             facebook_ads       84\n",
       "21  2020-05-09    instagram_new_adverts      112\n",
       "22  2020-05-09            yandex_direct      144\n",
       "23  2020-05-09  youtube_channel_reklama      100\n",
       "24  2020-05-10             facebook_ads       56\n",
       "25  2020-05-10    instagram_new_adverts       70\n",
       "26  2020-05-10            yandex_direct       89\n",
       "27  2020-05-10  youtube_channel_reklama       56"
      ]
     },
     "execution_count": 69,
     "metadata": {},
     "output_type": "execute_result"
    }
   ],
   "source": [
    "first_activity_df = merged_data.groupby(['user_id', 'source'])['event_date'].min().reset_index()\n",
    "first_activity = first_activity_df.pivot_table(index=['event_date','source'], values='user_id', aggfunc='count').reset_index()\n",
    "first_activity = first_activity.rename(columns={'event_date':'day'})\n",
    "first_activity"
   ]
  },
  {
   "cell_type": "code",
   "execution_count": 74,
   "id": "86ce00c7",
   "metadata": {
    "scrolled": false
   },
   "outputs": [
    {
     "data": {
      "text/html": [
       "<div>\n",
       "<style scoped>\n",
       "    .dataframe tbody tr th:only-of-type {\n",
       "        vertical-align: middle;\n",
       "    }\n",
       "\n",
       "    .dataframe tbody tr th {\n",
       "        vertical-align: top;\n",
       "    }\n",
       "\n",
       "    .dataframe thead th {\n",
       "        text-align: right;\n",
       "    }\n",
       "</style>\n",
       "<table border=\"1\" class=\"dataframe\">\n",
       "  <thead>\n",
       "    <tr style=\"text-align: right;\">\n",
       "      <th></th>\n",
       "      <th>source</th>\n",
       "      <th>day</th>\n",
       "      <th>cost</th>\n",
       "      <th>user_id</th>\n",
       "    </tr>\n",
       "  </thead>\n",
       "  <tbody>\n",
       "    <tr>\n",
       "      <th>0</th>\n",
       "      <td>facebook_ads</td>\n",
       "      <td>2020-05-04</td>\n",
       "      <td>935.882786</td>\n",
       "      <td>1184</td>\n",
       "    </tr>\n",
       "    <tr>\n",
       "      <th>1</th>\n",
       "      <td>facebook_ads</td>\n",
       "      <td>2020-05-05</td>\n",
       "      <td>548.354480</td>\n",
       "      <td>694</td>\n",
       "    </tr>\n",
       "    <tr>\n",
       "      <th>2</th>\n",
       "      <td>facebook_ads</td>\n",
       "      <td>2020-05-06</td>\n",
       "      <td>260.185754</td>\n",
       "      <td>345</td>\n",
       "    </tr>\n",
       "    <tr>\n",
       "      <th>3</th>\n",
       "      <td>facebook_ads</td>\n",
       "      <td>2020-05-07</td>\n",
       "      <td>177.982200</td>\n",
       "      <td>224</td>\n",
       "    </tr>\n",
       "    <tr>\n",
       "      <th>4</th>\n",
       "      <td>facebook_ads</td>\n",
       "      <td>2020-05-08</td>\n",
       "      <td>111.766796</td>\n",
       "      <td>139</td>\n",
       "    </tr>\n",
       "    <tr>\n",
       "      <th>5</th>\n",
       "      <td>facebook_ads</td>\n",
       "      <td>2020-05-09</td>\n",
       "      <td>68.009276</td>\n",
       "      <td>84</td>\n",
       "    </tr>\n",
       "    <tr>\n",
       "      <th>6</th>\n",
       "      <td>facebook_ads</td>\n",
       "      <td>2020-05-10</td>\n",
       "      <td>38.723350</td>\n",
       "      <td>56</td>\n",
       "    </tr>\n",
       "    <tr>\n",
       "      <th>7</th>\n",
       "      <td>instagram_new_adverts</td>\n",
       "      <td>2020-05-04</td>\n",
       "      <td>943.204717</td>\n",
       "      <td>1452</td>\n",
       "    </tr>\n",
       "    <tr>\n",
       "      <th>8</th>\n",
       "      <td>instagram_new_adverts</td>\n",
       "      <td>2020-05-05</td>\n",
       "      <td>502.925451</td>\n",
       "      <td>796</td>\n",
       "    </tr>\n",
       "    <tr>\n",
       "      <th>9</th>\n",
       "      <td>instagram_new_adverts</td>\n",
       "      <td>2020-05-06</td>\n",
       "      <td>313.970984</td>\n",
       "      <td>472</td>\n",
       "    </tr>\n",
       "    <tr>\n",
       "      <th>10</th>\n",
       "      <td>instagram_new_adverts</td>\n",
       "      <td>2020-05-07</td>\n",
       "      <td>173.071145</td>\n",
       "      <td>270</td>\n",
       "    </tr>\n",
       "    <tr>\n",
       "      <th>11</th>\n",
       "      <td>instagram_new_adverts</td>\n",
       "      <td>2020-05-08</td>\n",
       "      <td>109.915254</td>\n",
       "      <td>175</td>\n",
       "    </tr>\n",
       "    <tr>\n",
       "      <th>12</th>\n",
       "      <td>instagram_new_adverts</td>\n",
       "      <td>2020-05-09</td>\n",
       "      <td>71.578739</td>\n",
       "      <td>112</td>\n",
       "    </tr>\n",
       "    <tr>\n",
       "      <th>13</th>\n",
       "      <td>instagram_new_adverts</td>\n",
       "      <td>2020-05-10</td>\n",
       "      <td>46.775400</td>\n",
       "      <td>70</td>\n",
       "    </tr>\n",
       "    <tr>\n",
       "      <th>14</th>\n",
       "      <td>yandex_direct</td>\n",
       "      <td>2020-05-04</td>\n",
       "      <td>969.139394</td>\n",
       "      <td>2078</td>\n",
       "    </tr>\n",
       "    <tr>\n",
       "      <th>15</th>\n",
       "      <td>yandex_direct</td>\n",
       "      <td>2020-05-05</td>\n",
       "      <td>554.651494</td>\n",
       "      <td>1208</td>\n",
       "    </tr>\n",
       "    <tr>\n",
       "      <th>16</th>\n",
       "      <td>yandex_direct</td>\n",
       "      <td>2020-05-06</td>\n",
       "      <td>308.232990</td>\n",
       "      <td>664</td>\n",
       "    </tr>\n",
       "    <tr>\n",
       "      <th>17</th>\n",
       "      <td>yandex_direct</td>\n",
       "      <td>2020-05-07</td>\n",
       "      <td>180.917099</td>\n",
       "      <td>395</td>\n",
       "    </tr>\n",
       "    <tr>\n",
       "      <th>18</th>\n",
       "      <td>yandex_direct</td>\n",
       "      <td>2020-05-08</td>\n",
       "      <td>114.429338</td>\n",
       "      <td>239</td>\n",
       "    </tr>\n",
       "    <tr>\n",
       "      <th>19</th>\n",
       "      <td>yandex_direct</td>\n",
       "      <td>2020-05-09</td>\n",
       "      <td>62.961630</td>\n",
       "      <td>144</td>\n",
       "    </tr>\n",
       "    <tr>\n",
       "      <th>20</th>\n",
       "      <td>yandex_direct</td>\n",
       "      <td>2020-05-10</td>\n",
       "      <td>42.779505</td>\n",
       "      <td>89</td>\n",
       "    </tr>\n",
       "    <tr>\n",
       "      <th>21</th>\n",
       "      <td>youtube_channel_reklama</td>\n",
       "      <td>2020-05-04</td>\n",
       "      <td>454.224943</td>\n",
       "      <td>1146</td>\n",
       "    </tr>\n",
       "    <tr>\n",
       "      <th>22</th>\n",
       "      <td>youtube_channel_reklama</td>\n",
       "      <td>2020-05-05</td>\n",
       "      <td>259.073224</td>\n",
       "      <td>663</td>\n",
       "    </tr>\n",
       "    <tr>\n",
       "      <th>23</th>\n",
       "      <td>youtube_channel_reklama</td>\n",
       "      <td>2020-05-06</td>\n",
       "      <td>147.041741</td>\n",
       "      <td>366</td>\n",
       "    </tr>\n",
       "    <tr>\n",
       "      <th>24</th>\n",
       "      <td>youtube_channel_reklama</td>\n",
       "      <td>2020-05-07</td>\n",
       "      <td>88.506074</td>\n",
       "      <td>220</td>\n",
       "    </tr>\n",
       "    <tr>\n",
       "      <th>25</th>\n",
       "      <td>youtube_channel_reklama</td>\n",
       "      <td>2020-05-08</td>\n",
       "      <td>55.740645</td>\n",
       "      <td>135</td>\n",
       "    </tr>\n",
       "    <tr>\n",
       "      <th>26</th>\n",
       "      <td>youtube_channel_reklama</td>\n",
       "      <td>2020-05-09</td>\n",
       "      <td>40.217907</td>\n",
       "      <td>100</td>\n",
       "    </tr>\n",
       "    <tr>\n",
       "      <th>27</th>\n",
       "      <td>youtube_channel_reklama</td>\n",
       "      <td>2020-05-10</td>\n",
       "      <td>23.314669</td>\n",
       "      <td>56</td>\n",
       "    </tr>\n",
       "  </tbody>\n",
       "</table>\n",
       "</div>"
      ],
      "text/plain": [
       "                     source        day        cost  user_id\n",
       "0              facebook_ads 2020-05-04  935.882786     1184\n",
       "1              facebook_ads 2020-05-05  548.354480      694\n",
       "2              facebook_ads 2020-05-06  260.185754      345\n",
       "3              facebook_ads 2020-05-07  177.982200      224\n",
       "4              facebook_ads 2020-05-08  111.766796      139\n",
       "5              facebook_ads 2020-05-09   68.009276       84\n",
       "6              facebook_ads 2020-05-10   38.723350       56\n",
       "7     instagram_new_adverts 2020-05-04  943.204717     1452\n",
       "8     instagram_new_adverts 2020-05-05  502.925451      796\n",
       "9     instagram_new_adverts 2020-05-06  313.970984      472\n",
       "10    instagram_new_adverts 2020-05-07  173.071145      270\n",
       "11    instagram_new_adverts 2020-05-08  109.915254      175\n",
       "12    instagram_new_adverts 2020-05-09   71.578739      112\n",
       "13    instagram_new_adverts 2020-05-10   46.775400       70\n",
       "14            yandex_direct 2020-05-04  969.139394     2078\n",
       "15            yandex_direct 2020-05-05  554.651494     1208\n",
       "16            yandex_direct 2020-05-06  308.232990      664\n",
       "17            yandex_direct 2020-05-07  180.917099      395\n",
       "18            yandex_direct 2020-05-08  114.429338      239\n",
       "19            yandex_direct 2020-05-09   62.961630      144\n",
       "20            yandex_direct 2020-05-10   42.779505       89\n",
       "21  youtube_channel_reklama 2020-05-04  454.224943     1146\n",
       "22  youtube_channel_reklama 2020-05-05  259.073224      663\n",
       "23  youtube_channel_reklama 2020-05-06  147.041741      366\n",
       "24  youtube_channel_reklama 2020-05-07   88.506074      220\n",
       "25  youtube_channel_reklama 2020-05-08   55.740645      135\n",
       "26  youtube_channel_reklama 2020-05-09   40.217907      100\n",
       "27  youtube_channel_reklama 2020-05-10   23.314669       56"
      ]
     },
     "execution_count": 74,
     "metadata": {},
     "output_type": "execute_result"
    }
   ],
   "source": [
    "first_activity['day'] = pd.to_datetime(first_activity['day'])\n",
    "ad_costs['day'] = pd.to_datetime(ad_costs_for_merge['day'])\n",
    "\n",
    "# Объединим ad_costs и first_activity по столбцам 'day' и 'source'\n",
    "cac_data = pd.merge(ad_costs_for_merge, first_activity, on=['day', 'source'])\n",
    "cac_data"
   ]
  },
  {
   "cell_type": "code",
   "execution_count": 76,
   "id": "aaed121f",
   "metadata": {},
   "outputs": [
    {
     "data": {
      "image/png": "[encoded data removed]",
      "text/plain": [
       "<Figure size 1200x600 with 1 Axes>"
      ]
     },
     "metadata": {},
     "output_type": "display_data"
    }
   ],
   "source": [
    "cac_data['mean'] = cac_data['cost'] / cac_data['user_id']\n",
    "\n",
    "# Создаем линейный график\n",
    "plt.figure(figsize=(12, 6))\n",
    "\n",
    "# Перебираем уникальные каналы ('source') и строим линию для каждого из них\n",
    "for source in cac_data['source'].unique():\n",
    "    data = cac_data[cac_data['source'] == source]\n",
    "    plt.plot(data['day'], data['mean'], label=source)\n",
    "\n",
    "# Настраиваем внешний вид графика\n",
    "plt.xlabel('День')\n",
    "plt.ylabel('Средняя цена клика на пользователя')\n",
    "plt.title('Средняя цена клика на пользователя в каждый день с каждого канала')\n",
    "plt.legend()\n",
    "\n",
    "# Включаем сетку\n",
    "plt.grid(True)\n",
    "\n",
    "# Показываем график\n",
    "plt.show()"
   ]
  },
  {
   "cell_type": "markdown",
   "id": "88ac7fd7",
   "metadata": {},
   "source": [
    "**Вывод:**\n",
    "- Средняя стоимость кликов на одного пользователя самая высокая у двух каналов: фейсбук и инстаграм, далее в примерно равных значениях находятся графики яндекса и ютуба"
   ]
  },
  {
   "cell_type": "markdown",
   "id": "01f33dcc",
   "metadata": {},
   "source": [
    "#### 4.2. Ранжировка с помощью конверсии перехода и стоимости кликов"
   ]
  },
  {
   "cell_type": "markdown",
   "id": "a14a6ac8",
   "metadata": {},
   "source": [
    "Сделаем условное ранжирование при помощи имеющегося датасета с конверсией и средней стоимости клика за пользователя по каналам за все дни"
   ]
  },
  {
   "cell_type": "markdown",
   "id": "85e6518e",
   "metadata": {},
   "source": [
    "Также можно взять во внимание общее количество строк с логами для каждого канала привлечения. Это можно считать одним из ключевых факторов, т.к. каждая строчка=действие пользователя в игре, а показ рекламы, который планируется будет осуществлятся, скорее всего, после этих самых действий."
   ]
  },
  {
   "cell_type": "code",
   "execution_count": 38,
   "id": "891ae32a",
   "metadata": {},
   "outputs": [
    {
     "data": {
      "text/html": [
       "<div>\n",
       "<style scoped>\n",
       "    .dataframe tbody tr th:only-of-type {\n",
       "        vertical-align: middle;\n",
       "    }\n",
       "\n",
       "    .dataframe tbody tr th {\n",
       "        vertical-align: top;\n",
       "    }\n",
       "\n",
       "    .dataframe thead th {\n",
       "        text-align: right;\n",
       "    }\n",
       "</style>\n",
       "<table border=\"1\" class=\"dataframe\">\n",
       "  <thead>\n",
       "    <tr style=\"text-align: right;\">\n",
       "      <th></th>\n",
       "      <th>source</th>\n",
       "      <th>user_id</th>\n",
       "    </tr>\n",
       "  </thead>\n",
       "  <tbody>\n",
       "    <tr>\n",
       "      <th>2</th>\n",
       "      <td>yandex_direct</td>\n",
       "      <td>47694</td>\n",
       "    </tr>\n",
       "    <tr>\n",
       "      <th>1</th>\n",
       "      <td>instagram_new_adverts</td>\n",
       "      <td>33757</td>\n",
       "    </tr>\n",
       "    <tr>\n",
       "      <th>0</th>\n",
       "      <td>facebook_ads</td>\n",
       "      <td>27672</td>\n",
       "    </tr>\n",
       "    <tr>\n",
       "      <th>3</th>\n",
       "      <td>youtube_channel_reklama</td>\n",
       "      <td>26516</td>\n",
       "    </tr>\n",
       "  </tbody>\n",
       "</table>\n",
       "</div>"
      ],
      "text/plain": [
       "                    source  user_id\n",
       "2            yandex_direct    47694\n",
       "1    instagram_new_adverts    33757\n",
       "0             facebook_ads    27672\n",
       "3  youtube_channel_reklama    26516"
      ]
     },
     "execution_count": 38,
     "metadata": {},
     "output_type": "execute_result"
    }
   ],
   "source": [
    "logs_per_source = merged_data.pivot_table(index='source', values='user_id', aggfunc='count').reset_index().sort_values(by='user_id', ascending=False)\n",
    "logs_per_source"
   ]
  },
  {
   "cell_type": "code",
   "execution_count": 39,
   "id": "beb74620",
   "metadata": {},
   "outputs": [
    {
     "data": {
      "text/html": [
       "<div>\n",
       "<style scoped>\n",
       "    .dataframe tbody tr th:only-of-type {\n",
       "        vertical-align: middle;\n",
       "    }\n",
       "\n",
       "    .dataframe tbody tr th {\n",
       "        vertical-align: top;\n",
       "    }\n",
       "\n",
       "    .dataframe thead th {\n",
       "        text-align: right;\n",
       "    }\n",
       "</style>\n",
       "<table border=\"1\" class=\"dataframe\">\n",
       "  <thead>\n",
       "    <tr style=\"text-align: right;\">\n",
       "      <th></th>\n",
       "      <th>source</th>\n",
       "      <th>finished_users</th>\n",
       "      <th>all_users_in_source</th>\n",
       "      <th>conv</th>\n",
       "    </tr>\n",
       "  </thead>\n",
       "  <tbody>\n",
       "    <tr>\n",
       "      <th>1</th>\n",
       "      <td>instagram_new_adverts</td>\n",
       "      <td>1466</td>\n",
       "      <td>3347</td>\n",
       "      <td>43.80</td>\n",
       "    </tr>\n",
       "    <tr>\n",
       "      <th>3</th>\n",
       "      <td>youtube_channel_reklama</td>\n",
       "      <td>1159</td>\n",
       "      <td>2686</td>\n",
       "      <td>43.15</td>\n",
       "    </tr>\n",
       "    <tr>\n",
       "      <th>4</th>\n",
       "      <td>all_users</td>\n",
       "      <td>5817</td>\n",
       "      <td>13576</td>\n",
       "      <td>42.85</td>\n",
       "    </tr>\n",
       "    <tr>\n",
       "      <th>2</th>\n",
       "      <td>yandex_direct</td>\n",
       "      <td>2042</td>\n",
       "      <td>4817</td>\n",
       "      <td>42.39</td>\n",
       "    </tr>\n",
       "    <tr>\n",
       "      <th>0</th>\n",
       "      <td>facebook_ads</td>\n",
       "      <td>1150</td>\n",
       "      <td>2726</td>\n",
       "      <td>42.19</td>\n",
       "    </tr>\n",
       "  </tbody>\n",
       "</table>\n",
       "</div>"
      ],
      "text/plain": [
       "                    source  finished_users  all_users_in_source   conv\n",
       "1    instagram_new_adverts            1466                 3347  43.80\n",
       "3  youtube_channel_reklama            1159                 2686  43.15\n",
       "4                all_users            5817                13576  42.85\n",
       "2            yandex_direct            2042                 4817  42.39\n",
       "0             facebook_ads            1150                 2726  42.19"
      ]
     },
     "execution_count": 39,
     "metadata": {},
     "output_type": "execute_result"
    }
   ],
   "source": [
    "conv_data"
   ]
  },
  {
   "cell_type": "markdown",
   "id": "3b4c4c85",
   "metadata": {},
   "source": [
    "**Вывод:**\n",
    "- Думаю в качестве самого эффективного канала привлечения по критерию цена/качество можно поставить **Яндекс**. Стомиость клика за одного пользователя Примерно такая же как и у Ютуба, но количество привлеченных пользователей горазо выше.\n",
    "- На втором месте можно расположить **Ютуб**. Канал с одной из самых высоких конверсий и самой маленькой стоимостью кликов. Единственный недостаток это наименьшее количество привлеченных пользователей\n",
    "- Третье место я бы отдал **Инстаграму**. Канал с самой большой конверсией. Также можно взять во внимание количествор привлеченных пользователей, больше только у Яндека, но из-за стоимости кликов только 3-ье место.\n",
    "- Замыкает топ **фейсбук**. Канал с наименьшей конверсией перехода на 2 уровень. Одно из наименьших количеств привлеченных пользователей. Также одна из минимальных активностей пользователей, судя по логам. В добавок цена не отстает от двух других каналов привлечения. Стоимость кликов на пользователя при этом самая высокая среди каналов привлечения."
   ]
  },
  {
   "cell_type": "markdown",
   "id": "ae769c2e",
   "metadata": {},
   "source": [
    "## 5. Статистический анализ данных"
   ]
  },
  {
   "cell_type": "markdown",
   "id": "9a7d84c8",
   "metadata": {},
   "source": [
    "#### 5.1. Проверка статистической гипотезы: время завершения уровня различается в зависимости способа прохождения:\n",
    "- через реализацию проекта,\n",
    "\n",
    "- через победу над первым игроком.\n"
   ]
  },
  {
   "cell_type": "markdown",
   "id": "4ba823db",
   "metadata": {},
   "source": [
    "Сформулируем нулевую и альтернативную гипотезы, соответственно:\n",
    "- Нулевая: время завершения уровней не различается\n",
    "- Альтернативная: время завершения уровней отличается в зависимости от способа прохождения\n",
    "\n",
    "Уровень стат. значимости установим на 0.05"
   ]
  },
  {
   "cell_type": "markdown",
   "id": "9f0e5547",
   "metadata": {},
   "source": [
    "Для начала расчитаем время прохождения уровня для каждого пользователя"
   ]
  },
  {
   "cell_type": "code",
   "execution_count": 40,
   "id": "cb16fbea",
   "metadata": {},
   "outputs": [],
   "source": [
    "users_with_finished_stage = merged_data[merged_data['event'] == 'finished_stage_1']['user_id'].unique()\n",
    "\n",
    "logs_df = merged_data[merged_data['user_id'].isin(users_with_finished_stage)].copy()\n",
    "\n",
    "logs_df.sort_values(by=['user_id', 'event_datetime'], inplace=True)\n",
    "\n",
    "logs_df['time_to_complete_stage'] = 0\n",
    "\n",
    "for user_id in logs_df['user_id'].unique():\n",
    "    user_data = logs_df[logs_df['user_id'] == user_id]\n",
    "    building_time = user_data[user_data['event'] == 'building']['event_datetime'].iloc[0]\n",
    "    finished_stage_time = user_data[user_data['event'] == 'finished_stage_1']['event_datetime'].iloc[0]\n",
    "    \n",
    "    time_to_complete_stage = (pd.to_datetime(finished_stage_time) - pd.to_datetime(building_time)).total_seconds()\n",
    "    \n",
    "    logs_df.loc[logs_df['user_id'] == user_id, 'time_to_complete_stage'] = time_to_complete_stage\n",
    "logs_df = logs_df[logs_df['event']=='finished_stage_1']\n",
    "logs_df['time_to_complete_stage'] = logs_df['time_to_complete_stage'] / 3600\n"
   ]
  },
  {
   "cell_type": "code",
   "execution_count": 41,
   "id": "0650c262",
   "metadata": {},
   "outputs": [
    {
     "data": {
      "text/html": [
       "<div>\n",
       "<style scoped>\n",
       "    .dataframe tbody tr th:only-of-type {\n",
       "        vertical-align: middle;\n",
       "    }\n",
       "\n",
       "    .dataframe tbody tr th {\n",
       "        vertical-align: top;\n",
       "    }\n",
       "\n",
       "    .dataframe thead th {\n",
       "        text-align: right;\n",
       "    }\n",
       "</style>\n",
       "<table border=\"1\" class=\"dataframe\">\n",
       "  <thead>\n",
       "    <tr style=\"text-align: right;\">\n",
       "      <th></th>\n",
       "      <th>event_datetime</th>\n",
       "      <th>event</th>\n",
       "      <th>building_type</th>\n",
       "      <th>user_id</th>\n",
       "      <th>project_type</th>\n",
       "      <th>event_date</th>\n",
       "      <th>source</th>\n",
       "      <th>time_to_complete_stage</th>\n",
       "    </tr>\n",
       "  </thead>\n",
       "  <tbody>\n",
       "    <tr>\n",
       "      <th>123451</th>\n",
       "      <td>2020-05-08 02:19:33</td>\n",
       "      <td>finished_stage_1</td>\n",
       "      <td>NaN</td>\n",
       "      <td>03990bc0-47b6-44ce-9f8b-3afb1a97d0e7</td>\n",
       "      <td>NaN</td>\n",
       "      <td>2020-05-08</td>\n",
       "      <td>instagram_new_adverts</td>\n",
       "      <td>9.650278</td>\n",
       "    </tr>\n",
       "    <tr>\n",
       "      <th>755</th>\n",
       "      <td>2020-05-04 19:47:29</td>\n",
       "      <td>finished_stage_1</td>\n",
       "      <td>NaN</td>\n",
       "      <td>ced7b368-818f-48f6-9461-2346de0892c5</td>\n",
       "      <td>NaN</td>\n",
       "      <td>2020-05-04</td>\n",
       "      <td>instagram_new_adverts</td>\n",
       "      <td>19.568889</td>\n",
       "    </tr>\n",
       "    <tr>\n",
       "      <th>129697</th>\n",
       "      <td>2020-05-09 11:52:33</td>\n",
       "      <td>finished_stage_1</td>\n",
       "      <td>NaN</td>\n",
       "      <td>c8180f71-68dc-4fd5-ba6e-ba5f5d0d28f7</td>\n",
       "      <td>NaN</td>\n",
       "      <td>2020-05-09</td>\n",
       "      <td>youtube_channel_reklama</td>\n",
       "      <td>19.734444</td>\n",
       "    </tr>\n",
       "    <tr>\n",
       "      <th>117584</th>\n",
       "      <td>2020-05-08 01:02:51</td>\n",
       "      <td>finished_stage_1</td>\n",
       "      <td>NaN</td>\n",
       "      <td>2204ae7f-892b-494d-bd58-28816ff35eb5</td>\n",
       "      <td>NaN</td>\n",
       "      <td>2020-05-08</td>\n",
       "      <td>yandex_direct</td>\n",
       "      <td>22.623333</td>\n",
       "    </tr>\n",
       "    <tr>\n",
       "      <th>86518</th>\n",
       "      <td>2020-05-06 13:43:12</td>\n",
       "      <td>finished_stage_1</td>\n",
       "      <td>NaN</td>\n",
       "      <td>2ab1cc5a-413a-408e-ba76-01de8e12bead</td>\n",
       "      <td>NaN</td>\n",
       "      <td>2020-05-06</td>\n",
       "      <td>youtube_channel_reklama</td>\n",
       "      <td>24.302222</td>\n",
       "    </tr>\n",
       "    <tr>\n",
       "      <th>...</th>\n",
       "      <td>...</td>\n",
       "      <td>...</td>\n",
       "      <td>...</td>\n",
       "      <td>...</td>\n",
       "      <td>...</td>\n",
       "      <td>...</td>\n",
       "      <td>...</td>\n",
       "      <td>...</td>\n",
       "    </tr>\n",
       "    <tr>\n",
       "      <th>119047</th>\n",
       "      <td>2020-06-05 12:12:27</td>\n",
       "      <td>finished_stage_1</td>\n",
       "      <td>NaN</td>\n",
       "      <td>32572adb-900f-4b5d-a453-1eb1e6d88d8b</td>\n",
       "      <td>NaN</td>\n",
       "      <td>2020-06-05</td>\n",
       "      <td>facebook_ads</td>\n",
       "      <td>702.478333</td>\n",
       "    </tr>\n",
       "    <tr>\n",
       "      <th>16391</th>\n",
       "      <td>2020-06-03 12:47:09</td>\n",
       "      <td>finished_stage_1</td>\n",
       "      <td>NaN</td>\n",
       "      <td>a4f54b34-299f-495f-b29f-745465741366</td>\n",
       "      <td>NaN</td>\n",
       "      <td>2020-06-03</td>\n",
       "      <td>facebook_ads</td>\n",
       "      <td>727.772500</td>\n",
       "    </tr>\n",
       "    <tr>\n",
       "      <th>101530</th>\n",
       "      <td>2020-06-05 12:32:49</td>\n",
       "      <td>finished_stage_1</td>\n",
       "      <td>NaN</td>\n",
       "      <td>f21d179f-1c4b-437e-b9c6-ab1976907195</td>\n",
       "      <td>NaN</td>\n",
       "      <td>2020-06-05</td>\n",
       "      <td>instagram_new_adverts</td>\n",
       "      <td>729.606667</td>\n",
       "    </tr>\n",
       "    <tr>\n",
       "      <th>53179</th>\n",
       "      <td>2020-06-04 15:50:38</td>\n",
       "      <td>finished_stage_1</td>\n",
       "      <td>NaN</td>\n",
       "      <td>22cce310-fe10-41a2-941b-9c3d63327fea</td>\n",
       "      <td>NaN</td>\n",
       "      <td>2020-06-04</td>\n",
       "      <td>yandex_direct</td>\n",
       "      <td>741.203611</td>\n",
       "    </tr>\n",
       "    <tr>\n",
       "      <th>27864</th>\n",
       "      <td>2020-06-04 06:44:02</td>\n",
       "      <td>finished_stage_1</td>\n",
       "      <td>NaN</td>\n",
       "      <td>18fc6a86-00e7-4f3e-96da-bdb6d550415c</td>\n",
       "      <td>NaN</td>\n",
       "      <td>2020-06-04</td>\n",
       "      <td>yandex_direct</td>\n",
       "      <td>741.981389</td>\n",
       "    </tr>\n",
       "  </tbody>\n",
       "</table>\n",
       "<p>5817 rows × 8 columns</p>\n",
       "</div>"
      ],
      "text/plain": [
       "            event_datetime             event building_type  \\\n",
       "123451 2020-05-08 02:19:33  finished_stage_1           NaN   \n",
       "755    2020-05-04 19:47:29  finished_stage_1           NaN   \n",
       "129697 2020-05-09 11:52:33  finished_stage_1           NaN   \n",
       "117584 2020-05-08 01:02:51  finished_stage_1           NaN   \n",
       "86518  2020-05-06 13:43:12  finished_stage_1           NaN   \n",
       "...                    ...               ...           ...   \n",
       "119047 2020-06-05 12:12:27  finished_stage_1           NaN   \n",
       "16391  2020-06-03 12:47:09  finished_stage_1           NaN   \n",
       "101530 2020-06-05 12:32:49  finished_stage_1           NaN   \n",
       "53179  2020-06-04 15:50:38  finished_stage_1           NaN   \n",
       "27864  2020-06-04 06:44:02  finished_stage_1           NaN   \n",
       "\n",
       "                                     user_id project_type  event_date  \\\n",
       "123451  03990bc0-47b6-44ce-9f8b-3afb1a97d0e7          NaN  2020-05-08   \n",
       "755     ced7b368-818f-48f6-9461-2346de0892c5          NaN  2020-05-04   \n",
       "129697  c8180f71-68dc-4fd5-ba6e-ba5f5d0d28f7          NaN  2020-05-09   \n",
       "117584  2204ae7f-892b-494d-bd58-28816ff35eb5          NaN  2020-05-08   \n",
       "86518   2ab1cc5a-413a-408e-ba76-01de8e12bead          NaN  2020-05-06   \n",
       "...                                      ...          ...         ...   \n",
       "119047  32572adb-900f-4b5d-a453-1eb1e6d88d8b          NaN  2020-06-05   \n",
       "16391   a4f54b34-299f-495f-b29f-745465741366          NaN  2020-06-03   \n",
       "101530  f21d179f-1c4b-437e-b9c6-ab1976907195          NaN  2020-06-05   \n",
       "53179   22cce310-fe10-41a2-941b-9c3d63327fea          NaN  2020-06-04   \n",
       "27864   18fc6a86-00e7-4f3e-96da-bdb6d550415c          NaN  2020-06-04   \n",
       "\n",
       "                         source  time_to_complete_stage  \n",
       "123451    instagram_new_adverts                9.650278  \n",
       "755       instagram_new_adverts               19.568889  \n",
       "129697  youtube_channel_reklama               19.734444  \n",
       "117584            yandex_direct               22.623333  \n",
       "86518   youtube_channel_reklama               24.302222  \n",
       "...                         ...                     ...  \n",
       "119047             facebook_ads              702.478333  \n",
       "16391              facebook_ads              727.772500  \n",
       "101530    instagram_new_adverts              729.606667  \n",
       "53179             yandex_direct              741.203611  \n",
       "27864             yandex_direct              741.981389  \n",
       "\n",
       "[5817 rows x 8 columns]"
      ]
     },
     "execution_count": 41,
     "metadata": {},
     "output_type": "execute_result"
    }
   ],
   "source": [
    "logs_df.sort_values(by='time_to_complete_stage')"
   ]
  },
  {
   "cell_type": "markdown",
   "id": "80091cac",
   "metadata": {},
   "source": [
    "Вывод:\n",
    "- Пока топ 5 самых быстрых прохождений у пользователей через ПВП, посмотрим дальше и проверим это на стат.тесте"
   ]
  },
  {
   "cell_type": "markdown",
   "id": "73808b83",
   "metadata": {},
   "source": [
    "Теперь создадим два датасета отдельно для pvp и pve игроков"
   ]
  },
  {
   "cell_type": "code",
   "execution_count": 42,
   "id": "e6e98aa2",
   "metadata": {},
   "outputs": [
    {
     "name": "stderr",
     "output_type": "stream",
     "text": [
      "C:\\Users\\Кирилл\\AppData\\Local\\Temp\\ipykernel_16280\\3779527439.py:5: SettingWithCopyWarning: \n",
      "A value is trying to be set on a copy of a slice from a DataFrame.\n",
      "Try using .loc[row_indexer,col_indexer] = value instead\n",
      "\n",
      "See the caveats in the documentation: https://pandas.pydata.org/pandas-docs/stable/user_guide/indexing.html#returning-a-view-versus-a-copy\n",
      "  pve_users.loc[:, 'project_type'] = 'satellite_orbital_assembly'\n"
     ]
    }
   ],
   "source": [
    "users_with_satellite_project_type = merged_data[merged_data['project_type'] == 'satellite_orbital_assembly']['user_id'].unique()\n",
    "\n",
    "pve_users = logs_df[logs_df['user_id'].isin(users_with_satellite_project_type)]\n",
    "\n",
    "pve_users.loc[:, 'project_type'] = 'satellite_orbital_assembly'\n",
    "pvp_users = logs_df.copy()\n",
    "\n",
    "pvp_users = pvp_users[~pvp_users['user_id'].isin(pve_users['user_id'])]"
   ]
  },
  {
   "cell_type": "markdown",
   "id": "5813d8fa",
   "metadata": {},
   "source": [
    "После подготовки проведем стат.тест. Также напомним выдвинутые гипотезы:\n",
    "- Нулевая: время завершения уровней не различается\n",
    "- Альтернативная: время завершения уровней отличается в зависимости от способа прохождения\n"
   ]
  },
  {
   "cell_type": "code",
   "execution_count": 43,
   "id": "db025d35",
   "metadata": {},
   "outputs": [
    {
     "name": "stdout",
     "output_type": "stream",
     "text": [
      "p-значение: 7.256845329498955e-98\n",
      "Отвергаем нулевую гипотезу, время завершения уровней различается\n"
     ]
    }
   ],
   "source": [
    "alpha = 0.05\n",
    "\n",
    "t_test = sp.stats.ttest_ind(pvp_users['time_to_complete_stage'], pve_users['time_to_complete_stage'])\n",
    "\n",
    "print('p-значение:', t_test.pvalue)\n",
    "\n",
    "if (t_test.pvalue < alpha):\n",
    "    print(\"Отвергаем нулевую гипотезу, время завершения уровней различается\")\n",
    "else:\n",
    "    print(\"Не получилось отвергнуть нулевую гипотезу, время завершения уровней не различается\")"
   ]
  },
  {
   "cell_type": "markdown",
   "id": "fb42d085",
   "metadata": {},
   "source": [
    "**Вывод:**\n",
    "- Действительно, после стат.теста можно отвергнуть нулевую гипотезу, а значит время завершения уровней отличается в зависимости от способа прохождения"
   ]
  },
  {
   "cell_type": "markdown",
   "id": "7675a8df",
   "metadata": {},
   "source": [
    "Также для полноты картины можно это все визуализировать и посмотреть на графике разницу по прохождению"
   ]
  },
  {
   "cell_type": "code",
   "execution_count": 44,
   "id": "0ad0e673",
   "metadata": {},
   "outputs": [
    {
     "data": {
      "image/png": "[encoded data removed]",
      "text/plain": [
       "<Figure size 640x480 with 1 Axes>"
      ]
     },
     "metadata": {},
     "output_type": "display_data"
    }
   ],
   "source": [
    "fig, ax = plt.subplots()\n",
    "\n",
    "ax.hist(pvp_users['time_to_complete_stage'], bins=20, alpha=0.5, label='PVP')\n",
    "\n",
    "ax.hist(pve_users['time_to_complete_stage'], bins=20, alpha=0.5, label='PVE')\n",
    "\n",
    "ax.set_xlabel('Время завершения уровня (часы)')\n",
    "ax.set_ylabel('Количество пользователей')\n",
    "ax.set_title('Гистограмма времени завершения уровня для PVP и PVE пользователей')\n",
    "\n",
    "ax.legend()\n",
    "\n",
    "plt.show()"
   ]
  },
  {
   "cell_type": "markdown",
   "id": "2359a6ab",
   "metadata": {},
   "source": [
    "**Вывод:**\n",
    "- Разница во времени завершения уровня между PVP и PVE пользователями прослеживается. Игроков PVE, которые завершили первый уровень до 100 часов, практически не наблюдается, в то время, как среди PVP игроков более 100 человек добились такого результата."
   ]
  },
  {
   "cell_type": "markdown",
   "id": "f19b1c60",
   "metadata": {},
   "source": [
    "#### 5.2. Формирование собственной гипотезы. Проверка статистической гипотезы: Существует ли статистическая разница между конверсией перехода на следующий уровень игроков из двух разных каналов(Попарное сравнение всех каналов)"
   ]
  },
  {
   "cell_type": "code",
   "execution_count": 45,
   "id": "b9e97009",
   "metadata": {},
   "outputs": [
    {
     "data": {
      "text/html": [
       "<div>\n",
       "<style scoped>\n",
       "    .dataframe tbody tr th:only-of-type {\n",
       "        vertical-align: middle;\n",
       "    }\n",
       "\n",
       "    .dataframe tbody tr th {\n",
       "        vertical-align: top;\n",
       "    }\n",
       "\n",
       "    .dataframe thead th {\n",
       "        text-align: right;\n",
       "    }\n",
       "</style>\n",
       "<table border=\"1\" class=\"dataframe\">\n",
       "  <thead>\n",
       "    <tr style=\"text-align: right;\">\n",
       "      <th></th>\n",
       "      <th>event_datetime</th>\n",
       "      <th>event</th>\n",
       "      <th>building_type</th>\n",
       "      <th>user_id</th>\n",
       "      <th>project_type</th>\n",
       "      <th>event_date</th>\n",
       "      <th>source</th>\n",
       "    </tr>\n",
       "  </thead>\n",
       "  <tbody>\n",
       "    <tr>\n",
       "      <th>0</th>\n",
       "      <td>2020-05-04 00:00:01</td>\n",
       "      <td>building</td>\n",
       "      <td>assembly_shop</td>\n",
       "      <td>55e92310-cb8e-4754-b622-597e124b03de</td>\n",
       "      <td>NaN</td>\n",
       "      <td>2020-05-04</td>\n",
       "      <td>youtube_channel_reklama</td>\n",
       "    </tr>\n",
       "    <tr>\n",
       "      <th>1</th>\n",
       "      <td>2020-05-05 05:20:15</td>\n",
       "      <td>building</td>\n",
       "      <td>assembly_shop</td>\n",
       "      <td>55e92310-cb8e-4754-b622-597e124b03de</td>\n",
       "      <td>NaN</td>\n",
       "      <td>2020-05-05</td>\n",
       "      <td>youtube_channel_reklama</td>\n",
       "    </tr>\n",
       "    <tr>\n",
       "      <th>2</th>\n",
       "      <td>2020-05-05 19:24:02</td>\n",
       "      <td>building</td>\n",
       "      <td>assembly_shop</td>\n",
       "      <td>55e92310-cb8e-4754-b622-597e124b03de</td>\n",
       "      <td>NaN</td>\n",
       "      <td>2020-05-05</td>\n",
       "      <td>youtube_channel_reklama</td>\n",
       "    </tr>\n",
       "    <tr>\n",
       "      <th>3</th>\n",
       "      <td>2020-05-05 20:59:19</td>\n",
       "      <td>building</td>\n",
       "      <td>assembly_shop</td>\n",
       "      <td>55e92310-cb8e-4754-b622-597e124b03de</td>\n",
       "      <td>NaN</td>\n",
       "      <td>2020-05-05</td>\n",
       "      <td>youtube_channel_reklama</td>\n",
       "    </tr>\n",
       "    <tr>\n",
       "      <th>4</th>\n",
       "      <td>2020-05-06 00:52:56</td>\n",
       "      <td>building</td>\n",
       "      <td>assembly_shop</td>\n",
       "      <td>55e92310-cb8e-4754-b622-597e124b03de</td>\n",
       "      <td>NaN</td>\n",
       "      <td>2020-05-06</td>\n",
       "      <td>youtube_channel_reklama</td>\n",
       "    </tr>\n",
       "    <tr>\n",
       "      <th>...</th>\n",
       "      <td>...</td>\n",
       "      <td>...</td>\n",
       "      <td>...</td>\n",
       "      <td>...</td>\n",
       "      <td>...</td>\n",
       "      <td>...</td>\n",
       "      <td>...</td>\n",
       "    </tr>\n",
       "    <tr>\n",
       "      <th>135634</th>\n",
       "      <td>2020-05-13 23:56:39</td>\n",
       "      <td>building</td>\n",
       "      <td>spaceport</td>\n",
       "      <td>cafd1b8b-507b-49ae-abf0-89fe863a8b03</td>\n",
       "      <td>NaN</td>\n",
       "      <td>2020-05-13</td>\n",
       "      <td>facebook_ads</td>\n",
       "    </tr>\n",
       "    <tr>\n",
       "      <th>135635</th>\n",
       "      <td>2020-05-18 00:23:28</td>\n",
       "      <td>building</td>\n",
       "      <td>spaceport</td>\n",
       "      <td>cafd1b8b-507b-49ae-abf0-89fe863a8b03</td>\n",
       "      <td>NaN</td>\n",
       "      <td>2020-05-18</td>\n",
       "      <td>facebook_ads</td>\n",
       "    </tr>\n",
       "    <tr>\n",
       "      <th>135636</th>\n",
       "      <td>2020-05-10 23:59:52</td>\n",
       "      <td>building</td>\n",
       "      <td>assembly_shop</td>\n",
       "      <td>bdc53e19-462a-4dc3-8b55-b4a34278af6a</td>\n",
       "      <td>NaN</td>\n",
       "      <td>2020-05-10</td>\n",
       "      <td>youtube_channel_reklama</td>\n",
       "    </tr>\n",
       "    <tr>\n",
       "      <th>135637</th>\n",
       "      <td>2020-05-13 08:11:19</td>\n",
       "      <td>building</td>\n",
       "      <td>spaceport</td>\n",
       "      <td>bdc53e19-462a-4dc3-8b55-b4a34278af6a</td>\n",
       "      <td>NaN</td>\n",
       "      <td>2020-05-13</td>\n",
       "      <td>youtube_channel_reklama</td>\n",
       "    </tr>\n",
       "    <tr>\n",
       "      <th>135638</th>\n",
       "      <td>2020-05-18 11:11:11</td>\n",
       "      <td>building</td>\n",
       "      <td>spaceport</td>\n",
       "      <td>bdc53e19-462a-4dc3-8b55-b4a34278af6a</td>\n",
       "      <td>NaN</td>\n",
       "      <td>2020-05-18</td>\n",
       "      <td>youtube_channel_reklama</td>\n",
       "    </tr>\n",
       "  </tbody>\n",
       "</table>\n",
       "<p>135639 rows × 7 columns</p>\n",
       "</div>"
      ],
      "text/plain": [
       "            event_datetime     event  building_type  \\\n",
       "0      2020-05-04 00:00:01  building  assembly_shop   \n",
       "1      2020-05-05 05:20:15  building  assembly_shop   \n",
       "2      2020-05-05 19:24:02  building  assembly_shop   \n",
       "3      2020-05-05 20:59:19  building  assembly_shop   \n",
       "4      2020-05-06 00:52:56  building  assembly_shop   \n",
       "...                    ...       ...            ...   \n",
       "135634 2020-05-13 23:56:39  building      spaceport   \n",
       "135635 2020-05-18 00:23:28  building      spaceport   \n",
       "135636 2020-05-10 23:59:52  building  assembly_shop   \n",
       "135637 2020-05-13 08:11:19  building      spaceport   \n",
       "135638 2020-05-18 11:11:11  building      spaceport   \n",
       "\n",
       "                                     user_id project_type  event_date  \\\n",
       "0       55e92310-cb8e-4754-b622-597e124b03de          NaN  2020-05-04   \n",
       "1       55e92310-cb8e-4754-b622-597e124b03de          NaN  2020-05-05   \n",
       "2       55e92310-cb8e-4754-b622-597e124b03de          NaN  2020-05-05   \n",
       "3       55e92310-cb8e-4754-b622-597e124b03de          NaN  2020-05-05   \n",
       "4       55e92310-cb8e-4754-b622-597e124b03de          NaN  2020-05-06   \n",
       "...                                      ...          ...         ...   \n",
       "135634  cafd1b8b-507b-49ae-abf0-89fe863a8b03          NaN  2020-05-13   \n",
       "135635  cafd1b8b-507b-49ae-abf0-89fe863a8b03          NaN  2020-05-18   \n",
       "135636  bdc53e19-462a-4dc3-8b55-b4a34278af6a          NaN  2020-05-10   \n",
       "135637  bdc53e19-462a-4dc3-8b55-b4a34278af6a          NaN  2020-05-13   \n",
       "135638  bdc53e19-462a-4dc3-8b55-b4a34278af6a          NaN  2020-05-18   \n",
       "\n",
       "                         source  \n",
       "0       youtube_channel_reklama  \n",
       "1       youtube_channel_reklama  \n",
       "2       youtube_channel_reklama  \n",
       "3       youtube_channel_reklama  \n",
       "4       youtube_channel_reklama  \n",
       "...                         ...  \n",
       "135634             facebook_ads  \n",
       "135635             facebook_ads  \n",
       "135636  youtube_channel_reklama  \n",
       "135637  youtube_channel_reklama  \n",
       "135638  youtube_channel_reklama  \n",
       "\n",
       "[135639 rows x 7 columns]"
      ]
     },
     "execution_count": 45,
     "metadata": {},
     "output_type": "execute_result"
    }
   ],
   "source": [
    "merged_data"
   ]
  },
  {
   "cell_type": "markdown",
   "id": "b04134e0",
   "metadata": {},
   "source": [
    "Напишем функцию, которая будет попарно сравнивать каналы на предмет разницы в конверсии.\n",
    "Также установим нулевую и альтернативную гипотезы:\n",
    "- Нулевая: стат. разницы между конверсией перехода на 2 уровень пользователей из двух разных каналов нет\n",
    "- Альтернативная: стат.разница между конверсией перехода на 2 уровень пользователей из двух разных каналов есть"
   ]
  },
  {
   "cell_type": "code",
   "execution_count": 46,
   "id": "e08d37e0",
   "metadata": {},
   "outputs": [
    {
     "data": {
      "text/plain": [
       "array(['facebook_ads', 'yandex_direct', 'youtube_channel_reklama',\n",
       "       'instagram_new_adverts'], dtype=object)"
      ]
     },
     "execution_count": 46,
     "metadata": {},
     "output_type": "execute_result"
    }
   ],
   "source": [
    "user_source['source'].unique()"
   ]
  },
  {
   "cell_type": "code",
   "execution_count": 47,
   "id": "c5e0e8e5",
   "metadata": {},
   "outputs": [],
   "source": [
    "def conv_test(channel1, channel2, data):\n",
    "    # Выделяем данные для группы A (channel1)\n",
    "    group_a = data[(data['source'] == channel1)]\n",
    "    group_a_finished = group_a[group_a['event'] == 'finished_stage_1']\n",
    "    conversion_a = group_a_finished['user_id'].nunique() / group_a['user_id'].nunique()\n",
    "\n",
    "    # Выделяем данные для группы B (channel2)\n",
    "    group_b = data[(data['source'] == channel2)]\n",
    "    group_b_finished = group_b[group_b['event'] == 'finished_stage_1']\n",
    "    conversion_b = group_b_finished['user_id'].nunique() / group_b['user_id'].nunique()\n",
    "\n",
    "    # Выполняем Z-тест пропорций\n",
    "    z_stat, p_value = sm.stats.proportions_ztest([group_a_finished['user_id'].nunique(), group_b_finished['user_id'].nunique()],\n",
    "                                                 [group_a['user_id'].nunique(), group_b['user_id'].nunique()])\n",
    "    \n",
    "    alpha = 0.05\n",
    "    \n",
    "    print(\"p-значение:\", p_value)\n",
    "    \n",
    "    if p_value < alpha:\n",
    "        print(\"Есть статистически значимая разница в конверсии между каналами.\")\n",
    "    else:\n",
    "        print(\"Нет статистически значимой разницы в конверсии между каналами.\")"
   ]
  },
  {
   "cell_type": "code",
   "execution_count": 48,
   "id": "e7c26992",
   "metadata": {},
   "outputs": [
    {
     "name": "stdout",
     "output_type": "stream",
     "text": [
      "Тест между каналами facebook_ads и yandex_direct\n",
      "p-значение: 0.8624388026512437\n",
      "Нет статистически значимой разницы в конверсии между каналами.\n"
     ]
    }
   ],
   "source": [
    "print('Тест между каналами facebook_ads и yandex_direct')\n",
    "conv_test('facebook_ads', 'yandex_direct', merged_data)"
   ]
  },
  {
   "cell_type": "code",
   "execution_count": 49,
   "id": "a0ec6c22",
   "metadata": {},
   "outputs": [
    {
     "name": "stdout",
     "output_type": "stream",
     "text": [
      "Тест между каналами facebook_ads и youtube_channel_reklama\n",
      "p-значение: 0.473741293162954\n",
      "Нет статистически значимой разницы в конверсии между каналами.\n"
     ]
    }
   ],
   "source": [
    "print('Тест между каналами facebook_ads и youtube_channel_reklama')\n",
    "conv_test('facebook_ads', 'youtube_channel_reklama', merged_data)"
   ]
  },
  {
   "cell_type": "code",
   "execution_count": 50,
   "id": "fea05e7d",
   "metadata": {},
   "outputs": [
    {
     "name": "stdout",
     "output_type": "stream",
     "text": [
      "Тест между каналами facebook_ads и instagram_new_adverts\n",
      "p-значение: 0.20644137086490777\n",
      "Нет статистически значимой разницы в конверсии между каналами.\n"
     ]
    }
   ],
   "source": [
    "print('Тест между каналами facebook_ads и instagram_new_adverts')\n",
    "conv_test('facebook_ads', 'instagram_new_adverts', merged_data)"
   ]
  },
  {
   "cell_type": "code",
   "execution_count": 51,
   "id": "df30de3e",
   "metadata": {},
   "outputs": [
    {
     "name": "stdout",
     "output_type": "stream",
     "text": [
      "Тест между каналами yandex_direct и instagram_new_adverts\n",
      "p-значение: 0.20595754565724522\n",
      "Нет статистически значимой разницы в конверсии между каналами.\n"
     ]
    }
   ],
   "source": [
    "print('Тест между каналами yandex_direct и instagram_new_adverts')\n",
    "conv_test('yandex_direct', 'instagram_new_adverts', merged_data)"
   ]
  },
  {
   "cell_type": "code",
   "execution_count": 52,
   "id": "98592832",
   "metadata": {},
   "outputs": [
    {
     "name": "stdout",
     "output_type": "stream",
     "text": [
      "Тест между каналами yandex_direct и youtube_channel_reklama\n",
      "p-значение: 0.5244230207169548\n",
      "Нет статистически значимой разницы в конверсии между каналами.\n"
     ]
    }
   ],
   "source": [
    "print('Тест между каналами yandex_direct и youtube_channel_reklama')\n",
    "conv_test('yandex_direct', 'youtube_channel_reklama', merged_data)"
   ]
  },
  {
   "cell_type": "code",
   "execution_count": 53,
   "id": "4208b50e",
   "metadata": {},
   "outputs": [
    {
     "name": "stdout",
     "output_type": "stream",
     "text": [
      "Тест между каналами youtube_channel_reklama и instagram_new_adverts\n",
      "p-значение: 0.6123664865502236\n",
      "Нет статистически значимой разницы в конверсии между каналами.\n"
     ]
    }
   ],
   "source": [
    "print('Тест между каналами youtube_channel_reklama и instagram_new_adverts')\n",
    "conv_test('youtube_channel_reklama', 'instagram_new_adverts', merged_data)"
   ]
  },
  {
   "cell_type": "markdown",
   "id": "845654a7",
   "metadata": {},
   "source": [
    "**Вывод:**\n",
    "- Проанализировав попарно конверсию перехода на второй уровень по каналу прихода пользователя можно сказать, что Статистической разницы в конверсии нет. Нулевую гипотезу нельзя отвергнуть."
   ]
  },
  {
   "cell_type": "markdown",
   "id": "18c52cfa",
   "metadata": {},
   "source": [
    "## 6. Подготовка презентации"
   ]
  },
  {
   "cell_type": "markdown",
   "id": "e6e97e17",
   "metadata": {},
   "source": [
    "https://disk.yandex.ru/i/KEkr2YlPr6YtXw"
   ]
  },
  {
   "cell_type": "markdown",
   "id": "877ae27c",
   "metadata": {},
   "source": [
    "## 7. Общий вывод"
   ]
  },
  {
   "cell_type": "markdown",
   "id": "b0e101c8",
   "metadata": {},
   "source": [
    "**В самом начале проекта мы:**\n",
    "\n",
    "- ознакомились с первичным форматом данных\n",
    "\n",
    "- выполнили предварительную оценку данных\n",
    "\n",
    "**По ходу первоначального анализа было выявлено:**\n",
    "\n",
    "- Имеем 3 дата сета **game_actions, ad_costs, user_source:**\n",
    "  - game_actions: 5 колонок, 135640 строк, а также пропущенные значения и некорректные форматы столбцов\n",
    "  - ad_costs: 3 колонки, 28 строк, пропущенных значений нет, неккоректные форматы столбцов присутствуют\n",
    "  - user_source: 2 колонки, 13576 строк, пропусков нет.\n",
    "\n",
    "**Также было обнаружено:**\n",
    "\n",
    "- неккректная формат ячеек с датой, в последствии изменен\n",
    "\n",
    "\n",
    "**В ходе второй части работы было сделано:**\n",
    "\n",
    "- Изменили формат даты в колонках двух таблиц, также добавили колонку с датой для game_actions\n",
    "- Получается, что если к 127957 прибавить 7683, то у нас как раз и получится 135640. Выходит, что building_type - колонка, которая носит информацию о пользователях со статусом в event - building. Пропуски обоснованы.\n",
    "- Аналогичная ситуация и с project_type. Пропуски также обоснованы\n",
    "\n",
    "\n",
    "**Исследовательский анализ данных дал возможность сделать выводы:**\n",
    "\n",
    "- Изучаем данные на 13576 пользователей\n",
    "- Нарастающая активность заметна в период рекламной кампании, затем виден спад.\n",
    "- Самые дорогие пользователи приходят из Яндекса, затем идут фейсбук и твиттер. Замыкает топ реклама на ютуб каналах\n",
    "- Яндекс является очевидным лидером по количество привлекаемых пользователей и их активности, затем идет инстаграмм. Замыкают топ фейсбук и ютуб, имея примерно одинаковые показатели в сравнении с другими каналами.\n",
    "- Конверсия только у двух каналов больше общей по всем пользователям: Инстаграм и Ютуб\n",
    "- Самая низкая конверсия перехода на 2 уровень у пользователей Яндекса и фейсбука\n",
    "- Общая конверсия перехода для всех пользователей составляет 42.82%\n",
    " - Чаще всего игроки сторят космопрот, исследовательский центр же наоборот не пользуется особой популярностью\n",
    " - Пользователи, которые завершили проект, но не перешли на следующий уровень отсутствуют\n",
    " - Больше всего строятся пользователи из Яндекса и чаще всего они строят Космические порты, Сборочные цехи. В дальнейшем  пользователи на порядок меньше строятся из инстаграма с теми же самыми типами построек.\n",
    "- Пользователи в общем случае чаще всего предпочитают побеждать в PVP  и переходить на следующий уровень, чем реализовывать проект. 1866 пользователей реализовали проект, а 3951 игроков предпочли победу в PVP\n",
    "- Чаще всего пользователи завершают первый уровень посредством победы над другим игроком, Разница по всем каналам между \"Стилем игры\" пользователей в 3 раза.\n",
    "\n",
    "\n",
    "\n",
    "\n",
    "**Четвертая часть с ранжированием каналов дала понять некоторые вещи:**\n",
    "- Средняя стоимость кликов на одного пользователя самая высокая у двух каналов: фейсбук и инстаграм, далее в примерно равных значениях находятся графики яндекса и ютуба\n",
    "- Думаю в качестве самого эффективного канала привлечения по критерию цена/качество можно поставить **Яндекс**. Стомиость клика за одного пользователя Примерно такая же как и у Ютуба, но количество привлеченных пользователей горазо выше.\n",
    "- На втором месте можно расположить **Ютуб**. Канал с одной из самых высоких конверсий и самой маленькой стоимостью кликов. Единственный недостаток это наименьшее количество привлеченных пользователей\n",
    "- Третье место я бы отдал **Инстаграму**. Канал с самой большой конверсией. Также можно взять во внимание количествор привлеченных пользователей, больше только у Яндека, но из-за стоимости кликов только 3-ье место.\n",
    "- Замыкает топ **фейсбук**. Канал с наименьшей конверсией перехода на 2 уровень. Одно из наименьших количеств привлеченных пользователей. Также одна из минимальных активностей пользователей, судя по логам. В добавок цена не отстает от двух других каналов привлечения. Стоимость кликов на пользователя при этом самая высокая среди каналов привлечения.\n",
    "\n",
    "\n",
    "\n",
    "**Решения по стат.тестам:**\n",
    "- После стат.теста можно отвергнуть нулевую гипотезу, а значит время завершения уровней отличается в зависимости от способа прохождения\n",
    "- Разница во времени завершения уровня между PVP и PVE пользователями прослеживается. Игроков PVE, которые завершили первый уровень до 100 часов, практически не наблюдается, в то время, как среди PVP игроков более 100 человек добились такого результата.\n",
    "- Проанализировав попарно конверсию перехода на второй уровень по каналу прихода пользователя можно сказать, что Статистической разницы в конверсии нет. Нулевую гипотезу нельзя отвергнуть."
   ]
  },
  {
   "cell_type": "markdown",
   "id": "976df9fb",
   "metadata": {},
   "source": [
    "## Дашборд\n"
   ]
  },
  {
   "cell_type": "markdown",
   "id": "355f0320",
   "metadata": {},
   "source": [
    "https://public.tableau.com/app/profile/bao.tao/viz/dashboardgame/Dashboard1?publish=yes"
   ]
  },
  {
   "cell_type": "code",
   "execution_count": null,
   "id": "a5751b29",
   "metadata": {},
   "outputs": [],
   "source": []
  }
 ],
 "metadata": {
  "ExecuteTimeLog": [
   {
    "duration": 92,
    "start_time": "2023-07-10T19:17:04.185Z"
   },
   {
    "duration": 78,
    "start_time": "2023-07-10T20:04:49.475Z"
   },
   {
    "duration": 1906,
    "start_time": "2023-07-17T09:20:19.650Z"
   },
   {
    "duration": 0,
    "start_time": "2023-07-17T09:20:21.559Z"
   },
   {
    "duration": 0,
    "start_time": "2023-07-17T09:20:21.560Z"
   },
   {
    "duration": 0,
    "start_time": "2023-07-17T09:20:21.562Z"
   },
   {
    "duration": 0,
    "start_time": "2023-07-17T09:20:21.567Z"
   },
   {
    "duration": 0,
    "start_time": "2023-07-17T09:20:21.569Z"
   },
   {
    "duration": 0,
    "start_time": "2023-07-17T09:20:21.570Z"
   },
   {
    "duration": 0,
    "start_time": "2023-07-17T09:20:21.572Z"
   },
   {
    "duration": 0,
    "start_time": "2023-07-17T09:20:21.573Z"
   },
   {
    "duration": 0,
    "start_time": "2023-07-17T09:20:21.574Z"
   },
   {
    "duration": 0,
    "start_time": "2023-07-17T09:20:21.576Z"
   },
   {
    "duration": 0,
    "start_time": "2023-07-17T09:20:21.577Z"
   },
   {
    "duration": 0,
    "start_time": "2023-07-17T09:20:21.579Z"
   },
   {
    "duration": 0,
    "start_time": "2023-07-17T09:20:21.580Z"
   },
   {
    "duration": 0,
    "start_time": "2023-07-17T09:20:21.582Z"
   },
   {
    "duration": 0,
    "start_time": "2023-07-17T09:20:21.584Z"
   },
   {
    "duration": 0,
    "start_time": "2023-07-17T09:20:21.585Z"
   },
   {
    "duration": 0,
    "start_time": "2023-07-17T09:20:21.586Z"
   },
   {
    "duration": 0,
    "start_time": "2023-07-17T09:20:21.588Z"
   },
   {
    "duration": 0,
    "start_time": "2023-07-17T09:20:21.589Z"
   },
   {
    "duration": 0,
    "start_time": "2023-07-17T09:20:21.591Z"
   },
   {
    "duration": 0,
    "start_time": "2023-07-17T09:20:21.593Z"
   },
   {
    "duration": 0,
    "start_time": "2023-07-17T09:20:21.594Z"
   },
   {
    "duration": 0,
    "start_time": "2023-07-17T09:20:21.597Z"
   },
   {
    "duration": 0,
    "start_time": "2023-07-17T09:20:21.598Z"
   },
   {
    "duration": 0,
    "start_time": "2023-07-17T09:20:21.600Z"
   },
   {
    "duration": 0,
    "start_time": "2023-07-17T09:20:21.601Z"
   },
   {
    "duration": 0,
    "start_time": "2023-07-17T09:20:21.603Z"
   },
   {
    "duration": 0,
    "start_time": "2023-07-17T09:20:21.605Z"
   },
   {
    "duration": 0,
    "start_time": "2023-07-17T09:20:21.668Z"
   },
   {
    "duration": 0,
    "start_time": "2023-07-17T09:20:21.670Z"
   },
   {
    "duration": 0,
    "start_time": "2023-07-17T09:20:21.671Z"
   },
   {
    "duration": 0,
    "start_time": "2023-07-17T09:20:21.672Z"
   },
   {
    "duration": 0,
    "start_time": "2023-07-17T09:20:21.674Z"
   },
   {
    "duration": 0,
    "start_time": "2023-07-17T09:20:21.676Z"
   },
   {
    "duration": 0,
    "start_time": "2023-07-17T09:20:21.677Z"
   },
   {
    "duration": 0,
    "start_time": "2023-07-17T09:20:21.678Z"
   },
   {
    "duration": 0,
    "start_time": "2023-07-17T09:20:21.680Z"
   },
   {
    "duration": 0,
    "start_time": "2023-07-17T09:20:21.681Z"
   },
   {
    "duration": 0,
    "start_time": "2023-07-17T09:20:21.683Z"
   },
   {
    "duration": 0,
    "start_time": "2023-07-17T09:20:21.684Z"
   },
   {
    "duration": 0,
    "start_time": "2023-07-17T09:20:21.686Z"
   },
   {
    "duration": 0,
    "start_time": "2023-07-17T09:20:21.687Z"
   },
   {
    "duration": 0,
    "start_time": "2023-07-17T09:20:21.689Z"
   },
   {
    "duration": 0,
    "start_time": "2023-07-17T09:20:21.690Z"
   },
   {
    "duration": 0,
    "start_time": "2023-07-17T09:20:21.692Z"
   },
   {
    "duration": 0,
    "start_time": "2023-07-17T09:20:21.693Z"
   },
   {
    "duration": 0,
    "start_time": "2023-07-17T09:20:21.695Z"
   },
   {
    "duration": 4080,
    "start_time": "2023-07-17T09:21:56.450Z"
   },
   {
    "duration": 3267,
    "start_time": "2023-07-17T09:22:00.533Z"
   },
   {
    "duration": 750,
    "start_time": "2023-07-17T09:22:03.802Z"
   },
   {
    "duration": 16,
    "start_time": "2023-07-17T09:22:04.555Z"
   },
   {
    "duration": 97,
    "start_time": "2023-07-17T09:22:04.573Z"
   },
   {
    "duration": 8,
    "start_time": "2023-07-17T09:22:04.673Z"
   },
   {
    "duration": 16,
    "start_time": "2023-07-17T09:22:04.683Z"
   },
   {
    "duration": 24,
    "start_time": "2023-07-17T09:22:04.701Z"
   },
   {
    "duration": 28,
    "start_time": "2023-07-17T09:22:04.727Z"
   },
   {
    "duration": 88,
    "start_time": "2023-07-17T09:22:04.758Z"
   },
   {
    "duration": 10,
    "start_time": "2023-07-17T09:22:04.847Z"
   },
   {
    "duration": 1124,
    "start_time": "2023-07-17T09:22:04.859Z"
   },
   {
    "duration": 88,
    "start_time": "2023-07-17T09:22:05.985Z"
   },
   {
    "duration": 61,
    "start_time": "2023-07-17T09:22:06.075Z"
   },
   {
    "duration": 80,
    "start_time": "2023-07-17T09:22:06.138Z"
   },
   {
    "duration": 86,
    "start_time": "2023-07-17T09:22:06.220Z"
   },
   {
    "duration": 37,
    "start_time": "2023-07-17T09:22:06.308Z"
   },
   {
    "duration": 50,
    "start_time": "2023-07-17T09:22:06.347Z"
   },
   {
    "duration": 464,
    "start_time": "2023-07-17T09:22:06.399Z"
   },
   {
    "duration": 18,
    "start_time": "2023-07-17T09:22:06.872Z"
   },
   {
    "duration": 111,
    "start_time": "2023-07-17T09:22:06.893Z"
   },
   {
    "duration": 105,
    "start_time": "2023-07-17T09:22:07.006Z"
   },
   {
    "duration": 1042,
    "start_time": "2023-07-17T09:22:07.113Z"
   },
   {
    "duration": 35,
    "start_time": "2023-07-17T09:22:08.157Z"
   },
   {
    "duration": 102,
    "start_time": "2023-07-17T09:22:08.193Z"
   },
   {
    "duration": 34,
    "start_time": "2023-07-17T09:22:08.297Z"
   },
   {
    "duration": 46,
    "start_time": "2023-07-17T09:22:08.333Z"
   },
   {
    "duration": 48,
    "start_time": "2023-07-17T09:22:08.382Z"
   },
   {
    "duration": 37,
    "start_time": "2023-07-17T09:22:08.432Z"
   },
   {
    "duration": 38,
    "start_time": "2023-07-17T09:22:08.471Z"
   },
   {
    "duration": 202,
    "start_time": "2023-07-17T09:22:08.510Z"
   },
   {
    "duration": 403,
    "start_time": "2023-07-17T09:22:08.714Z"
   },
   {
    "duration": 13,
    "start_time": "2023-07-17T09:22:09.119Z"
   },
   {
    "duration": 51,
    "start_time": "2023-07-17T09:22:09.134Z"
   },
   {
    "duration": 8,
    "start_time": "2023-07-17T09:22:09.187Z"
   },
   {
    "duration": 57705,
    "start_time": "2023-07-17T09:22:09.196Z"
   },
   {
    "duration": 15,
    "start_time": "2023-07-17T09:23:06.903Z"
   },
   {
    "duration": 44,
    "start_time": "2023-07-17T09:23:06.920Z"
   },
   {
    "duration": 33,
    "start_time": "2023-07-17T09:23:06.966Z"
   },
   {
    "duration": 271,
    "start_time": "2023-07-17T09:23:07.001Z"
   },
   {
    "duration": 13,
    "start_time": "2023-07-17T09:23:07.274Z"
   },
   {
    "duration": 57,
    "start_time": "2023-07-17T09:23:07.289Z"
   },
   {
    "duration": 12,
    "start_time": "2023-07-17T09:23:07.348Z"
   },
   {
    "duration": 89,
    "start_time": "2023-07-17T09:23:07.361Z"
   },
   {
    "duration": 53,
    "start_time": "2023-07-17T09:23:07.452Z"
   },
   {
    "duration": 62,
    "start_time": "2023-07-17T09:23:07.507Z"
   },
   {
    "duration": 53,
    "start_time": "2023-07-17T09:23:07.571Z"
   },
   {
    "duration": 72,
    "start_time": "2023-07-17T09:23:07.626Z"
   },
   {
    "duration": 46,
    "start_time": "2023-07-17T09:23:07.700Z"
   },
   {
    "duration": 6,
    "start_time": "2023-07-17T10:01:21.905Z"
   },
   {
    "duration": 4,
    "start_time": "2023-07-18T08:21:59.358Z"
   },
   {
    "duration": 1494,
    "start_time": "2023-07-18T08:21:59.365Z"
   },
   {
    "duration": 0,
    "start_time": "2023-07-18T08:22:00.862Z"
   },
   {
    "duration": 0,
    "start_time": "2023-07-18T08:22:00.864Z"
   },
   {
    "duration": 0,
    "start_time": "2023-07-18T08:22:00.865Z"
   },
   {
    "duration": 0,
    "start_time": "2023-07-18T08:22:00.866Z"
   },
   {
    "duration": 0,
    "start_time": "2023-07-18T08:22:00.867Z"
   },
   {
    "duration": 0,
    "start_time": "2023-07-18T08:22:00.868Z"
   },
   {
    "duration": 0,
    "start_time": "2023-07-18T08:22:00.869Z"
   },
   {
    "duration": 0,
    "start_time": "2023-07-18T08:22:00.870Z"
   },
   {
    "duration": 0,
    "start_time": "2023-07-18T08:22:00.871Z"
   },
   {
    "duration": 0,
    "start_time": "2023-07-18T08:22:00.872Z"
   },
   {
    "duration": 0,
    "start_time": "2023-07-18T08:22:00.873Z"
   },
   {
    "duration": 0,
    "start_time": "2023-07-18T08:22:00.874Z"
   },
   {
    "duration": 0,
    "start_time": "2023-07-18T08:22:00.875Z"
   },
   {
    "duration": 0,
    "start_time": "2023-07-18T08:22:00.876Z"
   },
   {
    "duration": 0,
    "start_time": "2023-07-18T08:22:00.877Z"
   },
   {
    "duration": 0,
    "start_time": "2023-07-18T08:22:00.879Z"
   },
   {
    "duration": 0,
    "start_time": "2023-07-18T08:22:00.880Z"
   },
   {
    "duration": 0,
    "start_time": "2023-07-18T08:22:00.881Z"
   },
   {
    "duration": 0,
    "start_time": "2023-07-18T08:22:00.882Z"
   },
   {
    "duration": 0,
    "start_time": "2023-07-18T08:22:00.883Z"
   },
   {
    "duration": 0,
    "start_time": "2023-07-18T08:22:00.884Z"
   },
   {
    "duration": 0,
    "start_time": "2023-07-18T08:22:00.885Z"
   },
   {
    "duration": 0,
    "start_time": "2023-07-18T08:22:00.886Z"
   },
   {
    "duration": 0,
    "start_time": "2023-07-18T08:22:00.887Z"
   },
   {
    "duration": 0,
    "start_time": "2023-07-18T08:22:00.888Z"
   },
   {
    "duration": 0,
    "start_time": "2023-07-18T08:22:00.889Z"
   },
   {
    "duration": 0,
    "start_time": "2023-07-18T08:22:00.891Z"
   },
   {
    "duration": 0,
    "start_time": "2023-07-18T08:22:00.892Z"
   },
   {
    "duration": 0,
    "start_time": "2023-07-18T08:22:00.893Z"
   },
   {
    "duration": 0,
    "start_time": "2023-07-18T08:22:00.894Z"
   },
   {
    "duration": 0,
    "start_time": "2023-07-18T08:22:00.895Z"
   },
   {
    "duration": 0,
    "start_time": "2023-07-18T08:22:00.896Z"
   },
   {
    "duration": 0,
    "start_time": "2023-07-18T08:22:00.897Z"
   },
   {
    "duration": 0,
    "start_time": "2023-07-18T08:22:00.898Z"
   },
   {
    "duration": 0,
    "start_time": "2023-07-18T08:22:00.899Z"
   },
   {
    "duration": 0,
    "start_time": "2023-07-18T08:22:00.899Z"
   },
   {
    "duration": 0,
    "start_time": "2023-07-18T08:22:00.900Z"
   },
   {
    "duration": 0,
    "start_time": "2023-07-18T08:22:00.900Z"
   },
   {
    "duration": 0,
    "start_time": "2023-07-18T08:22:00.953Z"
   },
   {
    "duration": 0,
    "start_time": "2023-07-18T08:22:00.954Z"
   },
   {
    "duration": 0,
    "start_time": "2023-07-18T08:22:00.955Z"
   },
   {
    "duration": 0,
    "start_time": "2023-07-18T08:22:00.956Z"
   },
   {
    "duration": 0,
    "start_time": "2023-07-18T08:22:00.958Z"
   },
   {
    "duration": 0,
    "start_time": "2023-07-18T08:22:00.958Z"
   },
   {
    "duration": 0,
    "start_time": "2023-07-18T08:22:00.959Z"
   },
   {
    "duration": 0,
    "start_time": "2023-07-18T08:22:00.960Z"
   },
   {
    "duration": 0,
    "start_time": "2023-07-18T08:22:00.962Z"
   },
   {
    "duration": 0,
    "start_time": "2023-07-18T08:22:00.963Z"
   },
   {
    "duration": 0,
    "start_time": "2023-07-18T08:22:00.964Z"
   },
   {
    "duration": 0,
    "start_time": "2023-07-18T08:22:00.964Z"
   },
   {
    "duration": 0,
    "start_time": "2023-07-18T08:22:00.966Z"
   },
   {
    "duration": 3007,
    "start_time": "2023-07-18T08:22:14.892Z"
   },
   {
    "duration": 1566,
    "start_time": "2023-07-18T08:22:17.902Z"
   },
   {
    "duration": 768,
    "start_time": "2023-07-18T08:22:19.469Z"
   },
   {
    "duration": 25,
    "start_time": "2023-07-18T08:22:20.240Z"
   },
   {
    "duration": 43,
    "start_time": "2023-07-18T08:22:20.268Z"
   },
   {
    "duration": 11,
    "start_time": "2023-07-18T08:22:20.313Z"
   },
   {
    "duration": 28,
    "start_time": "2023-07-18T08:22:20.326Z"
   },
   {
    "duration": 20,
    "start_time": "2023-07-18T08:22:20.356Z"
   },
   {
    "duration": 31,
    "start_time": "2023-07-18T08:22:20.379Z"
   },
   {
    "duration": 114,
    "start_time": "2023-07-18T08:22:20.416Z"
   },
   {
    "duration": 11,
    "start_time": "2023-07-18T08:22:20.532Z"
   },
   {
    "duration": 1125,
    "start_time": "2023-07-18T08:22:20.545Z"
   },
   {
    "duration": 31,
    "start_time": "2023-07-18T08:22:21.672Z"
   },
   {
    "duration": 70,
    "start_time": "2023-07-18T08:22:21.704Z"
   },
   {
    "duration": 46,
    "start_time": "2023-07-18T08:22:21.775Z"
   },
   {
    "duration": 36,
    "start_time": "2023-07-18T08:22:21.823Z"
   },
   {
    "duration": 93,
    "start_time": "2023-07-18T08:22:21.860Z"
   },
   {
    "duration": 80,
    "start_time": "2023-07-18T08:22:21.955Z"
   },
   {
    "duration": 56,
    "start_time": "2023-07-18T08:22:22.037Z"
   },
   {
    "duration": 30,
    "start_time": "2023-07-18T08:22:22.094Z"
   },
   {
    "duration": 554,
    "start_time": "2023-07-18T08:22:22.125Z"
   },
   {
    "duration": 16,
    "start_time": "2023-07-18T08:22:22.681Z"
   },
   {
    "duration": 76,
    "start_time": "2023-07-18T08:22:22.699Z"
   },
   {
    "duration": 119,
    "start_time": "2023-07-18T08:22:22.777Z"
   },
   {
    "duration": 1228,
    "start_time": "2023-07-18T08:22:22.898Z"
   },
   {
    "duration": 44,
    "start_time": "2023-07-18T08:22:24.128Z"
   },
   {
    "duration": 140,
    "start_time": "2023-07-18T08:22:24.175Z"
   },
   {
    "duration": 25,
    "start_time": "2023-07-18T08:22:24.319Z"
   },
   {
    "duration": 39,
    "start_time": "2023-07-18T08:22:24.352Z"
   },
   {
    "duration": 2442,
    "start_time": "2023-07-18T08:22:24.394Z"
   },
   {
    "duration": 30,
    "start_time": "2023-07-18T08:22:26.840Z"
   },
   {
    "duration": 40,
    "start_time": "2023-07-18T08:22:26.873Z"
   },
   {
    "duration": 485,
    "start_time": "2023-07-18T08:22:26.915Z"
   },
   {
    "duration": 12,
    "start_time": "2023-07-18T08:22:27.402Z"
   },
   {
    "duration": 1481,
    "start_time": "2023-07-18T08:22:27.416Z"
   },
   {
    "duration": 17,
    "start_time": "2023-07-18T08:22:28.900Z"
   },
   {
    "duration": 273,
    "start_time": "2023-07-18T08:22:28.919Z"
   },
   {
    "duration": 32,
    "start_time": "2023-07-18T08:22:29.193Z"
   },
   {
    "duration": 25,
    "start_time": "2023-07-18T08:22:29.227Z"
   },
   {
    "duration": 58159,
    "start_time": "2023-07-18T08:22:29.255Z"
   },
   {
    "duration": 16,
    "start_time": "2023-07-18T08:23:27.415Z"
   },
   {
    "duration": 28,
    "start_time": "2023-07-18T08:23:27.433Z"
   },
   {
    "duration": 6,
    "start_time": "2023-07-18T08:23:27.463Z"
   },
   {
    "duration": 252,
    "start_time": "2023-07-18T08:23:27.470Z"
   },
   {
    "duration": 15,
    "start_time": "2023-07-18T08:23:27.723Z"
   },
   {
    "duration": 6,
    "start_time": "2023-07-18T08:23:27.752Z"
   },
   {
    "duration": 10,
    "start_time": "2023-07-18T08:23:27.760Z"
   },
   {
    "duration": 61,
    "start_time": "2023-07-18T08:23:27.772Z"
   },
   {
    "duration": 66,
    "start_time": "2023-07-18T08:23:27.835Z"
   },
   {
    "duration": 72,
    "start_time": "2023-07-18T08:23:27.903Z"
   },
   {
    "duration": 73,
    "start_time": "2023-07-18T08:23:27.979Z"
   },
   {
    "duration": 59,
    "start_time": "2023-07-18T08:23:28.054Z"
   },
   {
    "duration": 67,
    "start_time": "2023-07-18T08:23:28.115Z"
   },
   {
    "duration": 118,
    "start_time": "2023-07-19T06:16:29.591Z"
   }
  ],
  "kernelspec": {
   "display_name": "Python 3 (ipykernel)",
   "language": "python",
   "name": "python3"
  },
  "language_info": {
   "codemirror_mode": {
    "name": "ipython",
    "version": 3
   },
   "file_extension": ".py",
   "mimetype": "text/x-python",
   "name": "python",
   "nbconvert_exporter": "python",
   "pygments_lexer": "ipython3",
   "version": "3.10.9"
  },
  "toc": {
   "base_numbering": 1,
   "nav_menu": {},
   "number_sections": true,
   "sideBar": true,
   "skip_h1_title": true,
   "title_cell": "Table of Contents",
   "title_sidebar": "Contents",
   "toc_cell": false,
   "toc_position": {},
   "toc_section_display": true,
   "toc_window_display": false
  }
 },
 "nbformat": 4,
 "nbformat_minor": 5
}
