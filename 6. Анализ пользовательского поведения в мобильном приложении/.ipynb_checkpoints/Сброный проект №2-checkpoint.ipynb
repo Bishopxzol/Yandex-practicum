{
 "cells": [
  {
   "cell_type": "markdown",
   "id": "5fd4a5a7",
   "metadata": {},
   "source": [
    "# Магазин продуктов питания"
   ]
  },
  {
   "cell_type": "markdown",
   "id": "51084b32",
   "metadata": {},
   "source": [
    "## Содержание:"
   ]
  },
  {
   "cell_type": "markdown",
   "id": "a5c3e83d",
   "metadata": {},
   "source": [
    "1. Изучение общей информации, предварительный просмотр данных\n",
    "\n",
    "- 1.1 Импортируем все нужные библиотеки\n",
    "- 1.2 Загрузка файла и предварительный просмотр данны\n",
    "\n",
    "2. Подготовка данных\n",
    "\n",
    "- 2.1. Замена названий столбцов\n",
    "- 2.2. Преобразование данных в нужные типы, обработка пропусков\n",
    "- 2.3. Добавление столбца даты и времени, а также отдельного столбца дат\n",
    "\n",
    "3. Изучение и проверка данных\n",
    "\n",
    "- 3.1. Количество событий в логе\n",
    "- 3.2. Количество пользователей в логе\n",
    "- 3.3. Среднее число событий приходится на пользователя\n",
    "- 3.4. Вопросы по данным\n",
    "- 3.5. Количество событий и пользователей которое вы потеряли, отбросив старые данные\n",
    "- 3.6. Проверка наличия пользователей из всех трёх экспериментальных групп\n",
    "\n",
    "4. Изучиение воронки событий\n",
    "\n",
    "- 4.1. Какие события есть в логах, как часто они встречаются\n",
    "- 4.2. Сколько пользователей совершали каждое из этих событий\n",
    "- 4.3. В каком порядке происходят события\n",
    "- 4.4. Какая доля пользователей проходит на следующий шаг воронки (от числа пользователей на предыдущем)\n",
    "- 4.5. Доля пользователей доходит от первого события до оплаты\n",
    "\n",
    "5. Изучение результатов эксперимента\n",
    "\n",
    "- 5.1. Сколько пользователей в каждой экспериментальной группе?\n",
    "- 5.2. Проверка, находят ли статистические критерии разницу между выборками 246 и 247.\n",
    "- 5.3. Самое популярное событие\n",
    "- 5.4. Сравнение результатов с каждой из контрольных групп в отдельности по каждому событию\n",
    "- 5.5. Уровень значимости вы выбрали при проверке статистических гипотез выше\n",
    "\n",
    "6. Общий вывод"
   ]
  },
  {
   "cell_type": "markdown",
   "id": "2fb95216",
   "metadata": {},
   "source": [
    "<b>Цель исследования</b> - Изучить воронку продаж, исследование результатов A/A/B-эксперимента\n",
    "\n",
    "<b>Исходные данные</b> - данные стартапа, который продаёт продукты питания."
   ]
  },
  {
   "cell_type": "markdown",
   "id": "238ea22d",
   "metadata": {},
   "source": [
    "**Описание данных**\n",
    "\n",
    "Файл /datasets/logs_exp.csv\n",
    "- EventName — название события;\n",
    "- DeviceIDHash — уникальный идентификатор пользователя;\n",
    "- EventTimestamp — время события;\n",
    "- ExpId — номер эксперимента: 246 и 247 — контрольные группы, а 248 — экспериментальная.\n"
   ]
  },
  {
   "cell_type": "markdown",
   "id": "e019071c",
   "metadata": {},
   "source": [
    "## 1. Изучение общей информации, предварительный просмотр данных "
   ]
  },
  {
   "cell_type": "markdown",
   "id": "f7a617a0",
   "metadata": {},
   "source": [
    "#### 1.1. Импортируем все нужные библиотеки"
   ]
  },
  {
   "cell_type": "code",
   "execution_count": 1,
   "id": "c796dcb7",
   "metadata": {},
   "outputs": [],
   "source": [
    "import pandas as pd\n",
    "import seaborn as sns\n",
    "import numpy as np\n",
    "import matplotlib.pyplot as plt\n",
    "import datetime as dt\n",
    "import scipy as sp\n",
    "import plotly as pt\n",
    "from math import sqrt\n",
    "from math import fabs"
   ]
  },
  {
   "cell_type": "code",
   "execution_count": 2,
   "id": "3c42b77b",
   "metadata": {},
   "outputs": [],
   "source": [
    "try:\n",
    "    df = pd.read_csv('D:///datasets/logs_exp.csv', sep='\\t')\n",
    "except:\n",
    "    df = pd.read_csv('https://code.s3.yandex.net//datasets/logs_exp.csv', sep='\\t')"
   ]
  },
  {
   "cell_type": "code",
   "execution_count": 3,
   "id": "dadbb832",
   "metadata": {},
   "outputs": [
    {
     "data": {
      "text/html": [
       "<div>\n",
       "<style scoped>\n",
       "    .dataframe tbody tr th:only-of-type {\n",
       "        vertical-align: middle;\n",
       "    }\n",
       "\n",
       "    .dataframe tbody tr th {\n",
       "        vertical-align: top;\n",
       "    }\n",
       "\n",
       "    .dataframe thead th {\n",
       "        text-align: right;\n",
       "    }\n",
       "</style>\n",
       "<table border=\"1\" class=\"dataframe\">\n",
       "  <thead>\n",
       "    <tr style=\"text-align: right;\">\n",
       "      <th></th>\n",
       "      <th>EventName</th>\n",
       "      <th>DeviceIDHash</th>\n",
       "      <th>EventTimestamp</th>\n",
       "      <th>ExpId</th>\n",
       "    </tr>\n",
       "  </thead>\n",
       "  <tbody>\n",
       "    <tr>\n",
       "      <th>0</th>\n",
       "      <td>MainScreenAppear</td>\n",
       "      <td>4575588528974610257</td>\n",
       "      <td>1564029816</td>\n",
       "      <td>246</td>\n",
       "    </tr>\n",
       "    <tr>\n",
       "      <th>1</th>\n",
       "      <td>MainScreenAppear</td>\n",
       "      <td>7416695313311560658</td>\n",
       "      <td>1564053102</td>\n",
       "      <td>246</td>\n",
       "    </tr>\n",
       "    <tr>\n",
       "      <th>2</th>\n",
       "      <td>PaymentScreenSuccessful</td>\n",
       "      <td>3518123091307005509</td>\n",
       "      <td>1564054127</td>\n",
       "      <td>248</td>\n",
       "    </tr>\n",
       "    <tr>\n",
       "      <th>3</th>\n",
       "      <td>CartScreenAppear</td>\n",
       "      <td>3518123091307005509</td>\n",
       "      <td>1564054127</td>\n",
       "      <td>248</td>\n",
       "    </tr>\n",
       "    <tr>\n",
       "      <th>4</th>\n",
       "      <td>PaymentScreenSuccessful</td>\n",
       "      <td>6217807653094995999</td>\n",
       "      <td>1564055322</td>\n",
       "      <td>248</td>\n",
       "    </tr>\n",
       "    <tr>\n",
       "      <th>5</th>\n",
       "      <td>CartScreenAppear</td>\n",
       "      <td>6217807653094995999</td>\n",
       "      <td>1564055323</td>\n",
       "      <td>248</td>\n",
       "    </tr>\n",
       "    <tr>\n",
       "      <th>6</th>\n",
       "      <td>OffersScreenAppear</td>\n",
       "      <td>8351860793733343758</td>\n",
       "      <td>1564066242</td>\n",
       "      <td>246</td>\n",
       "    </tr>\n",
       "    <tr>\n",
       "      <th>7</th>\n",
       "      <td>MainScreenAppear</td>\n",
       "      <td>5682100281902512875</td>\n",
       "      <td>1564085677</td>\n",
       "      <td>246</td>\n",
       "    </tr>\n",
       "    <tr>\n",
       "      <th>8</th>\n",
       "      <td>MainScreenAppear</td>\n",
       "      <td>1850981295691852772</td>\n",
       "      <td>1564086702</td>\n",
       "      <td>247</td>\n",
       "    </tr>\n",
       "    <tr>\n",
       "      <th>9</th>\n",
       "      <td>MainScreenAppear</td>\n",
       "      <td>5407636962369102641</td>\n",
       "      <td>1564112112</td>\n",
       "      <td>246</td>\n",
       "    </tr>\n",
       "  </tbody>\n",
       "</table>\n",
       "</div>"
      ],
      "text/plain": [
       "                 EventName         DeviceIDHash  EventTimestamp  ExpId\n",
       "0         MainScreenAppear  4575588528974610257      1564029816    246\n",
       "1         MainScreenAppear  7416695313311560658      1564053102    246\n",
       "2  PaymentScreenSuccessful  3518123091307005509      1564054127    248\n",
       "3         CartScreenAppear  3518123091307005509      1564054127    248\n",
       "4  PaymentScreenSuccessful  6217807653094995999      1564055322    248\n",
       "5         CartScreenAppear  6217807653094995999      1564055323    248\n",
       "6       OffersScreenAppear  8351860793733343758      1564066242    246\n",
       "7         MainScreenAppear  5682100281902512875      1564085677    246\n",
       "8         MainScreenAppear  1850981295691852772      1564086702    247\n",
       "9         MainScreenAppear  5407636962369102641      1564112112    246"
      ]
     },
     "execution_count": 3,
     "metadata": {},
     "output_type": "execute_result"
    }
   ],
   "source": [
    "df.head(10)"
   ]
  },
  {
   "cell_type": "code",
   "execution_count": 4,
   "id": "166bf3ff",
   "metadata": {},
   "outputs": [
    {
     "name": "stdout",
     "output_type": "stream",
     "text": [
      "<class 'pandas.core.frame.DataFrame'>\n",
      "RangeIndex: 244126 entries, 0 to 244125\n",
      "Data columns (total 4 columns):\n",
      " #   Column          Non-Null Count   Dtype \n",
      "---  ------          --------------   ----- \n",
      " 0   EventName       244126 non-null  object\n",
      " 1   DeviceIDHash    244126 non-null  int64 \n",
      " 2   EventTimestamp  244126 non-null  int64 \n",
      " 3   ExpId           244126 non-null  int64 \n",
      "dtypes: int64(3), object(1)\n",
      "memory usage: 7.5+ MB\n"
     ]
    }
   ],
   "source": [
    "df.info()"
   ]
  },
  {
   "cell_type": "markdown",
   "id": "20ddcd5c",
   "metadata": {},
   "source": [
    "**Вывод:** Имеем 1 датафрейм с 4 колонками и 244126 строками, бросаются в глаза не корректные названия столбцов, в последствии заменим их"
   ]
  },
  {
   "cell_type": "markdown",
   "id": "38b77331",
   "metadata": {},
   "source": [
    "## 2. Подготовка данных"
   ]
  },
  {
   "cell_type": "markdown",
   "id": "9b494c1e",
   "metadata": {},
   "source": [
    "#### 2.1. Замена названий столбцов "
   ]
  },
  {
   "cell_type": "markdown",
   "id": "865ef641",
   "metadata": {},
   "source": [
    "Приведем все названия столбцов к нижнему змеиному регистру"
   ]
  },
  {
   "cell_type": "code",
   "execution_count": 5,
   "id": "2e831e8d",
   "metadata": {},
   "outputs": [
    {
     "data": {
      "text/html": [
       "<div>\n",
       "<style scoped>\n",
       "    .dataframe tbody tr th:only-of-type {\n",
       "        vertical-align: middle;\n",
       "    }\n",
       "\n",
       "    .dataframe tbody tr th {\n",
       "        vertical-align: top;\n",
       "    }\n",
       "\n",
       "    .dataframe thead th {\n",
       "        text-align: right;\n",
       "    }\n",
       "</style>\n",
       "<table border=\"1\" class=\"dataframe\">\n",
       "  <thead>\n",
       "    <tr style=\"text-align: right;\">\n",
       "      <th></th>\n",
       "      <th>event_name</th>\n",
       "      <th>user_id</th>\n",
       "      <th>event_datetime</th>\n",
       "      <th>group</th>\n",
       "    </tr>\n",
       "  </thead>\n",
       "  <tbody>\n",
       "    <tr>\n",
       "      <th>0</th>\n",
       "      <td>MainScreenAppear</td>\n",
       "      <td>4575588528974610257</td>\n",
       "      <td>1564029816</td>\n",
       "      <td>246</td>\n",
       "    </tr>\n",
       "    <tr>\n",
       "      <th>1</th>\n",
       "      <td>MainScreenAppear</td>\n",
       "      <td>7416695313311560658</td>\n",
       "      <td>1564053102</td>\n",
       "      <td>246</td>\n",
       "    </tr>\n",
       "    <tr>\n",
       "      <th>2</th>\n",
       "      <td>PaymentScreenSuccessful</td>\n",
       "      <td>3518123091307005509</td>\n",
       "      <td>1564054127</td>\n",
       "      <td>248</td>\n",
       "    </tr>\n",
       "    <tr>\n",
       "      <th>3</th>\n",
       "      <td>CartScreenAppear</td>\n",
       "      <td>3518123091307005509</td>\n",
       "      <td>1564054127</td>\n",
       "      <td>248</td>\n",
       "    </tr>\n",
       "    <tr>\n",
       "      <th>4</th>\n",
       "      <td>PaymentScreenSuccessful</td>\n",
       "      <td>6217807653094995999</td>\n",
       "      <td>1564055322</td>\n",
       "      <td>248</td>\n",
       "    </tr>\n",
       "  </tbody>\n",
       "</table>\n",
       "</div>"
      ],
      "text/plain": [
       "                event_name              user_id  event_datetime  group\n",
       "0         MainScreenAppear  4575588528974610257      1564029816    246\n",
       "1         MainScreenAppear  7416695313311560658      1564053102    246\n",
       "2  PaymentScreenSuccessful  3518123091307005509      1564054127    248\n",
       "3         CartScreenAppear  3518123091307005509      1564054127    248\n",
       "4  PaymentScreenSuccessful  6217807653094995999      1564055322    248"
      ]
     },
     "execution_count": 5,
     "metadata": {},
     "output_type": "execute_result"
    }
   ],
   "source": [
    "df = df.rename(columns={\"EventName\": \"event_name\", \"DeviceIDHash\": \"user_id\", \"EventTimestamp\": \"event_datetime\", \"ExpId\": \"group\"})\n",
    "df.head()"
   ]
  },
  {
   "cell_type": "markdown",
   "id": "74ac2a88",
   "metadata": {},
   "source": [
    "#### 2.2. Преобразование данных в нужные типы, обработка пропусков и дубликатов"
   ]
  },
  {
   "cell_type": "markdown",
   "id": "d811834e",
   "metadata": {},
   "source": [
    "Т.к. неккоректно введенных форматов ячеек у нас нет, то следует проверить данные на дубликаты"
   ]
  },
  {
   "cell_type": "code",
   "execution_count": 6,
   "id": "cdbd7100",
   "metadata": {},
   "outputs": [
    {
     "name": "stdout",
     "output_type": "stream",
     "text": [
      "Дубликатов обнаружено: 413\n"
     ]
    }
   ],
   "source": [
    "print(\"Дубликатов обнаружено:\", df.duplicated().sum())"
   ]
  },
  {
   "cell_type": "code",
   "execution_count": 7,
   "id": "952d1ef4",
   "metadata": {},
   "outputs": [
    {
     "name": "stdout",
     "output_type": "stream",
     "text": [
      "<class 'pandas.core.frame.DataFrame'>\n",
      "Int64Index: 243713 entries, 0 to 244125\n",
      "Data columns (total 4 columns):\n",
      " #   Column          Non-Null Count   Dtype \n",
      "---  ------          --------------   ----- \n",
      " 0   event_name      243713 non-null  object\n",
      " 1   user_id         243713 non-null  int64 \n",
      " 2   event_datetime  243713 non-null  int64 \n",
      " 3   group           243713 non-null  int64 \n",
      "dtypes: int64(3), object(1)\n",
      "memory usage: 9.3+ MB\n"
     ]
    }
   ],
   "source": [
    "df = df.drop_duplicates()\n",
    "df.info()"
   ]
  },
  {
   "cell_type": "markdown",
   "id": "9e1d0acd",
   "metadata": {},
   "source": [
    "**Вывод:** После удаления 413 дубликатов у нас остается 243713 строк(Также считаю удаление дубликатов рациональным, т.к. они не составляют и половины % от всех данных)"
   ]
  },
  {
   "cell_type": "markdown",
   "id": "fb3cb224",
   "metadata": {},
   "source": [
    "#### 2.3. Добавление столбца даты и времени, а также отдельного столбца дат"
   ]
  },
  {
   "cell_type": "markdown",
   "id": "65e5ca44",
   "metadata": {},
   "source": [
    "Добавим столбец даты и времени, а также отдельный столбец дат"
   ]
  },
  {
   "cell_type": "code",
   "execution_count": 8,
   "id": "541ccd98",
   "metadata": {},
   "outputs": [],
   "source": [
    "df['event_datetime'] = pd.to_datetime(df['event_datetime'], unit='s')\n",
    "df['date'] = df['event_datetime'].dt.strftime('%Y-%m-%d')"
   ]
  },
  {
   "cell_type": "code",
   "execution_count": 9,
   "id": "469bdfee",
   "metadata": {},
   "outputs": [
    {
     "data": {
      "text/html": [
       "<div>\n",
       "<style scoped>\n",
       "    .dataframe tbody tr th:only-of-type {\n",
       "        vertical-align: middle;\n",
       "    }\n",
       "\n",
       "    .dataframe tbody tr th {\n",
       "        vertical-align: top;\n",
       "    }\n",
       "\n",
       "    .dataframe thead th {\n",
       "        text-align: right;\n",
       "    }\n",
       "</style>\n",
       "<table border=\"1\" class=\"dataframe\">\n",
       "  <thead>\n",
       "    <tr style=\"text-align: right;\">\n",
       "      <th></th>\n",
       "      <th>event_name</th>\n",
       "      <th>user_id</th>\n",
       "      <th>event_datetime</th>\n",
       "      <th>group</th>\n",
       "      <th>date</th>\n",
       "    </tr>\n",
       "  </thead>\n",
       "  <tbody>\n",
       "    <tr>\n",
       "      <th>0</th>\n",
       "      <td>MainScreenAppear</td>\n",
       "      <td>4575588528974610257</td>\n",
       "      <td>2019-07-25 04:43:36</td>\n",
       "      <td>246</td>\n",
       "      <td>2019-07-25</td>\n",
       "    </tr>\n",
       "    <tr>\n",
       "      <th>1</th>\n",
       "      <td>MainScreenAppear</td>\n",
       "      <td>7416695313311560658</td>\n",
       "      <td>2019-07-25 11:11:42</td>\n",
       "      <td>246</td>\n",
       "      <td>2019-07-25</td>\n",
       "    </tr>\n",
       "    <tr>\n",
       "      <th>2</th>\n",
       "      <td>PaymentScreenSuccessful</td>\n",
       "      <td>3518123091307005509</td>\n",
       "      <td>2019-07-25 11:28:47</td>\n",
       "      <td>248</td>\n",
       "      <td>2019-07-25</td>\n",
       "    </tr>\n",
       "    <tr>\n",
       "      <th>3</th>\n",
       "      <td>CartScreenAppear</td>\n",
       "      <td>3518123091307005509</td>\n",
       "      <td>2019-07-25 11:28:47</td>\n",
       "      <td>248</td>\n",
       "      <td>2019-07-25</td>\n",
       "    </tr>\n",
       "    <tr>\n",
       "      <th>4</th>\n",
       "      <td>PaymentScreenSuccessful</td>\n",
       "      <td>6217807653094995999</td>\n",
       "      <td>2019-07-25 11:48:42</td>\n",
       "      <td>248</td>\n",
       "      <td>2019-07-25</td>\n",
       "    </tr>\n",
       "    <tr>\n",
       "      <th>5</th>\n",
       "      <td>CartScreenAppear</td>\n",
       "      <td>6217807653094995999</td>\n",
       "      <td>2019-07-25 11:48:43</td>\n",
       "      <td>248</td>\n",
       "      <td>2019-07-25</td>\n",
       "    </tr>\n",
       "    <tr>\n",
       "      <th>6</th>\n",
       "      <td>OffersScreenAppear</td>\n",
       "      <td>8351860793733343758</td>\n",
       "      <td>2019-07-25 14:50:42</td>\n",
       "      <td>246</td>\n",
       "      <td>2019-07-25</td>\n",
       "    </tr>\n",
       "    <tr>\n",
       "      <th>7</th>\n",
       "      <td>MainScreenAppear</td>\n",
       "      <td>5682100281902512875</td>\n",
       "      <td>2019-07-25 20:14:37</td>\n",
       "      <td>246</td>\n",
       "      <td>2019-07-25</td>\n",
       "    </tr>\n",
       "    <tr>\n",
       "      <th>8</th>\n",
       "      <td>MainScreenAppear</td>\n",
       "      <td>1850981295691852772</td>\n",
       "      <td>2019-07-25 20:31:42</td>\n",
       "      <td>247</td>\n",
       "      <td>2019-07-25</td>\n",
       "    </tr>\n",
       "    <tr>\n",
       "      <th>9</th>\n",
       "      <td>MainScreenAppear</td>\n",
       "      <td>5407636962369102641</td>\n",
       "      <td>2019-07-26 03:35:12</td>\n",
       "      <td>246</td>\n",
       "      <td>2019-07-26</td>\n",
       "    </tr>\n",
       "  </tbody>\n",
       "</table>\n",
       "</div>"
      ],
      "text/plain": [
       "                event_name              user_id      event_datetime  group  \\\n",
       "0         MainScreenAppear  4575588528974610257 2019-07-25 04:43:36    246   \n",
       "1         MainScreenAppear  7416695313311560658 2019-07-25 11:11:42    246   \n",
       "2  PaymentScreenSuccessful  3518123091307005509 2019-07-25 11:28:47    248   \n",
       "3         CartScreenAppear  3518123091307005509 2019-07-25 11:28:47    248   \n",
       "4  PaymentScreenSuccessful  6217807653094995999 2019-07-25 11:48:42    248   \n",
       "5         CartScreenAppear  6217807653094995999 2019-07-25 11:48:43    248   \n",
       "6       OffersScreenAppear  8351860793733343758 2019-07-25 14:50:42    246   \n",
       "7         MainScreenAppear  5682100281902512875 2019-07-25 20:14:37    246   \n",
       "8         MainScreenAppear  1850981295691852772 2019-07-25 20:31:42    247   \n",
       "9         MainScreenAppear  5407636962369102641 2019-07-26 03:35:12    246   \n",
       "\n",
       "         date  \n",
       "0  2019-07-25  \n",
       "1  2019-07-25  \n",
       "2  2019-07-25  \n",
       "3  2019-07-25  \n",
       "4  2019-07-25  \n",
       "5  2019-07-25  \n",
       "6  2019-07-25  \n",
       "7  2019-07-25  \n",
       "8  2019-07-25  \n",
       "9  2019-07-26  "
      ]
     },
     "execution_count": 9,
     "metadata": {},
     "output_type": "execute_result"
    }
   ],
   "source": [
    "df.head(10)"
   ]
  },
  {
   "cell_type": "markdown",
   "id": "65c37b6b",
   "metadata": {},
   "source": [
    "**Общий вывод:**\n",
    "- После удаления 413 дубликатов у нас остается 243713 строк(Также считаю удаление дубликатов рациональным, т.к. они не составляют и половины % от всех данных)\n",
    "- Добавлены ячейки с датами"
   ]
  },
  {
   "cell_type": "markdown",
   "id": "1386ec43",
   "metadata": {},
   "source": [
    "## 3. Изучение и проверка данных"
   ]
  },
  {
   "cell_type": "markdown",
   "id": "9e615f7f",
   "metadata": {},
   "source": [
    "#### 3.1. Количество событий в логе"
   ]
  },
  {
   "cell_type": "code",
   "execution_count": 10,
   "id": "8f6a0eeb",
   "metadata": {},
   "outputs": [
    {
     "name": "stdout",
     "output_type": "stream",
     "text": [
      "Событий в логе: 243713\n"
     ]
    }
   ],
   "source": [
    "print('Событий в логе:', df['user_id'].count())"
   ]
  },
  {
   "cell_type": "markdown",
   "id": "51a2d0b4",
   "metadata": {},
   "source": [
    "#### 3.2. Количество пользователей в логе"
   ]
  },
  {
   "cell_type": "code",
   "execution_count": 11,
   "id": "f3a61335",
   "metadata": {},
   "outputs": [
    {
     "name": "stdout",
     "output_type": "stream",
     "text": [
      "Пользователей в логе: 7551\n"
     ]
    }
   ],
   "source": [
    "print('Пользователей в логе:', df['user_id'].nunique())"
   ]
  },
  {
   "cell_type": "markdown",
   "id": "90685649",
   "metadata": {},
   "source": [
    "#### 3.3. Среднее число событий приходится на пользователя"
   ]
  },
  {
   "cell_type": "code",
   "execution_count": 12,
   "id": "75cfb8b2",
   "metadata": {},
   "outputs": [
    {
     "name": "stdout",
     "output_type": "stream",
     "text": [
      "В среднем событий на пользователя приходится: 20\n"
     ]
    }
   ],
   "source": [
    "print('В среднем событий на пользователя приходится:',\n",
    "      int(df.groupby('user_id')['event_name'].agg('count').median()))"
   ]
  },
  {
   "cell_type": "markdown",
   "id": "d2af7525",
   "metadata": {},
   "source": [
    "#### 3.4. Вопросы по данным"
   ]
  },
  {
   "cell_type": "markdown",
   "id": "015d454c",
   "metadata": {},
   "source": [
    "**Ответим на вопросы:**\n",
    "- Данными за какой период вы располагаете? Найдите максимальную и минимальную дату. \n",
    "- Постройте гистограмму по дате и времени. \n",
    "- Можно ли быть уверенным, что у вас одинаково полные данные за весь период? \n",
    "- Технически в логи новых дней по некоторым пользователям могут «доезжать» события из прошлого — это может «перекашивать данные». Определите, с какого момента данные полные и отбросьте более старые. \n",
    "- Данными за какой период времени вы располагаете на самом деле?"
   ]
  },
  {
   "cell_type": "code",
   "execution_count": 13,
   "id": "f85080e6",
   "metadata": {},
   "outputs": [
    {
     "name": "stdout",
     "output_type": "stream",
     "text": [
      "Логи за период с 2019-07-25 04:43:36 по 2019-08-07 21:15:17.\n"
     ]
    }
   ],
   "source": [
    "print('Логи за период с {} по {}.'.format(df['event_datetime'].min(), df['event_datetime'].max()))"
   ]
  },
  {
   "cell_type": "code",
   "execution_count": 14,
   "id": "63a558e9",
   "metadata": {
    "scrolled": false
   },
   "outputs": [
    {
     "data": {
      "image/png": "[encoded data removed]",
      "text/plain": [
       "<Figure size 1500x700 with 1 Axes>"
      ]
     },
     "metadata": {},
     "output_type": "display_data"
    }
   ],
   "source": [
    "df['event_datetime'].hist(figsize=(15, 7), bins=200)\n",
    "plt.xticks(rotation=30)\n",
    "plt.show()"
   ]
  },
  {
   "cell_type": "markdown",
   "id": "bc37d86b",
   "metadata": {},
   "source": [
    "Можно ли быть уверенным, что у вас одинаково полные данные за весь период?\n",
    "- Думаю, что глядя на гистограмму можно сделать вывод, что полные данные у нас хранятся в период с 2019-08-01 по 2019-08-07"
   ]
  },
  {
   "cell_type": "markdown",
   "id": "3e082b30",
   "metadata": {},
   "source": [
    "Технически в логи новых дней по некоторым пользователям могут «доезжать» события из прошлого — это может «перекашивать данные». Определите, с какого момента данные полные и отбросьте более старые.\n",
    "- Исходя из гистограммы следует отбросить все данные до 2019-08-01, а временной промежуток с 1 по 7 августа можно считать полным."
   ]
  },
  {
   "cell_type": "code",
   "execution_count": 15,
   "id": "f02b8cba",
   "metadata": {},
   "outputs": [
    {
     "name": "stdout",
     "output_type": "stream",
     "text": [
      "Начальная дата наблюдений 2019-07-25\n"
     ]
    }
   ],
   "source": [
    "data = df.query('date >= \"2019-08-01\"')\n",
    "print(\"Начальная дата наблюдений\", df['date'].min())"
   ]
  },
  {
   "cell_type": "markdown",
   "id": "6107c6f3",
   "metadata": {},
   "source": [
    "**Выводы:**\n",
    "- Событий в логе: 243713\n",
    "- Пользователей в логе: 7551\n",
    "- Теперь мы располагаем новым временным промежутком: 1-7 августа 2019 года.\n",
    "- В среднем событий на пользователя приходится: 20\n"
   ]
  },
  {
   "cell_type": "markdown",
   "id": "c1575879",
   "metadata": {},
   "source": [
    "#### 3.5. Количество событий и пользователей которое вы потеряли, отбросив старые данные"
   ]
  },
  {
   "cell_type": "code",
   "execution_count": 16,
   "id": "96625120",
   "metadata": {},
   "outputs": [
    {
     "name": "stdout",
     "output_type": "stream",
     "text": [
      "Потеряли событий: 2826\n",
      "В процентах: 1.16\n",
      "Потеряли пользователей: 17\n",
      "Потеряли пользователей в процентах: 0.23\n"
     ]
    }
   ],
   "source": [
    "print('Потеряли событий:', len(df) - len(data))\n",
    "print('В процентах:', round((len(df) - len(data)) / len(df) * 100, 2))\n",
    "print(\"Потеряли пользователей:\", df['user_id'].nunique() - data['user_id'].nunique())\n",
    "print(\"Потеряли пользователей в процентах:\", round((df['user_id'].nunique() - data['user_id'].nunique()) / df['user_id'].nunique() * 100, 2))"
   ]
  },
  {
   "cell_type": "markdown",
   "id": "ba80cc94",
   "metadata": {},
   "source": [
    "**Вывод:** \n",
    "- После корректировки дат потеряли 2826 событий, что составляет 1.16 процента\n",
    "- После корректировки дат потеряли 17 пользователей, что составляет 0.23 процента"
   ]
  },
  {
   "cell_type": "markdown",
   "id": "647b26db",
   "metadata": {},
   "source": [
    "#### 3.6. Проверка наличия пользователей из всех трёх экспериментальных групп"
   ]
  },
  {
   "cell_type": "code",
   "execution_count": 17,
   "id": "da7f23b1",
   "metadata": {},
   "outputs": [
    {
     "data": {
      "text/html": [
       "<div>\n",
       "<style scoped>\n",
       "    .dataframe tbody tr th:only-of-type {\n",
       "        vertical-align: middle;\n",
       "    }\n",
       "\n",
       "    .dataframe tbody tr th {\n",
       "        vertical-align: top;\n",
       "    }\n",
       "\n",
       "    .dataframe thead th {\n",
       "        text-align: right;\n",
       "    }\n",
       "</style>\n",
       "<table border=\"1\" class=\"dataframe\">\n",
       "  <thead>\n",
       "    <tr style=\"text-align: right;\">\n",
       "      <th></th>\n",
       "      <th>user_id</th>\n",
       "    </tr>\n",
       "    <tr>\n",
       "      <th>group</th>\n",
       "      <th></th>\n",
       "    </tr>\n",
       "  </thead>\n",
       "  <tbody>\n",
       "    <tr>\n",
       "      <th>246</th>\n",
       "      <td>2484</td>\n",
       "    </tr>\n",
       "    <tr>\n",
       "      <th>247</th>\n",
       "      <td>2513</td>\n",
       "    </tr>\n",
       "    <tr>\n",
       "      <th>248</th>\n",
       "      <td>2537</td>\n",
       "    </tr>\n",
       "  </tbody>\n",
       "</table>\n",
       "</div>"
      ],
      "text/plain": [
       "       user_id\n",
       "group         \n",
       "246       2484\n",
       "247       2513\n",
       "248       2537"
      ]
     },
     "execution_count": 17,
     "metadata": {},
     "output_type": "execute_result"
    }
   ],
   "source": [
    "data.groupby('group').agg({'user_id': 'nunique'})"
   ]
  },
  {
   "cell_type": "markdown",
   "id": "c039e7ef",
   "metadata": {},
   "source": [
    "**Вывод:** \n",
    "- Пользователи из всех трех  экспериментальных групп остались"
   ]
  },
  {
   "cell_type": "markdown",
   "id": "cd61ee53",
   "metadata": {},
   "source": [
    "**Общий вывод:**\n",
    "- Событий в логе: 243713\n",
    "- Пользователей в логе: 7551\n",
    "- Теперь мы располагаем новым временным промежутком: 1-7 августа 2019 года.\n",
    "- В среднем событий на пользователя приходится: 20\n",
    "- После корректировки дат потеряли 2826 событий, что составляет 1.16 процента\n",
    "- После корректировки дат потеряли 17 пользователей, что составляет 0.23 процента\n",
    "- Пользователи из всех трех экспериментальных групп остались"
   ]
  },
  {
   "cell_type": "markdown",
   "id": "1a90a84d",
   "metadata": {},
   "source": [
    "## 4. Изучиение воронки событий"
   ]
  },
  {
   "cell_type": "markdown",
   "id": "aa076de2",
   "metadata": {},
   "source": [
    "#### 4.1. Какие события есть в логах, как часто они встречаются"
   ]
  },
  {
   "cell_type": "markdown",
   "id": "cd243bd1",
   "metadata": {},
   "source": [
    "Посмотрим, какие события есть в логах, как часто они встречаются. Отсортируем события по частоте."
   ]
  },
  {
   "cell_type": "code",
   "execution_count": 18,
   "id": "2ebce7d4",
   "metadata": {},
   "outputs": [
    {
     "data": {
      "text/plain": [
       "event_name\n",
       "MainScreenAppear           117328\n",
       "OffersScreenAppear          46333\n",
       "CartScreenAppear            42303\n",
       "PaymentScreenSuccessful     33918\n",
       "Tutorial                     1005\n",
       "Name: event_name, dtype: int64"
      ]
     },
     "execution_count": 18,
     "metadata": {},
     "output_type": "execute_result"
    }
   ],
   "source": [
    "data.groupby('event_name')['event_name'].count().sort_values(ascending=False)"
   ]
  },
  {
   "cell_type": "markdown",
   "id": "5f7226bc",
   "metadata": {},
   "source": [
    "**Вывод:**\n",
    "- Встречаются 5 событий, самое распространенное это **MainScreenAppear**, а самое редкое **Tutorial**"
   ]
  },
  {
   "cell_type": "markdown",
   "id": "a235bb7c",
   "metadata": {},
   "source": [
    "#### 4.2. Сколько пользователей совершали каждое из этих событий"
   ]
  },
  {
   "cell_type": "markdown",
   "id": "68ce5c81",
   "metadata": {},
   "source": [
    "Посчитаем, сколько пользователей совершали каждое из этих событий. Отсортируем события по числу пользователей. Посчитаем долю пользователей, которые хоть раз совершали событие."
   ]
  },
  {
   "cell_type": "code",
   "execution_count": 19,
   "id": "33819d86",
   "metadata": {},
   "outputs": [
    {
     "data": {
      "text/html": [
       "<div>\n",
       "<style scoped>\n",
       "    .dataframe tbody tr th:only-of-type {\n",
       "        vertical-align: middle;\n",
       "    }\n",
       "\n",
       "    .dataframe tbody tr th {\n",
       "        vertical-align: top;\n",
       "    }\n",
       "\n",
       "    .dataframe thead th {\n",
       "        text-align: right;\n",
       "    }\n",
       "</style>\n",
       "<table border=\"1\" class=\"dataframe\">\n",
       "  <thead>\n",
       "    <tr style=\"text-align: right;\">\n",
       "      <th></th>\n",
       "      <th>event_name</th>\n",
       "      <th>users</th>\n",
       "      <th>percent</th>\n",
       "    </tr>\n",
       "  </thead>\n",
       "  <tbody>\n",
       "    <tr>\n",
       "      <th>0</th>\n",
       "      <td>MainScreenAppear</td>\n",
       "      <td>7439</td>\n",
       "      <td>0.985168</td>\n",
       "    </tr>\n",
       "    <tr>\n",
       "      <th>1</th>\n",
       "      <td>OffersScreenAppear</td>\n",
       "      <td>4613</td>\n",
       "      <td>0.610912</td>\n",
       "    </tr>\n",
       "    <tr>\n",
       "      <th>2</th>\n",
       "      <td>CartScreenAppear</td>\n",
       "      <td>3749</td>\n",
       "      <td>0.496491</td>\n",
       "    </tr>\n",
       "    <tr>\n",
       "      <th>3</th>\n",
       "      <td>PaymentScreenSuccessful</td>\n",
       "      <td>3547</td>\n",
       "      <td>0.469739</td>\n",
       "    </tr>\n",
       "    <tr>\n",
       "      <th>4</th>\n",
       "      <td>Tutorial</td>\n",
       "      <td>847</td>\n",
       "      <td>0.112171</td>\n",
       "    </tr>\n",
       "  </tbody>\n",
       "</table>\n",
       "</div>"
      ],
      "text/plain": [
       "                event_name  users   percent\n",
       "0         MainScreenAppear   7439  0.985168\n",
       "1       OffersScreenAppear   4613  0.610912\n",
       "2         CartScreenAppear   3749  0.496491\n",
       "3  PaymentScreenSuccessful   3547  0.469739\n",
       "4                 Tutorial    847  0.112171"
      ]
     },
     "execution_count": 19,
     "metadata": {},
     "output_type": "execute_result"
    }
   ],
   "source": [
    "events = df.groupby('event_name').agg({'user_id': 'nunique'}).sort_values('user_id', ascending=False).reset_index()\n",
    "events.columns = ['event_name', 'users']\n",
    "events['percent'] = events['users'] / df['user_id'].nunique()\n",
    "events"
   ]
  },
  {
   "cell_type": "markdown",
   "id": "24239453",
   "metadata": {},
   "source": [
    "**Вывод:**\n",
    "- 98.5% пользователей доходят до главного экрана, затем предложение появляется у 61%. До оплаты доходят 49.6%, а успешно оплачивают 46.9%. Где-то теряется 2.7% пользователей."
   ]
  },
  {
   "cell_type": "markdown",
   "id": "933b09c3",
   "metadata": {},
   "source": [
    "#### 4.3. В каком порядке происходят события"
   ]
  },
  {
   "cell_type": "markdown",
   "id": "9c7f5737",
   "metadata": {},
   "source": [
    "Предположим, в каком порядке происходят события. Все ли они выстраиваются в последовательную цепочку?"
   ]
  },
  {
   "cell_type": "code",
   "execution_count": 20,
   "id": "641f14bb",
   "metadata": {},
   "outputs": [
    {
     "data": {
      "image/png": "[encoded data removed]",
      "text/plain": [
       "<Figure size 640x480 with 1 Axes>"
      ]
     },
     "metadata": {},
     "output_type": "display_data"
    }
   ],
   "source": [
    "events.sort_values(by='users').plot.barh(stacked=True, ylabel='event_name')\n",
    "plt.title('Порядок событий согласно количеству пользователей.')\n",
    "plt.show()"
   ]
  },
  {
   "cell_type": "markdown",
   "id": "c55e5abb",
   "metadata": {},
   "source": [
    "**Вывод:**\n",
    "- Итак, можно сказать, что туториал не входит в цепочку событий, он может быть доступен на всех этапах. Следовательно Составить цепочку событий можно так: **MainScreenAppear** - **OffersScreenAppear** - **CartScreenAppear** - **PaymentScreenSuccessful**"
   ]
  },
  {
   "cell_type": "markdown",
   "id": "83e493b1",
   "metadata": {},
   "source": [
    "#### 4.4. Какая доля пользователей проходит на следующий шаг воронки (от числа пользователей на предыдущем)"
   ]
  },
  {
   "cell_type": "markdown",
   "id": "0e78c3f9",
   "metadata": {},
   "source": [
    "По воронке событий посчитаем, какая доля пользователей проходит на следующий шаг воронки (от числа пользователей на предыдущем). То есть для последовательности событий A → B → C посчитаем отношение числа пользователей с событием B к количеству пользователей с событием A, а также отношение числа пользователей с событием C к количеству пользователей с событием B. На каком шаге теряете больше всего пользователей?"
   ]
  },
  {
   "cell_type": "code",
   "execution_count": 21,
   "id": "43b12c0c",
   "metadata": {},
   "outputs": [
    {
     "data": {
      "text/html": [
       "<div>\n",
       "<style scoped>\n",
       "    .dataframe tbody tr th:only-of-type {\n",
       "        vertical-align: middle;\n",
       "    }\n",
       "\n",
       "    .dataframe tbody tr th {\n",
       "        vertical-align: top;\n",
       "    }\n",
       "\n",
       "    .dataframe thead th {\n",
       "        text-align: right;\n",
       "    }\n",
       "</style>\n",
       "<table border=\"1\" class=\"dataframe\">\n",
       "  <thead>\n",
       "    <tr style=\"text-align: right;\">\n",
       "      <th></th>\n",
       "      <th>event_name</th>\n",
       "      <th>percent</th>\n",
       "      <th>conversion_per_step</th>\n",
       "    </tr>\n",
       "  </thead>\n",
       "  <tbody>\n",
       "    <tr>\n",
       "      <th>0</th>\n",
       "      <td>MainScreenAppear</td>\n",
       "      <td>0.985168</td>\n",
       "      <td>100.000000</td>\n",
       "    </tr>\n",
       "    <tr>\n",
       "      <th>1</th>\n",
       "      <td>OffersScreenAppear</td>\n",
       "      <td>0.610912</td>\n",
       "      <td>62.011023</td>\n",
       "    </tr>\n",
       "    <tr>\n",
       "      <th>2</th>\n",
       "      <td>CartScreenAppear</td>\n",
       "      <td>0.496491</td>\n",
       "      <td>81.270323</td>\n",
       "    </tr>\n",
       "    <tr>\n",
       "      <th>3</th>\n",
       "      <td>PaymentScreenSuccessful</td>\n",
       "      <td>0.469739</td>\n",
       "      <td>94.611897</td>\n",
       "    </tr>\n",
       "  </tbody>\n",
       "</table>\n",
       "</div>"
      ],
      "text/plain": [
       "                event_name   percent  conversion_per_step\n",
       "0         MainScreenAppear  0.985168           100.000000\n",
       "1       OffersScreenAppear  0.610912            62.011023\n",
       "2         CartScreenAppear  0.496491            81.270323\n",
       "3  PaymentScreenSuccessful  0.469739            94.611897"
      ]
     },
     "execution_count": 21,
     "metadata": {},
     "output_type": "execute_result"
    }
   ],
   "source": [
    "conversion = events[['event_name', 'percent']].query('event_name != \"Tutorial\"')\n",
    "for index in range(0, len(conversion)):\n",
    "    if index == 0:\n",
    "        conversion.loc[index, 'conversion_per_step'] = 100\n",
    "    else:\n",
    "        conversion.loc[index, 'conversion_per_step'] = conversion.loc[index, 'percent'] * 100 / conversion.loc[index - 1, 'percent']\n",
    "conversion"
   ]
  },
  {
   "cell_type": "markdown",
   "id": "a9d6ba1a",
   "metadata": {},
   "source": [
    "**Вывод:**\n",
    "- Самые большие потери происходят при переходе от Основного экрана до экрана с предложением\n",
    "- Также между заполнением данных карты и оплатой теряется практически 200 человек"
   ]
  },
  {
   "cell_type": "markdown",
   "id": "3de3b4d8",
   "metadata": {},
   "source": [
    "#### 4.5. Доля пользователей доходит от первого события до оплаты"
   ]
  },
  {
   "cell_type": "code",
   "execution_count": 22,
   "id": "af3600a8",
   "metadata": {},
   "outputs": [
    {
     "data": {
      "text/html": [
       "<div>\n",
       "<style scoped>\n",
       "    .dataframe tbody tr th:only-of-type {\n",
       "        vertical-align: middle;\n",
       "    }\n",
       "\n",
       "    .dataframe tbody tr th {\n",
       "        vertical-align: top;\n",
       "    }\n",
       "\n",
       "    .dataframe thead th {\n",
       "        text-align: right;\n",
       "    }\n",
       "</style>\n",
       "<table border=\"1\" class=\"dataframe\">\n",
       "  <thead>\n",
       "    <tr style=\"text-align: right;\">\n",
       "      <th></th>\n",
       "      <th>event_name</th>\n",
       "      <th>percent</th>\n",
       "      <th>conversion_per_step</th>\n",
       "      <th>conversion</th>\n",
       "    </tr>\n",
       "  </thead>\n",
       "  <tbody>\n",
       "    <tr>\n",
       "      <th>0</th>\n",
       "      <td>MainScreenAppear</td>\n",
       "      <td>0.985168</td>\n",
       "      <td>100.000000</td>\n",
       "      <td>100.000000</td>\n",
       "    </tr>\n",
       "    <tr>\n",
       "      <th>1</th>\n",
       "      <td>OffersScreenAppear</td>\n",
       "      <td>0.610912</td>\n",
       "      <td>62.011023</td>\n",
       "      <td>62.011023</td>\n",
       "    </tr>\n",
       "    <tr>\n",
       "      <th>2</th>\n",
       "      <td>CartScreenAppear</td>\n",
       "      <td>0.496491</td>\n",
       "      <td>81.270323</td>\n",
       "      <td>50.396559</td>\n",
       "    </tr>\n",
       "    <tr>\n",
       "      <th>3</th>\n",
       "      <td>PaymentScreenSuccessful</td>\n",
       "      <td>0.469739</td>\n",
       "      <td>94.611897</td>\n",
       "      <td>47.681140</td>\n",
       "    </tr>\n",
       "  </tbody>\n",
       "</table>\n",
       "</div>"
      ],
      "text/plain": [
       "                event_name   percent  conversion_per_step  conversion\n",
       "0         MainScreenAppear  0.985168           100.000000  100.000000\n",
       "1       OffersScreenAppear  0.610912            62.011023   62.011023\n",
       "2         CartScreenAppear  0.496491            81.270323   50.396559\n",
       "3  PaymentScreenSuccessful  0.469739            94.611897   47.681140"
      ]
     },
     "execution_count": 22,
     "metadata": {},
     "output_type": "execute_result"
    }
   ],
   "source": [
    "for index in range(0, len(conversion)):\n",
    "    if index == 0:\n",
    "        conversion.loc[index, 'conversion'] = 100\n",
    "    else:\n",
    "        conversion.loc[index, 'conversion'] = conversion.loc[index, 'percent'] * 100 / conversion.loc[0, 'percent']\n",
    "conversion"
   ]
  },
  {
   "cell_type": "markdown",
   "id": "2777b5fe",
   "metadata": {},
   "source": [
    "**Вывод:**\n",
    "- От страницы главного экрана до оплаты доходит только 47.68% от всех пользователей"
   ]
  },
  {
   "cell_type": "markdown",
   "id": "7c6d8f8d",
   "metadata": {},
   "source": [
    "**Общий вывод:**\n",
    "- Встречаются 5 событий, самое распространенное это MainScreenAppear, а самое редкое Tutorial\n",
    "- 98.5% пользователей доходят до главного экрана, затем предложение появляется у 61%. До оплаты доходят 49.6%, а успешно оплачивают 46.9%. Где-то теряется 2.7% пользователей.\n",
    "- Можно сказать, что туториал не входит в цепочку событий, он может быть доступен на всех этапах. Следовательно Составить цепочку событий можно так: MainScreenAppear - OffersScreenAppear - CartScreenAppear - PaymentScreenSuccessful\n",
    "- Самые большие потери происходят при переходе от Основного экрана до экрана с предложением\n",
    "- Также между заполнением данных карты и оплатой теряется практически 200 человек\n",
    "- От страницы главного экрана до оплаты доходит только 47.68% от всех пользователей"
   ]
  },
  {
   "cell_type": "markdown",
   "id": "c65232c1",
   "metadata": {},
   "source": [
    "## 5. Изучение результатов эксперимент"
   ]
  },
  {
   "cell_type": "markdown",
   "id": "d91f950c",
   "metadata": {},
   "source": [
    "#### 5.1. Сколько пользователей в каждой экспериментальной группе?"
   ]
  },
  {
   "cell_type": "code",
   "execution_count": 23,
   "id": "3c69b409",
   "metadata": {},
   "outputs": [
    {
     "data": {
      "text/html": [
       "<div>\n",
       "<style scoped>\n",
       "    .dataframe tbody tr th:only-of-type {\n",
       "        vertical-align: middle;\n",
       "    }\n",
       "\n",
       "    .dataframe tbody tr th {\n",
       "        vertical-align: top;\n",
       "    }\n",
       "\n",
       "    .dataframe thead th {\n",
       "        text-align: right;\n",
       "    }\n",
       "</style>\n",
       "<table border=\"1\" class=\"dataframe\">\n",
       "  <thead>\n",
       "    <tr style=\"text-align: right;\">\n",
       "      <th></th>\n",
       "      <th>user_id</th>\n",
       "    </tr>\n",
       "    <tr>\n",
       "      <th>group</th>\n",
       "      <th></th>\n",
       "    </tr>\n",
       "  </thead>\n",
       "  <tbody>\n",
       "    <tr>\n",
       "      <th>246</th>\n",
       "      <td>2484</td>\n",
       "    </tr>\n",
       "    <tr>\n",
       "      <th>247</th>\n",
       "      <td>2513</td>\n",
       "    </tr>\n",
       "    <tr>\n",
       "      <th>248</th>\n",
       "      <td>2537</td>\n",
       "    </tr>\n",
       "  </tbody>\n",
       "</table>\n",
       "</div>"
      ],
      "text/plain": [
       "       user_id\n",
       "group         \n",
       "246       2484\n",
       "247       2513\n",
       "248       2537"
      ]
     },
     "execution_count": 23,
     "metadata": {},
     "output_type": "execute_result"
    }
   ],
   "source": [
    "data.groupby('group').agg({'user_id': 'nunique'})"
   ]
  },
  {
   "cell_type": "markdown",
   "id": "2d92bc90",
   "metadata": {},
   "source": [
    "**Вывод:**\n",
    "- В группе 246 - 2484 пользователей\n",
    "- В группе 247 - 2513 пользователей\n",
    "- В группе 248 - 2537 пользователей"
   ]
  },
  {
   "cell_type": "markdown",
   "id": "b4aa1035",
   "metadata": {},
   "source": [
    "#### 5.2. Проверка, находят ли статистические критерии разницу между выборками 246 и 247."
   ]
  },
  {
   "cell_type": "markdown",
   "id": "3707d04e",
   "metadata": {},
   "source": [
    "Есть 2 контрольные группы для А/А-эксперимента, чтобы проверить корректность всех механизмов и расчётов. Проверим, находят ли статистические критерии разницу между выборками 246 и 247"
   ]
  },
  {
   "cell_type": "code",
   "execution_count": 24,
   "id": "9a826d40",
   "metadata": {},
   "outputs": [
    {
     "data": {
      "text/html": [
       "<div>\n",
       "<style scoped>\n",
       "    .dataframe tbody tr th:only-of-type {\n",
       "        vertical-align: middle;\n",
       "    }\n",
       "\n",
       "    .dataframe tbody tr th {\n",
       "        vertical-align: top;\n",
       "    }\n",
       "\n",
       "    .dataframe thead th {\n",
       "        text-align: right;\n",
       "    }\n",
       "</style>\n",
       "<table border=\"1\" class=\"dataframe\">\n",
       "  <thead>\n",
       "    <tr style=\"text-align: right;\">\n",
       "      <th></th>\n",
       "      <th>count_users</th>\n",
       "      <th>share_users</th>\n",
       "    </tr>\n",
       "    <tr>\n",
       "      <th>group</th>\n",
       "      <th></th>\n",
       "      <th></th>\n",
       "    </tr>\n",
       "  </thead>\n",
       "  <tbody>\n",
       "    <tr>\n",
       "      <th>246</th>\n",
       "      <td>2456</td>\n",
       "      <td>0.986742</td>\n",
       "    </tr>\n",
       "    <tr>\n",
       "      <th>247</th>\n",
       "      <td>2482</td>\n",
       "      <td>0.984921</td>\n",
       "    </tr>\n",
       "  </tbody>\n",
       "</table>\n",
       "</div>"
      ],
      "text/plain": [
       "       count_users  share_users\n",
       "group                          \n",
       "246           2456     0.986742\n",
       "247           2482     0.984921"
      ]
     },
     "execution_count": 24,
     "metadata": {},
     "output_type": "execute_result"
    }
   ],
   "source": [
    "MainScreenAppear = df.query('event_name == \"MainScreenAppear\" & (group == 246 | group == 247)').groupby('group').agg({'user_id':'nunique'})\n",
    "MainScreenAppear.columns = ['count_users']\n",
    "MainScreenAppear_246 = df.query('group == 246')['user_id'].nunique()\n",
    "MainScreenAppear_247 = df.query('group == 247')['user_id'].nunique()\n",
    "MainScreenAppear.loc[246, 'share_users'] = MainScreenAppear.loc[246, 'count_users'] / MainScreenAppear_246\n",
    "MainScreenAppear.loc[247, 'share_users'] = MainScreenAppear.loc[247, 'count_users'] / MainScreenAppear_247\n",
    "MainScreenAppear"
   ]
  },
  {
   "cell_type": "code",
   "execution_count": 25,
   "id": "d4023b1d",
   "metadata": {},
   "outputs": [
    {
     "data": {
      "text/plain": [
       "0.9867416633186018"
      ]
     },
     "execution_count": 25,
     "metadata": {},
     "output_type": "execute_result"
    }
   ],
   "source": [
    "MainScreenAppear['share_users'].loc[246]"
   ]
  },
  {
   "cell_type": "code",
   "execution_count": 26,
   "id": "486e1f2f",
   "metadata": {},
   "outputs": [
    {
     "name": "stdout",
     "output_type": "stream",
     "text": [
      "Разница между группами 246 и 247 составляет: 0.002\n"
     ]
    }
   ],
   "source": [
    "print('Разница между группами 246 и 247 составляет:', round(MainScreenAppear['share_users'].loc[246]-MainScreenAppear['share_users'].loc[247], 3))"
   ]
  },
  {
   "cell_type": "code",
   "execution_count": 27,
   "id": "4fee3604",
   "metadata": {},
   "outputs": [
    {
     "data": {
      "text/html": [
       "<div>\n",
       "<style scoped>\n",
       "    .dataframe tbody tr th:only-of-type {\n",
       "        vertical-align: middle;\n",
       "    }\n",
       "\n",
       "    .dataframe tbody tr th {\n",
       "        vertical-align: top;\n",
       "    }\n",
       "\n",
       "    .dataframe thead th {\n",
       "        text-align: right;\n",
       "    }\n",
       "</style>\n",
       "<table border=\"1\" class=\"dataframe\">\n",
       "  <thead>\n",
       "    <tr style=\"text-align: right;\">\n",
       "      <th></th>\n",
       "      <th>count_users</th>\n",
       "      <th>share_users</th>\n",
       "    </tr>\n",
       "    <tr>\n",
       "      <th>group</th>\n",
       "      <th></th>\n",
       "      <th></th>\n",
       "    </tr>\n",
       "  </thead>\n",
       "  <tbody>\n",
       "    <tr>\n",
       "      <th>246</th>\n",
       "      <td>1545</td>\n",
       "      <td>0.620731</td>\n",
       "    </tr>\n",
       "    <tr>\n",
       "      <th>247</th>\n",
       "      <td>1530</td>\n",
       "      <td>0.607143</td>\n",
       "    </tr>\n",
       "  </tbody>\n",
       "</table>\n",
       "</div>"
      ],
      "text/plain": [
       "       count_users  share_users\n",
       "group                          \n",
       "246           1545     0.620731\n",
       "247           1530     0.607143"
      ]
     },
     "execution_count": 27,
     "metadata": {},
     "output_type": "execute_result"
    }
   ],
   "source": [
    "OffersScreenAppear = df.query('event_name == \"OffersScreenAppear\" & (group == 246 | group == 247)').groupby('group').agg({'user_id':'nunique'})\n",
    "OffersScreenAppear.columns = ['count_users']\n",
    "OffersScreenAppear_246 = df.query('group == 246')['user_id'].nunique()\n",
    "OffersScreenAppear_247 = df.query('group == 247')['user_id'].nunique()\n",
    "OffersScreenAppear.loc[246, 'share_users'] = OffersScreenAppear.loc[246, 'count_users'] / OffersScreenAppear_246\n",
    "OffersScreenAppear.loc[247, 'share_users'] = OffersScreenAppear.loc[247, 'count_users'] / OffersScreenAppear_247\n",
    "OffersScreenAppear"
   ]
  },
  {
   "cell_type": "code",
   "execution_count": 28,
   "id": "751426ff",
   "metadata": {},
   "outputs": [
    {
     "name": "stdout",
     "output_type": "stream",
     "text": [
      "Разница между группами 246 и 247 составляет: 0.014\n"
     ]
    }
   ],
   "source": [
    "print('Разница между группами 246 и 247 составляет:', round(OffersScreenAppear['share_users'].loc[246]-OffersScreenAppear['share_users'].loc[247], 3))"
   ]
  },
  {
   "cell_type": "code",
   "execution_count": 29,
   "id": "8461d330",
   "metadata": {},
   "outputs": [
    {
     "data": {
      "text/html": [
       "<div>\n",
       "<style scoped>\n",
       "    .dataframe tbody tr th:only-of-type {\n",
       "        vertical-align: middle;\n",
       "    }\n",
       "\n",
       "    .dataframe tbody tr th {\n",
       "        vertical-align: top;\n",
       "    }\n",
       "\n",
       "    .dataframe thead th {\n",
       "        text-align: right;\n",
       "    }\n",
       "</style>\n",
       "<table border=\"1\" class=\"dataframe\">\n",
       "  <thead>\n",
       "    <tr style=\"text-align: right;\">\n",
       "      <th></th>\n",
       "      <th>count_users</th>\n",
       "      <th>share_users</th>\n",
       "    </tr>\n",
       "    <tr>\n",
       "      <th>group</th>\n",
       "      <th></th>\n",
       "      <th></th>\n",
       "    </tr>\n",
       "  </thead>\n",
       "  <tbody>\n",
       "    <tr>\n",
       "      <th>246</th>\n",
       "      <td>1270</td>\n",
       "      <td>0.510245</td>\n",
       "    </tr>\n",
       "    <tr>\n",
       "      <th>247</th>\n",
       "      <td>1240</td>\n",
       "      <td>0.492063</td>\n",
       "    </tr>\n",
       "  </tbody>\n",
       "</table>\n",
       "</div>"
      ],
      "text/plain": [
       "       count_users  share_users\n",
       "group                          \n",
       "246           1270     0.510245\n",
       "247           1240     0.492063"
      ]
     },
     "execution_count": 29,
     "metadata": {},
     "output_type": "execute_result"
    }
   ],
   "source": [
    "CartScreenAppear = df.query('event_name == \"CartScreenAppear\" & (group == 246 | group == 247)').groupby('group').agg({'user_id':'nunique'})\n",
    "CartScreenAppear.columns = ['count_users']\n",
    "CartScreenAppear_246 = df.query('group == 246')['user_id'].nunique()\n",
    "CartScreenAppear_247 = df.query('group == 247')['user_id'].nunique()\n",
    "CartScreenAppear.loc[246, 'share_users'] = CartScreenAppear.loc[246, 'count_users'] / CartScreenAppear_246\n",
    "CartScreenAppear.loc[247, 'share_users'] = CartScreenAppear.loc[247, 'count_users'] / CartScreenAppear_247\n",
    "CartScreenAppear"
   ]
  },
  {
   "cell_type": "code",
   "execution_count": 30,
   "id": "d030fd6c",
   "metadata": {},
   "outputs": [
    {
     "name": "stdout",
     "output_type": "stream",
     "text": [
      "Разница между группами 246 и 247 составляет: 0.018\n"
     ]
    }
   ],
   "source": [
    "print('Разница между группами 246 и 247 составляет:', round(CartScreenAppear['share_users'].loc[246]-CartScreenAppear['share_users'].loc[247], 3))"
   ]
  },
  {
   "cell_type": "code",
   "execution_count": 31,
   "id": "598933cf",
   "metadata": {},
   "outputs": [
    {
     "data": {
      "text/html": [
       "<style type=\"text/css\">\n",
       "</style>\n",
       "<table id=\"T_2baf4\">\n",
       "  <thead>\n",
       "    <tr>\n",
       "      <th class=\"blank level0\" >&nbsp;</th>\n",
       "      <th id=\"T_2baf4_level0_col0\" class=\"col_heading level0 col0\" >count_users</th>\n",
       "      <th id=\"T_2baf4_level0_col1\" class=\"col_heading level0 col1\" >share_users</th>\n",
       "    </tr>\n",
       "    <tr>\n",
       "      <th class=\"index_name level0\" >group</th>\n",
       "      <th class=\"blank col0\" >&nbsp;</th>\n",
       "      <th class=\"blank col1\" >&nbsp;</th>\n",
       "    </tr>\n",
       "  </thead>\n",
       "  <tbody>\n",
       "    <tr>\n",
       "      <th id=\"T_2baf4_level0_row0\" class=\"row_heading level0 row0\" >246</th>\n",
       "      <td id=\"T_2baf4_row0_col0\" class=\"data row0 col0\" >1202</td>\n",
       "      <td id=\"T_2baf4_row0_col1\" class=\"data row0 col1\" >0.482925</td>\n",
       "    </tr>\n",
       "    <tr>\n",
       "      <th id=\"T_2baf4_level0_row1\" class=\"row_heading level0 row1\" >247</th>\n",
       "      <td id=\"T_2baf4_row1_col0\" class=\"data row1 col0\" >1160</td>\n",
       "      <td id=\"T_2baf4_row1_col1\" class=\"data row1 col1\" >0.460317</td>\n",
       "    </tr>\n",
       "  </tbody>\n",
       "</table>\n"
      ],
      "text/plain": [
       "<pandas.io.formats.style.Styler at 0x2a4b56bba60>"
      ]
     },
     "execution_count": 31,
     "metadata": {},
     "output_type": "execute_result"
    }
   ],
   "source": [
    "PaymentScreenSuccessful = df.query('event_name == \"PaymentScreenSuccessful\" & (group == 246 | group == 247)').groupby('group').agg({'user_id':'nunique'})\n",
    "PaymentScreenSuccessful.columns = ['count_users']\n",
    "PaymentScreenSuccessful_246 = df.query('group == 246')['user_id'].nunique()\n",
    "PaymentScreenSuccessful_247 = df.query('group == 247')['user_id'].nunique()\n",
    "PaymentScreenSuccessful.loc[246, 'share_users'] = PaymentScreenSuccessful.loc[246, 'count_users'] / PaymentScreenSuccessful_246\n",
    "PaymentScreenSuccessful.loc[247, 'share_users'] = PaymentScreenSuccessful.loc[247, 'count_users'] / PaymentScreenSuccessful_247\n",
    "PaymentScreenSuccessful.style"
   ]
  },
  {
   "cell_type": "code",
   "execution_count": 32,
   "id": "c93f7fa1",
   "metadata": {},
   "outputs": [
    {
     "name": "stdout",
     "output_type": "stream",
     "text": [
      "Разница между группами 246 и 247 составляет: 0.023\n"
     ]
    }
   ],
   "source": [
    "print('Разница между группами 246 и 247 составляет:', round(PaymentScreenSuccessful['share_users'].loc[246]-PaymentScreenSuccessful['share_users'].loc[247], 3))"
   ]
  },
  {
   "cell_type": "markdown",
   "id": "d8229a86",
   "metadata": {},
   "source": [
    "**Вывод:**\n",
    "- Максимальная разница по каждому событию составляет 0.02%, что говорит о практически нулевой разницы в выборках"
   ]
  },
  {
   "cell_type": "markdown",
   "id": "d06c0026",
   "metadata": {},
   "source": [
    "#### 5.3. Самое популярное событие"
   ]
  },
  {
   "cell_type": "markdown",
   "id": "81319ac6",
   "metadata": {},
   "source": [
    "Выберем самое популярное событие. Посчитаем число пользователей, совершивших это событие в каждой из контрольных групп. Посчитаем долю пользователей, совершивших это событие. Проверим, будет ли отличие между группами статистически достоверным. Проделаем то же самое для всех других событий (удобно обернуть проверку в отдельную функцию). Можно ли сказать, что разбиение на группы работает корректно?"
   ]
  },
  {
   "cell_type": "markdown",
   "id": "82f17f24",
   "metadata": {},
   "source": [
    "**Установим нулевую и альтернативную гипотезы:**\n",
    "- Нулевая: статистических различий между данными нет\n",
    "- Альтернативная: статистические различия между данными есть"
   ]
  },
  {
   "cell_type": "code",
   "execution_count": 33,
   "id": "c22ece12",
   "metadata": {},
   "outputs": [],
   "source": [
    "# напишем функцию для автоматизации теста\n",
    "def test(group1, group2, event, alpha):\n",
    "\n",
    "    def successes_trials(group1, group2, event):\n",
    "    \n",
    "        successes = np.array([data.query(f'group == {group1} & event_name == \"{event}\"')['user_id'].nunique(),\\\n",
    "                          data.query(f'group == {group2} & event_name == \"{event}\"')['user_id'].nunique()])\n",
    "\n",
    "        trials = np.array([data.query(f'group == {group1}')['user_id'].nunique(),\\\n",
    "                           data.query(f'group == {group2}')['user_id'].nunique()])\n",
    "        return successes, trials\n",
    "    \n",
    "    successes, trials = successes_trials(group1, group2, event) \n",
    "    # пропорция успехов в первой группе:\n",
    "    p1 = successes[0]/trials[0]\n",
    " \n",
    "    # пропорция успехов во второй группе:\n",
    "    p2 = successes[1]/trials[1]\n",
    " \n",
    "    # пропорция успехов в комбинированном датасете:\n",
    "    p_combined = (successes[0] + successes[1]) / (trials[0] + trials[1])\n",
    " \n",
    "    # разница пропорций в датасетах\n",
    "    difference = p1 - p2 \n",
    " \n",
    "    # считаем статистику в ст.отклонениях стандартного нормального распределения\n",
    "    z_value = difference / sqrt(p_combined * (1 - p_combined) * (1/trials[0] + 1/trials[1]))\n",
    " \n",
    "    # задаем стандартное нормальное распределение (среднее 0, ст.отклонение 1)\n",
    "    distr = sp.stats.norm(0, 1) \n",
    " \n",
    "    p_value = (1 - distr.cdf(abs(z_value))) * 2\n",
    "    \n",
    "    print(f'Результаты теста для групп {group1} и {group2} и события {event}')\n",
    " \n",
    "    print('p-значение: ', p_value)\n",
    "    if p_value < alpha:\n",
    "        print('Отвергаем нулевую гипотезу: статистические различия между данными есть')\n",
    "    else:\n",
    "        print('Не получилось отвергнуть нулевую гипотезу, статистических различий между данными нет')"
   ]
  },
  {
   "cell_type": "code",
   "execution_count": 34,
   "id": "16e1fbac",
   "metadata": {},
   "outputs": [
    {
     "name": "stdout",
     "output_type": "stream",
     "text": [
      "Результаты теста для групп 246 и 247 и события MainScreenAppear\n",
      "p-значение:  0.7570597232046099\n",
      "Не получилось отвергнуть нулевую гипотезу, статистических различий между данными нет\n",
      "\n",
      "Результаты теста для групп 246 и 247 и события OffersScreenAppear\n",
      "p-значение:  0.2480954578522181\n",
      "Не получилось отвергнуть нулевую гипотезу, статистических различий между данными нет\n",
      "\n",
      "Результаты теста для групп 246 и 247 и события CartScreenAppear\n",
      "p-значение:  0.22883372237997213\n",
      "Не получилось отвергнуть нулевую гипотезу, статистических различий между данными нет\n",
      "\n",
      "Результаты теста для групп 246 и 247 и события PaymentScreenSuccessful\n",
      "p-значение:  0.11456679313141849\n",
      "Не получилось отвергнуть нулевую гипотезу, статистических различий между данными нет\n"
     ]
    }
   ],
   "source": [
    "test(246, 247, 'MainScreenAppear', 0.05)\n",
    "print('')\n",
    "test(246, 247, 'OffersScreenAppear', 0.05)\n",
    "print('')\n",
    "test(246, 247, 'CartScreenAppear', 0.05)\n",
    "print('')\n",
    "test(246, 247, 'PaymentScreenSuccessful', 0.05)"
   ]
  },
  {
   "cell_type": "markdown",
   "id": "8956b5d5",
   "metadata": {},
   "source": [
    "**Вывод:**\n",
    "- Исходя из проведенного выше теста можно сказать, что статистических различий между данными нет"
   ]
  },
  {
   "cell_type": "markdown",
   "id": "9a53fb5e",
   "metadata": {},
   "source": [
    "#### 5.4. Сравнение результатов с каждой из контрольных групп в отдельности по каждому событию"
   ]
  },
  {
   "cell_type": "markdown",
   "id": "71178c35",
   "metadata": {},
   "source": [
    "Аналогично поступим с группой с изменённым шрифтом. Сравним результаты с каждой из контрольных групп в отдельности по каждому событию. Сравним результаты с объединённой контрольной группой. Какие выводы из эксперимента можно сделать?"
   ]
  },
  {
   "cell_type": "markdown",
   "id": "f68c9337",
   "metadata": {},
   "source": [
    "**Установим нулевую и альтернативную гипотезы:**\n",
    "- Нулевая: статистических различий между данными нет\n",
    "- Альтернативная: статистические различия между данными есть"
   ]
  },
  {
   "cell_type": "markdown",
   "id": "4da9dbc2",
   "metadata": {},
   "source": [
    "Для начала сравним группы 246 и 248"
   ]
  },
  {
   "cell_type": "code",
   "execution_count": 35,
   "id": "a5350601",
   "metadata": {},
   "outputs": [
    {
     "name": "stdout",
     "output_type": "stream",
     "text": [
      "Результаты теста для групп 246 и 248 и события MainScreenAppear\n",
      "p-значение:  0.2949721933554552\n",
      "Не получилось отвергнуть нулевую гипотезу, статистических различий между данными нет\n",
      "\n",
      "Результаты теста для групп 246 и 248 и события OffersScreenAppear\n",
      "p-значение:  0.20836205402738917\n",
      "Не получилось отвергнуть нулевую гипотезу, статистических различий между данными нет\n",
      "\n",
      "Результаты теста для групп 246 и 248 и события CartScreenAppear\n",
      "p-значение:  0.07842923237520116\n",
      "Не получилось отвергнуть нулевую гипотезу, статистических различий между данными нет\n",
      "\n",
      "Результаты теста для групп 246 и 248 и события PaymentScreenSuccessful\n",
      "p-значение:  0.2122553275697796\n",
      "Не получилось отвергнуть нулевую гипотезу, статистических различий между данными нет\n"
     ]
    }
   ],
   "source": [
    "test(246, 248, 'MainScreenAppear', 0.05)\n",
    "print('')\n",
    "test(246, 248, 'OffersScreenAppear', 0.05)\n",
    "print('')\n",
    "test(246, 248, 'CartScreenAppear', 0.05)\n",
    "print('')\n",
    "test(246, 248, 'PaymentScreenSuccessful', 0.05)"
   ]
  },
  {
   "cell_type": "markdown",
   "id": "2a002975",
   "metadata": {},
   "source": [
    "**Вывод:**\n",
    "- Между группами 246 и 248 по всем событиям статистических различий между данными нет"
   ]
  },
  {
   "cell_type": "markdown",
   "id": "07c59d4b",
   "metadata": {},
   "source": [
    "Теперь сравним группы 247 и 248"
   ]
  },
  {
   "cell_type": "code",
   "execution_count": 36,
   "id": "90354724",
   "metadata": {},
   "outputs": [
    {
     "name": "stdout",
     "output_type": "stream",
     "text": [
      "Результаты теста для групп 247 и 248 и события MainScreenAppear\n",
      "p-значение:  0.4587053616621515\n",
      "Не получилось отвергнуть нулевую гипотезу, статистических различий между данными нет\n",
      "\n",
      "Результаты теста для групп 247 и 248 и события OffersScreenAppear\n",
      "p-значение:  0.9197817830592261\n",
      "Не получилось отвергнуть нулевую гипотезу, статистических различий между данными нет\n",
      "\n",
      "Результаты теста для групп 247 и 248 и события CartScreenAppear\n",
      "p-значение:  0.5786197879539783\n",
      "Не получилось отвергнуть нулевую гипотезу, статистических различий между данными нет\n",
      "\n",
      "Результаты теста для групп 247 и 248 и события PaymentScreenSuccessful\n",
      "p-значение:  0.7373415053803964\n",
      "Не получилось отвергнуть нулевую гипотезу, статистических различий между данными нет\n"
     ]
    }
   ],
   "source": [
    "test(247, 248, 'MainScreenAppear', 0.05)\n",
    "print('')\n",
    "test(247, 248, 'OffersScreenAppear', 0.05)\n",
    "print('')\n",
    "test(247, 248, 'CartScreenAppear', 0.05)\n",
    "print('')\n",
    "test(247, 248, 'PaymentScreenSuccessful', 0.05)"
   ]
  },
  {
   "cell_type": "markdown",
   "id": "64003edc",
   "metadata": {},
   "source": [
    "**Вывод:**\n",
    "- Между группами 247 и 248 по всем событиям статистических различий между данными нет"
   ]
  },
  {
   "cell_type": "markdown",
   "id": "74b77ea4",
   "metadata": {},
   "source": [
    "Теперь сравним группы 246, 247 с экспериментальной 248"
   ]
  },
  {
   "cell_type": "code",
   "execution_count": 37,
   "id": "1d93089d",
   "metadata": {},
   "outputs": [],
   "source": [
    "def new_test(group1, group2, event, alpha):\n",
    "\n",
    "    def successes_trials_3_groups(group1, group2, event):\n",
    "    #изменили вот тут\n",
    "        successes = np.array([data.query(f'group.isin({group1}) & event_name == \"{event}\"')['user_id'].nunique(),\\\n",
    "                              data.query(f'group == {group2} & event_name == \"{event}\"')['user_id'].nunique()])\n",
    "    #и вот тут\n",
    "        trials = np.array([data.query(f'group.isin({group1})')['user_id'].nunique(),\\\n",
    "                           data.query(f'group == {group2}')['user_id'].nunique()])\n",
    "        return successes, trials\n",
    "    \n",
    "    successes, trials = successes_trials_3_groups(group1, group2, event) \n",
    "    # пропорция успехов в первой группе:\n",
    "    p1 = successes[0]/trials[0]\n",
    " \n",
    "    # пропорция успехов во второй группе:\n",
    "    p2 = successes[1]/trials[1]\n",
    " \n",
    "    # пропорция успехов в комбинированном датасете:\n",
    "    p_combined = (successes[0] + successes[1]) / (trials[0] + trials[1])\n",
    " \n",
    "    # разница пропорций в датасетах\n",
    "    difference = p1 - p2 \n",
    " \n",
    "    # считаем статистику в ст.отклонениях стандартного нормального распределения\n",
    "    z_value = difference / sqrt(p_combined * (1 - p_combined) * (1/trials[0] + 1/trials[1]))\n",
    " \n",
    "    # задаем стандартное нормальное распределение (среднее 0, ст.отклонение 1)\n",
    "    distr = sp.stats.norm(0, 1) \n",
    " \n",
    "    p_value = (1 - distr.cdf(abs(z_value))) * 2\n",
    "    \n",
    "    print(f'Результаты теста для групп {group1} и {group2} и события {event}')\n",
    " \n",
    "    print('p-значение: ', p_value)\n",
    "    if p_value < alpha:\n",
    "        print('Отвергаем нулевую гипотезу: статистические различия между данными есть')\n",
    "    else:\n",
    "        print('Не получилось отвергнуть нулевую гипотезу, статистических различий между данными нет')"
   ]
  },
  {
   "cell_type": "markdown",
   "id": "c6448a1c",
   "metadata": {},
   "source": [
    "**Установим нулевую и альтернативную гипотезы:**\n",
    "- Нулевая: статистических различий между данными нет\n",
    "- Альтернативная: статистические различия между данными есть"
   ]
  },
  {
   "cell_type": "code",
   "execution_count": 38,
   "id": "62b331b9",
   "metadata": {},
   "outputs": [
    {
     "name": "stdout",
     "output_type": "stream",
     "text": [
      "Результаты теста для групп [246, 247] и 248 и события MainScreenAppear\n",
      "p-значение:  0.29424526837179577\n",
      "Не получилось отвергнуть нулевую гипотезу, статистических различий между данными нет\n",
      "\n",
      "Результаты теста для групп [246, 247] и 248 и события OffersScreenAppear\n",
      "p-значение:  0.43425549655188256\n",
      "Не получилось отвергнуть нулевую гипотезу, статистических различий между данными нет\n",
      "\n",
      "Результаты теста для групп [246, 247] и 248 и события CartScreenAppear\n",
      "p-значение:  0.18175875284404386\n",
      "Не получилось отвергнуть нулевую гипотезу, статистических различий между данными нет\n",
      "\n",
      "Результаты теста для групп [246, 247] и 248 и события PaymentScreenSuccessful\n",
      "p-значение:  0.6004294282308704\n",
      "Не получилось отвергнуть нулевую гипотезу, статистических различий между данными нет\n"
     ]
    }
   ],
   "source": [
    "new_test([246, 247], 248, 'MainScreenAppear', 0.05)\n",
    "print()\n",
    "new_test([246, 247], 248, 'OffersScreenAppear', 0.05)\n",
    "print()\n",
    "new_test([246, 247], 248, 'CartScreenAppear', 0.05)\n",
    "print()\n",
    "new_test([246, 247], 248, 'PaymentScreenSuccessful', 0.05)"
   ]
  },
  {
   "cell_type": "markdown",
   "id": "f668bfbd",
   "metadata": {},
   "source": [
    "**Вывод:**\n",
    "- Статистических различий между группами 246, 247 с экспериментальной 248 нет по всем событиям, соответственно нельзя отвергнуть нулевую гипотезу. Изменение шрифтов в приложении не повлияло на продажи"
   ]
  },
  {
   "cell_type": "markdown",
   "id": "d2f6d27c",
   "metadata": {},
   "source": [
    "#### 5.5. Уровень значимости вы выбрали при проверке статистических гипотез выше."
   ]
  },
  {
   "cell_type": "markdown",
   "id": "51bc7f67",
   "metadata": {},
   "source": [
    "Какой уровень значимости вы выбрали при проверке статистических гипотез выше? Посчитаем, сколько проверок статистических гипотез вы сделали. При уровне значимости 0.1 каждый десятый раз можно получать ложный результат. Какой уровень значимости стоит применить?"
   ]
  },
  {
   "cell_type": "markdown",
   "id": "b7bfcb76",
   "metadata": {},
   "source": [
    "**Вывод:**\n",
    "- Был установлен статистический уровень значимости в 5%. Всего было произведено 20 проверок статистических гипотез. В нашем случае ставить уровень значимости 0.1 не имеет смысла, ведь при уровне в 5% мы уже выяснили, что в каждом тесте статистических различий между данными нет."
   ]
  },
  {
   "cell_type": "markdown",
   "id": "e1341440",
   "metadata": {},
   "source": [
    "**Общий вывод:**\n",
    "- В группе **246** - 2484 пользователей, в группе **247** - 2513 пользователей, в группе **248** - 2537 пользователей\n",
    "- Максимальная разница по каждому событию у групп 246 и 247 составляет 0.02%, что говорит о практически нулевой разницы в выборках\n",
    "- Исходя из проведенного теста с группами **246** и **247** можно сказать, что статистических различий между данными нет\n",
    "- Между группами **246** и **248** по всем событиям статистических различий между данными нет\n",
    "- Между группами **247** и **248** по всем событиям статистических различий между данными нет\n",
    "- Статистических различий между группами **246, 247** с экспериментальной **248** нет по всем событиям, соответственно нельзя отвергнуть нулевую гипотезу. Изменение шрифтов в приложении не повлияло на продажи\n",
    "- Был установлен статистический уровень значимости в 5%. Всего было произведено 20 проверок статистических гипотез. В нашем случае ставить уровень значимости 0.1 не имеет смысла, ведь при уровне в 5% мы уже выяснили, что в каждом тесте статистических различий между данными нет"
   ]
  },
  {
   "cell_type": "markdown",
   "id": "d1e4c49f",
   "metadata": {},
   "source": [
    "## 6. Общий вывод"
   ]
  },
  {
   "cell_type": "markdown",
   "id": "9cc7958b",
   "metadata": {},
   "source": [
    "**В самом начале проекта мы:**\n",
    "\n",
    "- ознакомились с первичным форматом данных\n",
    "\n",
    "- выполнили предварительную оценку данных\n",
    "\n",
    "**По ходу первоначального анализа было выявлено:**\n",
    "\n",
    "- 1 датафрейм без пропусков c 4 колонками и 244126 строками\n",
    "\n",
    "**Также было обнаружено:**\n",
    "\n",
    "- неккректная запись столбцов, привели к нижнему регистру\n",
    "\n",
    "\n",
    "**В ходе второй части работы была произведена:**\n",
    "\n",
    "- изменили неккоректные названия солбцов\n",
    "\n",
    "- добавлены 2 колонки с датами\n",
    "\n",
    "- выявлены 413 дубликатов и в последствии удалены\n",
    "\n",
    "\n",
    "**Изучение и проверка данных дали возможность сделать выводы:**\n",
    "\n",
    "- Событий в логе: 243713\n",
    "- Пользователей в логе: 7551\n",
    "- Теперь мы располагаем новым временным промежутком: 1-7 августа 2019 года.\n",
    "- В среднем событий на пользователя приходится: 20\n",
    "- После корректировки дат потеряли 2826 событий, что составляет 1.16 процента\n",
    "- После корректировки дат потеряли 17 пользователей, что составляет 0.23 процента\n",
    "- Пользователи из всех трех экспериментальных групп остались\n",
    " \n",
    "**Четвертая часть с А/В тестом дала понять некоторые вещи:**\n",
    "\n",
    "- Встречаются 5 событий, самое распространенное это MainScreenAppear, а самое редкое Tutorial\n",
    "- 98.5% пользователей доходят до главного экрана, затем предложение появляется у 61%. До оплаты доходят 49.6%, а успешно оплачивают 46.9%. Где-то теряется 2.7% пользователей.\n",
    "- Можно сказать, что туториал не входит в цепочку событий, он может быть доступен на всех этапах. Следовательно Составить цепочку событий можно так: MainScreenAppear - OffersScreenAppear - CartScreenAppear - PaymentScreenSuccessful\n",
    "- Самые большие потери происходят при переходе от Основного экрана до экрана с предложением\n",
    "- Также между заполнением данных карты и оплатой теряется практически 200 человек\n",
    "- От страницы главного экрана до оплаты доходит только 47.68% от всех пользователей\n",
    "\n",
    "\n",
    "**В пятой части сделаны выводы:**\n",
    "\n",
    "- В группе **246** - 2484 пользователей, в группе **247** - 2513 пользователей, в группе **248** - 2537 пользователей\n",
    "- Максимальная разница по каждому событию у групп 246 и 247 составляет 0.02%, что говорит о практически нулевой разницы в выборках\n",
    "- Исходя из проведенного теста с группами **246** и **247** можно сказать, что статистических различий между данными нет\n",
    "- Между группами **246** и **248** по всем событиям статистических различий между данными нет\n",
    "- Между группами **247** и **248** по всем событиям статистических различий между данными нет\n",
    "- Статистических различий между группами **246, 247** с экспериментальной **248** нет по всем событиям, соответственно нельзя отвергнуть нулевую гипотезу. Изменение шрифтов в приложении не повлияло на продажи\n",
    "- Был установлен статистический уровень значимости в 5%. Всего было произведено 20 проверок статистических гипотез. В нашем случае ставить уровень значимости 0.1 не имеет смысла, ведь при уровне в 5% мы уже выяснили, что в каждом тесте статистических различий между данными нет\n"
   ]
  },
  {
   "cell_type": "markdown",
   "id": "f26d1477",
   "metadata": {},
   "source": [
    "## Доп. задания"
   ]
  },
  {
   "cell_type": "markdown",
   "id": "539b6742",
   "metadata": {},
   "source": [
    "- 1. Сначала подготовить данные, по которым будет идти проверка (сводная таблица с количеством пользователей совершивших каждое из событий)\n",
    "- 2. Написать функцию, которая принимает в качестве аргументов 4 числа для z-теста пропорций (в теле функции не должно быть ни цикла, ни работы с датафреймом, только мат. вычисления для стат. теста)\n",
    "- 3. Для каждой пары групп вызывать функцию в цикле, итерируясь по датафрейму с данными для проверки гипотез (не 1 цикл, а для каждой пары групп, т.е. всего 4 цикла)\n",
    "- 4. Ты выбираешь уровень значимости 0.05, это означает, что допустимая вероятность ложположительного результата для одного теста - 5%. У нас 16 тестов, какой в таком случае становится допустимая вероятность ложноположительного результата хотя бы в одном из тестов?И какой в таком случае следует использовать уровень значимости?"
   ]
  },
  {
   "cell_type": "markdown",
   "id": "ea13111d",
   "metadata": {},
   "source": [
    "#### 1. Сначала подготовим данные, по которым будет идти проверка (сводная таблица с количеством пользователей совершивших каждое из событий)"
   ]
  },
  {
   "cell_type": "markdown",
   "id": "92cbd79e",
   "metadata": {},
   "source": [
    "Так понимаю Нужны люди, которые прошли все события за исключением туториала(его просто не целесообразно рассматривать). Соотвестветнно нам нужны люди, которые прошли от главного экрана до успешной оплаты. Составим таблицу"
   ]
  },
  {
   "cell_type": "code",
   "execution_count": 39,
   "id": "204df09c",
   "metadata": {},
   "outputs": [
    {
     "data": {
      "text/plain": [
       "array(['Tutorial', 'MainScreenAppear', 'OffersScreenAppear',\n",
       "       'CartScreenAppear', 'PaymentScreenSuccessful'], dtype=object)"
      ]
     },
     "execution_count": 39,
     "metadata": {},
     "output_type": "execute_result"
    }
   ],
   "source": [
    "data['event_name'].unique()"
   ]
  },
  {
   "cell_type": "code",
   "execution_count": 40,
   "id": "5713c2d7",
   "metadata": {},
   "outputs": [
    {
     "data": {
      "text/html": [
       "<div>\n",
       "<style scoped>\n",
       "    .dataframe tbody tr th:only-of-type {\n",
       "        vertical-align: middle;\n",
       "    }\n",
       "\n",
       "    .dataframe tbody tr th {\n",
       "        vertical-align: top;\n",
       "    }\n",
       "\n",
       "    .dataframe thead th {\n",
       "        text-align: right;\n",
       "    }\n",
       "</style>\n",
       "<table border=\"1\" class=\"dataframe\">\n",
       "  <thead>\n",
       "    <tr style=\"text-align: right;\">\n",
       "      <th></th>\n",
       "      <th>event_name</th>\n",
       "      <th>user_id</th>\n",
       "      <th>event_datetime</th>\n",
       "      <th>group</th>\n",
       "      <th>date</th>\n",
       "    </tr>\n",
       "  </thead>\n",
       "  <tbody>\n",
       "    <tr>\n",
       "      <th>2828</th>\n",
       "      <td>Tutorial</td>\n",
       "      <td>3737462046622621720</td>\n",
       "      <td>2019-08-01 00:07:28</td>\n",
       "      <td>246</td>\n",
       "      <td>2019-08-01</td>\n",
       "    </tr>\n",
       "    <tr>\n",
       "      <th>2829</th>\n",
       "      <td>MainScreenAppear</td>\n",
       "      <td>3737462046622621720</td>\n",
       "      <td>2019-08-01 00:08:00</td>\n",
       "      <td>246</td>\n",
       "      <td>2019-08-01</td>\n",
       "    </tr>\n",
       "    <tr>\n",
       "      <th>2830</th>\n",
       "      <td>MainScreenAppear</td>\n",
       "      <td>3737462046622621720</td>\n",
       "      <td>2019-08-01 00:08:55</td>\n",
       "      <td>246</td>\n",
       "      <td>2019-08-01</td>\n",
       "    </tr>\n",
       "    <tr>\n",
       "      <th>2831</th>\n",
       "      <td>OffersScreenAppear</td>\n",
       "      <td>3737462046622621720</td>\n",
       "      <td>2019-08-01 00:08:58</td>\n",
       "      <td>246</td>\n",
       "      <td>2019-08-01</td>\n",
       "    </tr>\n",
       "    <tr>\n",
       "      <th>2832</th>\n",
       "      <td>MainScreenAppear</td>\n",
       "      <td>1433840883824088890</td>\n",
       "      <td>2019-08-01 00:08:59</td>\n",
       "      <td>247</td>\n",
       "      <td>2019-08-01</td>\n",
       "    </tr>\n",
       "  </tbody>\n",
       "</table>\n",
       "</div>"
      ],
      "text/plain": [
       "              event_name              user_id      event_datetime  group  \\\n",
       "2828            Tutorial  3737462046622621720 2019-08-01 00:07:28    246   \n",
       "2829    MainScreenAppear  3737462046622621720 2019-08-01 00:08:00    246   \n",
       "2830    MainScreenAppear  3737462046622621720 2019-08-01 00:08:55    246   \n",
       "2831  OffersScreenAppear  3737462046622621720 2019-08-01 00:08:58    246   \n",
       "2832    MainScreenAppear  1433840883824088890 2019-08-01 00:08:59    247   \n",
       "\n",
       "            date  \n",
       "2828  2019-08-01  \n",
       "2829  2019-08-01  \n",
       "2830  2019-08-01  \n",
       "2831  2019-08-01  \n",
       "2832  2019-08-01  "
      ]
     },
     "execution_count": 40,
     "metadata": {},
     "output_type": "execute_result"
    }
   ],
   "source": [
    "data.head()"
   ]
  },
  {
   "cell_type": "code",
   "execution_count": 41,
   "id": "51705a38",
   "metadata": {},
   "outputs": [
    {
     "data": {
      "text/html": [
       "<div>\n",
       "<style scoped>\n",
       "    .dataframe tbody tr th:only-of-type {\n",
       "        vertical-align: middle;\n",
       "    }\n",
       "\n",
       "    .dataframe tbody tr th {\n",
       "        vertical-align: top;\n",
       "    }\n",
       "\n",
       "    .dataframe thead th {\n",
       "        text-align: right;\n",
       "    }\n",
       "</style>\n",
       "<table border=\"1\" class=\"dataframe\">\n",
       "  <thead>\n",
       "    <tr style=\"text-align: right;\">\n",
       "      <th></th>\n",
       "      <th>user_id</th>\n",
       "      <th>group</th>\n",
       "      <th>event_name</th>\n",
       "    </tr>\n",
       "  </thead>\n",
       "  <tbody>\n",
       "    <tr>\n",
       "      <th>1</th>\n",
       "      <td>6909561520679493</td>\n",
       "      <td>247</td>\n",
       "      <td>4</td>\n",
       "    </tr>\n",
       "    <tr>\n",
       "      <th>2</th>\n",
       "      <td>6922444491712477</td>\n",
       "      <td>246</td>\n",
       "      <td>4</td>\n",
       "    </tr>\n",
       "    <tr>\n",
       "      <th>4</th>\n",
       "      <td>7702139951469979</td>\n",
       "      <td>247</td>\n",
       "      <td>4</td>\n",
       "    </tr>\n",
       "    <tr>\n",
       "      <th>7</th>\n",
       "      <td>9841258664663090</td>\n",
       "      <td>248</td>\n",
       "      <td>4</td>\n",
       "    </tr>\n",
       "    <tr>\n",
       "      <th>9</th>\n",
       "      <td>15708180189885246</td>\n",
       "      <td>246</td>\n",
       "      <td>4</td>\n",
       "    </tr>\n",
       "    <tr>\n",
       "      <th>...</th>\n",
       "      <td>...</td>\n",
       "      <td>...</td>\n",
       "      <td>...</td>\n",
       "    </tr>\n",
       "    <tr>\n",
       "      <th>7518</th>\n",
       "      <td>9212420551954885212</td>\n",
       "      <td>248</td>\n",
       "      <td>4</td>\n",
       "    </tr>\n",
       "    <tr>\n",
       "      <th>7520</th>\n",
       "      <td>9212961170535635779</td>\n",
       "      <td>246</td>\n",
       "      <td>4</td>\n",
       "    </tr>\n",
       "    <tr>\n",
       "      <th>7521</th>\n",
       "      <td>9214668690707156694</td>\n",
       "      <td>248</td>\n",
       "      <td>4</td>\n",
       "    </tr>\n",
       "    <tr>\n",
       "      <th>7524</th>\n",
       "      <td>9216369613838971606</td>\n",
       "      <td>246</td>\n",
       "      <td>4</td>\n",
       "    </tr>\n",
       "    <tr>\n",
       "      <th>7526</th>\n",
       "      <td>9219463515465815368</td>\n",
       "      <td>248</td>\n",
       "      <td>4</td>\n",
       "    </tr>\n",
       "  </tbody>\n",
       "</table>\n",
       "<p>3429 rows × 3 columns</p>\n",
       "</div>"
      ],
      "text/plain": [
       "                  user_id  group  event_name\n",
       "1        6909561520679493    247           4\n",
       "2        6922444491712477    246           4\n",
       "4        7702139951469979    247           4\n",
       "7        9841258664663090    248           4\n",
       "9       15708180189885246    246           4\n",
       "...                   ...    ...         ...\n",
       "7518  9212420551954885212    248           4\n",
       "7520  9212961170535635779    246           4\n",
       "7521  9214668690707156694    248           4\n",
       "7524  9216369613838971606    246           4\n",
       "7526  9219463515465815368    248           4\n",
       "\n",
       "[3429 rows x 3 columns]"
      ]
     },
     "execution_count": 41,
     "metadata": {},
     "output_type": "execute_result"
    }
   ],
   "source": [
    "user_all = data[data['event_name'] != 'Tutorial']\n",
    "user_all_events = user_all.groupby(['user_id', 'group']).agg({'event_name': 'nunique'}).reset_index()\n",
    "user_all_events = user_all_events[user_all_events['event_name'] == 4]\n",
    "user_all_events.columns = user_all_events.columns.map(''.join)\n",
    "user_all_events\n"
   ]
  },
  {
   "cell_type": "markdown",
   "id": "63122f43",
   "metadata": {},
   "source": [
    "**Вывод:**\n",
    "- Получили 3429 пользователей"
   ]
  },
  {
   "cell_type": "markdown",
   "id": "18245e87",
   "metadata": {},
   "source": [
    "#### 2. Напишем функцию, которая принимает в качестве аргументов 4 числа для z-теста пропорций (в теле функции не должно быть ни цикла, ни работы с датафреймом, только мат. вычисления для стат. теста)"
   ]
  },
  {
   "cell_type": "code",
   "execution_count": 42,
   "id": "fea70483",
   "metadata": {
    "scrolled": true
   },
   "outputs": [],
   "source": [
    "def z_test(group1, group2, size):\n",
    "    p1 = group1 / size\n",
    "    p2 = group1 / size\n",
    "    P = (p1*size + p2*size) / (size + size)\n",
    "    se = sqrt(P*(1-P) * (1/size + 1/size))\n",
    "    z = (p1 - p2) / se\n",
    "\n",
    "    p_val = (1 - sp.stats.norm.cdf(abs(z))) * 2\n",
    "    alpha = .05\n",
    "    if p_val > alpha:\n",
    "        print('Оснований отвергать нулевую гипотезу нет, p_val > alpha')\n",
    "    else:\n",
    "        print('Основания отвергать нулевую гипотезу есть, p_val < alpha')"
   ]
  },
  {
   "cell_type": "markdown",
   "id": "c4824620",
   "metadata": {},
   "source": [
    "#### 3. Для каждой пары групп вызывать функцию в цикле, итерируясь по датафрейму с данными для проверки гипотез (не 1 цикл, а для каждой пары групп, т.е. всего 4 цикла)"
   ]
  },
  {
   "cell_type": "markdown",
   "id": "ea604b52",
   "metadata": {},
   "source": [
    "Для начала выдвинем нулевую и альтенрнативную гипотезы:\n",
    "- Между группами нет стат.разницы\n",
    "\n",
    "Альтернативная:\n",
    "- Между группами есть стат.разницa"
   ]
  },
  {
   "cell_type": "markdown",
   "id": "bfac571a",
   "metadata": {},
   "source": [
    "Сравниваем 246 и 247 группы"
   ]
  },
  {
   "cell_type": "code",
   "execution_count": 43,
   "id": "e73c8cdb",
   "metadata": {},
   "outputs": [
    {
     "name": "stdout",
     "output_type": "stream",
     "text": [
      "Оснований отвергать нулевую гипотезу нет, p_val > alpha\n"
     ]
    }
   ],
   "source": [
    " z_test(user_all_events['user_id'][user_all_events['group']==246].count(),\n",
    "        user_all_events['user_id'][user_all_events['group']==247].count(), \n",
    "        user_all_events['user_id'].count())"
   ]
  },
  {
   "cell_type": "markdown",
   "id": "8be4f0c3",
   "metadata": {},
   "source": [
    "Сравниваем 246 и 248 группы"
   ]
  },
  {
   "cell_type": "code",
   "execution_count": 44,
   "id": "f7454b0b",
   "metadata": {},
   "outputs": [
    {
     "name": "stdout",
     "output_type": "stream",
     "text": [
      "Оснований отвергать нулевую гипотезу нет, p_val > alpha\n"
     ]
    }
   ],
   "source": [
    " z_test(user_all_events['user_id'][user_all_events['group']==246].count(),\n",
    "        user_all_events['user_id'][user_all_events['group']==248].count(), \n",
    "        user_all_events['user_id'].count())"
   ]
  },
  {
   "cell_type": "markdown",
   "id": "838a2e35",
   "metadata": {},
   "source": [
    "Сравниваем 247 и 248 группы"
   ]
  },
  {
   "cell_type": "code",
   "execution_count": 45,
   "id": "bd30a1f4",
   "metadata": {},
   "outputs": [
    {
     "name": "stdout",
     "output_type": "stream",
     "text": [
      "Оснований отвергать нулевую гипотезу нет, p_val > alpha\n"
     ]
    }
   ],
   "source": [
    " z_test(user_all_events['user_id'][user_all_events['group']==248].count(),\n",
    "        user_all_events['user_id'][user_all_events['group']==247].count(), \n",
    "        user_all_events['user_id'].count())"
   ]
  },
  {
   "cell_type": "markdown",
   "id": "d762c1e8",
   "metadata": {},
   "source": [
    "Сравниваем 246, 247 и 248 группы"
   ]
  },
  {
   "cell_type": "code",
   "execution_count": 46,
   "id": "313531f4",
   "metadata": {},
   "outputs": [
    {
     "name": "stdout",
     "output_type": "stream",
     "text": [
      "Оснований отвергать нулевую гипотезу нет, p_val > alpha\n"
     ]
    }
   ],
   "source": [
    " z_test(user_all_events['user_id'][user_all_events['group']==246 | 247].count(),\n",
    "        user_all_events['user_id'][user_all_events['group']==248].count(), \n",
    "        user_all_events['user_id'].count())"
   ]
  },
  {
   "cell_type": "markdown",
   "id": "87e7e24f",
   "metadata": {},
   "source": [
    "#### 4. Ты выбираешь уровень значимости 0.05, это означает, что допустимая вероятность ложположительного результата для одного теста - 5%. У нас 16 тестов, какой в таком случае становится допустимая вероятность ложноположительного результата хотя бы в одном из тестов?И какой в таком случае следует использовать уровень значимости?"
   ]
  },
  {
   "attachments": {
    "Image.png": {
     "image/png": "[encoded data removed]"
    }
   },
   "cell_type": "markdown",
   "id": "360c8322",
   "metadata": {},
   "source": [
    "![Image.png](attachment:Image.png)"
   ]
  },
  {
   "cell_type": "markdown",
   "id": "847fb75e",
   "metadata": {},
   "source": [
    "Согласно этой формуле вычислим ошибку первого рода при альфа 5%: 1-(1-0.05)^16 = 0.56 допустимая вероятность ложноположительного результата хотя бы в одном из тестов.\n"
   ]
  },
  {
   "cell_type": "markdown",
   "id": "b371fb67",
   "metadata": {},
   "source": [
    "Метод Бонферрони (поправка Бонферрони):"
   ]
  },
  {
   "attachments": {
    "Image%20%281%29.png": {
     "image/png": "[encoded data removed]"
    }
   },
   "cell_type": "markdown",
   "id": "d0fdba66",
   "metadata": {},
   "source": [
    "![Image%20%281%29.png](attachment:Image%20%281%29.png)"
   ]
  },
  {
   "cell_type": "markdown",
   "id": "68c0d596",
   "metadata": {},
   "source": [
    "Получается, что 0.05/16 0,003125 - cкорректированный уровень значимости"
   ]
  },
  {
   "cell_type": "code",
   "execution_count": 47,
   "id": "8699bc08",
   "metadata": {},
   "outputs": [],
   "source": [
    "pivot_size = data.groupby('group')['user_id'].nunique().reset_index()\n",
    "pivot_size_246 = pivot_size['user_id'][pivot_size['group']==246].sum()\n",
    "pivot_size_247 = pivot_size['user_id'][pivot_size['group']==247].sum()\n",
    "pivot_size_248 = pivot_size['user_id'][pivot_size['group']==248].sum()\n",
    "pivot_size_sum = pivot_size_246 + pivot_size_247"
   ]
  },
  {
   "cell_type": "code",
   "execution_count": 48,
   "id": "808bb375",
   "metadata": {},
   "outputs": [
    {
     "data": {
      "text/html": [
       "<div>\n",
       "<style scoped>\n",
       "    .dataframe tbody tr th:only-of-type {\n",
       "        vertical-align: middle;\n",
       "    }\n",
       "\n",
       "    .dataframe tbody tr th {\n",
       "        vertical-align: top;\n",
       "    }\n",
       "\n",
       "    .dataframe thead th {\n",
       "        text-align: right;\n",
       "    }\n",
       "</style>\n",
       "<table border=\"1\" class=\"dataframe\">\n",
       "  <thead>\n",
       "    <tr style=\"text-align: right;\">\n",
       "      <th></th>\n",
       "      <th>event_name</th>\n",
       "      <th>group</th>\n",
       "      <th>user_id</th>\n",
       "    </tr>\n",
       "  </thead>\n",
       "  <tbody>\n",
       "    <tr>\n",
       "      <th>0</th>\n",
       "      <td>MainScreenAppear</td>\n",
       "      <td>248</td>\n",
       "      <td>2493</td>\n",
       "    </tr>\n",
       "    <tr>\n",
       "      <th>1</th>\n",
       "      <td>MainScreenAppear</td>\n",
       "      <td>247</td>\n",
       "      <td>2476</td>\n",
       "    </tr>\n",
       "    <tr>\n",
       "      <th>2</th>\n",
       "      <td>MainScreenAppear</td>\n",
       "      <td>246</td>\n",
       "      <td>2450</td>\n",
       "    </tr>\n",
       "    <tr>\n",
       "      <th>3</th>\n",
       "      <td>OffersScreenAppear</td>\n",
       "      <td>246</td>\n",
       "      <td>1542</td>\n",
       "    </tr>\n",
       "    <tr>\n",
       "      <th>4</th>\n",
       "      <td>OffersScreenAppear</td>\n",
       "      <td>248</td>\n",
       "      <td>1531</td>\n",
       "    </tr>\n",
       "    <tr>\n",
       "      <th>5</th>\n",
       "      <td>OffersScreenAppear</td>\n",
       "      <td>247</td>\n",
       "      <td>1520</td>\n",
       "    </tr>\n",
       "    <tr>\n",
       "      <th>6</th>\n",
       "      <td>CartScreenAppear</td>\n",
       "      <td>246</td>\n",
       "      <td>1266</td>\n",
       "    </tr>\n",
       "    <tr>\n",
       "      <th>7</th>\n",
       "      <td>CartScreenAppear</td>\n",
       "      <td>247</td>\n",
       "      <td>1238</td>\n",
       "    </tr>\n",
       "    <tr>\n",
       "      <th>8</th>\n",
       "      <td>CartScreenAppear</td>\n",
       "      <td>248</td>\n",
       "      <td>1230</td>\n",
       "    </tr>\n",
       "    <tr>\n",
       "      <th>9</th>\n",
       "      <td>PaymentScreenSuccessful</td>\n",
       "      <td>246</td>\n",
       "      <td>1200</td>\n",
       "    </tr>\n",
       "    <tr>\n",
       "      <th>10</th>\n",
       "      <td>PaymentScreenSuccessful</td>\n",
       "      <td>248</td>\n",
       "      <td>1181</td>\n",
       "    </tr>\n",
       "    <tr>\n",
       "      <th>11</th>\n",
       "      <td>PaymentScreenSuccessful</td>\n",
       "      <td>247</td>\n",
       "      <td>1158</td>\n",
       "    </tr>\n",
       "  </tbody>\n",
       "</table>\n",
       "</div>"
      ],
      "text/plain": [
       "                 event_name  group  user_id\n",
       "0          MainScreenAppear    248     2493\n",
       "1          MainScreenAppear    247     2476\n",
       "2          MainScreenAppear    246     2450\n",
       "3        OffersScreenAppear    246     1542\n",
       "4        OffersScreenAppear    248     1531\n",
       "5        OffersScreenAppear    247     1520\n",
       "6          CartScreenAppear    246     1266\n",
       "7          CartScreenAppear    247     1238\n",
       "8          CartScreenAppear    248     1230\n",
       "9   PaymentScreenSuccessful    246     1200\n",
       "10  PaymentScreenSuccessful    248     1181\n",
       "11  PaymentScreenSuccessful    247     1158"
      ]
     },
     "execution_count": 48,
     "metadata": {},
     "output_type": "execute_result"
    }
   ],
   "source": [
    "# Переработал таблицу\n",
    "\n",
    "users_pivot = data.pivot_table(values='user_id', index=['event_name','group'], aggfunc=lambda x: len(x.unique())).reset_index().sort_values(by='user_id', ascending=False)\n",
    "users_pivot = users_pivot[users_pivot['event_name'] != 'Tutorial'].reset_index().drop('index', axis=1)\n",
    "users_pivot"
   ]
  },
  {
   "cell_type": "code",
   "execution_count": 49,
   "id": "9a95085f",
   "metadata": {},
   "outputs": [],
   "source": [
    "# Изменил функцию\n",
    "def z_test_new(group1, group2, size1, size2):\n",
    "    p1 = group1 / size1\n",
    "    p2 = group2 / size2\n",
    "    P = (group1 + group2) / (size1 + size2)\n",
    "    se = sqrt(P*(1-P) * (1/size1 + 1/size2))\n",
    "    difference = p1 - p2\n",
    "    z = difference / se\n",
    "    distr = sp.stats.norm(0, 1)\n",
    "    p_val = (1 - distr.cdf(abs(z))) * 2\n",
    "    alpha = .05\n",
    "    if p_val > alpha:\n",
    "        print('Оснований отвергать нулевую гипотезу нет, p_val > alpha', p_val)\n",
    "    else:\n",
    "        print('Основания отвергать нулевую гипотезу есть, p_val < alpha', p_val)"
   ]
  },
  {
   "cell_type": "markdown",
   "id": "e950856d",
   "metadata": {},
   "source": [
    "Для начала выдвинем нулевую и альтенрнативную гипотезы:\n",
    "- Между группами нет стат.разницы\n",
    "\n",
    "Альтернативная:\n",
    "- Между группами есть стат.разницa"
   ]
  },
  {
   "cell_type": "markdown",
   "id": "af77c863",
   "metadata": {},
   "source": [
    "## z-test Для MainScreenAppear - 1"
   ]
  },
  {
   "cell_type": "markdown",
   "id": "8e8a503a",
   "metadata": {},
   "source": [
    "Заранее посчитаем переменные для функции"
   ]
  },
  {
   "cell_type": "code",
   "execution_count": 50,
   "id": "c5d3da9a",
   "metadata": {},
   "outputs": [
    {
     "data": {
      "text/html": [
       "<div>\n",
       "<style scoped>\n",
       "    .dataframe tbody tr th:only-of-type {\n",
       "        vertical-align: middle;\n",
       "    }\n",
       "\n",
       "    .dataframe tbody tr th {\n",
       "        vertical-align: top;\n",
       "    }\n",
       "\n",
       "    .dataframe thead th {\n",
       "        text-align: right;\n",
       "    }\n",
       "</style>\n",
       "<table border=\"1\" class=\"dataframe\">\n",
       "  <thead>\n",
       "    <tr style=\"text-align: right;\">\n",
       "      <th></th>\n",
       "      <th>group</th>\n",
       "      <th>user_id</th>\n",
       "    </tr>\n",
       "  </thead>\n",
       "  <tbody>\n",
       "    <tr>\n",
       "      <th>0</th>\n",
       "      <td>246</td>\n",
       "      <td>6458</td>\n",
       "    </tr>\n",
       "    <tr>\n",
       "      <th>1</th>\n",
       "      <td>247</td>\n",
       "      <td>6392</td>\n",
       "    </tr>\n",
       "    <tr>\n",
       "      <th>2</th>\n",
       "      <td>248</td>\n",
       "      <td>6435</td>\n",
       "    </tr>\n",
       "  </tbody>\n",
       "</table>\n",
       "</div>"
      ],
      "text/plain": [
       "   group  user_id\n",
       "0    246     6458\n",
       "1    247     6392\n",
       "2    248     6435"
      ]
     },
     "execution_count": 50,
     "metadata": {},
     "output_type": "execute_result"
    }
   ],
   "source": [
    "users_pivot_size = users_pivot.pivot_table(values='user_id', index='group', aggfunc='sum').reset_index()\n",
    "users_pivot_size"
   ]
  },
  {
   "cell_type": "code",
   "execution_count": 51,
   "id": "c8252fca",
   "metadata": {},
   "outputs": [],
   "source": [
    "users_pivot_size_246 = users_pivot_size['user_id'][users_pivot_size['group']==246].sum()\n",
    "users_pivot_size_247 = users_pivot_size['user_id'][users_pivot_size['group']==247].sum()\n",
    "users_pivot_size_248 = users_pivot_size['user_id'][users_pivot_size['group']==248].sum()"
   ]
  },
  {
   "cell_type": "code",
   "execution_count": 52,
   "id": "7d290721",
   "metadata": {},
   "outputs": [],
   "source": [
    "users_pivot_MainScreenAppear = users_pivot[users_pivot['event_name'] == 'MainScreenAppear']\n",
    "users_pivot_MainScreenAppear_246 = users_pivot_MainScreenAppear['user_id'][users_pivot_MainScreenAppear['group']==246].sum()\n",
    "users_pivot_MainScreenAppear_247 = users_pivot_MainScreenAppear['user_id'][users_pivot_MainScreenAppear['group']==247].sum()\n",
    "users_pivot_MainScreenAppear_248 = users_pivot_MainScreenAppear['user_id'][users_pivot_MainScreenAppear['group']==248].sum()"
   ]
  },
  {
   "cell_type": "markdown",
   "id": "ae8f5a50",
   "metadata": {},
   "source": [
    "Группы 246 и 247"
   ]
  },
  {
   "cell_type": "code",
   "execution_count": 53,
   "id": "dd6ff1a4",
   "metadata": {},
   "outputs": [
    {
     "name": "stdout",
     "output_type": "stream",
     "text": [
      "Оснований отвергать нулевую гипотезу нет, p_val > alpha 0.7570597232046099\n"
     ]
    }
   ],
   "source": [
    "z_test_new(users_pivot_MainScreenAppear_246, \n",
    "           users_pivot_MainScreenAppear_247,\n",
    "           pivot_size_246,\n",
    "           pivot_size_247)"
   ]
  },
  {
   "cell_type": "markdown",
   "id": "126bb51c",
   "metadata": {},
   "source": [
    "Группы 246 и 248"
   ]
  },
  {
   "cell_type": "code",
   "execution_count": 54,
   "id": "809ef9a5",
   "metadata": {},
   "outputs": [
    {
     "name": "stdout",
     "output_type": "stream",
     "text": [
      "Оснований отвергать нулевую гипотезу нет, p_val > alpha 0.2949721933554552\n"
     ]
    }
   ],
   "source": [
    "z_test_new(users_pivot_MainScreenAppear_246, \n",
    "           users_pivot_MainScreenAppear_248,\n",
    "           pivot_size_246,\n",
    "           pivot_size_248)"
   ]
  },
  {
   "cell_type": "markdown",
   "id": "3b62e8d3",
   "metadata": {},
   "source": [
    "Группы 247 и 248"
   ]
  },
  {
   "cell_type": "code",
   "execution_count": 55,
   "id": "2d61d38c",
   "metadata": {},
   "outputs": [
    {
     "name": "stdout",
     "output_type": "stream",
     "text": [
      "Оснований отвергать нулевую гипотезу нет, p_val > alpha 0.4587053616621515\n"
     ]
    }
   ],
   "source": [
    "z_test_new(users_pivot_MainScreenAppear_247, \n",
    "           users_pivot_MainScreenAppear_248,\n",
    "           pivot_size_247,\n",
    "           pivot_size_248)"
   ]
  },
  {
   "cell_type": "markdown",
   "id": "81ae0787",
   "metadata": {},
   "source": [
    "Группы 246+247 и 248"
   ]
  },
  {
   "cell_type": "code",
   "execution_count": 56,
   "id": "f00534e2",
   "metadata": {},
   "outputs": [],
   "source": [
    "size_sum = users_pivot_size_247+users_pivot_size_246"
   ]
  },
  {
   "cell_type": "code",
   "execution_count": 57,
   "id": "e9daa3c3",
   "metadata": {},
   "outputs": [
    {
     "name": "stdout",
     "output_type": "stream",
     "text": [
      "Оснований отвергать нулевую гипотезу нет, p_val > alpha 0.29424526837179577\n"
     ]
    }
   ],
   "source": [
    "group_sum_1 = users_pivot_MainScreenAppear_246+users_pivot_MainScreenAppear_247\n",
    "z_test_new(group_sum_1, \n",
    "           users_pivot_MainScreenAppear_248,\n",
    "           pivot_size_sum,\n",
    "           pivot_size_248)"
   ]
  },
  {
   "cell_type": "markdown",
   "id": "3495e0aa",
   "metadata": {},
   "source": [
    "## z-test Для OffersScreenAppear - 2"
   ]
  },
  {
   "cell_type": "code",
   "execution_count": 58,
   "id": "cd4c4a34",
   "metadata": {},
   "outputs": [],
   "source": [
    "users_pivot_OffersScreenAppear = users_pivot[users_pivot['event_name'] == 'OffersScreenAppear']\n",
    "users_pivot_OffersScreenAppear_246 = users_pivot_OffersScreenAppear['user_id'][users_pivot_OffersScreenAppear['group']==246].sum()\n",
    "users_pivot_OffersScreenAppear_247 = users_pivot_OffersScreenAppear['user_id'][users_pivot_OffersScreenAppear['group']==247].sum()\n",
    "users_pivot_OffersScreenAppear_248 = users_pivot_OffersScreenAppear['user_id'][users_pivot_OffersScreenAppear['group']==248].sum()"
   ]
  },
  {
   "cell_type": "markdown",
   "id": "d4289cbb",
   "metadata": {},
   "source": [
    "Группы 246 и 247"
   ]
  },
  {
   "cell_type": "code",
   "execution_count": 59,
   "id": "355d670c",
   "metadata": {},
   "outputs": [
    {
     "name": "stdout",
     "output_type": "stream",
     "text": [
      "Оснований отвергать нулевую гипотезу нет, p_val > alpha 0.2480954578522181\n"
     ]
    }
   ],
   "source": [
    "z_test_new(users_pivot_OffersScreenAppear_246, \n",
    "           users_pivot_OffersScreenAppear_247,\n",
    "           pivot_size_246,\n",
    "           pivot_size_247)"
   ]
  },
  {
   "cell_type": "markdown",
   "id": "f569a28c",
   "metadata": {},
   "source": [
    "Группы 246 и 248"
   ]
  },
  {
   "cell_type": "code",
   "execution_count": 60,
   "id": "d1362dae",
   "metadata": {},
   "outputs": [
    {
     "name": "stdout",
     "output_type": "stream",
     "text": [
      "Оснований отвергать нулевую гипотезу нет, p_val > alpha 0.20836205402738917\n"
     ]
    }
   ],
   "source": [
    "z_test_new(users_pivot_OffersScreenAppear_246, \n",
    "           users_pivot_OffersScreenAppear_248,\n",
    "           pivot_size_246,\n",
    "           pivot_size_248)"
   ]
  },
  {
   "cell_type": "markdown",
   "id": "ef037448",
   "metadata": {},
   "source": [
    "Группы 247 и 248"
   ]
  },
  {
   "cell_type": "code",
   "execution_count": 61,
   "id": "d1fffbc6",
   "metadata": {},
   "outputs": [
    {
     "name": "stdout",
     "output_type": "stream",
     "text": [
      "Оснований отвергать нулевую гипотезу нет, p_val > alpha 0.9197817830592261\n"
     ]
    }
   ],
   "source": [
    "z_test_new(users_pivot_OffersScreenAppear_247, \n",
    "           users_pivot_OffersScreenAppear_248,\n",
    "           pivot_size_247,\n",
    "           pivot_size_248)"
   ]
  },
  {
   "cell_type": "markdown",
   "id": "abffab90",
   "metadata": {},
   "source": [
    "Группы 246+247 и 248"
   ]
  },
  {
   "cell_type": "code",
   "execution_count": 62,
   "id": "82e1c63f",
   "metadata": {},
   "outputs": [
    {
     "name": "stdout",
     "output_type": "stream",
     "text": [
      "Оснований отвергать нулевую гипотезу нет, p_val > alpha 0.43425549655188256\n"
     ]
    }
   ],
   "source": [
    "group_sum_2 = users_pivot_OffersScreenAppear_247+users_pivot_OffersScreenAppear_246\n",
    "z_test_new(group_sum_2, \n",
    "           users_pivot_OffersScreenAppear_248,\n",
    "           pivot_size_sum,\n",
    "           pivot_size_248)"
   ]
  },
  {
   "cell_type": "markdown",
   "id": "4a79aba0",
   "metadata": {},
   "source": [
    "## z-test Для CartScreenAppear - 3"
   ]
  },
  {
   "cell_type": "code",
   "execution_count": 63,
   "id": "760f5da3",
   "metadata": {},
   "outputs": [],
   "source": [
    "users_pivot_CartScreenAppear = users_pivot[users_pivot['event_name'] == 'CartScreenAppear']\n",
    "users_pivot_CartScreenAppear_246 = users_pivot_CartScreenAppear['user_id'][users_pivot_CartScreenAppear['group']==246].sum()\n",
    "users_pivot_CartScreenAppear_247 = users_pivot_CartScreenAppear['user_id'][users_pivot_CartScreenAppear['group']==247].sum()\n",
    "users_pivot_CartScreenAppear_248 = users_pivot_CartScreenAppear['user_id'][users_pivot_CartScreenAppear['group']==248].sum()"
   ]
  },
  {
   "cell_type": "markdown",
   "id": "e706b602",
   "metadata": {},
   "source": [
    "Группы 246 и 247"
   ]
  },
  {
   "cell_type": "code",
   "execution_count": 64,
   "id": "f06d12c2",
   "metadata": {},
   "outputs": [
    {
     "name": "stdout",
     "output_type": "stream",
     "text": [
      "Оснований отвергать нулевую гипотезу нет, p_val > alpha 0.22883372237997213\n"
     ]
    }
   ],
   "source": [
    "z_test_new(users_pivot_CartScreenAppear_246, \n",
    "           users_pivot_CartScreenAppear_247,\n",
    "           pivot_size_246,\n",
    "           pivot_size_247)"
   ]
  },
  {
   "cell_type": "markdown",
   "id": "1243bdd8",
   "metadata": {},
   "source": [
    "Группы 246 и 248"
   ]
  },
  {
   "cell_type": "code",
   "execution_count": 65,
   "id": "18ba903a",
   "metadata": {},
   "outputs": [
    {
     "name": "stdout",
     "output_type": "stream",
     "text": [
      "Оснований отвергать нулевую гипотезу нет, p_val > alpha 0.07842923237520116\n"
     ]
    }
   ],
   "source": [
    "z_test_new(users_pivot_CartScreenAppear_246, \n",
    "           users_pivot_CartScreenAppear_248,\n",
    "           pivot_size_246,\n",
    "           pivot_size_248)"
   ]
  },
  {
   "cell_type": "markdown",
   "id": "6dc3846e",
   "metadata": {},
   "source": [
    "Группы 247 и 248"
   ]
  },
  {
   "cell_type": "code",
   "execution_count": 66,
   "id": "0de0a63f",
   "metadata": {},
   "outputs": [
    {
     "name": "stdout",
     "output_type": "stream",
     "text": [
      "Оснований отвергать нулевую гипотезу нет, p_val > alpha 0.5786197879539783\n"
     ]
    }
   ],
   "source": [
    "z_test_new(users_pivot_CartScreenAppear_247, \n",
    "           users_pivot_CartScreenAppear_248,\n",
    "           pivot_size_247,\n",
    "           pivot_size_248)"
   ]
  },
  {
   "cell_type": "markdown",
   "id": "7937d950",
   "metadata": {},
   "source": [
    "Группы 246+247 и 248"
   ]
  },
  {
   "cell_type": "code",
   "execution_count": 67,
   "id": "4141e6af",
   "metadata": {},
   "outputs": [
    {
     "name": "stdout",
     "output_type": "stream",
     "text": [
      "Оснований отвергать нулевую гипотезу нет, p_val > alpha 0.18175875284404386\n"
     ]
    }
   ],
   "source": [
    "group_sum_3 = users_pivot_CartScreenAppear_247+users_pivot_CartScreenAppear_246\n",
    "z_test_new(group_sum_3, \n",
    "           users_pivot_CartScreenAppear_248,\n",
    "           pivot_size_sum,\n",
    "           pivot_size_248)"
   ]
  },
  {
   "cell_type": "markdown",
   "id": "61630208",
   "metadata": {},
   "source": [
    "## z-test Для PaymentScreenSuccessful - 4"
   ]
  },
  {
   "cell_type": "code",
   "execution_count": 68,
   "id": "80a47594",
   "metadata": {},
   "outputs": [],
   "source": [
    "users_pivot_PaymentScreenSuccessful = users_pivot[users_pivot['event_name'] == 'PaymentScreenSuccessful']\n",
    "users_pivot_PaymentScreenSuccessful_246 = users_pivot_PaymentScreenSuccessful['user_id'][users_pivot_PaymentScreenSuccessful['group']==246].sum()\n",
    "users_pivot_PaymentScreenSuccessful_247 = users_pivot_PaymentScreenSuccessful['user_id'][users_pivot_PaymentScreenSuccessful['group']==247].sum()\n",
    "users_pivot_PaymentScreenSuccessful_248 = users_pivot_PaymentScreenSuccessful['user_id'][users_pivot_PaymentScreenSuccessful['group']==248].sum()"
   ]
  },
  {
   "cell_type": "markdown",
   "id": "2c85e45e",
   "metadata": {},
   "source": [
    "Группы 246 и 247"
   ]
  },
  {
   "cell_type": "code",
   "execution_count": 69,
   "id": "7e164943",
   "metadata": {},
   "outputs": [
    {
     "name": "stdout",
     "output_type": "stream",
     "text": [
      "Оснований отвергать нулевую гипотезу нет, p_val > alpha 0.11456679313141849\n"
     ]
    }
   ],
   "source": [
    "z_test_new(users_pivot_PaymentScreenSuccessful_246, \n",
    "           users_pivot_PaymentScreenSuccessful_247,\n",
    "           pivot_size_246,\n",
    "           pivot_size_247)"
   ]
  },
  {
   "cell_type": "markdown",
   "id": "5b9a7002",
   "metadata": {},
   "source": [
    "Группы 246 и 248"
   ]
  },
  {
   "cell_type": "code",
   "execution_count": 70,
   "id": "571b133b",
   "metadata": {},
   "outputs": [
    {
     "name": "stdout",
     "output_type": "stream",
     "text": [
      "Оснований отвергать нулевую гипотезу нет, p_val > alpha 0.2122553275697796\n"
     ]
    }
   ],
   "source": [
    "z_test_new(users_pivot_PaymentScreenSuccessful_246, \n",
    "           users_pivot_PaymentScreenSuccessful_248,\n",
    "           pivot_size_246,\n",
    "           pivot_size_248)"
   ]
  },
  {
   "cell_type": "markdown",
   "id": "eadca636",
   "metadata": {},
   "source": [
    "Группы 247 и 248"
   ]
  },
  {
   "cell_type": "code",
   "execution_count": 71,
   "id": "8369643c",
   "metadata": {},
   "outputs": [
    {
     "name": "stdout",
     "output_type": "stream",
     "text": [
      "Оснований отвергать нулевую гипотезу нет, p_val > alpha 0.7373415053803964\n"
     ]
    }
   ],
   "source": [
    "z_test_new(users_pivot_PaymentScreenSuccessful_247, \n",
    "           users_pivot_PaymentScreenSuccessful_248,\n",
    "           pivot_size_247,\n",
    "           pivot_size_248)"
   ]
  },
  {
   "cell_type": "markdown",
   "id": "dc4eb231",
   "metadata": {},
   "source": [
    "Группы 246+247 и 248"
   ]
  },
  {
   "cell_type": "code",
   "execution_count": 72,
   "id": "1723e91c",
   "metadata": {},
   "outputs": [
    {
     "name": "stdout",
     "output_type": "stream",
     "text": [
      "Оснований отвергать нулевую гипотезу нет, p_val > alpha 0.6004294282308704\n"
     ]
    }
   ],
   "source": [
    "group_sum_3 = users_pivot_PaymentScreenSuccessful_247+users_pivot_PaymentScreenSuccessful_246\n",
    "z_test_new(group_sum_3, \n",
    "           users_pivot_PaymentScreenSuccessful_248,\n",
    "           pivot_size_sum,\n",
    "           pivot_size_248)"
   ]
  },
  {
   "cell_type": "markdown",
   "id": "0d1b46b8",
   "metadata": {},
   "source": [
    "### Общий вывод:"
   ]
  },
  {
   "cell_type": "markdown",
   "id": "eeaa1b2f",
   "metadata": {},
   "source": [
    "- Исходя из проведенного теста с группами **246** и **247** можно сказать, что статистических различий между данными нет\n",
    "- Между группами **246** и **248** по всем событиям статистических различий между данными нет\n",
    "- Между группами **247** и **248** по всем событиям статистических различий между данными нет\n",
    "- Статистических различий между группами **246, 247** с экспериментальной **248** нет по всем событиям, соответственно нельзя отвергнуть нулевую гипотезу. Изменение шрифтов в приложении не повлияло на продажи"
   ]
  },
  {
   "cell_type": "code",
   "execution_count": null,
   "id": "ec308e6e",
   "metadata": {},
   "outputs": [],
   "source": []
  }
 ],
 "metadata": {
  "ExecuteTimeLog": [
   {
    "duration": 1203,
    "start_time": "2023-05-31T21:23:14.656Z"
   },
   {
    "duration": 503,
    "start_time": "2023-05-31T21:23:15.861Z"
   },
   {
    "duration": 11,
    "start_time": "2023-05-31T21:23:16.366Z"
   },
   {
    "duration": 42,
    "start_time": "2023-05-31T21:23:16.379Z"
   },
   {
    "duration": 30,
    "start_time": "2023-05-31T21:23:16.422Z"
   },
   {
    "duration": 64,
    "start_time": "2023-05-31T21:23:16.454Z"
   },
   {
    "duration": 77,
    "start_time": "2023-05-31T21:23:16.520Z"
   },
   {
    "duration": 985,
    "start_time": "2023-05-31T21:23:16.599Z"
   },
   {
    "duration": 12,
    "start_time": "2023-05-31T21:23:17.586Z"
   },
   {
    "duration": 35,
    "start_time": "2023-05-31T21:23:17.601Z"
   },
   {
    "duration": 45,
    "start_time": "2023-05-31T21:23:17.642Z"
   },
   {
    "duration": 53,
    "start_time": "2023-05-31T21:23:17.689Z"
   },
   {
    "duration": 14,
    "start_time": "2023-05-31T21:23:17.746Z"
   },
   {
    "duration": 604,
    "start_time": "2023-05-31T21:23:17.761Z"
   },
   {
    "duration": 0,
    "start_time": "2023-05-31T21:23:18.368Z"
   },
   {
    "duration": 0,
    "start_time": "2023-05-31T21:23:18.370Z"
   },
   {
    "duration": 0,
    "start_time": "2023-05-31T21:23:18.372Z"
   },
   {
    "duration": 0,
    "start_time": "2023-05-31T21:23:18.374Z"
   },
   {
    "duration": 0,
    "start_time": "2023-05-31T21:23:18.375Z"
   },
   {
    "duration": 0,
    "start_time": "2023-05-31T21:23:18.376Z"
   },
   {
    "duration": 0,
    "start_time": "2023-05-31T21:23:18.378Z"
   },
   {
    "duration": 0,
    "start_time": "2023-05-31T21:23:18.378Z"
   },
   {
    "duration": 0,
    "start_time": "2023-05-31T21:23:18.379Z"
   },
   {
    "duration": 0,
    "start_time": "2023-05-31T21:23:18.380Z"
   },
   {
    "duration": 0,
    "start_time": "2023-05-31T21:23:18.382Z"
   },
   {
    "duration": 0,
    "start_time": "2023-05-31T21:23:18.383Z"
   },
   {
    "duration": 0,
    "start_time": "2023-05-31T21:23:18.385Z"
   },
   {
    "duration": 0,
    "start_time": "2023-05-31T21:23:18.386Z"
   },
   {
    "duration": 0,
    "start_time": "2023-05-31T21:23:18.387Z"
   },
   {
    "duration": 0,
    "start_time": "2023-05-31T21:23:18.389Z"
   },
   {
    "duration": 0,
    "start_time": "2023-05-31T21:23:18.428Z"
   },
   {
    "duration": 0,
    "start_time": "2023-05-31T21:23:18.429Z"
   },
   {
    "duration": 0,
    "start_time": "2023-05-31T21:23:18.430Z"
   },
   {
    "duration": 0,
    "start_time": "2023-05-31T21:23:18.430Z"
   },
   {
    "duration": 0,
    "start_time": "2023-05-31T21:23:18.431Z"
   },
   {
    "duration": 0,
    "start_time": "2023-05-31T21:23:18.432Z"
   },
   {
    "duration": 0,
    "start_time": "2023-05-31T21:23:18.432Z"
   },
   {
    "duration": 0,
    "start_time": "2023-05-31T21:23:18.434Z"
   },
   {
    "duration": 1303,
    "start_time": "2023-06-02T18:49:26.937Z"
   },
   {
    "duration": 388,
    "start_time": "2023-06-02T18:49:28.242Z"
   },
   {
    "duration": 12,
    "start_time": "2023-06-02T18:49:28.631Z"
   },
   {
    "duration": 24,
    "start_time": "2023-06-02T18:49:28.644Z"
   },
   {
    "duration": 20,
    "start_time": "2023-06-02T18:49:28.670Z"
   },
   {
    "duration": 79,
    "start_time": "2023-06-02T18:49:28.692Z"
   },
   {
    "duration": 77,
    "start_time": "2023-06-02T18:49:28.773Z"
   },
   {
    "duration": 876,
    "start_time": "2023-06-02T18:49:28.852Z"
   },
   {
    "duration": 10,
    "start_time": "2023-06-02T18:49:29.730Z"
   },
   {
    "duration": 11,
    "start_time": "2023-06-02T18:49:29.741Z"
   },
   {
    "duration": 7,
    "start_time": "2023-06-02T18:49:29.754Z"
   },
   {
    "duration": 16,
    "start_time": "2023-06-02T18:49:29.762Z"
   },
   {
    "duration": 5,
    "start_time": "2023-06-02T18:49:29.780Z"
   },
   {
    "duration": 518,
    "start_time": "2023-06-02T18:49:29.787Z"
   },
   {
    "duration": 60,
    "start_time": "2023-06-02T18:49:30.307Z"
   },
   {
    "duration": 22,
    "start_time": "2023-06-02T18:49:30.369Z"
   },
   {
    "duration": 53,
    "start_time": "2023-06-02T18:49:30.393Z"
   },
   {
    "duration": 32,
    "start_time": "2023-06-02T18:49:30.447Z"
   },
   {
    "duration": 70,
    "start_time": "2023-06-02T18:49:30.482Z"
   },
   {
    "duration": 165,
    "start_time": "2023-06-02T18:49:30.554Z"
   },
   {
    "duration": 13,
    "start_time": "2023-06-02T18:49:30.721Z"
   },
   {
    "duration": 35,
    "start_time": "2023-06-02T18:49:30.736Z"
   },
   {
    "duration": 59,
    "start_time": "2023-06-02T18:49:30.773Z"
   },
   {
    "duration": 56,
    "start_time": "2023-06-02T18:49:30.834Z"
   },
   {
    "duration": 4,
    "start_time": "2023-06-02T18:49:30.891Z"
   },
   {
    "duration": 17,
    "start_time": "2023-06-02T18:49:30.896Z"
   },
   {
    "duration": 76,
    "start_time": "2023-06-02T18:49:30.914Z"
   },
   {
    "duration": 4,
    "start_time": "2023-06-02T18:49:30.992Z"
   },
   {
    "duration": 85,
    "start_time": "2023-06-02T18:49:30.997Z"
   },
   {
    "duration": 4,
    "start_time": "2023-06-02T18:49:31.083Z"
   },
   {
    "duration": 108,
    "start_time": "2023-06-02T18:49:31.089Z"
   },
   {
    "duration": 5,
    "start_time": "2023-06-02T18:49:31.198Z"
   },
   {
    "duration": 13,
    "start_time": "2023-06-02T18:49:31.204Z"
   },
   {
    "duration": 207,
    "start_time": "2023-06-02T18:49:31.219Z"
   },
   {
    "duration": 181,
    "start_time": "2023-06-02T18:49:31.428Z"
   },
   {
    "duration": 183,
    "start_time": "2023-06-02T18:49:31.610Z"
   },
   {
    "duration": 8,
    "start_time": "2023-06-02T18:49:31.794Z"
   },
   {
    "duration": 225,
    "start_time": "2023-06-02T18:49:31.803Z"
   },
   {
    "duration": 25,
    "start_time": "2023-06-02T18:49:32.029Z"
   },
   {
    "duration": 9,
    "start_time": "2023-06-02T18:49:32.056Z"
   },
   {
    "duration": 109,
    "start_time": "2023-06-02T18:49:32.069Z"
   },
   {
    "duration": 4,
    "start_time": "2023-06-02T18:49:32.180Z"
   },
   {
    "duration": 6,
    "start_time": "2023-06-02T18:49:32.186Z"
   },
   {
    "duration": 5,
    "start_time": "2023-06-02T18:49:32.194Z"
   },
   {
    "duration": 9,
    "start_time": "2023-06-02T18:49:32.201Z"
   },
   {
    "duration": 6,
    "start_time": "2023-06-02T18:49:32.212Z"
   },
   {
    "duration": 1255,
    "start_time": "2023-06-04T09:11:43.324Z"
   },
   {
    "duration": 396,
    "start_time": "2023-06-04T09:11:44.581Z"
   },
   {
    "duration": 12,
    "start_time": "2023-06-04T09:11:44.978Z"
   },
   {
    "duration": 24,
    "start_time": "2023-06-04T09:11:44.992Z"
   },
   {
    "duration": 39,
    "start_time": "2023-06-04T09:11:45.018Z"
   },
   {
    "duration": 58,
    "start_time": "2023-06-04T09:11:45.059Z"
   },
   {
    "duration": 63,
    "start_time": "2023-06-04T09:11:45.119Z"
   },
   {
    "duration": 936,
    "start_time": "2023-06-04T09:11:45.184Z"
   },
   {
    "duration": 9,
    "start_time": "2023-06-04T09:11:46.122Z"
   },
   {
    "duration": 12,
    "start_time": "2023-06-04T09:11:46.133Z"
   },
   {
    "duration": 7,
    "start_time": "2023-06-04T09:11:46.146Z"
   },
   {
    "duration": 18,
    "start_time": "2023-06-04T09:11:46.155Z"
   },
   {
    "duration": 5,
    "start_time": "2023-06-04T09:11:46.174Z"
   },
   {
    "duration": 438,
    "start_time": "2023-06-04T09:11:46.180Z"
   },
   {
    "duration": 47,
    "start_time": "2023-06-04T09:11:46.619Z"
   },
   {
    "duration": 21,
    "start_time": "2023-06-04T09:11:46.668Z"
   },
   {
    "duration": 47,
    "start_time": "2023-06-04T09:11:46.691Z"
   },
   {
    "duration": 29,
    "start_time": "2023-06-04T09:11:46.740Z"
   },
   {
    "duration": 82,
    "start_time": "2023-06-04T09:11:46.770Z"
   },
   {
    "duration": 145,
    "start_time": "2023-06-04T09:11:46.853Z"
   },
   {
    "duration": 20,
    "start_time": "2023-06-04T09:11:46.999Z"
   },
   {
    "duration": 11,
    "start_time": "2023-06-04T09:11:47.020Z"
   },
   {
    "duration": 34,
    "start_time": "2023-06-04T09:11:47.032Z"
   },
   {
    "duration": 63,
    "start_time": "2023-06-04T09:11:47.068Z"
   },
   {
    "duration": 3,
    "start_time": "2023-06-04T09:11:47.133Z"
   },
   {
    "duration": 15,
    "start_time": "2023-06-04T09:11:47.137Z"
   },
   {
    "duration": 59,
    "start_time": "2023-06-04T09:11:47.154Z"
   },
   {
    "duration": 4,
    "start_time": "2023-06-04T09:11:47.217Z"
   },
   {
    "duration": 62,
    "start_time": "2023-06-04T09:11:47.222Z"
   },
   {
    "duration": 3,
    "start_time": "2023-06-04T09:11:47.286Z"
   },
   {
    "duration": 74,
    "start_time": "2023-06-04T09:11:47.291Z"
   },
   {
    "duration": 4,
    "start_time": "2023-06-04T09:11:47.367Z"
   },
   {
    "duration": 6,
    "start_time": "2023-06-04T09:11:47.372Z"
   },
   {
    "duration": 160,
    "start_time": "2023-06-04T09:11:47.380Z"
   },
   {
    "duration": 148,
    "start_time": "2023-06-04T09:11:47.542Z"
   },
   {
    "duration": 155,
    "start_time": "2023-06-04T09:11:47.691Z"
   },
   {
    "duration": 6,
    "start_time": "2023-06-04T09:11:47.848Z"
   },
   {
    "duration": 202,
    "start_time": "2023-06-04T09:11:47.855Z"
   },
   {
    "duration": 19,
    "start_time": "2023-06-04T09:11:48.058Z"
   },
   {
    "duration": 8,
    "start_time": "2023-06-04T09:11:48.079Z"
   },
   {
    "duration": 115,
    "start_time": "2023-06-04T09:11:48.089Z"
   },
   {
    "duration": 10,
    "start_time": "2023-06-04T09:11:48.205Z"
   },
   {
    "duration": 5,
    "start_time": "2023-06-04T09:11:48.217Z"
   },
   {
    "duration": 6,
    "start_time": "2023-06-04T09:11:48.223Z"
   },
   {
    "duration": 5,
    "start_time": "2023-06-04T09:11:48.230Z"
   },
   {
    "duration": 6,
    "start_time": "2023-06-04T09:11:48.236Z"
   },
   {
    "duration": 114,
    "start_time": "2023-06-04T09:11:48.243Z"
   },
   {
    "duration": 4,
    "start_time": "2023-06-04T09:11:48.358Z"
   },
   {
    "duration": 23,
    "start_time": "2023-06-04T09:11:48.364Z"
   },
   {
    "duration": 3,
    "start_time": "2023-06-04T09:11:48.389Z"
   },
   {
    "duration": 5,
    "start_time": "2023-06-04T09:11:48.394Z"
   },
   {
    "duration": 15,
    "start_time": "2023-06-04T09:11:48.401Z"
   },
   {
    "duration": 9,
    "start_time": "2023-06-04T09:11:48.417Z"
   },
   {
    "duration": 14,
    "start_time": "2023-06-04T09:11:48.427Z"
   },
   {
    "duration": 9,
    "start_time": "2023-06-04T09:11:48.442Z"
   },
   {
    "duration": 8,
    "start_time": "2023-06-04T09:11:48.452Z"
   },
   {
    "duration": 6,
    "start_time": "2023-06-04T09:11:48.461Z"
   },
   {
    "duration": 11,
    "start_time": "2023-06-04T09:11:48.468Z"
   },
   {
    "duration": 15,
    "start_time": "2023-06-04T09:11:48.480Z"
   },
   {
    "duration": 8,
    "start_time": "2023-06-04T09:11:48.496Z"
   },
   {
    "duration": 6,
    "start_time": "2023-06-04T09:11:48.505Z"
   },
   {
    "duration": 8,
    "start_time": "2023-06-04T09:11:48.512Z"
   },
   {
    "duration": 8,
    "start_time": "2023-06-04T09:11:48.521Z"
   },
   {
    "duration": 6,
    "start_time": "2023-06-04T09:11:48.530Z"
   },
   {
    "duration": 8,
    "start_time": "2023-06-04T09:11:48.537Z"
   },
   {
    "duration": 6,
    "start_time": "2023-06-04T09:11:48.546Z"
   },
   {
    "duration": 6,
    "start_time": "2023-06-04T09:11:48.553Z"
   },
   {
    "duration": 8,
    "start_time": "2023-06-04T09:11:48.561Z"
   },
   {
    "duration": 6,
    "start_time": "2023-06-04T09:11:48.570Z"
   },
   {
    "duration": 3,
    "start_time": "2023-06-04T09:13:39.996Z"
   },
   {
    "duration": 4,
    "start_time": "2023-06-04T09:26:11.979Z"
   },
   {
    "duration": 4,
    "start_time": "2023-06-04T09:27:01.305Z"
   },
   {
    "duration": 4,
    "start_time": "2023-06-04T09:27:03.734Z"
   },
   {
    "duration": 4,
    "start_time": "2023-06-04T09:28:06.738Z"
   },
   {
    "duration": 5,
    "start_time": "2023-06-04T09:28:08.797Z"
   },
   {
    "duration": 4,
    "start_time": "2023-06-04T09:29:38.272Z"
   },
   {
    "duration": 113,
    "start_time": "2023-06-04T09:29:39.964Z"
   },
   {
    "duration": 5,
    "start_time": "2023-06-04T09:29:52.463Z"
   },
   {
    "duration": 4,
    "start_time": "2023-06-04T09:30:12.179Z"
   },
   {
    "duration": 5,
    "start_time": "2023-06-04T09:30:14.035Z"
   },
   {
    "duration": 4,
    "start_time": "2023-06-04T09:31:43.789Z"
   },
   {
    "duration": 4,
    "start_time": "2023-06-04T09:31:45.559Z"
   },
   {
    "duration": 4,
    "start_time": "2023-06-04T09:32:44.046Z"
   },
   {
    "duration": 3,
    "start_time": "2023-06-04T09:36:06.266Z"
   },
   {
    "duration": 1275,
    "start_time": "2023-06-04T21:19:58.553Z"
   },
   {
    "duration": 415,
    "start_time": "2023-06-04T21:19:59.830Z"
   },
   {
    "duration": 10,
    "start_time": "2023-06-04T21:20:00.247Z"
   },
   {
    "duration": 39,
    "start_time": "2023-06-04T21:20:00.259Z"
   },
   {
    "duration": 21,
    "start_time": "2023-06-04T21:20:00.300Z"
   },
   {
    "duration": 71,
    "start_time": "2023-06-04T21:20:00.323Z"
   },
   {
    "duration": 70,
    "start_time": "2023-06-04T21:20:00.395Z"
   },
   {
    "duration": 877,
    "start_time": "2023-06-04T21:20:00.467Z"
   },
   {
    "duration": 11,
    "start_time": "2023-06-04T21:20:01.350Z"
   },
   {
    "duration": 34,
    "start_time": "2023-06-04T21:20:01.363Z"
   },
   {
    "duration": 40,
    "start_time": "2023-06-04T21:20:01.399Z"
   },
   {
    "duration": 39,
    "start_time": "2023-06-04T21:20:01.441Z"
   },
   {
    "duration": 6,
    "start_time": "2023-06-04T21:20:01.482Z"
   },
   {
    "duration": 568,
    "start_time": "2023-06-04T21:20:01.490Z"
   },
   {
    "duration": 50,
    "start_time": "2023-06-04T21:20:02.060Z"
   },
   {
    "duration": 20,
    "start_time": "2023-06-04T21:20:02.112Z"
   },
   {
    "duration": 35,
    "start_time": "2023-06-04T21:20:02.151Z"
   },
   {
    "duration": 29,
    "start_time": "2023-06-04T21:20:02.188Z"
   },
   {
    "duration": 83,
    "start_time": "2023-06-04T21:20:02.220Z"
   },
   {
    "duration": 172,
    "start_time": "2023-06-04T21:20:02.304Z"
   },
   {
    "duration": 15,
    "start_time": "2023-06-04T21:20:02.478Z"
   },
   {
    "duration": 22,
    "start_time": "2023-06-04T21:20:02.495Z"
   },
   {
    "duration": 44,
    "start_time": "2023-06-04T21:20:02.519Z"
   },
   {
    "duration": 53,
    "start_time": "2023-06-04T21:20:02.564Z"
   },
   {
    "duration": 4,
    "start_time": "2023-06-04T21:20:02.618Z"
   },
   {
    "duration": 7,
    "start_time": "2023-06-04T21:20:02.624Z"
   },
   {
    "duration": 44,
    "start_time": "2023-06-04T21:20:02.651Z"
   },
   {
    "duration": 3,
    "start_time": "2023-06-04T21:20:02.699Z"
   },
   {
    "duration": 65,
    "start_time": "2023-06-04T21:20:02.704Z"
   },
   {
    "duration": 4,
    "start_time": "2023-06-04T21:20:02.771Z"
   },
   {
    "duration": 88,
    "start_time": "2023-06-04T21:20:02.776Z"
   },
   {
    "duration": 4,
    "start_time": "2023-06-04T21:20:02.866Z"
   },
   {
    "duration": 21,
    "start_time": "2023-06-04T21:20:02.872Z"
   },
   {
    "duration": 186,
    "start_time": "2023-06-04T21:20:02.895Z"
   },
   {
    "duration": 178,
    "start_time": "2023-06-04T21:20:03.083Z"
   },
   {
    "duration": 178,
    "start_time": "2023-06-04T21:20:03.263Z"
   },
   {
    "duration": 7,
    "start_time": "2023-06-04T21:20:03.450Z"
   },
   {
    "duration": 245,
    "start_time": "2023-06-04T21:20:03.458Z"
   },
   {
    "duration": 21,
    "start_time": "2023-06-04T21:20:03.704Z"
   },
   {
    "duration": 28,
    "start_time": "2023-06-04T21:20:03.727Z"
   },
   {
    "duration": 119,
    "start_time": "2023-06-04T21:20:03.757Z"
   },
   {
    "duration": 4,
    "start_time": "2023-06-04T21:20:03.878Z"
   },
   {
    "duration": 19,
    "start_time": "2023-06-04T21:20:03.883Z"
   },
   {
    "duration": 12,
    "start_time": "2023-06-04T21:20:03.904Z"
   },
   {
    "duration": 7,
    "start_time": "2023-06-04T21:20:03.918Z"
   },
   {
    "duration": 7,
    "start_time": "2023-06-04T21:20:03.927Z"
   },
   {
    "duration": 50,
    "start_time": "2023-06-04T21:20:03.935Z"
   },
   {
    "duration": 51,
    "start_time": "2023-06-04T21:20:03.986Z"
   },
   {
    "duration": 24,
    "start_time": "2023-06-04T21:20:04.039Z"
   },
   {
    "duration": 24,
    "start_time": "2023-06-04T21:20:04.065Z"
   },
   {
    "duration": 18,
    "start_time": "2023-06-04T21:20:04.091Z"
   },
   {
    "duration": 14,
    "start_time": "2023-06-04T21:20:04.111Z"
   },
   {
    "duration": 7,
    "start_time": "2023-06-04T21:20:04.127Z"
   },
   {
    "duration": 6,
    "start_time": "2023-06-04T21:20:04.136Z"
   },
   {
    "duration": 12,
    "start_time": "2023-06-04T21:20:04.144Z"
   },
   {
    "duration": 7,
    "start_time": "2023-06-04T21:20:04.159Z"
   },
   {
    "duration": 12,
    "start_time": "2023-06-04T21:20:04.168Z"
   },
   {
    "duration": 20,
    "start_time": "2023-06-04T21:20:04.182Z"
   },
   {
    "duration": 7,
    "start_time": "2023-06-04T21:20:04.203Z"
   },
   {
    "duration": 8,
    "start_time": "2023-06-04T21:20:04.211Z"
   },
   {
    "duration": 5,
    "start_time": "2023-06-04T21:20:04.221Z"
   },
   {
    "duration": 5,
    "start_time": "2023-06-04T21:20:04.228Z"
   },
   {
    "duration": 21,
    "start_time": "2023-06-04T21:20:04.235Z"
   },
   {
    "duration": 19,
    "start_time": "2023-06-04T21:20:04.259Z"
   },
   {
    "duration": 14,
    "start_time": "2023-06-04T21:20:04.281Z"
   },
   {
    "duration": 7,
    "start_time": "2023-06-04T21:20:04.297Z"
   },
   {
    "duration": 13,
    "start_time": "2023-06-04T21:20:04.305Z"
   },
   {
    "duration": 10,
    "start_time": "2023-06-04T21:20:04.320Z"
   },
   {
    "duration": 10,
    "start_time": "2023-06-04T21:20:04.331Z"
   },
   {
    "duration": 5,
    "start_time": "2023-06-04T21:20:04.343Z"
   },
   {
    "duration": 12,
    "start_time": "2023-06-04T21:20:04.354Z"
   },
   {
    "duration": 28,
    "start_time": "2023-06-04T21:20:04.368Z"
   },
   {
    "duration": 4,
    "start_time": "2023-06-04T21:20:57.720Z"
   },
   {
    "duration": 4,
    "start_time": "2023-06-04T21:21:02.818Z"
   },
   {
    "duration": 8,
    "start_time": "2023-06-04T21:21:14.971Z"
   },
   {
    "duration": 12,
    "start_time": "2023-06-04T21:21:46.377Z"
   },
   {
    "duration": 19,
    "start_time": "2023-06-04T21:22:01.448Z"
   },
   {
    "duration": 7,
    "start_time": "2023-06-04T21:22:12.488Z"
   },
   {
    "duration": 19,
    "start_time": "2023-06-04T21:23:27.072Z"
   },
   {
    "duration": 18,
    "start_time": "2023-06-04T21:24:29.365Z"
   },
   {
    "duration": 19,
    "start_time": "2023-06-04T21:24:45.292Z"
   },
   {
    "duration": 4,
    "start_time": "2023-06-04T21:24:48.885Z"
   },
   {
    "duration": 4,
    "start_time": "2023-06-04T21:24:57.074Z"
   },
   {
    "duration": 5,
    "start_time": "2023-06-04T21:25:00.683Z"
   },
   {
    "duration": 7,
    "start_time": "2023-06-04T21:25:01.169Z"
   }
  ],
  "kernelspec": {
   "display_name": "Python 3 (ipykernel)",
   "language": "python",
   "name": "python3"
  },
  "language_info": {
   "codemirror_mode": {
    "name": "ipython",
    "version": 3
   },
   "file_extension": ".py",
   "mimetype": "text/x-python",
   "name": "python",
   "nbconvert_exporter": "python",
   "pygments_lexer": "ipython3",
   "version": "3.10.9"
  },
  "toc": {
   "base_numbering": 1,
   "nav_menu": {},
   "number_sections": false,
   "sideBar": true,
   "skip_h1_title": false,
   "title_cell": "Table of Contents",
   "title_sidebar": "Contents",
   "toc_cell": false,
   "toc_position": {
    "height": "calc(100% - 180px)",
    "left": "10px",
    "top": "150px",
    "width": "315px"
   },
   "toc_section_display": true,
   "toc_window_display": true
  }
 },
 "nbformat": 4,
 "nbformat_minor": 5
}
