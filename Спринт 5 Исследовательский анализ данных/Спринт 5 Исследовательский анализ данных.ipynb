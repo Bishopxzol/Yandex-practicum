{
 "cells": [
  {
   "cell_type": "markdown",
   "id": "a95afdb6",
   "metadata": {},
   "source": [
    "# Исследование объявлений о продаже квартир\n"
   ]
  },
  {
   "cell_type": "markdown",
   "id": "805b3d95",
   "metadata": {},
   "source": [
    "<div class=\"alert alert-success\">\n",
    "  <b> ✔️Комментарий ревьюера ✔️</b>\n",
    "\n",
    "Привет, Кирилл! Меня зовут Михаил Майоров, я буду проверять твой проект. Предлагаю общаться на 'ты' :)\n",
    "Однако, если это неудобно - сообщи, и мы перейдем на 'Вы'. Моя главная цель —  поделиться с тобой своим опытом и помочь тебе стать аналитиком данных, а не только указать на совершенные тобой ошибки.\n",
    "\n",
    "Видно, что к проету приложен большой труд. Все ключевые этапы в работе выполнены, статистическое исследование проведено качественно. Так что в целом справиться с задачей тебе удалось.\n",
    "\n",
    "Есть несколько аспектов, которые **требуют** твоего **внимания**. Комментарии по ним помечены красным цветом и символами ❌. После их доработки проект будет принят, осталось совсем немного :) \n",
    "    \n",
    "\n",
    "Давай работать над проектом в диалоге: если **ты что-то меняешь** в проекте по моим рекомендациям — **пиши об этом**. Мне будет легче отследить изменения, если ты будешь использовать синюю форму, которую я прикреплю ниже. Пожалуйста, **не перемещай, не изменяй и не удаляй мои комментарии**. Всё это поможет выполнить повторную проверку твоего проекта оперативнее. \n",
    "\n",
    "\n",
    "\n",
    "Жду проект на повторное ревью. Успехов в изучении!\n",
    "\n",
    "\n",
    "\n",
    "</div>\n",
    "<div class=\"alert alert-block alert-danger\"> <b>❌ Комментарий ревьюера ❌</b> \n",
    "    Так я выделяю моменты, которые требуют особого внимания. Нужно будет учесть их и внести корректировки в свою работу. </div>\n",
    "<div class=\"alert alert-block alert-warning\"> <b>⚠️ Комментарий ревьюера ⚠️</b> \n",
    "    Желтым я отмечу рекомендации, которые, могут быть полезными при твоей работе. Они носят рекомендационный характер, но будет классно, если ты будешь учитывать их при работе.</div>\n",
    "<div class=\"alert alert-block alert-success\"> <b>✔️ Комментарий ревьюера ✔️</b>\n",
    "    Так я выделяю удачные и элегантные решения, на которые можно опираться в будущих проектах.</div>\n",
    "<div class=\"alert alert-block alert-info\">\n",
    "    \n",
    "А в таком блоке ты можешь оставить комментарии для меня \n",
    "    \n",
    "</div>"
   ]
  },
  {
   "cell_type": "markdown",
   "id": "dea73ae3",
   "metadata": {},
   "source": [
    "## Содержание:\n",
    "\n",
    "1  Изучение данных из файла\n",
    "\n",
    "1.1 Импортируем все необходимые библиотеки\n",
    "\n",
    "1.2 Загрузка файла и предварительный просмотр данных\n",
    "\n",
    "\n",
    "2  Предобработка данных\n",
    "\n",
    "2.1 Приведение названий всех колонок к одному формату\n",
    "\n",
    "2.2 Изучение аномальных значений.\n",
    "\n",
    "2.3 Изучение пропущенных значений\n",
    "\n",
    "2.4 Изучие уникальных значений\n",
    "\n",
    "3  Рассчёты и добавление результатов в таблицу\n",
    "\n",
    "4  Исследовательский анализ данных\n",
    "\n",
    "4.1 Изучение и описание параметров\n",
    "\n",
    "4.2 Как быстро продавались квартиры\n",
    "\n",
    "4.3 Факторы, больше всего влияющие, на общую (полную) стоимость объекта\n",
    "\n",
    "4.4 Средняя цена одного квадратного метра в 10 населённых пунктах с наибольшим числом объявлений\n",
    "\n",
    "4.5 Средняя цена каждого километра\n",
    "\n",
    "5  Общий вывод"
   ]
  },
  {
   "cell_type": "markdown",
   "id": "6d62a5ee",
   "metadata": {},
   "source": [
    "<b>Цель исследования</b> - выполнить предобработку данных и изучить их, чтобы найти интересные особенности и зависимости, которые существуют на рынке недвижимости.\n",
    "\n",
    "<b>Исходные данные</b> - данные сервиса «Яндекс.Недвижимость» (архив объявлений о продаже квартир в Санкт-Петербурге и соседних населённых пунктах за несколько лет).\n",
    "\n",
    "<b>Вопросы, интересующие заказчика:</b>\n",
    "\n",
    "Сколько времени занимает продажа квартиры. Когда продажу можно назвать быстрой / долгой\n",
    "Какие факторы больше всего влияют на стоимость квартиры\n",
    "Какая средняя стоимость квартиры в 10 населённых пунктов с наибольшим числом объявлений\n",
    "Какие факторы влияют на стоимость квартиры в центре Санкт-Петербурга. Насколько они отличаются от данных в целом по городу"
   ]
  },
  {
   "cell_type": "markdown",
   "id": "67c937ed",
   "metadata": {},
   "source": [
    "**Описание данных**\n",
    "\n",
    "-airports_nearest — расстояние до ближайшего аэропорта в метрах (м)\n",
    "\n",
    "-balcony — число балконов  \n",
    "\n",
    "-ceiling_height — высота потолков (м) \n",
    "\n",
    "-cityCenters_nearest — расстояние до центра города (м)\n",
    "\n",
    "-days_exposition — сколько дней было размещено объявление (от публикации до снятия)\n",
    "\n",
    "-first_day_exposition — дата публикации\n",
    "\n",
    "-floor — этаж\n",
    "\n",
    "-floors_total — всего этажей в доме\n",
    "\n",
    "-is_apartment — апартаменты (булев тип)\n",
    "\n",
    "-kitchen_area — площадь кухни в квадратных метрах (м²)\n",
    "\n",
    "-last_price — цена на момент снятия с публикации\n",
    "\n",
    "-living_area — жилая площадь в квадратных метрах (м²)\n",
    "\n",
    "-locality_name — название населённого пункта\n",
    "\n",
    "-open_plan — свободная планировка (булев тип)\n",
    "\n",
    "-parks_around3000 — число парков в радиусе 3 км\n",
    "\n",
    "-parks_nearest — расстояние до ближайшего парка (м)\n",
    "\n",
    "-ponds_around3000 — число водоёмов в радиусе 3 км\n",
    "\n",
    "-ponds_nearest — расстояние до ближайшего водоёма (м)\n",
    "\n",
    "-rooms — число комнат\n",
    "\n",
    "-studio — квартира-студия (булев тип)\n",
    "\n",
    "-total_area — общая площадь квартиры в квадратных метрах (м²)\n",
    "\n",
    "-total_images — число фотографий квартиры в объявлении"
   ]
  },
  {
   "cell_type": "markdown",
   "id": "72b512e3",
   "metadata": {},
   "source": [
    "<div class=\"alert alert-success\">\n",
    "\n",
    "**✔️ Комментарий ревьюера ✔️**\n",
    "   \n",
    "   Хорошее введение в проект - пригодится в будущем, когда соберешь большое портфолио и откроешь проект вновь👍\n",
    "\n",
    "</div>\n"
   ]
  },
  {
   "cell_type": "markdown",
   "id": "64396a29",
   "metadata": {},
   "source": [
    "## 1 Откройте файл с данными и изучите общую информацию. "
   ]
  },
  {
   "cell_type": "markdown",
   "id": "629e46d4",
   "metadata": {},
   "source": [
    "#### 1.1 Импортируем все нужные библиотеки"
   ]
  },
  {
   "cell_type": "code",
   "execution_count": 146,
   "id": "1a287103",
   "metadata": {},
   "outputs": [],
   "source": [
    "import pandas as pd\n",
    "import seaborn as sns\n",
    "import numpy as np\n",
    "import matplotlib.pyplot as plt\n",
    "import datetime as dt"
   ]
  },
  {
   "cell_type": "markdown",
   "id": "eaeba363",
   "metadata": {},
   "source": [
    "####  1.2 Загрузка файла и предварительный просмотр данных"
   ]
  },
  {
   "cell_type": "code",
   "execution_count": 147,
   "id": "6148eaa8",
   "metadata": {},
   "outputs": [],
   "source": [
    "try:\n",
    "    data = pd.read_csv('/datasets/real_estate_data.csv',  sep='\\t')\n",
    "except:\n",
    "    data = pd.read_csv('https://code.s3.yandex.net/datasets/real_estate_data.csv',  sep='\\t')"
   ]
  },
  {
   "cell_type": "code",
   "execution_count": 148,
   "id": "51221923",
   "metadata": {},
   "outputs": [
    {
     "data": {
      "text/html": [
       "<div>\n",
       "<style scoped>\n",
       "    .dataframe tbody tr th:only-of-type {\n",
       "        vertical-align: middle;\n",
       "    }\n",
       "\n",
       "    .dataframe tbody tr th {\n",
       "        vertical-align: top;\n",
       "    }\n",
       "\n",
       "    .dataframe thead th {\n",
       "        text-align: right;\n",
       "    }\n",
       "</style>\n",
       "<table border=\"1\" class=\"dataframe\">\n",
       "  <thead>\n",
       "    <tr style=\"text-align: right;\">\n",
       "      <th></th>\n",
       "      <th>total_images</th>\n",
       "      <th>last_price</th>\n",
       "      <th>total_area</th>\n",
       "      <th>first_day_exposition</th>\n",
       "      <th>rooms</th>\n",
       "      <th>ceiling_height</th>\n",
       "      <th>floors_total</th>\n",
       "      <th>living_area</th>\n",
       "      <th>floor</th>\n",
       "      <th>is_apartment</th>\n",
       "      <th>...</th>\n",
       "      <th>kitchen_area</th>\n",
       "      <th>balcony</th>\n",
       "      <th>locality_name</th>\n",
       "      <th>airports_nearest</th>\n",
       "      <th>cityCenters_nearest</th>\n",
       "      <th>parks_around3000</th>\n",
       "      <th>parks_nearest</th>\n",
       "      <th>ponds_around3000</th>\n",
       "      <th>ponds_nearest</th>\n",
       "      <th>days_exposition</th>\n",
       "    </tr>\n",
       "  </thead>\n",
       "  <tbody>\n",
       "    <tr>\n",
       "      <th>0</th>\n",
       "      <td>20</td>\n",
       "      <td>13000000.0</td>\n",
       "      <td>108.0</td>\n",
       "      <td>2019-03-07T00:00:00</td>\n",
       "      <td>3</td>\n",
       "      <td>2.70</td>\n",
       "      <td>16.0</td>\n",
       "      <td>51.0</td>\n",
       "      <td>8</td>\n",
       "      <td>NaN</td>\n",
       "      <td>...</td>\n",
       "      <td>25.0</td>\n",
       "      <td>NaN</td>\n",
       "      <td>Санкт-Петербург</td>\n",
       "      <td>18863.0</td>\n",
       "      <td>16028.0</td>\n",
       "      <td>1.0</td>\n",
       "      <td>482.0</td>\n",
       "      <td>2.0</td>\n",
       "      <td>755.0</td>\n",
       "      <td>NaN</td>\n",
       "    </tr>\n",
       "    <tr>\n",
       "      <th>1</th>\n",
       "      <td>7</td>\n",
       "      <td>3350000.0</td>\n",
       "      <td>40.4</td>\n",
       "      <td>2018-12-04T00:00:00</td>\n",
       "      <td>1</td>\n",
       "      <td>NaN</td>\n",
       "      <td>11.0</td>\n",
       "      <td>18.6</td>\n",
       "      <td>1</td>\n",
       "      <td>NaN</td>\n",
       "      <td>...</td>\n",
       "      <td>11.0</td>\n",
       "      <td>2.0</td>\n",
       "      <td>посёлок Шушары</td>\n",
       "      <td>12817.0</td>\n",
       "      <td>18603.0</td>\n",
       "      <td>0.0</td>\n",
       "      <td>NaN</td>\n",
       "      <td>0.0</td>\n",
       "      <td>NaN</td>\n",
       "      <td>81.0</td>\n",
       "    </tr>\n",
       "    <tr>\n",
       "      <th>2</th>\n",
       "      <td>10</td>\n",
       "      <td>5196000.0</td>\n",
       "      <td>56.0</td>\n",
       "      <td>2015-08-20T00:00:00</td>\n",
       "      <td>2</td>\n",
       "      <td>NaN</td>\n",
       "      <td>5.0</td>\n",
       "      <td>34.3</td>\n",
       "      <td>4</td>\n",
       "      <td>NaN</td>\n",
       "      <td>...</td>\n",
       "      <td>8.3</td>\n",
       "      <td>0.0</td>\n",
       "      <td>Санкт-Петербург</td>\n",
       "      <td>21741.0</td>\n",
       "      <td>13933.0</td>\n",
       "      <td>1.0</td>\n",
       "      <td>90.0</td>\n",
       "      <td>2.0</td>\n",
       "      <td>574.0</td>\n",
       "      <td>558.0</td>\n",
       "    </tr>\n",
       "    <tr>\n",
       "      <th>3</th>\n",
       "      <td>0</td>\n",
       "      <td>64900000.0</td>\n",
       "      <td>159.0</td>\n",
       "      <td>2015-07-24T00:00:00</td>\n",
       "      <td>3</td>\n",
       "      <td>NaN</td>\n",
       "      <td>14.0</td>\n",
       "      <td>NaN</td>\n",
       "      <td>9</td>\n",
       "      <td>NaN</td>\n",
       "      <td>...</td>\n",
       "      <td>NaN</td>\n",
       "      <td>0.0</td>\n",
       "      <td>Санкт-Петербург</td>\n",
       "      <td>28098.0</td>\n",
       "      <td>6800.0</td>\n",
       "      <td>2.0</td>\n",
       "      <td>84.0</td>\n",
       "      <td>3.0</td>\n",
       "      <td>234.0</td>\n",
       "      <td>424.0</td>\n",
       "    </tr>\n",
       "    <tr>\n",
       "      <th>4</th>\n",
       "      <td>2</td>\n",
       "      <td>10000000.0</td>\n",
       "      <td>100.0</td>\n",
       "      <td>2018-06-19T00:00:00</td>\n",
       "      <td>2</td>\n",
       "      <td>3.03</td>\n",
       "      <td>14.0</td>\n",
       "      <td>32.0</td>\n",
       "      <td>13</td>\n",
       "      <td>NaN</td>\n",
       "      <td>...</td>\n",
       "      <td>41.0</td>\n",
       "      <td>NaN</td>\n",
       "      <td>Санкт-Петербург</td>\n",
       "      <td>31856.0</td>\n",
       "      <td>8098.0</td>\n",
       "      <td>2.0</td>\n",
       "      <td>112.0</td>\n",
       "      <td>1.0</td>\n",
       "      <td>48.0</td>\n",
       "      <td>121.0</td>\n",
       "    </tr>\n",
       "  </tbody>\n",
       "</table>\n",
       "<p>5 rows × 22 columns</p>\n",
       "</div>"
      ],
      "text/plain": [
       "   total_images  last_price  total_area first_day_exposition  rooms  \\\n",
       "0            20  13000000.0       108.0  2019-03-07T00:00:00      3   \n",
       "1             7   3350000.0        40.4  2018-12-04T00:00:00      1   \n",
       "2            10   5196000.0        56.0  2015-08-20T00:00:00      2   \n",
       "3             0  64900000.0       159.0  2015-07-24T00:00:00      3   \n",
       "4             2  10000000.0       100.0  2018-06-19T00:00:00      2   \n",
       "\n",
       "   ceiling_height  floors_total  living_area  floor is_apartment  ...  \\\n",
       "0            2.70          16.0         51.0      8          NaN  ...   \n",
       "1             NaN          11.0         18.6      1          NaN  ...   \n",
       "2             NaN           5.0         34.3      4          NaN  ...   \n",
       "3             NaN          14.0          NaN      9          NaN  ...   \n",
       "4            3.03          14.0         32.0     13          NaN  ...   \n",
       "\n",
       "   kitchen_area  balcony    locality_name  airports_nearest  \\\n",
       "0          25.0      NaN  Санкт-Петербург           18863.0   \n",
       "1          11.0      2.0   посёлок Шушары           12817.0   \n",
       "2           8.3      0.0  Санкт-Петербург           21741.0   \n",
       "3           NaN      0.0  Санкт-Петербург           28098.0   \n",
       "4          41.0      NaN  Санкт-Петербург           31856.0   \n",
       "\n",
       "  cityCenters_nearest  parks_around3000  parks_nearest  ponds_around3000  \\\n",
       "0             16028.0               1.0          482.0               2.0   \n",
       "1             18603.0               0.0            NaN               0.0   \n",
       "2             13933.0               1.0           90.0               2.0   \n",
       "3              6800.0               2.0           84.0               3.0   \n",
       "4              8098.0               2.0          112.0               1.0   \n",
       "\n",
       "   ponds_nearest  days_exposition  \n",
       "0          755.0              NaN  \n",
       "1            NaN             81.0  \n",
       "2          574.0            558.0  \n",
       "3          234.0            424.0  \n",
       "4           48.0            121.0  \n",
       "\n",
       "[5 rows x 22 columns]"
      ]
     },
     "execution_count": 148,
     "metadata": {},
     "output_type": "execute_result"
    }
   ],
   "source": [
    "data.head()"
   ]
  },
  {
   "cell_type": "code",
   "execution_count": 149,
   "id": "839b2823",
   "metadata": {},
   "outputs": [
    {
     "name": "stdout",
     "output_type": "stream",
     "text": [
      "<class 'pandas.core.frame.DataFrame'>\n",
      "RangeIndex: 23699 entries, 0 to 23698\n",
      "Data columns (total 22 columns):\n",
      " #   Column                Non-Null Count  Dtype  \n",
      "---  ------                --------------  -----  \n",
      " 0   total_images          23699 non-null  int64  \n",
      " 1   last_price            23699 non-null  float64\n",
      " 2   total_area            23699 non-null  float64\n",
      " 3   first_day_exposition  23699 non-null  object \n",
      " 4   rooms                 23699 non-null  int64  \n",
      " 5   ceiling_height        14504 non-null  float64\n",
      " 6   floors_total          23613 non-null  float64\n",
      " 7   living_area           21796 non-null  float64\n",
      " 8   floor                 23699 non-null  int64  \n",
      " 9   is_apartment          2775 non-null   object \n",
      " 10  studio                23699 non-null  bool   \n",
      " 11  open_plan             23699 non-null  bool   \n",
      " 12  kitchen_area          21421 non-null  float64\n",
      " 13  balcony               12180 non-null  float64\n",
      " 14  locality_name         23650 non-null  object \n",
      " 15  airports_nearest      18157 non-null  float64\n",
      " 16  cityCenters_nearest   18180 non-null  float64\n",
      " 17  parks_around3000      18181 non-null  float64\n",
      " 18  parks_nearest         8079 non-null   float64\n",
      " 19  ponds_around3000      18181 non-null  float64\n",
      " 20  ponds_nearest         9110 non-null   float64\n",
      " 21  days_exposition       20518 non-null  float64\n",
      "dtypes: bool(2), float64(14), int64(3), object(3)\n",
      "memory usage: 3.7+ MB\n"
     ]
    }
   ],
   "source": [
    "data.info()"
   ]
  },
  {
   "cell_type": "code",
   "execution_count": 150,
   "id": "45a9dd32",
   "metadata": {},
   "outputs": [
    {
     "data": {
      "image/png": "[encoded data removed]",
      "text/plain": [
       "<Figure size 1080x1440 with 20 Axes>"
      ]
     },
     "metadata": {
      "needs_background": "light"
     },
     "output_type": "display_data"
    }
   ],
   "source": [
    "data.hist(figsize=(15, 20))\n",
    "plt.show()"
   ]
  },
  {
   "cell_type": "markdown",
   "id": "3516b12e",
   "metadata": {},
   "source": [
    "**Вывод:** В целом у нас 23699 записей, по ряду данных есть пропущенные и аномальные значения. Нектороые столбцы с данными записаны не в нужных форматах."
   ]
  },
  {
   "cell_type": "markdown",
   "id": "d153da68",
   "metadata": {},
   "source": [
    "<div class=\"alert alert-success\">\n",
    "\n",
    "**✔️ Комментарий ревьюера ✔️**\n",
    "   \n",
    "   Отлично👍 Приступаем к предобработке\n",
    "\n",
    "</div>\n"
   ]
  },
  {
   "cell_type": "markdown",
   "id": "44f9691b",
   "metadata": {},
   "source": [
    "## 2 Предобработка данных"
   ]
  },
  {
   "cell_type": "markdown",
   "id": "59804b74",
   "metadata": {},
   "source": [
    "#### 2.1 Приведение названий всех колонок к одному формату"
   ]
  },
  {
   "cell_type": "markdown",
   "id": "db51b2b2",
   "metadata": {},
   "source": [
    "Приведем названия все столбцов к одному формату"
   ]
  },
  {
   "cell_type": "code",
   "execution_count": 151,
   "id": "8b6fef1f",
   "metadata": {},
   "outputs": [],
   "source": [
    "data.columns = map(str.lower, data.columns)"
   ]
  },
  {
   "cell_type": "markdown",
   "id": "3cbb70f3",
   "metadata": {},
   "source": [
    "#### 2.2 Изучение аномальных значений"
   ]
  },
  {
   "cell_type": "code",
   "execution_count": 152,
   "id": "e040b1fe",
   "metadata": {},
   "outputs": [
    {
     "data": {
      "text/plain": [
       "total_images                0\n",
       "last_price                  0\n",
       "total_area                  0\n",
       "first_day_exposition        0\n",
       "rooms                       0\n",
       "ceiling_height           9195\n",
       "floors_total               86\n",
       "living_area              1903\n",
       "floor                       0\n",
       "is_apartment            20924\n",
       "studio                      0\n",
       "open_plan                   0\n",
       "kitchen_area             2278\n",
       "balcony                 11519\n",
       "locality_name              49\n",
       "airports_nearest         5542\n",
       "citycenters_nearest      5519\n",
       "parks_around3000         5518\n",
       "parks_nearest           15620\n",
       "ponds_around3000         5518\n",
       "ponds_nearest           14589\n",
       "days_exposition          3181\n",
       "dtype: int64"
      ]
     },
     "execution_count": 152,
     "metadata": {},
     "output_type": "execute_result"
    }
   ],
   "source": [
    "data.isna().sum()"
   ]
  },
  {
   "cell_type": "markdown",
   "id": "614f98a4",
   "metadata": {},
   "source": [
    "Для начала из гистограмм выше можно понять, что в стоблце ceiling_height имеются аномальные значение 25 метров, уточним сколько таких значений имеется."
   ]
  },
  {
   "cell_type": "code",
   "execution_count": 153,
   "id": "4b78a282",
   "metadata": {},
   "outputs": [
    {
     "data": {
      "text/plain": [
       "22869    100.0\n",
       "22336     32.0\n",
       "3148      32.0\n",
       "21377     27.5\n",
       "20478     27.0\n",
       "5246      27.0\n",
       "5807      27.0\n",
       "10773     27.0\n",
       "17857     27.0\n",
       "22938     27.0\n",
       "21824     27.0\n",
       "4876      27.0\n",
       "5669      26.0\n",
       "18545     25.0\n",
       "11285     25.0\n",
       "355       25.0\n",
       "6246      25.0\n",
       "14382     25.0\n",
       "4643      25.0\n",
       "9379      25.0\n",
       "5076      24.0\n",
       "20507     22.6\n",
       "17496     20.0\n",
       "15061     14.0\n",
       "22309     10.3\n",
       "5863       8.3\n",
       "15743      8.0\n",
       "3474       8.0\n",
       "17442      8.0\n",
       "20264      6.0\n",
       "21227      5.8\n",
       "1388       5.6\n",
       "7578       5.5\n",
       "12628      5.3\n",
       "1026       5.3\n",
       "464        5.2\n",
       "1053       5.0\n",
       "21923      4.9\n",
       "2802       4.8\n",
       "1300       4.7\n",
       "Name: ceiling_height, dtype: float64"
      ]
     },
     "execution_count": 153,
     "metadata": {},
     "output_type": "execute_result"
    }
   ],
   "source": [
    "data['ceiling_height'].sort_values(ascending=False).head(40)"
   ]
  },
  {
   "cell_type": "code",
   "execution_count": 154,
   "id": "2c7b6741",
   "metadata": {},
   "outputs": [
    {
     "data": {
      "text/plain": [
       "<AxesSubplot:xlabel='ceiling_height'>"
      ]
     },
     "execution_count": 154,
     "metadata": {},
     "output_type": "execute_result"
    },
    {
     "data": {
      "image/png": "[encoded data removed]",
      "text/plain": [
       "<Figure size 432x288 with 1 Axes>"
      ]
     },
     "metadata": {
      "needs_background": "light"
     },
     "output_type": "display_data"
    }
   ],
   "source": [
    "sns.boxplot(x=data['ceiling_height'])"
   ]
  },
  {
   "cell_type": "markdown",
   "id": "e106d6fc",
   "metadata": {},
   "source": [
    "В данных можно наблюдать повторы, видимо 32, 27, 25 - ошибочно записанные данные, их корректно изменить, соответственно, на 3.2, 2.7, 2.5. Предположим что во всех квартирах с 25м до 36м опечатка.\n",
    "\n",
    "Остальные строки с высотой более 4м справедливо убрать для дальнейшей работы\n",
    "\n",
    "Также потолки до минимального значения на boxplot можно посчитать выбросами, для работы с даннымы их проще всего удалить."
   ]
  },
  {
   "cell_type": "code",
   "execution_count": 155,
   "id": "eb9a9121",
   "metadata": {},
   "outputs": [],
   "source": [
    "data.drop(index=data.query('ceiling_height > 4 and ceiling_height < 25').index,inplace=True)\n",
    "data.update(data[(data['ceiling_height'] >= 25) & (data['ceiling_height'] <= 36)]['ceiling_height']/10)\n",
    "data.drop(index=data.query('ceiling_height > 36').index,inplace=True)\n",
    "data.drop(index=data.query('ceiling_height < 2.3').index,inplace=True)"
   ]
  },
  {
   "cell_type": "code",
   "execution_count": 156,
   "id": "de504021",
   "metadata": {},
   "outputs": [
    {
     "data": {
      "text/plain": [
       "<AxesSubplot:xlabel='ceiling_height'>"
      ]
     },
     "execution_count": 156,
     "metadata": {},
     "output_type": "execute_result"
    },
    {
     "data": {
      "image/png": "[encoded data removed]",
      "text/plain": [
       "<Figure size 432x288 with 1 Axes>"
      ]
     },
     "metadata": {
      "needs_background": "light"
     },
     "output_type": "display_data"
    }
   ],
   "source": [
    "sns.boxplot(x=data['ceiling_height'])"
   ]
  },
  {
   "cell_type": "markdown",
   "id": "292a27b2",
   "metadata": {},
   "source": [
    "<div class=\"alert alert-success\">\n",
    "\n",
    "**✔️ Комментарий ревьюера ✔️**\n",
    "   \n",
    "   Хорошее решение. После устранения аномалий в этом столбце можно заполнить данные медианой.\n",
    "\n",
    "</div>\n"
   ]
  },
  {
   "cell_type": "markdown",
   "id": "fe9d05c4",
   "metadata": {},
   "source": [
    "Также убрать аномально большие строки с большими площадами, большим количеством комнат не будет ошибкой, их мало, но они сильно влияют на общее представление о данных"
   ]
  },
  {
   "cell_type": "code",
   "execution_count": 157,
   "id": "7f342c40",
   "metadata": {},
   "outputs": [
    {
     "data": {
      "image/png": "[encoded data removed]",
      "text/plain": [
       "<Figure size 432x288 with 1 Axes>"
      ]
     },
     "metadata": {
      "needs_background": "light"
     },
     "output_type": "display_data"
    },
    {
     "data": {
      "text/plain": [
       "<AxesSubplot:xlabel='total_area'>"
      ]
     },
     "execution_count": 157,
     "metadata": {},
     "output_type": "execute_result"
    },
    {
     "data": {
      "image/png": "[encoded data removed]",
      "text/plain": [
       "<Figure size 432x288 with 1 Axes>"
      ]
     },
     "metadata": {
      "needs_background": "light"
     },
     "output_type": "display_data"
    }
   ],
   "source": [
    "sns.boxplot(x=data['kitchen_area'])\n",
    "plt.show()\n",
    "sns.boxplot(x=data['total_area'])"
   ]
  },
  {
   "cell_type": "code",
   "execution_count": 158,
   "id": "817dac93",
   "metadata": {},
   "outputs": [
    {
     "name": "stdout",
     "output_type": "stream",
     "text": [
      "19540    900.00\n",
      "12859    631.20\n",
      "3117     631.00\n",
      "15651    618.00\n",
      "5358     590.00\n",
      "4237     517.00\n",
      "15016    500.00\n",
      "5893     500.00\n",
      "9826     494.10\n",
      "6621     488.00\n",
      "660      483.90\n",
      "6221     470.30\n",
      "20273    460.80\n",
      "3676     441.98\n",
      "21955    431.00\n",
      "22131    422.20\n",
      "14991    413.50\n",
      "13749    410.00\n",
      "14088    402.00\n",
      "14706    401.00\n",
      "Name: total_area, dtype: float64\n",
      "19540    112.0\n",
      "20215    107.0\n",
      "2489     100.7\n",
      "5358     100.0\n",
      "16239     93.2\n",
      "16797     93.0\n",
      "10867     87.2\n",
      "4394      77.0\n",
      "492       77.0\n",
      "14644     75.0\n",
      "16647     72.0\n",
      "15651     70.0\n",
      "6193      70.0\n",
      "1085      66.0\n",
      "22980     65.0\n",
      "18447     65.0\n",
      "19499     64.0\n",
      "15780     64.0\n",
      "17912     64.0\n",
      "7543      63.4\n",
      "Name: kitchen_area, dtype: float64\n"
     ]
    }
   ],
   "source": [
    "print(data['total_area'].sort_values(ascending=False).head(20))\n",
    "print(data['kitchen_area'].sort_values(ascending=False).head(20))"
   ]
  },
  {
   "cell_type": "markdown",
   "id": "d271db2e",
   "metadata": {},
   "source": [
    "Примем за аномальные данные строки с общей площадью более 350м и кухонной площадью более 70м."
   ]
  },
  {
   "cell_type": "code",
   "execution_count": 159,
   "id": "96179eb4",
   "metadata": {},
   "outputs": [],
   "source": [
    "data.drop(index=data.query('total_area >= 350').index,inplace=True)\n",
    "data.drop(index=data.query('kitchen_area >= 70').index,inplace=True)"
   ]
  },
  {
   "cell_type": "code",
   "execution_count": 160,
   "id": "7c2a8d2e",
   "metadata": {},
   "outputs": [
    {
     "data": {
      "image/png": "[encoded data removed]",
      "text/plain": [
       "<Figure size 432x288 with 1 Axes>"
      ]
     },
     "metadata": {
      "needs_background": "light"
     },
     "output_type": "display_data"
    },
    {
     "data": {
      "text/plain": [
       "<AxesSubplot:xlabel='total_area'>"
      ]
     },
     "execution_count": 160,
     "metadata": {},
     "output_type": "execute_result"
    },
    {
     "data": {
      "image/png": "[encoded data removed]",
      "text/plain": [
       "<Figure size 432x288 with 1 Axes>"
      ]
     },
     "metadata": {
      "needs_background": "light"
     },
     "output_type": "display_data"
    }
   ],
   "source": [
    "sns.boxplot(x=data['kitchen_area'])\n",
    "plt.show()\n",
    "sns.boxplot(x=data['total_area'])"
   ]
  },
  {
   "cell_type": "markdown",
   "id": "7ce79f7a",
   "metadata": {},
   "source": [
    "Убрав строки с общей площадью больше 350 и кухонной площадью больше 70 мы упростим свою же работу."
   ]
  },
  {
   "cell_type": "markdown",
   "id": "6b9e55d2",
   "metadata": {},
   "source": [
    "##### 2.3 Изучение пропущенных значений"
   ]
  },
  {
   "cell_type": "markdown",
   "id": "1e3b1968",
   "metadata": {},
   "source": [
    "Видимо пользователи не утрудились уточнить некторые остуствтующие данные. Справедливо их заменить на 0"
   ]
  },
  {
   "cell_type": "code",
   "execution_count": 161,
   "id": "c89ad322",
   "metadata": {},
   "outputs": [],
   "source": [
    "#Заменя пустных значений в ячейке балконов, парков, водоемов изменение типа\n",
    "data['balcony'] = data['balcony'].fillna(value=0).astype(int)\n",
    "data['parks_around3000'] = data['parks_around3000'].fillna(value=0).astype(int)\n",
    "data['ponds_around3000'] = data['ponds_around3000'].fillna(value=0).astype(int)"
   ]
  },
  {
   "cell_type": "markdown",
   "id": "c827d5e1",
   "metadata": {},
   "source": [
    "Удаление строк с локацией и общим количеством этажей не столь критично для общего пресдтавления, их можно удалить."
   ]
  },
  {
   "cell_type": "code",
   "execution_count": 162,
   "id": "d528c908",
   "metadata": {},
   "outputs": [],
   "source": [
    "data.dropna(subset=['locality_name'], inplace=True)\n",
    "data.dropna(subset=['floors_total'], inplace=True)"
   ]
  },
  {
   "cell_type": "markdown",
   "id": "10d6c6e7",
   "metadata": {},
   "source": [
    "Приведем ячейку даты к нужному нам формату"
   ]
  },
  {
   "cell_type": "code",
   "execution_count": 246,
   "id": "384f6f08",
   "metadata": {},
   "outputs": [],
   "source": [
    "data['first_day_exposition'] = pd.to_datetime(data['first_day_exposition'], format='%Y-%m-%dT%H:%M:%S')"
   ]
  },
  {
   "cell_type": "markdown",
   "id": "203a8447",
   "metadata": {},
   "source": [
    "Также можно заменить пропущенные значение в высоте потолков на медиану, а значение в столбцах с площадью на среднее"
   ]
  },
  {
   "cell_type": "code",
   "execution_count": 247,
   "id": "6d4f2a16",
   "metadata": {},
   "outputs": [],
   "source": [
    "data['ceiling_height'] = data.groupby(['locality_name', 'floors_total'])['ceiling_height'].apply(lambda x: x.fillna(x.median()))\n",
    "data['ceiling_height'].fillna(data['ceiling_height'].median(), inplace=True)\n",
    "living_ratio = data['living_area'].median() / data['total_area'].median()\n",
    "kitchen_ratio = data['kitchen_area'].median() / data['total_area'].median()\n",
    "data['living_area'].fillna(living_ratio * data['total_area'], inplace=True)\n",
    "data['kitchen_area'].fillna(kitchen_ratio * data['total_area'], inplace=True)"
   ]
  },
  {
   "cell_type": "markdown",
   "id": "3939900e",
   "metadata": {},
   "source": [
    "<div class=\"alert alert-warning\">\n",
    "\n",
    "**⚠️ Комментарий ревьюера ⚠️**\n",
    "   \n",
    "   При обработке площадей, вместо среднего mean рекомендую использовать медианное median - оно не так сильно подвержено выбросам\n",
    "\n",
    "</div>\n",
    "\n",
    "\n"
   ]
  },
  {
   "cell_type": "markdown",
   "id": "fc025a7f",
   "metadata": {},
   "source": [
    "<div class=\"alert alert-block alert-info\">\n",
    "    \n",
    "Доработал\n",
    "    \n",
    "</div>"
   ]
  },
  {
   "cell_type": "markdown",
   "id": "3a2bbe64",
   "metadata": {},
   "source": [
    "Также люди не указывают параметр аппартаментов, если квартира не является таковой. Исправим это."
   ]
  },
  {
   "cell_type": "code",
   "execution_count": 206,
   "id": "836dd901",
   "metadata": {},
   "outputs": [],
   "source": [
    "data['is_apartment'] = data['is_apartment'].fillna(value=False)"
   ]
  },
  {
   "cell_type": "markdown",
   "id": "22405230",
   "metadata": {},
   "source": [
    "Проверим количество пропущенных значений"
   ]
  },
  {
   "cell_type": "code",
   "execution_count": 207,
   "id": "e28b28af",
   "metadata": {},
   "outputs": [
    {
     "data": {
      "text/plain": [
       "total_images                   0\n",
       "last_price                     0\n",
       "total_area                     0\n",
       "first_day_exposition           0\n",
       "rooms                          0\n",
       "ceiling_height                 0\n",
       "floors_total                   0\n",
       "living_area                    0\n",
       "floor                          0\n",
       "is_apartment                   0\n",
       "studio                         0\n",
       "open_plan                      0\n",
       "kitchen_area                   0\n",
       "balcony                        0\n",
       "locality_name                  0\n",
       "airports_nearest            5503\n",
       "citycenters_nearest         5483\n",
       "parks_around3000               0\n",
       "parks_nearest              15480\n",
       "ponds_around3000               0\n",
       "ponds_nearest              14480\n",
       "days_exposition             3147\n",
       "cost_per_sqr                   0\n",
       "day_week                       0\n",
       "month                          0\n",
       "year                           0\n",
       "floor_category                 0\n",
       "floor_category_digit           0\n",
       "city_centers_nearest_km     5483\n",
       "dtype: int64"
      ]
     },
     "execution_count": 207,
     "metadata": {},
     "output_type": "execute_result"
    }
   ],
   "source": [
    "data.isna().sum()"
   ]
  },
  {
   "cell_type": "markdown",
   "id": "88186aac",
   "metadata": {},
   "source": [
    "#### 2.4 Изучие уникальных значений"
   ]
  },
  {
   "cell_type": "markdown",
   "id": "2400ab87",
   "metadata": {},
   "source": [
    "Рассмотрим столбец с названием локации и проверим его на неявные дубликаты."
   ]
  },
  {
   "cell_type": "code",
   "execution_count": 208,
   "id": "102b8e2e",
   "metadata": {},
   "outputs": [
    {
     "name": "stdout",
     "output_type": "stream",
     "text": [
      "307\n",
      "['Санкт-Петербург' 'Шушары' 'Янино-1' 'Парголово' 'Мурино' 'Ломоносов'\n",
      " 'Сертолово' 'Петергоф' 'Пушкин' 'Кудрово' 'Коммунар' 'Колпино'\n",
      " 'Красный Бор' 'Гатчина' 'Фёдоровское' 'Выборг' 'Кронштадт' 'Кировск'\n",
      " 'Новое Девяткино' 'Металлострой' 'Лебяжье' 'Сиверский' 'Молодцово'\n",
      " 'Кузьмоловский' 'Новая Ропша' 'Павловск' 'Пикколово' 'Всеволожск'\n",
      " 'Волхов' 'Кингисепп' 'Приозерск' 'Сестрорецк' 'Куттузи' 'Аннино'\n",
      " 'Ефимовский' 'Плодовое' 'Заклинье' 'Торковичи' 'Первомайское'\n",
      " 'Красное Село' 'Понтонный' 'Сясьстрой' 'Старая' 'Лесколово' 'Новый Свет'\n",
      " 'Сланцы' 'Путилово' 'Ивангород' 'Шлиссельбург' 'Никольское' 'Зеленогорск'\n",
      " 'Сосновый Бор' 'Оржицы' 'Кальтино' 'Романовка' 'Бугры' 'Рощино' 'Кириши'\n",
      " 'Луга' 'Волосово' 'Отрадное' 'Павлово' 'Оредеж' 'Копорье' 'Молодёжное'\n",
      " 'Тихвин' 'Победа' 'Нурма' 'Синявино' 'Тосно' 'Стрельна' 'Бокситогорск'\n",
      " 'Александровская' 'Лопухинка' 'Пикалёво' 'Терволово' 'Советский'\n",
      " 'Подпорожье' 'Петровское' 'Токсово' 'Сельцо' 'Вырица' 'Кипень' 'Келози'\n",
      " 'Вартемяги' 'Тельмана' 'Севастьяново' 'Большая Ижора' 'Агалатово'\n",
      " 'Новогорелово' 'Лесогорский' 'Лаголово' 'Цвелодубово' 'Рахья' 'Белогорка'\n",
      " 'Заводской' 'Новоселье' 'Большие Колпаны' 'Горбунки' 'Батово' 'Заневка'\n",
      " 'Иссад' 'Приморск' 'Мистолово' 'Новая Ладога' 'Зимитицы' 'Барышево'\n",
      " 'Разметелево' 'имени Свердлова' 'Пеники' 'Рябово' 'Пудомяги' 'Корнево'\n",
      " 'Низино' 'Бегуницы' 'Поляны' 'Мга' 'Елизаветино' 'Кузнечное' 'Колтуши'\n",
      " 'Запорожское' 'Гостилицы' 'Малое Карлино' 'Мичуринское' 'имени Морозова'\n",
      " 'Песочный' 'Сосново' 'Аро' 'Ильичёво' 'Тайцы' 'Малое Верево' 'Извара'\n",
      " 'Вещево' 'Паша' 'Калитино' 'Ульяновка' 'Чудской Бор' 'Дубровка' 'Мины'\n",
      " 'Войсковицы' 'Коркино' 'Ропша' 'Приладожский' 'Щеглово' 'Гаврилово'\n",
      " 'Лодейное Поле' 'Рабитицы' 'Никольский' 'Кузьмолово' 'Малые Колпаны'\n",
      " 'Петро-Славянка' 'Назия' 'Репино' 'Углово' 'Старая Малукса' 'Меньково'\n",
      " 'Старые Бегуницы' 'Сапёрный' 'Семрино' 'Глажево' 'Кобринское' 'Гарболово'\n",
      " 'Юкки' 'Приветнинское' 'Мануйлово' 'Пчева' 'Цвылёво' 'Мельниково'\n",
      " 'Пудость' 'Усть-Луга' 'Светогорск' 'Любань' 'Селезнёво' 'Каменногорск'\n",
      " 'Кривко' 'Глебычево' 'Парицы' 'Жилпосёлок' 'Войскорово' 'Стеклянный'\n",
      " 'Важины' 'Мыза-Ивановка' 'Русско-Высоцкое' 'Форносово' 'Старая Ладога'\n",
      " 'Житково' 'Виллози' 'Лампово' 'Шпаньково' 'Лаврики' 'Сумино'\n",
      " 'Возрождение' 'Старосиверская' 'Кикерино' 'Старое Хинколово'\n",
      " 'Пригородный' 'Торфяное' 'Будогощь' 'Суходолье' 'Красная Долина'\n",
      " 'Хапо-Ое' 'Дружная Горка' 'Лисий Нос' 'Яльгелево' 'Рождествено'\n",
      " 'Старополье' 'Левашово' 'Сяськелево' 'Камышовка' 'Лесная Поляна'\n",
      " 'Хязельки' 'Жилгородок' 'Ялгино' 'Новый Учхоз' 'Гончарово' 'Почап'\n",
      " 'Сапёрное' 'Платформа 69-й километр' 'Каложицы' 'Фалилеево' 'Пельгора'\n",
      " 'Торошковичи' 'Белоостров' 'Алексеевка' 'Серебрянский' 'Лукаши'\n",
      " 'Тарасово' 'Кингисеппский' 'при железнодорожной Вещево' 'Ушаки' 'Котлы'\n",
      " 'Сижно' 'Торосово' 'Форт Красная Горка' 'Новолисино' 'Громово' 'Глинка'\n",
      " 'Старая Пустошь' 'Коммунары' 'Починок' 'Вознесенье' 'Разбегаево'\n",
      " 'Гладкое' 'при железнодорожной Приветнинское' 'Тёсово-4' 'Бор'\n",
      " 'Коробицыно' 'Большая Вруда' 'Курковицы' 'Кобралово' 'Суоранда'\n",
      " 'Кондратьево' 'Счастье' 'Реброво' 'Тойворово' 'Семиозерье' 'Лесное'\n",
      " 'Совхозный' 'Ленинское' 'Суйда' 'Нижние Осельки' 'Свирь' 'Перово'\n",
      " 'Высоцк' 'Шум' 'Котельский' 'Лужайка' 'Большая Пустомержа'\n",
      " 'Красносельское' 'Вахнова Кара' 'Пижма' 'Кивеннапа Север' 'Ромашки'\n",
      " 'Каськово' 'Куровицы' 'Плоское' 'Кирпичное' 'Ям-Тесово' 'Раздолье'\n",
      " 'Терпилицы' 'Шугозеро' 'Ваганово' 'Пушное' 'Садко' 'Усть-Ижора'\n",
      " 'Выскатка' 'Свирьстрой' 'Кисельня' 'Трубников Бор' 'Высокоключевой'\n",
      " 'Пансионат Зелёный Бор' 'Ненимяки' 'Снегирёвка' 'Рапполово' 'Пустынка'\n",
      " 'Большой Сабск' 'Русско' 'Лупполово' 'Большое Рейзино' 'Малая Романовка'\n",
      " 'Дружноселье' 'Пчевжа' 'Володарское' 'Нижняя' 'Тихковицы'\n",
      " 'Борисова Грива' 'Дзержинского']\n"
     ]
    }
   ],
   "source": [
    "print(data['locality_name'].nunique())\n",
    "print(data['locality_name'].unique())"
   ]
  },
  {
   "cell_type": "markdown",
   "id": "6d748532",
   "metadata": {},
   "source": [
    "Уберем из названий все приписки вроде \"поселок\", \"деревня\" и, таким образом, сможем легче вычислить и удалить повторяющиеся названия"
   ]
  },
  {
   "cell_type": "code",
   "execution_count": 209,
   "id": "b61405c1",
   "metadata": {},
   "outputs": [],
   "source": [
    "word_list = [\n",
    "    'поселок ', 'деревня ', 'посёлок ', 'поселок городского типа ', 'городского типа ', 'городской ', \n",
    "    'садовое товарищество ', 'садоводческое некоммерческое товарищество ', 'село', 'станции ', 'коттеджный'\n",
    "]\n",
    "name = ''\n",
    "for word in word_list:\n",
    "    data['locality_name'] = data['locality_name'].replace(word, name, regex = True).str.strip()"
   ]
  },
  {
   "cell_type": "code",
   "execution_count": 210,
   "id": "a2a48dc3",
   "metadata": {},
   "outputs": [
    {
     "name": "stdout",
     "output_type": "stream",
     "text": [
      "307\n"
     ]
    }
   ],
   "source": [
    "print(data['locality_name'].nunique())"
   ]
  },
  {
   "cell_type": "markdown",
   "id": "35460fdd",
   "metadata": {},
   "source": [
    "<div class=\"alert alert-success\">\n",
    "\n",
    "**✔️ Комментарий ревьюера ✔️**\n",
    "   \n",
    "\n",
    "   Также рекомендую хорошую статью по предобработке, в ней есть интересные способы обработки неявных дубликатов: https://proglib.io/p/moem-dataset-rukovodstvo-po-ochistke-dannyh-v-python-2020-03-27 \n",
    "\n",
    "</div>\n"
   ]
  },
  {
   "cell_type": "markdown",
   "id": "4eaac115",
   "metadata": {},
   "source": [
    "**Также рассмотрим количество оставшихся строх**"
   ]
  },
  {
   "cell_type": "code",
   "execution_count": 249,
   "id": "3acf7926",
   "metadata": {},
   "outputs": [
    {
     "name": "stdout",
     "output_type": "stream",
     "text": [
      "<class 'pandas.core.frame.DataFrame'>\n",
      "Int64Index: 23446 entries, 0 to 23698\n",
      "Data columns (total 29 columns):\n",
      " #   Column                   Non-Null Count  Dtype         \n",
      "---  ------                   --------------  -----         \n",
      " 0   total_images             23446 non-null  int64         \n",
      " 1   last_price               23446 non-null  float64       \n",
      " 2   total_area               23446 non-null  float64       \n",
      " 3   first_day_exposition     23446 non-null  datetime64[ns]\n",
      " 4   rooms                    23446 non-null  int64         \n",
      " 5   ceiling_height           23446 non-null  float64       \n",
      " 6   floors_total             23446 non-null  float64       \n",
      " 7   living_area              23446 non-null  float64       \n",
      " 8   floor                    23446 non-null  int64         \n",
      " 9   is_apartment             23446 non-null  bool          \n",
      " 10  studio                   23446 non-null  bool          \n",
      " 11  open_plan                23446 non-null  bool          \n",
      " 12  kitchen_area             23446 non-null  float64       \n",
      " 13  balcony                  23446 non-null  int64         \n",
      " 14  locality_name            23446 non-null  object        \n",
      " 15  airports_nearest         17943 non-null  float64       \n",
      " 16  citycenters_nearest      17963 non-null  float64       \n",
      " 17  parks_around3000         23446 non-null  int64         \n",
      " 18  parks_nearest            7966 non-null   float64       \n",
      " 19  ponds_around3000         23446 non-null  int64         \n",
      " 20  ponds_nearest            8966 non-null   float64       \n",
      " 21  days_exposition          20299 non-null  float64       \n",
      " 22  cost_per_sqr             23446 non-null  float64       \n",
      " 23  day_week                 23446 non-null  int64         \n",
      " 24  month                    23446 non-null  int64         \n",
      " 25  year                     23446 non-null  int64         \n",
      " 26  floor_category           23446 non-null  object        \n",
      " 27  floor_category_digit     23446 non-null  int64         \n",
      " 28  city_centers_nearest_km  17963 non-null  Int32         \n",
      "dtypes: Int32(1), bool(3), datetime64[ns](1), float64(12), int64(10), object(2)\n",
      "memory usage: 4.8+ MB\n"
     ]
    }
   ],
   "source": [
    "data.info()"
   ]
  },
  {
   "cell_type": "markdown",
   "id": "96afba43",
   "metadata": {},
   "source": [
    "Можно сделать вывод, что из изначальных 23699 строк у нас осталось 23446, что говорит о, примерно, 0,99% удаленных строк. Считаю, что это не сильно скажется на общем исследовании"
   ]
  },
  {
   "cell_type": "markdown",
   "id": "cbc295b6",
   "metadata": {},
   "source": [
    "### Вывод:\n",
    "На даннм этапе мы определили: \n",
    "\n",
    "пропущенные значения, заполнили их, где это было возможно, \n",
    "\n",
    "изменили типы данных, \n",
    "\n",
    "устранили неявные дубликаты в названиях населенных пунктов, \n",
    "\n",
    "устранили редкие и выбивающиеся значения в столбцах, где это было возможно."
   ]
  },
  {
   "cell_type": "markdown",
   "id": "fd18d438",
   "metadata": {},
   "source": [
    "<div class=\"alert alert-success\">\n",
    "✔️ Комментарий ревьюера ✔️ \n",
    "    \n",
    "В целом, работа по предобработке проведена очень качественно. Можно еще сэкономить память, изменяя типы данных. Например, дополнительно изменить их у площадей квартир с float64 на float32.   \n",
    "    \n",
    "</div>    "
   ]
  },
  {
   "cell_type": "markdown",
   "id": "00245b6d",
   "metadata": {},
   "source": [
    "<div class=\"alert alert-warning\">\n",
    "\n",
    "**⚠️ Комментарий ревьюера ⚠️**\n",
    "   \n",
    "   Также важно проверить, какая доля от изначального датасета осталась после предобработки\n",
    "\n",
    "</div>\n",
    "\n",
    "\n"
   ]
  },
  {
   "cell_type": "markdown",
   "id": "4fe47fe0",
   "metadata": {},
   "source": [
    "<div class=\"alert alert-block alert-info\">\n",
    "    \n",
    "Доделал\n",
    "    \n",
    "</div>"
   ]
  },
  {
   "cell_type": "markdown",
   "id": "027912e4",
   "metadata": {},
   "source": [
    "## 3 Посчитайте и добавьте в таблицу новые столбцы"
   ]
  },
  {
   "cell_type": "markdown",
   "id": "19abb85d",
   "metadata": {},
   "source": [
    "Вычислим и добавим к таблице новые значения."
   ]
  },
  {
   "cell_type": "markdown",
   "id": "50708b42",
   "metadata": {},
   "source": [
    "**Цена одного квадратного метра**"
   ]
  },
  {
   "cell_type": "code",
   "execution_count": 211,
   "id": "a5afbb39",
   "metadata": {},
   "outputs": [],
   "source": [
    "data['cost_per_sqr'] = data['last_price'] / data['total_area']"
   ]
  },
  {
   "cell_type": "markdown",
   "id": "8c4b23ef",
   "metadata": {},
   "source": [
    "**День недели публикации объявления (0 — понедельник, 1 — вторник и так далее)**"
   ]
  },
  {
   "cell_type": "code",
   "execution_count": 212,
   "id": "43b58a37",
   "metadata": {},
   "outputs": [],
   "source": [
    "data['day_week'] = data['first_day_exposition'].dt.dayofweek"
   ]
  },
  {
   "cell_type": "markdown",
   "id": "727b78bc",
   "metadata": {},
   "source": [
    "**Месяц публикации объявления**"
   ]
  },
  {
   "cell_type": "code",
   "execution_count": 213,
   "id": "d4457a01",
   "metadata": {},
   "outputs": [],
   "source": [
    "data['month'] = data['first_day_exposition'].dt.month"
   ]
  },
  {
   "cell_type": "markdown",
   "id": "31dbb830",
   "metadata": {},
   "source": [
    "**Год публикации объявления**"
   ]
  },
  {
   "cell_type": "code",
   "execution_count": 214,
   "id": "747fe23a",
   "metadata": {},
   "outputs": [],
   "source": [
    "data['year'] = data['first_day_exposition'].dt.year"
   ]
  },
  {
   "cell_type": "markdown",
   "id": "31614dcf",
   "metadata": {},
   "source": [
    "**Тип этажа квартиры (значения — «первый», «последний», «другой»)**"
   ]
  },
  {
   "cell_type": "code",
   "execution_count": 215,
   "id": "c8f2090e",
   "metadata": {},
   "outputs": [],
   "source": [
    "data['floor_category'] = data.apply(\n",
    "    lambda x: 'первый' if (x.floor == 1) \n",
    "    else ('последний' if (x.floor == x.floors_total) & isinstance(x.floors_total,int) \n",
    "    else 'другой'), axis=1\n",
    ")\n",
    "\n",
    "data['floor_category_digit'] = data.apply(\n",
    "    lambda x: 0 if (x.floor == 1) \n",
    "    else (2 if (x.floor == x.floors_total) & isinstance(x.floors_total,int) \n",
    "    else 1), axis=1\n",
    ")"
   ]
  },
  {
   "cell_type": "code",
   "execution_count": 216,
   "id": "fd248179",
   "metadata": {},
   "outputs": [
    {
     "data": {
      "text/plain": [
       "1    20550\n",
       "0     2896\n",
       "Name: floor_category_digit, dtype: int64"
      ]
     },
     "execution_count": 216,
     "metadata": {},
     "output_type": "execute_result"
    }
   ],
   "source": [
    "data['floor_category_digit'].value_counts()"
   ]
  },
  {
   "cell_type": "markdown",
   "id": "5cc5477c",
   "metadata": {},
   "source": [
    "**Расстояние до центра города в километрах (переведите из м в км и округлите до целых значений)**"
   ]
  },
  {
   "cell_type": "code",
   "execution_count": 217,
   "id": "b650e254",
   "metadata": {},
   "outputs": [],
   "source": [
    "data['city_centers_nearest_km'] = round(data['citycenters_nearest'] / 1000)\n",
    "data['city_centers_nearest_km'] =  data['city_centers_nearest_km'].astype('Int32')"
   ]
  },
  {
   "cell_type": "code",
   "execution_count": 218,
   "id": "10d66653",
   "metadata": {},
   "outputs": [
    {
     "data": {
      "text/plain": [
       "Index(['total_images', 'last_price', 'total_area', 'first_day_exposition',\n",
       "       'rooms', 'ceiling_height', 'floors_total', 'living_area', 'floor',\n",
       "       'is_apartment', 'studio', 'open_plan', 'kitchen_area', 'balcony',\n",
       "       'locality_name', 'airports_nearest', 'citycenters_nearest',\n",
       "       'parks_around3000', 'parks_nearest', 'ponds_around3000',\n",
       "       'ponds_nearest', 'days_exposition', 'cost_per_sqr', 'day_week', 'month',\n",
       "       'year', 'floor_category', 'floor_category_digit',\n",
       "       'city_centers_nearest_km'],\n",
       "      dtype='object')"
      ]
     },
     "execution_count": 218,
     "metadata": {},
     "output_type": "execute_result"
    }
   ],
   "source": [
    "data.columns"
   ]
  },
  {
   "cell_type": "code",
   "execution_count": 219,
   "id": "4a5f0da7",
   "metadata": {},
   "outputs": [
    {
     "data": {
      "text/html": [
       "<div>\n",
       "<style scoped>\n",
       "    .dataframe tbody tr th:only-of-type {\n",
       "        vertical-align: middle;\n",
       "    }\n",
       "\n",
       "    .dataframe tbody tr th {\n",
       "        vertical-align: top;\n",
       "    }\n",
       "\n",
       "    .dataframe thead th {\n",
       "        text-align: right;\n",
       "    }\n",
       "</style>\n",
       "<table border=\"1\" class=\"dataframe\">\n",
       "  <thead>\n",
       "    <tr style=\"text-align: right;\">\n",
       "      <th></th>\n",
       "      <th>total_images</th>\n",
       "      <th>last_price</th>\n",
       "      <th>total_area</th>\n",
       "      <th>first_day_exposition</th>\n",
       "      <th>rooms</th>\n",
       "      <th>ceiling_height</th>\n",
       "      <th>floors_total</th>\n",
       "      <th>living_area</th>\n",
       "      <th>floor</th>\n",
       "      <th>is_apartment</th>\n",
       "      <th>...</th>\n",
       "      <th>ponds_around3000</th>\n",
       "      <th>ponds_nearest</th>\n",
       "      <th>days_exposition</th>\n",
       "      <th>cost_per_sqr</th>\n",
       "      <th>day_week</th>\n",
       "      <th>month</th>\n",
       "      <th>year</th>\n",
       "      <th>floor_category</th>\n",
       "      <th>floor_category_digit</th>\n",
       "      <th>city_centers_nearest_km</th>\n",
       "    </tr>\n",
       "  </thead>\n",
       "  <tbody>\n",
       "    <tr>\n",
       "      <th>0</th>\n",
       "      <td>20</td>\n",
       "      <td>13000000.0</td>\n",
       "      <td>108.0</td>\n",
       "      <td>2019-03-07</td>\n",
       "      <td>3</td>\n",
       "      <td>2.70</td>\n",
       "      <td>16.0</td>\n",
       "      <td>51.000000</td>\n",
       "      <td>8</td>\n",
       "      <td>False</td>\n",
       "      <td>...</td>\n",
       "      <td>2</td>\n",
       "      <td>755.0</td>\n",
       "      <td>NaN</td>\n",
       "      <td>120370.370370</td>\n",
       "      <td>3</td>\n",
       "      <td>3</td>\n",
       "      <td>2019</td>\n",
       "      <td>другой</td>\n",
       "      <td>1</td>\n",
       "      <td>16</td>\n",
       "    </tr>\n",
       "    <tr>\n",
       "      <th>1</th>\n",
       "      <td>7</td>\n",
       "      <td>3350000.0</td>\n",
       "      <td>40.4</td>\n",
       "      <td>2018-12-04</td>\n",
       "      <td>1</td>\n",
       "      <td>2.65</td>\n",
       "      <td>11.0</td>\n",
       "      <td>18.600000</td>\n",
       "      <td>1</td>\n",
       "      <td>False</td>\n",
       "      <td>...</td>\n",
       "      <td>0</td>\n",
       "      <td>NaN</td>\n",
       "      <td>81.0</td>\n",
       "      <td>82920.792079</td>\n",
       "      <td>1</td>\n",
       "      <td>12</td>\n",
       "      <td>2018</td>\n",
       "      <td>первый</td>\n",
       "      <td>0</td>\n",
       "      <td>19</td>\n",
       "    </tr>\n",
       "    <tr>\n",
       "      <th>2</th>\n",
       "      <td>10</td>\n",
       "      <td>5196000.0</td>\n",
       "      <td>56.0</td>\n",
       "      <td>2015-08-20</td>\n",
       "      <td>2</td>\n",
       "      <td>2.60</td>\n",
       "      <td>5.0</td>\n",
       "      <td>34.300000</td>\n",
       "      <td>4</td>\n",
       "      <td>False</td>\n",
       "      <td>...</td>\n",
       "      <td>2</td>\n",
       "      <td>574.0</td>\n",
       "      <td>558.0</td>\n",
       "      <td>92785.714286</td>\n",
       "      <td>3</td>\n",
       "      <td>8</td>\n",
       "      <td>2015</td>\n",
       "      <td>другой</td>\n",
       "      <td>1</td>\n",
       "      <td>14</td>\n",
       "    </tr>\n",
       "    <tr>\n",
       "      <th>3</th>\n",
       "      <td>0</td>\n",
       "      <td>64900000.0</td>\n",
       "      <td>159.0</td>\n",
       "      <td>2015-07-24</td>\n",
       "      <td>3</td>\n",
       "      <td>2.60</td>\n",
       "      <td>14.0</td>\n",
       "      <td>91.730769</td>\n",
       "      <td>9</td>\n",
       "      <td>False</td>\n",
       "      <td>...</td>\n",
       "      <td>3</td>\n",
       "      <td>234.0</td>\n",
       "      <td>424.0</td>\n",
       "      <td>408176.100629</td>\n",
       "      <td>4</td>\n",
       "      <td>7</td>\n",
       "      <td>2015</td>\n",
       "      <td>другой</td>\n",
       "      <td>1</td>\n",
       "      <td>7</td>\n",
       "    </tr>\n",
       "    <tr>\n",
       "      <th>4</th>\n",
       "      <td>2</td>\n",
       "      <td>10000000.0</td>\n",
       "      <td>100.0</td>\n",
       "      <td>2018-06-19</td>\n",
       "      <td>2</td>\n",
       "      <td>3.03</td>\n",
       "      <td>14.0</td>\n",
       "      <td>32.000000</td>\n",
       "      <td>13</td>\n",
       "      <td>False</td>\n",
       "      <td>...</td>\n",
       "      <td>1</td>\n",
       "      <td>48.0</td>\n",
       "      <td>121.0</td>\n",
       "      <td>100000.000000</td>\n",
       "      <td>1</td>\n",
       "      <td>6</td>\n",
       "      <td>2018</td>\n",
       "      <td>другой</td>\n",
       "      <td>1</td>\n",
       "      <td>8</td>\n",
       "    </tr>\n",
       "  </tbody>\n",
       "</table>\n",
       "<p>5 rows × 29 columns</p>\n",
       "</div>"
      ],
      "text/plain": [
       "   total_images  last_price  total_area first_day_exposition  rooms  \\\n",
       "0            20  13000000.0       108.0           2019-03-07      3   \n",
       "1             7   3350000.0        40.4           2018-12-04      1   \n",
       "2            10   5196000.0        56.0           2015-08-20      2   \n",
       "3             0  64900000.0       159.0           2015-07-24      3   \n",
       "4             2  10000000.0       100.0           2018-06-19      2   \n",
       "\n",
       "   ceiling_height  floors_total  living_area  floor  is_apartment  ...  \\\n",
       "0            2.70          16.0    51.000000      8         False  ...   \n",
       "1            2.65          11.0    18.600000      1         False  ...   \n",
       "2            2.60           5.0    34.300000      4         False  ...   \n",
       "3            2.60          14.0    91.730769      9         False  ...   \n",
       "4            3.03          14.0    32.000000     13         False  ...   \n",
       "\n",
       "   ponds_around3000  ponds_nearest  days_exposition   cost_per_sqr day_week  \\\n",
       "0                 2          755.0              NaN  120370.370370        3   \n",
       "1                 0            NaN             81.0   82920.792079        1   \n",
       "2                 2          574.0            558.0   92785.714286        3   \n",
       "3                 3          234.0            424.0  408176.100629        4   \n",
       "4                 1           48.0            121.0  100000.000000        1   \n",
       "\n",
       "   month  year  floor_category  floor_category_digit  city_centers_nearest_km  \n",
       "0      3  2019          другой                     1                       16  \n",
       "1     12  2018          первый                     0                       19  \n",
       "2      8  2015          другой                     1                       14  \n",
       "3      7  2015          другой                     1                        7  \n",
       "4      6  2018          другой                     1                        8  \n",
       "\n",
       "[5 rows x 29 columns]"
      ]
     },
     "execution_count": 219,
     "metadata": {},
     "output_type": "execute_result"
    }
   ],
   "source": [
    "data.head()"
   ]
  },
  {
   "cell_type": "markdown",
   "id": "8a0c0bc4",
   "metadata": {},
   "source": [
    "## Вывод:\n",
    "На данном этапе мы проработали и создали несколько новых коллонок с данным, которые пригодятся в дальнейшем исследовании:\n",
    "\n",
    "Цена одного квадратного метра\n",
    "\n",
    "День недели публикации объявления (0 — понедельник, 1 — вторник и так далее)\n",
    "\n",
    "Месяц публикации объявления\n",
    "\n",
    "Год публикации объявления\n",
    "\n",
    "Тип этажа квартиры (значения — «первый», «последний», «другой»)\n",
    "\n",
    "Расстояние до центра города в километрах (переведите из м в км и округлите до целых значений)\n"
   ]
  },
  {
   "cell_type": "markdown",
   "id": "4f192e66",
   "metadata": {},
   "source": [
    "<div class=\"alert alert-success\">\n",
    "\n",
    "**✔️ Комментарий ревьюера ✔️**\n",
    "   \n",
    "   В данном блоке все верно\n",
    "\n",
    "</div>\n"
   ]
  },
  {
   "cell_type": "markdown",
   "id": "365e65f3",
   "metadata": {},
   "source": [
    "##  4 Проведите исследовательский анализ данных"
   ]
  },
  {
   "cell_type": "markdown",
   "id": "aaf78da6",
   "metadata": {},
   "source": [
    "#### 4.1 Изучение и описание параметров"
   ]
  },
  {
   "cell_type": "markdown",
   "id": "0e26ed7a",
   "metadata": {},
   "source": [
    "Для начала посмотрим на общие параметры столбцов"
   ]
  },
  {
   "cell_type": "code",
   "execution_count": 220,
   "id": "43bf772f",
   "metadata": {},
   "outputs": [
    {
     "data": {
      "text/html": [
       "<div>\n",
       "<style scoped>\n",
       "    .dataframe tbody tr th:only-of-type {\n",
       "        vertical-align: middle;\n",
       "    }\n",
       "\n",
       "    .dataframe tbody tr th {\n",
       "        vertical-align: top;\n",
       "    }\n",
       "\n",
       "    .dataframe thead th {\n",
       "        text-align: right;\n",
       "    }\n",
       "</style>\n",
       "<table border=\"1\" class=\"dataframe\">\n",
       "  <thead>\n",
       "    <tr style=\"text-align: right;\">\n",
       "      <th></th>\n",
       "      <th>total_images</th>\n",
       "      <th>last_price</th>\n",
       "      <th>total_area</th>\n",
       "      <th>rooms</th>\n",
       "      <th>ceiling_height</th>\n",
       "      <th>floors_total</th>\n",
       "      <th>living_area</th>\n",
       "      <th>floor</th>\n",
       "      <th>kitchen_area</th>\n",
       "      <th>balcony</th>\n",
       "      <th>...</th>\n",
       "      <th>parks_nearest</th>\n",
       "      <th>ponds_around3000</th>\n",
       "      <th>ponds_nearest</th>\n",
       "      <th>days_exposition</th>\n",
       "      <th>cost_per_sqr</th>\n",
       "      <th>day_week</th>\n",
       "      <th>month</th>\n",
       "      <th>year</th>\n",
       "      <th>floor_category_digit</th>\n",
       "      <th>city_centers_nearest_km</th>\n",
       "    </tr>\n",
       "  </thead>\n",
       "  <tbody>\n",
       "    <tr>\n",
       "      <th>count</th>\n",
       "      <td>23446.000000</td>\n",
       "      <td>2.344600e+04</td>\n",
       "      <td>23446.000000</td>\n",
       "      <td>23446.000000</td>\n",
       "      <td>23446.000000</td>\n",
       "      <td>23446.000000</td>\n",
       "      <td>23446.000000</td>\n",
       "      <td>23446.000000</td>\n",
       "      <td>23446.000000</td>\n",
       "      <td>23446.000000</td>\n",
       "      <td>...</td>\n",
       "      <td>7966.000000</td>\n",
       "      <td>23446.000000</td>\n",
       "      <td>8966.000000</td>\n",
       "      <td>20299.000000</td>\n",
       "      <td>2.344600e+04</td>\n",
       "      <td>23446.000000</td>\n",
       "      <td>23446.000000</td>\n",
       "      <td>23446.000000</td>\n",
       "      <td>23446.000000</td>\n",
       "      <td>17963.000000</td>\n",
       "    </tr>\n",
       "    <tr>\n",
       "      <th>mean</th>\n",
       "      <td>9.871876</td>\n",
       "      <td>6.293708e+06</td>\n",
       "      <td>59.488460</td>\n",
       "      <td>2.060693</td>\n",
       "      <td>2.703016</td>\n",
       "      <td>10.693167</td>\n",
       "      <td>34.160610</td>\n",
       "      <td>5.881387</td>\n",
       "      <td>10.389030</td>\n",
       "      <td>0.594046</td>\n",
       "      <td>...</td>\n",
       "      <td>490.742656</td>\n",
       "      <td>0.586923</td>\n",
       "      <td>518.931073</td>\n",
       "      <td>180.444209</td>\n",
       "      <td>9.888885e+04</td>\n",
       "      <td>2.566621</td>\n",
       "      <td>6.399855</td>\n",
       "      <td>2017.371492</td>\n",
       "      <td>0.876482</td>\n",
       "      <td>14.223571</td>\n",
       "    </tr>\n",
       "    <tr>\n",
       "      <th>std</th>\n",
       "      <td>5.675647</td>\n",
       "      <td>7.809287e+06</td>\n",
       "      <td>31.061607</td>\n",
       "      <td>1.050620</td>\n",
       "      <td>0.220249</td>\n",
       "      <td>6.595741</td>\n",
       "      <td>20.133526</td>\n",
       "      <td>4.873976</td>\n",
       "      <td>5.501072</td>\n",
       "      <td>0.959894</td>\n",
       "      <td>...</td>\n",
       "      <td>341.642684</td>\n",
       "      <td>0.881272</td>\n",
       "      <td>278.183131</td>\n",
       "      <td>219.417375</td>\n",
       "      <td>4.721842e+04</td>\n",
       "      <td>1.788395</td>\n",
       "      <td>3.492846</td>\n",
       "      <td>1.037335</td>\n",
       "      <td>0.329038</td>\n",
       "      <td>8.616998</td>\n",
       "    </tr>\n",
       "    <tr>\n",
       "      <th>min</th>\n",
       "      <td>0.000000</td>\n",
       "      <td>1.219000e+04</td>\n",
       "      <td>12.000000</td>\n",
       "      <td>0.000000</td>\n",
       "      <td>2.300000</td>\n",
       "      <td>1.000000</td>\n",
       "      <td>2.000000</td>\n",
       "      <td>1.000000</td>\n",
       "      <td>1.300000</td>\n",
       "      <td>0.000000</td>\n",
       "      <td>...</td>\n",
       "      <td>1.000000</td>\n",
       "      <td>0.000000</td>\n",
       "      <td>13.000000</td>\n",
       "      <td>1.000000</td>\n",
       "      <td>1.118349e+02</td>\n",
       "      <td>0.000000</td>\n",
       "      <td>1.000000</td>\n",
       "      <td>2014.000000</td>\n",
       "      <td>0.000000</td>\n",
       "      <td>0.000000</td>\n",
       "    </tr>\n",
       "    <tr>\n",
       "      <th>25%</th>\n",
       "      <td>6.000000</td>\n",
       "      <td>3.400000e+06</td>\n",
       "      <td>40.000000</td>\n",
       "      <td>1.000000</td>\n",
       "      <td>2.550000</td>\n",
       "      <td>5.000000</td>\n",
       "      <td>19.000000</td>\n",
       "      <td>2.000000</td>\n",
       "      <td>7.000000</td>\n",
       "      <td>0.000000</td>\n",
       "      <td>...</td>\n",
       "      <td>288.000000</td>\n",
       "      <td>0.000000</td>\n",
       "      <td>294.000000</td>\n",
       "      <td>45.000000</td>\n",
       "      <td>7.654422e+04</td>\n",
       "      <td>1.000000</td>\n",
       "      <td>3.000000</td>\n",
       "      <td>2017.000000</td>\n",
       "      <td>1.000000</td>\n",
       "      <td>9.000000</td>\n",
       "    </tr>\n",
       "    <tr>\n",
       "      <th>50%</th>\n",
       "      <td>9.000000</td>\n",
       "      <td>4.600000e+06</td>\n",
       "      <td>52.000000</td>\n",
       "      <td>2.000000</td>\n",
       "      <td>2.650000</td>\n",
       "      <td>9.000000</td>\n",
       "      <td>30.000000</td>\n",
       "      <td>4.000000</td>\n",
       "      <td>9.000000</td>\n",
       "      <td>0.000000</td>\n",
       "      <td>...</td>\n",
       "      <td>454.000000</td>\n",
       "      <td>0.000000</td>\n",
       "      <td>503.000000</td>\n",
       "      <td>95.000000</td>\n",
       "      <td>9.491525e+04</td>\n",
       "      <td>3.000000</td>\n",
       "      <td>6.000000</td>\n",
       "      <td>2017.000000</td>\n",
       "      <td>1.000000</td>\n",
       "      <td>13.000000</td>\n",
       "    </tr>\n",
       "    <tr>\n",
       "      <th>75%</th>\n",
       "      <td>14.000000</td>\n",
       "      <td>6.740000e+06</td>\n",
       "      <td>69.200000</td>\n",
       "      <td>3.000000</td>\n",
       "      <td>2.750000</td>\n",
       "      <td>16.000000</td>\n",
       "      <td>42.000000</td>\n",
       "      <td>8.000000</td>\n",
       "      <td>12.000000</td>\n",
       "      <td>1.000000</td>\n",
       "      <td>...</td>\n",
       "      <td>612.000000</td>\n",
       "      <td>1.000000</td>\n",
       "      <td>732.000000</td>\n",
       "      <td>231.000000</td>\n",
       "      <td>1.140351e+05</td>\n",
       "      <td>4.000000</td>\n",
       "      <td>10.000000</td>\n",
       "      <td>2018.000000</td>\n",
       "      <td>1.000000</td>\n",
       "      <td>16.000000</td>\n",
       "    </tr>\n",
       "    <tr>\n",
       "      <th>max</th>\n",
       "      <td>50.000000</td>\n",
       "      <td>3.300000e+08</td>\n",
       "      <td>347.500000</td>\n",
       "      <td>16.000000</td>\n",
       "      <td>4.000000</td>\n",
       "      <td>60.000000</td>\n",
       "      <td>260.000000</td>\n",
       "      <td>33.000000</td>\n",
       "      <td>66.000000</td>\n",
       "      <td>5.000000</td>\n",
       "      <td>...</td>\n",
       "      <td>3190.000000</td>\n",
       "      <td>3.000000</td>\n",
       "      <td>1344.000000</td>\n",
       "      <td>1580.000000</td>\n",
       "      <td>1.736842e+06</td>\n",
       "      <td>6.000000</td>\n",
       "      <td>12.000000</td>\n",
       "      <td>2019.000000</td>\n",
       "      <td>1.000000</td>\n",
       "      <td>66.000000</td>\n",
       "    </tr>\n",
       "  </tbody>\n",
       "</table>\n",
       "<p>8 rows × 23 columns</p>\n",
       "</div>"
      ],
      "text/plain": [
       "       total_images    last_price    total_area         rooms  ceiling_height  \\\n",
       "count  23446.000000  2.344600e+04  23446.000000  23446.000000    23446.000000   \n",
       "mean       9.871876  6.293708e+06     59.488460      2.060693        2.703016   \n",
       "std        5.675647  7.809287e+06     31.061607      1.050620        0.220249   \n",
       "min        0.000000  1.219000e+04     12.000000      0.000000        2.300000   \n",
       "25%        6.000000  3.400000e+06     40.000000      1.000000        2.550000   \n",
       "50%        9.000000  4.600000e+06     52.000000      2.000000        2.650000   \n",
       "75%       14.000000  6.740000e+06     69.200000      3.000000        2.750000   \n",
       "max       50.000000  3.300000e+08    347.500000     16.000000        4.000000   \n",
       "\n",
       "       floors_total   living_area         floor  kitchen_area       balcony  \\\n",
       "count  23446.000000  23446.000000  23446.000000  23446.000000  23446.000000   \n",
       "mean      10.693167     34.160610      5.881387     10.389030      0.594046   \n",
       "std        6.595741     20.133526      4.873976      5.501072      0.959894   \n",
       "min        1.000000      2.000000      1.000000      1.300000      0.000000   \n",
       "25%        5.000000     19.000000      2.000000      7.000000      0.000000   \n",
       "50%        9.000000     30.000000      4.000000      9.000000      0.000000   \n",
       "75%       16.000000     42.000000      8.000000     12.000000      1.000000   \n",
       "max       60.000000    260.000000     33.000000     66.000000      5.000000   \n",
       "\n",
       "       ...  parks_nearest  ponds_around3000  ponds_nearest  days_exposition  \\\n",
       "count  ...    7966.000000      23446.000000    8966.000000     20299.000000   \n",
       "mean   ...     490.742656          0.586923     518.931073       180.444209   \n",
       "std    ...     341.642684          0.881272     278.183131       219.417375   \n",
       "min    ...       1.000000          0.000000      13.000000         1.000000   \n",
       "25%    ...     288.000000          0.000000     294.000000        45.000000   \n",
       "50%    ...     454.000000          0.000000     503.000000        95.000000   \n",
       "75%    ...     612.000000          1.000000     732.000000       231.000000   \n",
       "max    ...    3190.000000          3.000000    1344.000000      1580.000000   \n",
       "\n",
       "       cost_per_sqr      day_week         month          year  \\\n",
       "count  2.344600e+04  23446.000000  23446.000000  23446.000000   \n",
       "mean   9.888885e+04      2.566621      6.399855   2017.371492   \n",
       "std    4.721842e+04      1.788395      3.492846      1.037335   \n",
       "min    1.118349e+02      0.000000      1.000000   2014.000000   \n",
       "25%    7.654422e+04      1.000000      3.000000   2017.000000   \n",
       "50%    9.491525e+04      3.000000      6.000000   2017.000000   \n",
       "75%    1.140351e+05      4.000000     10.000000   2018.000000   \n",
       "max    1.736842e+06      6.000000     12.000000   2019.000000   \n",
       "\n",
       "       floor_category_digit  city_centers_nearest_km  \n",
       "count          23446.000000             17963.000000  \n",
       "mean               0.876482                14.223571  \n",
       "std                0.329038                 8.616998  \n",
       "min                0.000000                 0.000000  \n",
       "25%                1.000000                 9.000000  \n",
       "50%                1.000000                13.000000  \n",
       "75%                1.000000                16.000000  \n",
       "max                1.000000                66.000000  \n",
       "\n",
       "[8 rows x 23 columns]"
      ]
     },
     "execution_count": 220,
     "metadata": {},
     "output_type": "execute_result"
    }
   ],
   "source": [
    "data.describe()"
   ]
  },
  {
   "cell_type": "code",
   "execution_count": 221,
   "id": "e9bc11f5",
   "metadata": {},
   "outputs": [
    {
     "data": {
      "image/png": "[encoded data removed]",
      "text/plain": [
       "<Figure size 432x288 with 1 Axes>"
      ]
     },
     "metadata": {
      "needs_background": "light"
     },
     "output_type": "display_data"
    },
    {
     "name": "stdout",
     "output_type": "stream",
     "text": [
      "Наибольшие по площади варианты:\n",
      "10569    347.5\n",
      "19865    347.0\n",
      "20820    342.0\n",
      "2580     338.6\n",
      "16179    336.0\n",
      "14591    327.2\n",
      "1085     323.0\n",
      "11087    320.0\n",
      "155      317.0\n",
      "11436    316.3\n",
      "Name: total_area, dtype: float64\n"
     ]
    }
   ],
   "source": [
    "plt.hist(data['total_area'], bins=50, range=(10,200))\n",
    "plt.title('Площадь квартир')\n",
    "plt.xlabel('Квадратные метры')\n",
    "plt.ylabel('Количество квартир')\n",
    "plt.show()\n",
    "print('Наибольшие по площади варианты:')\n",
    "print(data['total_area'].sort_values(ascending=False).head(10))"
   ]
  },
  {
   "cell_type": "markdown",
   "id": "a5d50d36",
   "metadata": {},
   "source": [
    "Максимальная площадь составляет 347.5 метров, при чаще всего встречаются квартиры с площадью от 25 до 75 метров"
   ]
  },
  {
   "cell_type": "code",
   "execution_count": 222,
   "id": "1926df59",
   "metadata": {},
   "outputs": [
    {
     "data": {
      "image/png": "[encoded data removed]",
      "text/plain": [
       "<Figure size 432x288 with 1 Axes>"
      ]
     },
     "metadata": {
      "needs_background": "light"
     },
     "output_type": "display_data"
    },
    {
     "name": "stdout",
     "output_type": "stream",
     "text": [
      "Наибольшие по цене варианты:\n",
      "1436     330000000.0\n",
      "22831    289238400.0\n",
      "16461    245000000.0\n",
      "8900     190870000.0\n",
      "19865    180000000.0\n",
      "19155    160000000.0\n",
      "2536     159984000.0\n",
      "16495    159000000.0\n",
      "7857     150000000.0\n",
      "22229    148000000.0\n",
      "Name: last_price, dtype: float64\n"
     ]
    }
   ],
   "source": [
    "plt.hist(data['last_price'], bins=30, range=(0,20000000))\n",
    "plt.title('Стоимость квартир')\n",
    "plt.xlabel('Стоимость')\n",
    "plt.ylabel('Количество квартир')\n",
    "plt.show()\n",
    "print('Наибольшие по цене варианты:')\n",
    "print(data['last_price'].sort_values(ascending=False).head(10))"
   ]
  },
  {
   "cell_type": "markdown",
   "id": "e4e0b0dc",
   "metadata": {},
   "source": [
    "Максимальная стоимость квартиры доходит до 330000000 рублей, при этом большая часть цен находится в промежутке от 20 до 75 тысяч."
   ]
  },
  {
   "cell_type": "code",
   "execution_count": 223,
   "id": "7ec0ec24",
   "metadata": {},
   "outputs": [
    {
     "data": {
      "image/png": "[encoded data removed]",
      "text/plain": [
       "<Figure size 432x288 with 1 Axes>"
      ]
     },
     "metadata": {
      "needs_background": "light"
     },
     "output_type": "display_data"
    },
    {
     "name": "stdout",
     "output_type": "stream",
     "text": [
      "Наибольшие по площади кухни варианты:\n",
      "1085     66.0\n",
      "22980    65.0\n",
      "18447    65.0\n",
      "15780    64.0\n",
      "17912    64.0\n",
      "19499    64.0\n",
      "7543     63.4\n",
      "19130    63.0\n",
      "14900    62.5\n",
      "13139    62.0\n",
      "Name: kitchen_area, dtype: float64\n"
     ]
    }
   ],
   "source": [
    "plt.hist(data['kitchen_area'], bins=30, range=(0,30))\n",
    "plt.title('Площадь кухни')\n",
    "plt.xlabel('Квадратные метры')\n",
    "plt.ylabel('Количество квартир')\n",
    "plt.show()\n",
    "print('Наибольшие по площади кухни варианты:')\n",
    "print(data['kitchen_area'].sort_values(ascending=False).head(10))"
   ]
  },
  {
   "cell_type": "markdown",
   "id": "6694c083",
   "metadata": {},
   "source": [
    "Самые большие кухни по площади начинаются от 60 метров, при этом подавляющее большинство кухонных комнат имеют площадь от 5 до 15 метров"
   ]
  },
  {
   "cell_type": "code",
   "execution_count": 224,
   "id": "1ba9280c",
   "metadata": {},
   "outputs": [
    {
     "data": {
      "image/png": "[encoded data removed]",
      "text/plain": [
       "<Figure size 432x288 with 1 Axes>"
      ]
     },
     "metadata": {
      "needs_background": "light"
     },
     "output_type": "display_data"
    },
    {
     "name": "stdout",
     "output_type": "stream",
     "text": [
      "Наибольшие по жилой площади варианты:\n",
      "19865    260.0\n",
      "1085     255.7\n",
      "15701    250.0\n",
      "793      250.0\n",
      "2580     230.0\n",
      "16915    225.9\n",
      "7857     220.0\n",
      "21685    211.0\n",
      "10246    200.0\n",
      "22907    200.0\n",
      "Name: living_area, dtype: float64\n"
     ]
    }
   ],
   "source": [
    "plt.hist(data['living_area'], bins=70, range=(10,80))\n",
    "plt.title('Жилая площадь')\n",
    "plt.xlabel('Квадратные метры')\n",
    "plt.ylabel('Количество квартир')\n",
    "plt.show()\n",
    "print('Наибольшие по жилой площади варианты:')\n",
    "print(data['living_area'].sort_values(ascending=False).head(10))"
   ]
  },
  {
   "cell_type": "markdown",
   "id": "8f67f9d2",
   "metadata": {},
   "source": [
    "Самые большие жилые площади доходят до 250 метров, в то время, как большинство лежитна промежутка от 15 до 50 метров"
   ]
  },
  {
   "cell_type": "code",
   "execution_count": 225,
   "id": "68d95a6c",
   "metadata": {},
   "outputs": [
    {
     "data": {
      "image/png": "[encoded data removed]",
      "text/plain": [
       "<Figure size 432x288 with 1 Axes>"
      ]
     },
     "metadata": {
      "needs_background": "light"
     },
     "output_type": "display_data"
    },
    {
     "name": "stdout",
     "output_type": "stream",
     "text": [
      "Наибольшие по числу комнат варианты:\n",
      "18848    16\n",
      "20829    14\n",
      "648      11\n",
      "9688     11\n",
      "18891    10\n",
      "4149     10\n",
      "18119    10\n",
      "13397     9\n",
      "20791     9\n",
      "9550      9\n",
      "Name: rooms, dtype: int64\n"
     ]
    }
   ],
   "source": [
    "plt.hist(data['rooms'], bins=7, range=(1,7))\n",
    "plt.title('Комнаты')\n",
    "plt.xlabel('Количество комнат')\n",
    "plt.ylabel('Количество квартир')\n",
    "plt.show()\n",
    "print('Наибольшие по числу комнат варианты:')\n",
    "print(data['rooms'].sort_values(ascending=False).head(10))"
   ]
  },
  {
   "cell_type": "markdown",
   "id": "8fc51a6a",
   "metadata": {},
   "source": [
    "Большие по количеству комнат квартиры можно считать с 10 и более комнатами, когда большая часть находится в промежутке от 1 до 3 комнат."
   ]
  },
  {
   "cell_type": "code",
   "execution_count": 226,
   "id": "42feb277",
   "metadata": {},
   "outputs": [
    {
     "data": {
      "image/png": "[encoded data removed]",
      "text/plain": [
       "<Figure size 432x288 with 1 Axes>"
      ]
     },
     "metadata": {
      "needs_background": "light"
     },
     "output_type": "display_data"
    },
    {
     "name": "stdout",
     "output_type": "stream",
     "text": [
      "Наибольшие по высоте потолков варианты:\n",
      "179      4.0\n",
      "13564    4.0\n",
      "8713     4.0\n",
      "15168    4.0\n",
      "12900    4.0\n",
      "19619    4.0\n",
      "7696     4.0\n",
      "6269     4.0\n",
      "4549     4.0\n",
      "14001    4.0\n",
      "Name: ceiling_height, dtype: float64\n"
     ]
    }
   ],
   "source": [
    "plt.hist(data.query('(ceiling_height > 2) & (ceiling_height < 4)')['ceiling_height'], bins=20)\n",
    "plt.title('Высота потолков')\n",
    "plt.xlabel('Метры')\n",
    "plt.ylabel('Количество квартир')\n",
    "plt.show()\n",
    "print('Наибольшие по высоте потолков варианты:')\n",
    "print(data['ceiling_height'].sort_values(ascending=False).head(10))"
   ]
  },
  {
   "cell_type": "markdown",
   "id": "ef41dca6",
   "metadata": {},
   "source": [
    "Самыми \"высокими\" можно назвать квартиры с потолками в 4 метра, чаще же всего встречаются потолки в промежутке от 2.5 до 2.75 метров."
   ]
  },
  {
   "cell_type": "code",
   "execution_count": 227,
   "id": "1c9aac4b",
   "metadata": {},
   "outputs": [
    {
     "data": {
      "image/png": "[encoded data removed]",
      "text/plain": [
       "<Figure size 432x288 with 1 Axes>"
      ]
     },
     "metadata": {
      "needs_background": "light"
     },
     "output_type": "display_data"
    },
    {
     "name": "stdout",
     "output_type": "stream",
     "text": [
      "Наибольшие по числу этажей варианты:\n",
      "18218    33\n",
      "11575    32\n",
      "18629    31\n",
      "1917     30\n",
      "11079    29\n",
      "397      28\n",
      "12888    27\n",
      "7711     27\n",
      "6157     27\n",
      "13276    27\n",
      "Name: floor, dtype: int64\n"
     ]
    }
   ],
   "source": [
    "plt.hist(data['floor'], bins=40, range=(1,60))\n",
    "plt.title('Этаж')\n",
    "plt.xlabel('Номер этажа')\n",
    "plt.ylabel('Количество квартир')\n",
    "plt.show()\n",
    "print('Наибольшие по числу этажей варианты:')\n",
    "print(data['floor'].sort_values(ascending=False).head(10))"
   ]
  },
  {
   "cell_type": "markdown",
   "id": "279d465a",
   "metadata": {},
   "source": [
    "Самыми \"высокими\" по этажам квартиры можно считать начиная с 50 этажа, в то время, как практически все продают или сдают квартиры до 30 этажа. Что еще интересно, большая часть квартир продается на этаже до 10."
   ]
  },
  {
   "cell_type": "code",
   "execution_count": 228,
   "id": "8a2bd6a9",
   "metadata": {},
   "outputs": [
    {
     "data": {
      "image/png": "[encoded data removed]",
      "text/plain": [
       "<Figure size 432x288 with 1 Axes>"
      ]
     },
     "metadata": {
      "needs_background": "light"
     },
     "output_type": "display_data"
    },
    {
     "name": "stdout",
     "output_type": "stream",
     "text": [
      "Наибольшие по типу этажей варианты:\n",
      "23698    первый\n",
      "20191    первый\n",
      "9754     первый\n",
      "9753     первый\n",
      "9752     первый\n",
      "3719     первый\n",
      "3721     первый\n",
      "20425    первый\n",
      "9746     первый\n",
      "9744     первый\n",
      "Name: floor_category, dtype: object\n"
     ]
    }
   ],
   "source": [
    "plt.hist(data['floor_category'], bins=3, range=(0,3))\n",
    "plt.title('Этаж')\n",
    "plt.xlabel('Тип этажа')\n",
    "plt.ylabel('Количество квартир')\n",
    "plt.show()\n",
    "print('Наибольшие по типу этажей варианты:')\n",
    "print(data['floor_category'].sort_values(ascending=False).head(10))"
   ]
  },
  {
   "cell_type": "markdown",
   "id": "fce711f4",
   "metadata": {},
   "source": [
    "Собственно, было понятно из предыдущей гистограммы, основанной на этажах квартиры, подавляющее большинство находится в категории \"другие\", за ней следуют квартиры на первых этажах, квартиры с последней категории практически не наблюдаются."
   ]
  },
  {
   "cell_type": "code",
   "execution_count": 229,
   "id": "401d10bf",
   "metadata": {},
   "outputs": [
    {
     "data": {
      "image/png": "[encoded data removed]",
      "text/plain": [
       "<Figure size 432x288 with 1 Axes>"
      ]
     },
     "metadata": {
      "needs_background": "light"
     },
     "output_type": "display_data"
    },
    {
     "name": "stdout",
     "output_type": "stream",
     "text": [
      "Наибольшие по числу этажей варианты:\n",
      "2253     60.0\n",
      "16731    52.0\n",
      "397      36.0\n",
      "11079    36.0\n",
      "5807     36.0\n",
      "5808     35.0\n",
      "1917     35.0\n",
      "9370     35.0\n",
      "12888    35.0\n",
      "21599    35.0\n",
      "Name: floors_total, dtype: float64\n"
     ]
    }
   ],
   "source": [
    "plt.hist(data['floors_total'], bins=30, range=(0,60))\n",
    "plt.title('Этаж')\n",
    "plt.xlabel('Общее количество этажей в доме')\n",
    "plt.ylabel('Количество квартир')\n",
    "plt.show()\n",
    "print('Наибольшие по числу этажей варианты:')\n",
    "print(data['floors_total'].sort_values(ascending=False).head(10))"
   ]
  },
  {
   "cell_type": "markdown",
   "id": "fd3763d9",
   "metadata": {},
   "source": [
    "Практически все дома имеют до 30 этажей, большая же часть вообще находится в промежутке до 20, редким исключением будут дома с 40+ этажами."
   ]
  },
  {
   "cell_type": "code",
   "execution_count": 230,
   "id": "1740fcab",
   "metadata": {},
   "outputs": [
    {
     "data": {
      "image/png": "[encoded data removed]",
      "text/plain": [
       "<Figure size 432x288 with 1 Axes>"
      ]
     },
     "metadata": {
      "needs_background": "light"
     },
     "output_type": "display_data"
    },
    {
     "name": "stdout",
     "output_type": "stream",
     "text": [
      "Наибольшие по расстоянию до центра варианты:\n",
      "9640     65968.0\n",
      "5340     65952.0\n",
      "577      65764.0\n",
      "20746    65105.0\n",
      "5218     64857.0\n",
      "18884    62706.0\n",
      "2974     62454.0\n",
      "16569    61495.0\n",
      "23123    60223.0\n",
      "4441     59626.0\n",
      "Name: citycenters_nearest, dtype: float64\n"
     ]
    }
   ],
   "source": [
    "plt.hist(data['citycenters_nearest'], bins=500, range=(0,100000))\n",
    "plt.title('Расстояние до центра города в метрах')\n",
    "plt.xlabel('Метров')\n",
    "plt.ylabel('Количество квартир')\n",
    "plt.show()\n",
    "print('Наибольшие по расстоянию до центра варианты:')\n",
    "print(data['citycenters_nearest'].sort_values(ascending=False).head(10))"
   ]
  },
  {
   "cell_type": "markdown",
   "id": "c0f934f2",
   "metadata": {},
   "source": [
    "Так как в иследовании задействована вся Ленинградская область, а центр взят в городе Санкт-Петербург, то и расстояния получаются соотвествующе большие. Но все же подавляющая часть квартир находится в радиусе до 40 километорв."
   ]
  },
  {
   "cell_type": "code",
   "execution_count": 231,
   "id": "e34d061e",
   "metadata": {},
   "outputs": [
    {
     "data": {
      "image/png": "[encoded data removed]",
      "text/plain": [
       "<Figure size 432x288 with 1 Axes>"
      ]
     },
     "metadata": {
      "needs_background": "light"
     },
     "output_type": "display_data"
    },
    {
     "name": "stdout",
     "output_type": "stream",
     "text": [
      "Наибольшие по расстоянию до близжайшего аэропорта варианты:\n",
      "9640     84869.0\n",
      "5340     84853.0\n",
      "577      84665.0\n",
      "20746    84006.0\n",
      "5218     83758.0\n",
      "18884    81607.0\n",
      "2974     81355.0\n",
      "4441     78527.0\n",
      "939      75646.0\n",
      "376      73827.0\n",
      "Name: airports_nearest, dtype: float64\n"
     ]
    }
   ],
   "source": [
    "plt.hist(data['airports_nearest'], bins=500, range=(0,100000))\n",
    "plt.title('Расстояние до близжайшего аэропорта')\n",
    "plt.xlabel('Метров')\n",
    "plt.ylabel('Количество квартир')\n",
    "plt.show()\n",
    "print('Наибольшие по расстоянию до близжайшего аэропорта варианты:')\n",
    "print(data['airports_nearest'].sort_values(ascending=False).head(10))"
   ]
  },
  {
   "cell_type": "markdown",
   "id": "e300de25",
   "metadata": {},
   "source": [
    "Теперь же как центральная точка взять, скорее всего, аэропорт \"Пулково\", который находится за чертой города, по этому видно смещение графика в большую сторону, где основная часть находится в радиусе от 10 до 50 километорв"
   ]
  },
  {
   "cell_type": "code",
   "execution_count": 232,
   "id": "c58f50d1",
   "metadata": {},
   "outputs": [
    {
     "data": {
      "image/png": "[encoded data removed]",
      "text/plain": [
       "<Figure size 432x288 with 1 Axes>"
      ]
     },
     "metadata": {
      "needs_background": "light"
     },
     "output_type": "display_data"
    },
    {
     "name": "stdout",
     "output_type": "stream",
     "text": [
      "Наибольшие по расстоянию до близжайшего парка варианты:\n",
      "19430    3190.0\n",
      "10959    3190.0\n",
      "1590     3064.0\n",
      "19208    3013.0\n",
      "23080    2984.0\n",
      "2659     2905.0\n",
      "1860     2888.0\n",
      "7855     2880.0\n",
      "3865     2847.0\n",
      "22003    2768.0\n",
      "Name: parks_nearest, dtype: float64\n"
     ]
    }
   ],
   "source": [
    "plt.hist(data['parks_nearest'], bins=500, range=(0,3000))\n",
    "plt.title('Расстояние до близжайшего парка')\n",
    "plt.xlabel('Метров')\n",
    "plt.ylabel('Количество квартир')\n",
    "plt.show()\n",
    "print('Наибольшие по расстоянию до близжайшего парка варианты:')\n",
    "print(data['parks_nearest'].sort_values(ascending=False).head(10))"
   ]
  },
  {
   "cell_type": "markdown",
   "id": "481a25e7",
   "metadata": {},
   "source": [
    "Кому-то до близжайшего парка приходтся ходить по 3 километра, подавляющему большинству, конечно, везет больше. У них это расстояние не превышает 1 километра"
   ]
  },
  {
   "cell_type": "markdown",
   "id": "428b9945",
   "metadata": {},
   "source": [
    "<div class=\"alert alert-success\">\n",
    "✔️ Комментарий ревьюера ✔️ \n",
    "\n",
    "Хороший результат. Хочу добавить, что обычно размеры двухкомнатных квартир составляют от 50 до 100 квадратных метров, что и соответствует проведенному анализу.\n",
    "    \n",
    "Могу посоветовать на будущее хорошую статью по оформлению графиков:\n",
    "    https://devpractice.ru/matplotlib-lesson-3-3-text-elements/    \n",
    "        \n",
    "    \n",
    "    \n",
    "</div>"
   ]
  },
  {
   "cell_type": "code",
   "execution_count": 233,
   "id": "e8434097",
   "metadata": {},
   "outputs": [
    {
     "data": {
      "image/png": "[encoded data removed]",
      "text/plain": [
       "<Figure size 432x288 with 1 Axes>"
      ]
     },
     "metadata": {
      "needs_background": "light"
     },
     "output_type": "display_data"
    },
    {
     "name": "stdout",
     "output_type": "stream",
     "text": [
      "Наибольшие по количеству дней квартиры, стоящие на продаже:\n",
      "18843    1580.0\n",
      "1109     1572.0\n",
      "9553     1553.0\n",
      "1885     1513.0\n",
      "20969    1512.0\n",
      "6691     1512.0\n",
      "14093    1497.0\n",
      "15313    1489.0\n",
      "19123    1485.0\n",
      "11955    1484.0\n",
      "Name: days_exposition, dtype: float64\n"
     ]
    }
   ],
   "source": [
    "\n",
    "plt.hist(data['days_exposition'], bins=100, range=(0,1000))\n",
    "plt.title('Количество дней с момента начала продажи')\n",
    "plt.xlabel('Дней')\n",
    "plt.ylabel('Количество квартир')\n",
    "plt.show()\n",
    "print('Наибольшие по количеству дней квартиры, стоящие на продаже:')\n",
    "print(data['days_exposition'].sort_values(ascending=False).head(10))"
   ]
  },
  {
   "cell_type": "markdown",
   "id": "16827cdc",
   "metadata": {},
   "source": [
    "Большинство квартир продается в промежутке до 200 дней или что примерно равно полугоду. Некоторые квартиры могут лежать более 3 лет, начиная с 2014 года.\n"
   ]
  },
  {
   "cell_type": "markdown",
   "id": "873a2f5a",
   "metadata": {},
   "source": [
    "#### 4.2 Как быстро продавались квартиры"
   ]
  },
  {
   "cell_type": "code",
   "execution_count": 234,
   "id": "f198c986",
   "metadata": {},
   "outputs": [
    {
     "name": "stdout",
     "output_type": "stream",
     "text": [
      "Время продажи (медиана): 95 \n",
      "\n",
      "Время продажи (среднее): 180 \n",
      "\n"
     ]
    },
    {
     "data": {
      "image/png": "[encoded data removed]",
      "text/plain": [
       "<Figure size 432x288 with 1 Axes>"
      ]
     },
     "metadata": {
      "needs_background": "light"
     },
     "output_type": "display_data"
    },
    {
     "data": {
      "text/plain": [
       "count    20299.000000\n",
       "mean       180.444209\n",
       "std        219.417375\n",
       "min          1.000000\n",
       "25%         45.000000\n",
       "50%         95.000000\n",
       "75%        231.000000\n",
       "max       1580.000000\n",
       "Name: days_exposition, dtype: float64"
      ]
     },
     "execution_count": 234,
     "metadata": {},
     "output_type": "execute_result"
    }
   ],
   "source": [
    "print('Время продажи (медиана):', round(data.query('days_exposition != 9999')['days_exposition'].median()),'\\n')\n",
    "print('Время продажи (среднее):', round(data.query('days_exposition != 9999')['days_exposition'].mean()),'\\n')\n",
    "plt.hist(data.query('days_exposition != 9999')['days_exposition'], bins=50, range=(0,250))\n",
    "plt.title('Время продажи')\n",
    "plt.xlabel('Дни')\n",
    "plt.ylabel('Количество квартир')\n",
    "plt.show()\n",
    "data.query('days_exposition != 9999')['days_exposition'].describe()\n"
   ]
  },
  {
   "cell_type": "markdown",
   "id": "1cac5535",
   "metadata": {},
   "source": [
    "### Вывод:\n",
    "\n",
    "Медианное время продажи - 95 дней. Среднее время продажи - 180 день.\n",
    "\n",
    "Большая часть квартир продается в промежутке до 100 дней. Некоторые квартиры могут купить даже в первые дни публикации. Быстрой продажей можно назвать в промежутке до 50 дней, а долгой более 8 месяцев.\n",
    "\n",
    "**UPD**:\n",
    "\n",
    "Думаю выбросы связаны с системой обработки неактивных объявлений, допустим сотрудники компании узнают, что кварира, либо снята с продажи, либо сделка совершена. Но пользователи не стали закрывать объявление или просто забыли. В определенный период команда собирает информацию и лично закрывает неактивные объявления. Отсюда и появляются выбросы в столбе days_exposition , который отвечает за то, сколько дней было размещено объявление (от публикации до снятия)."
   ]
  },
  {
   "cell_type": "markdown",
   "id": "82fc57a9",
   "metadata": {},
   "source": [
    "<div class=\"alert alert-danger\">\n",
    "\n",
    "**❌ Комментарий ревьюера ❌**\n",
    "   \n",
    "   На графике заметны выбросы. С чем они могут быть связаны? Скорректируй выводы о скорости продаж с учетом выбросов\n",
    "\n",
    "</div>\n"
   ]
  },
  {
   "cell_type": "markdown",
   "id": "f4626454",
   "metadata": {},
   "source": [
    "<div class=\"alert alert-block alert-info\">\n",
    "    \n",
    "Я подумал, что вычисления не помогут понять природу этих выбросов, сделал вывод основываясь на логике.\n",
    "    \n",
    "</div>"
   ]
  },
  {
   "cell_type": "markdown",
   "id": "abc44934",
   "metadata": {},
   "source": [
    "<div class=\"alert alert-success\">\n",
    "\n",
    "**✔️ Комментарий ревьюера v2✔️**\n",
    "   \n",
    "   Да, выбросы могут быть связаны с автоматическим снятием объявления агрегатором: https://yandex.ru/support/realty/owner/home/add-ads-housing.html\n",
    "\n",
    "</div>\n"
   ]
  },
  {
   "cell_type": "markdown",
   "id": "e0af5eab",
   "metadata": {},
   "source": [
    "#### 4.3 Факторы, больше всего влияющие, на общую (полную) стоимость объекта"
   ]
  },
  {
   "cell_type": "markdown",
   "id": "3ed3cac7",
   "metadata": {},
   "source": [
    "Проведем исследовапние о зависимости конкретных факторов и полной стоимости объекта"
   ]
  },
  {
   "cell_type": "code",
   "execution_count": 235,
   "id": "8f61ff68",
   "metadata": {},
   "outputs": [
    {
     "name": "stdout",
     "output_type": "stream",
     "text": [
      "Корреляция цены и площади: \n",
      "\n",
      "            last_price  total_area\n",
      "last_price    1.000000    0.878502\n",
      "total_area    0.878502    1.000000 \n",
      "\n"
     ]
    },
    {
     "data": {
      "image/png": "[encoded data removed]",
      "text/plain": [
       "<Figure size 360x360 with 1 Axes>"
      ]
     },
     "metadata": {
      "needs_background": "light"
     },
     "output_type": "display_data"
    }
   ],
   "source": [
    "data.pivot_table(index='total_area', values='last_price').plot(grid=True, style='o', figsize=(5, 5))\n",
    "print('Корреляция цены и площади:','\\n')\n",
    "print(data.pivot_table(index='floor', values=['total_area', 'last_price']).corr(),'\\n')\n"
   ]
  },
  {
   "cell_type": "code",
   "execution_count": 236,
   "id": "45fe3230",
   "metadata": {},
   "outputs": [
    {
     "name": "stdout",
     "output_type": "stream",
     "text": [
      "Корреляция цены и числа комнат: \n",
      "\n",
      "            last_price     rooms\n",
      "last_price    1.000000  0.616531\n",
      "rooms         0.616531  1.000000 \n",
      "\n"
     ]
    },
    {
     "data": {
      "image/png": "[encoded data removed]",
      "text/plain": [
       "<Figure size 360x360 with 1 Axes>"
      ]
     },
     "metadata": {
      "needs_background": "light"
     },
     "output_type": "display_data"
    }
   ],
   "source": [
    "data.query('rooms > 0').pivot_table(index='rooms', values='last_price').plot(grid=True, style='o-', figsize=(5, 5))\n",
    "print('Корреляция цены и числа комнат:','\\n')\n",
    "print(data.query('rooms > 0').pivot_table(index='floor', values=['rooms', 'last_price']).corr(),'\\n')"
   ]
  },
  {
   "cell_type": "code",
   "execution_count": 237,
   "id": "2b8dfe96",
   "metadata": {},
   "outputs": [
    {
     "name": "stdout",
     "output_type": "stream",
     "text": [
      "Корреляция цены и жилой площади: \n",
      "\n",
      "             last_price  living_area\n",
      "last_price     1.000000     0.767343\n",
      "living_area    0.767343     1.000000 \n",
      "\n"
     ]
    },
    {
     "data": {
      "image/png": "[encoded data removed]",
      "text/plain": [
       "<Figure size 360x360 with 1 Axes>"
      ]
     },
     "metadata": {
      "needs_background": "light"
     },
     "output_type": "display_data"
    }
   ],
   "source": [
    "data.pivot_table(index='living_area', values='last_price').plot(grid=True, style='o', figsize=(5, 5))\n",
    "print('Корреляция цены и жилой площади:','\\n')\n",
    "print(data.pivot_table(index='floor', values=['living_area', 'last_price']).corr(),'\\n')"
   ]
  },
  {
   "cell_type": "code",
   "execution_count": 238,
   "id": "041191a5",
   "metadata": {},
   "outputs": [
    {
     "name": "stdout",
     "output_type": "stream",
     "text": [
      "Корреляция цены и кухонной площади: \n",
      "\n",
      "              kitchen_area  last_price\n",
      "kitchen_area      1.000000    0.338513\n",
      "last_price        0.338513    1.000000 \n",
      "\n"
     ]
    },
    {
     "data": {
      "image/png": "[encoded data removed]",
      "text/plain": [
       "<Figure size 360x360 with 1 Axes>"
      ]
     },
     "metadata": {
      "needs_background": "light"
     },
     "output_type": "display_data"
    }
   ],
   "source": [
    "data.pivot_table(index='kitchen_area', values='last_price').plot(grid=True, style='o', figsize=(5, 5))\n",
    "print('Корреляция цены и кухонной площади:','\\n')\n",
    "print(data.pivot_table(index='floor', values=['kitchen_area', 'last_price']).corr(),'\\n')"
   ]
  },
  {
   "cell_type": "code",
   "execution_count": 239,
   "id": "a661699b",
   "metadata": {},
   "outputs": [
    {
     "data": {
      "text/plain": [
       "<AxesSubplot:xlabel='floor_category'>"
      ]
     },
     "execution_count": 239,
     "metadata": {},
     "output_type": "execute_result"
    },
    {
     "data": {
      "image/png": "[encoded data removed]",
      "text/plain": [
       "<Figure size 360x360 with 1 Axes>"
      ]
     },
     "metadata": {
      "needs_background": "light"
     },
     "output_type": "display_data"
    }
   ],
   "source": [
    "data.pivot_table(index='floor_category', values='last_price', aggfunc='median').plot(grid=True, style='o-', figsize=(5, 5))"
   ]
  },
  {
   "cell_type": "code",
   "execution_count": 240,
   "id": "0bff7315",
   "metadata": {},
   "outputs": [
    {
     "data": {
      "text/plain": [
       "<AxesSubplot:xlabel='day_week'>"
      ]
     },
     "execution_count": 240,
     "metadata": {},
     "output_type": "execute_result"
    },
    {
     "data": {
      "image/png": "[encoded data removed]",
      "text/plain": [
       "<Figure size 360x360 with 1 Axes>"
      ]
     },
     "metadata": {
      "needs_background": "light"
     },
     "output_type": "display_data"
    }
   ],
   "source": [
    "data.pivot_table(index='day_week', values='last_price').plot(grid=True, style='o-', figsize=(5, 5))"
   ]
  },
  {
   "cell_type": "code",
   "execution_count": 241,
   "id": "7dd07155",
   "metadata": {},
   "outputs": [
    {
     "data": {
      "text/plain": [
       "<AxesSubplot:xlabel='month'>"
      ]
     },
     "execution_count": 241,
     "metadata": {},
     "output_type": "execute_result"
    },
    {
     "data": {
      "image/png": "[encoded data removed]",
      "text/plain": [
       "<Figure size 720x360 with 1 Axes>"
      ]
     },
     "metadata": {
      "needs_background": "light"
     },
     "output_type": "display_data"
    }
   ],
   "source": [
    "data.pivot_table(index='month', values='last_price').plot(grid=True, style='o-', xlim=(1,12), figsize=(10, 5))"
   ]
  },
  {
   "cell_type": "code",
   "execution_count": 242,
   "id": "1ad63dd8",
   "metadata": {},
   "outputs": [
    {
     "data": {
      "text/plain": [
       "<AxesSubplot:xlabel='year'>"
      ]
     },
     "execution_count": 242,
     "metadata": {},
     "output_type": "execute_result"
    },
    {
     "data": {
      "image/png": "[encoded data removed]",
      "text/plain": [
       "<Figure size 360x360 with 1 Axes>"
      ]
     },
     "metadata": {
      "needs_background": "light"
     },
     "output_type": "display_data"
    }
   ],
   "source": [
    "data.pivot_table(index='year', values='last_price').plot(grid=True, style='o-', figsize=(5, 5))"
   ]
  },
  {
   "cell_type": "markdown",
   "id": "79abfd8f",
   "metadata": {},
   "source": [
    "### Вывод:\n",
    "\n",
    "Можно сделать логичный вывод. Чем больше общая(кухонная, жилая) площадь квартиры, тем выше будет цена. Такую же корреляцию можно наблюдать между ценой и числом комнат, чем больше комнат, тем выше цена.\n",
    "\n",
    "Что интересно: цены по годам резко снижаются, что может быть причиной не продажи квартир, объявленя на которые поданы с 2014 года, видимо более интересные варианты по цене и старая давность объявления отпугивает потенциального покупателя.\n",
    "\n",
    "По категории этажей можно сделать вывод, что квартиры на первом и последнем этажах значительно дешевле, чем варианты на \"других\" этажах."
   ]
  },
  {
   "cell_type": "markdown",
   "id": "5740b7b0",
   "metadata": {},
   "source": [
    "<div class=\"alert alert-success\">\n",
    "\n",
    "**✔️ Комментарий ревьюера ✔️**\n",
    "   \n",
    "   Хорошие результаты. Отмечу, что скорее всего, низкую цену на квартиры на первом и последнем этажах можно аргументировать плохими условиями - шум от улиц и моторов лифта, охлаждаемость помещения зимой. \n",
    "\n",
    "</div>"
   ]
  },
  {
   "cell_type": "markdown",
   "id": "bc5599a4",
   "metadata": {},
   "source": [
    "#### 4.4 Средняя цена одного квадратного метра в 10 населённых пунктах с наибольшим числом объявлений"
   ]
  },
  {
   "cell_type": "code",
   "execution_count": 243,
   "id": "c8db909e",
   "metadata": {},
   "outputs": [
    {
     "data": {
      "text/plain": [
       "<AxesSubplot:ylabel='locality_name'>"
      ]
     },
     "execution_count": 243,
     "metadata": {},
     "output_type": "execute_result"
    },
    {
     "data": {
      "image/png": "[encoded data removed]",
      "text/plain": [
       "<Figure size 432x288 with 1 Axes>"
      ]
     },
     "metadata": {
      "needs_background": "light"
     },
     "output_type": "display_data"
    }
   ],
   "source": [
    "top_10 = data.pivot_table(index='locality_name', values=['last_price','total_area'] ,aggfunc=['sum','count'])\n",
    "top_10.columns=['last_price_sum','total_area_sum','last_price_count','total_area_count']\n",
    "top_10.pop('total_area_count')\n",
    "top_10.sort_values(by=['last_price_count'],ascending=False, inplace=True)\n",
    "top_10 = top_10.iloc[:10]\n",
    "top_10['price_per_sq_m'] = top_10['last_price_sum']/top_10['total_area_sum']\n",
    "top_10.sort_values(by=['price_per_sq_m'],ascending=True, inplace=True)\n",
    "top_10['price_per_sq_m'].plot(kind='barh')"
   ]
  },
  {
   "cell_type": "markdown",
   "id": "adad920a",
   "metadata": {},
   "source": [
    "##  Вывод\n",
    "\n",
    "Наибольшая стоимость одного квадратного метра, как и ожидалось, в Санкт-Петербурге, затем идет Пушкин. Далее находятся районы, которые уже в близжайшем будущем окажутся Санкт-Петербургом. Замыкает рейтинг город Выборг, ввиду максимальной удаленности от центра области."
   ]
  },
  {
   "cell_type": "markdown",
   "id": "fc7a730e",
   "metadata": {},
   "source": [
    "<div class=\"alert alert-success\">\n",
    "\n",
    "**✔️ Комментарий ревьюера ✔️**\n",
    "   \n",
    "   Верно\n",
    "\n",
    "</div>\n"
   ]
  },
  {
   "cell_type": "markdown",
   "id": "f1abbf59",
   "metadata": {},
   "source": [
    "#### 4.5 Средняя цена каждого километра"
   ]
  },
  {
   "cell_type": "markdown",
   "id": "02c71b6e",
   "metadata": {},
   "source": [
    "Расчитаем и рассмотрим гистограмму по средней стоимости и удаленности от центра."
   ]
  },
  {
   "cell_type": "code",
   "execution_count": 244,
   "id": "d7d909cc",
   "metadata": {},
   "outputs": [
    {
     "data": {
      "text/plain": [
       "<AxesSubplot:xlabel='city_centers_nearest_km'>"
      ]
     },
     "execution_count": 244,
     "metadata": {},
     "output_type": "execute_result"
    },
    {
     "data": {
      "image/png": "[encoded data removed]",
      "text/plain": [
       "<Figure size 432x288 with 1 Axes>"
      ]
     },
     "metadata": {
      "needs_background": "light"
     },
     "output_type": "display_data"
    }
   ],
   "source": [
    "(\n",
    "    data[data['locality_name']=='Санкт-Петербург']\n",
    "    .pivot_table(\n",
    "        index='city_centers_nearest_km',\n",
    "        values='last_price',\n",
    "        aggfunc='mean')\n",
    "    .plot(kind='bar')\n",
    ")"
   ]
  },
  {
   "cell_type": "markdown",
   "id": "ceea63eb",
   "metadata": {},
   "source": [
    "## Вывод:\n",
    "\n",
    "Как и ожидалось видна корреляция окончательной цены на объект от расстояния до центра.\n",
    "\n",
    "Можно выделить 4 категории цен:\n",
    "\n",
    "Самые высокие - до 1 км\n",
    "\n",
    "Высокие - 1-7 км\n",
    "\n",
    "Средние - 8-29\n",
    "\n",
    "Аномальные - 23 и 27 км Скорее всего это густо заселенные города вроде \"Мурино\" и \"Парголово\"\n"
   ]
  },
  {
   "cell_type": "markdown",
   "id": "c9c43de9",
   "metadata": {},
   "source": [
    "<div class=\"alert alert-success\">\n",
    "✔️ Комментарий ревьюера ✔️\n",
    "\n",
    "Верно. На графике после 7 км заметно, что цена меняется. Это возможный центр города.\n",
    "    \n",
    "Если интересно, то самый дорогой по стоимости жилья район в Санкт-Петербурге риелторы назвали \"Золотой треугольник\". Дома \"Золотого треугольника\" находятся в пределах Невского проспекта, набережной реки Фонтанки и Дворцовой набережной.\n",
    "Для географической справки: https://zen.yandex.ru/media/id/5cb4ebcc0a51a300b5b1f60d/zolotoi-treugolnik-sanktpeterburga-chto-eto-i-gde-nahoditsia-5edf942db1204610073e88b2 \n",
    "\n",
    "</div>"
   ]
  },
  {
   "cell_type": "markdown",
   "id": "ad9891ae",
   "metadata": {},
   "source": [
    "##  5 Общий вывод"
   ]
  },
  {
   "cell_type": "markdown",
   "id": "3da74f78",
   "metadata": {},
   "source": [
    "**В самом начале проекта мы:**\n",
    "\n",
    "- ознакомились с первичным форматом данных\n",
    "\n",
    "- выполнили предварительную оценку данных с помощью гистограмм\n",
    "\n",
    "**По ходу первоначального анализа было выявлено:**\n",
    "\n",
    "- 23699 объявлений с продажей объекта (из которых после предобработки осталось 23446)\n",
    "\n",
    "**Также было обнаружено:**\n",
    "\n",
    "- ряд данных с пропущенными и аномальными значениями\n",
    "\n",
    "- нектороые столбцы с данными записаны не в нужных форматах\n",
    "\n",
    "\n",
    "**В ходе второй части работы была произведена:**\n",
    "\n",
    "- обработка данных и фильтрация от некоторых аномальных значений\n",
    "\n",
    "- заменены пропуски медианным, средним значением\n",
    "\n",
    "**В третьей части были выполнены расчеты:**\n",
    "\n",
    "- цена одного квадратного метра\n",
    "\n",
    "- день недели публикации объявления (0 — понедельник, 1 — вторник и так далее)\n",
    "\n",
    "- месяц публикации объявления\n",
    "\n",
    "- год публикации объявления\n",
    "\n",
    "- тип этажа квартиры (значения — «первый», «последний», «другой»)\n",
    "\n",
    "- расстояние до центра города в километрах (переведите из м в км и округлите до целых значений)\n",
    "\n",
    "**Исследовательский анализ четвертой части дал возможность сделать выводы:**\n",
    "\n",
    "- медианное время продажи квартир - 95 дней. Среднее время продажи - 180 день\n",
    "\n",
    "- большая часть квартир продается в промежутке до 100 дней. Некоторые квартиры могут купить даже в первые дни публикации. Быстрой продажей можно назвать в промежутке до 50 дней, а долгой более 8 месяцев\n",
    "\n",
    "- чем больше общая(кухонная, жилая) площадь квартиры, тем выше будет цена. Такую же корреляцию можно наблюдать между ценой и числом комнат, чем больше комнат, тем выше цена\n",
    "\n",
    "- наибольшая стоимость одного квадратного метра, как и ожидалось, в Санкт-Петербурге, затем идет Пушкин. Далее находятся районы, которые уже в близжайшем будущем окажутся Санкт-Петербургом. Замыкает рейтинг город Выборг, ввиду максимальной удаленности от центра области\n",
    "\n",
    "- максимальная стоимость квартиры доходит до 330000000 рублей, при этом большая часть цен находится в промежутке от 20 до 75 тысяч\n",
    "\n",
    "- самые большие кухни по площади начинаются от 60 метров, при этом подавляющее большинство кухонных комнат имеют площадь от 5 до 15 метров\n",
    "\n",
    "- самые большие жилые площади доходят до 250 метров, в то время, как большинство лежитна промежутка от 15 до 50 метров\n",
    "\n",
    "- большие по количеству комнат квартиры можно считать с 10 и более комнатами, когда большая часть находится в промежутке от 1 до 3 комнат\n",
    "\n",
    "- самыми \"высокими\" можно назвать квартиры с потолками в 4 метра, чаще же всего встречаются потолки в промежутке от 2.5 до 2.75 метров\n",
    "\n",
    "- самыми \"высокими\" по этажам квартиры можно считать начиная с 50 этажа, в то время, как практически все продают или сдают квартиры до 30 этажа. Что еще интересно, большая часть квартир продается на этаже до 10\n",
    "\n",
    "- практически все дома имеют до 30 этажей, большая же часть вообще находится в промежутке до 20, редким исключением будут дома с 40+ этажами"
   ]
  },
  {
   "cell_type": "markdown",
   "id": "e2490933",
   "metadata": {},
   "source": [
    "<div class=\"alert alert-success\">\n",
    "\n",
    "**✔️ Комментарий ревьюера ✔️**\n",
    "   \n",
    "   Кирилл, проведен основательный и подробный анализ. Все наглядно - графики и гистограммы подтверждают обоснованные выводы. Учти мои замечания. Возможно, придется немного подправить выводы. Жду твой проект на повторное ревью. Успехов!\n",
    "\n",
    "</div>\n"
   ]
  },
  {
   "cell_type": "markdown",
   "id": "ac843500",
   "metadata": {},
   "source": [
    "<div class=\"alert alert-block alert-info\">\n",
    "    \n",
    "В целом подправил локальные выводы и немного изменил общий. Посчитал, что информация о выбросах в столбце days_exposition не особо важна в общем выводе, оставил информацию только в локальном. Спасибо за ревью!\n",
    "    \n",
    "</div>"
   ]
  },
  {
   "cell_type": "markdown",
   "id": "4a8d9ec6",
   "metadata": {},
   "source": [
    "<div class=\"alert alert-success\">\n",
    "\n",
    "**✔️ Комментарий ревьюера v2✔️**\n",
    "   \n",
    "   Кирилл, замечания устранены 👍. Уверен, мои советы пригодятся тебе в новых проектах. Успехов в обучении! 😉 \n",
    "\n",
    "</div>"
   ]
  },
  {
   "cell_type": "markdown",
   "id": "b2920d86",
   "metadata": {},
   "source": [
    "**Чек-лист готовности проекта**\n",
    "\n",
    "Поставьте 'x' в выполненных пунктах. Далее нажмите Shift+Enter."
   ]
  },
  {
   "cell_type": "markdown",
   "id": "6ef735e5",
   "metadata": {},
   "source": [
    "- [x]  открыт файл\n",
    "- [x]  файлы изучены (выведены первые строки, метод `info()`, гистограммы и т.д.)\n",
    "- [x]  определены пропущенные значения\n",
    "- [x]  заполнены пропущенные значения там, где это возможно\n",
    "- [x]  есть пояснение, какие пропущенные значения обнаружены\n",
    "- [x]  изменены типы данных\n",
    "- [x]  есть пояснение, в каких столбцах изменены типы и почему\n",
    "- [x]  устранены неявные дубликаты в названиях населённых пунктов\n",
    "- [x]  устранены редкие и выбивающиеся значения (аномалии) во всех столбцах\n",
    "- [x]  посчитано и добавлено в таблицу: цена одного квадратного метра\n",
    "- [x]  посчитано и добавлено в таблицу: день публикации объявления (0 - понедельник, 1 - вторник и т.д.)\n",
    "- [x]  посчитано и добавлено в таблицу: месяц публикации объявления\n",
    "- [x]  посчитано и добавлено в таблицу: год публикации объявления\n",
    "- [x]  посчитано и добавлено в таблицу: тип этажа квартиры (значения — «первый», «последний», «другой»)\n",
    "- [x]  посчитано и добавлено в таблицу: расстояние в км до центра города\n",
    "- [x]  изучены и описаны следующие параметры:\n",
    "        - общая площадь;\n",
    "        - жилая площадь;\n",
    "        - площадь кухни;\n",
    "        - цена объекта;\n",
    "        - количество комнат;\n",
    "        - высота потолков;\n",
    "        - этаж квартиры;\n",
    "        - тип этажа квартиры («первый», «последний», «другой»);\n",
    "        - общее количество этажей в доме;\n",
    "        - расстояние до центра города в метрах;\n",
    "        - расстояние до ближайшего аэропорта;\n",
    "        - расстояние до ближайшего парка;\n",
    "        - день и месяц публикации объявления\n",
    "- [x]  построены гистограммы для каждого параметра\n",
    "- [x]  выполнено задание: \"Изучите, как быстро продавались квартиры (столбец days_exposition). Этот параметр показывает, сколько дней «висело» каждое объявление.\n",
    "    - Постройте гистограмму.\n",
    "    - Посчитайте среднее и медиану.\n",
    "    - В ячейке типа markdown опишите, сколько обычно занимает продажа. Какие продажи можно считать быстрыми, а какие — необычно долгими?\"\n",
    "- [x]  выполнено задание: \"Какие факторы больше всего влияют на общую (полную) стоимость объекта? Постройте графики, которые покажут зависимость цены от указанных ниже параметров. Для подготовки данных перед визуализацией вы можете использовать сводные таблицы.\"\n",
    "        - общей площади;\n",
    "        - жилой площади;\n",
    "        - площади кухни;\n",
    "        - количество комнат;\n",
    "        - типа этажа, на котором расположена квартира (первый, последний, другой);\n",
    "        - даты размещения (день недели, месяц, год);\n",
    "- [x]  выполнено задание: \"Посчитайте среднюю цену одного квадратного метра в 10 населённых пунктах с наибольшим числом объявлений. Выделите населённые пункты с самой высокой и низкой стоимостью квадратного метра. Эти данные можно найти по имени в столбце `locality_name`.\"\n",
    "- [x]  выполнено задание: \"Ранее вы посчитали расстояние до центра в километрах. Теперь выделите квартиры в Санкт-Петербурге с помощью столбца `locality_name` и вычислите среднюю цену каждого километра. Опишите, как стоимость объектов зависит от расстояния до центра города.\"\n",
    "- [x]  в каждом этапе есть промежуточные выводы\n",
    "- [x]  есть общий вывод"
   ]
  },
  {
   "cell_type": "code",
   "execution_count": null,
   "id": "65deea8a",
   "metadata": {},
   "outputs": [],
   "source": []
  }
 ],
 "metadata": {
  "ExecuteTimeLog": [
   {
    "duration": 1074,
    "start_time": "2023-02-21T21:00:37.328Z"
   },
   {
    "duration": 90,
    "start_time": "2023-02-21T21:00:38.404Z"
   },
   {
    "duration": 25,
    "start_time": "2023-02-21T21:00:38.496Z"
   },
   {
    "duration": 13,
    "start_time": "2023-02-21T21:00:38.522Z"
   },
   {
    "duration": 1914,
    "start_time": "2023-02-21T21:00:38.537Z"
   },
   {
    "duration": 3,
    "start_time": "2023-02-21T21:00:40.453Z"
   },
   {
    "duration": 34,
    "start_time": "2023-02-21T21:00:40.457Z"
   },
   {
    "duration": 29,
    "start_time": "2023-02-21T21:00:40.492Z"
   },
   {
    "duration": 199,
    "start_time": "2023-02-21T21:00:40.523Z"
   },
   {
    "duration": 43,
    "start_time": "2023-02-21T21:00:40.724Z"
   },
   {
    "duration": 131,
    "start_time": "2023-02-21T21:00:40.769Z"
   },
   {
    "duration": 196,
    "start_time": "2023-02-21T21:00:40.902Z"
   },
   {
    "duration": 11,
    "start_time": "2023-02-21T21:00:41.100Z"
   },
   {
    "duration": 49,
    "start_time": "2023-02-21T21:00:41.114Z"
   },
   {
    "duration": 197,
    "start_time": "2023-02-21T21:00:41.165Z"
   },
   {
    "duration": 8,
    "start_time": "2023-02-21T21:00:41.368Z"
   },
   {
    "duration": 65,
    "start_time": "2023-02-21T21:00:41.377Z"
   },
   {
    "duration": 37,
    "start_time": "2023-02-21T21:00:41.444Z"
   },
   {
    "duration": 534,
    "start_time": "2023-02-21T21:00:41.483Z"
   },
   {
    "duration": 5,
    "start_time": "2023-02-21T21:00:42.019Z"
   },
   {
    "duration": 66,
    "start_time": "2023-02-21T21:00:42.026Z"
   },
   {
    "duration": 58,
    "start_time": "2023-02-21T21:00:42.094Z"
   },
   {
    "duration": 332,
    "start_time": "2023-02-21T21:00:42.154Z"
   },
   {
    "duration": 6,
    "start_time": "2023-02-21T21:00:42.488Z"
   },
   {
    "duration": 33,
    "start_time": "2023-02-21T21:00:42.496Z"
   },
   {
    "duration": 19,
    "start_time": "2023-02-21T21:00:42.531Z"
   },
   {
    "duration": 36,
    "start_time": "2023-02-21T21:00:42.552Z"
   },
   {
    "duration": 39,
    "start_time": "2023-02-21T21:00:42.590Z"
   },
   {
    "duration": 1241,
    "start_time": "2023-02-21T21:00:42.631Z"
   },
   {
    "duration": 5,
    "start_time": "2023-02-21T21:00:43.874Z"
   },
   {
    "duration": 7,
    "start_time": "2023-02-21T21:00:43.881Z"
   },
   {
    "duration": 6,
    "start_time": "2023-02-21T21:00:43.889Z"
   },
   {
    "duration": 26,
    "start_time": "2023-02-21T21:00:43.897Z"
   },
   {
    "duration": 121,
    "start_time": "2023-02-21T21:00:43.925Z"
   },
   {
    "duration": 186,
    "start_time": "2023-02-21T21:00:44.048Z"
   },
   {
    "duration": 181,
    "start_time": "2023-02-21T21:00:44.236Z"
   },
   {
    "duration": 173,
    "start_time": "2023-02-21T21:00:44.419Z"
   },
   {
    "duration": 247,
    "start_time": "2023-02-21T21:00:44.593Z"
   },
   {
    "duration": 202,
    "start_time": "2023-02-21T21:00:44.842Z"
   },
   {
    "duration": 213,
    "start_time": "2023-02-21T21:00:45.047Z"
   },
   {
    "duration": 254,
    "start_time": "2023-02-21T21:00:45.268Z"
   },
   {
    "duration": 147,
    "start_time": "2023-02-21T21:00:45.524Z"
   },
   {
    "duration": 178,
    "start_time": "2023-02-21T21:00:45.673Z"
   },
   {
    "duration": 754,
    "start_time": "2023-02-21T21:00:45.853Z"
   },
   {
    "duration": 895,
    "start_time": "2023-02-21T21:00:46.609Z"
   },
   {
    "duration": 711,
    "start_time": "2023-02-21T21:00:47.506Z"
   },
   {
    "duration": 359,
    "start_time": "2023-02-21T21:00:48.219Z"
   },
   {
    "duration": 265,
    "start_time": "2023-02-21T21:00:48.579Z"
   },
   {
    "duration": 189,
    "start_time": "2023-02-21T21:00:48.845Z"
   },
   {
    "duration": 191,
    "start_time": "2023-02-21T21:00:49.036Z"
   },
   {
    "duration": 167,
    "start_time": "2023-02-21T21:00:49.229Z"
   },
   {
    "duration": 162,
    "start_time": "2023-02-21T21:00:49.398Z"
   },
   {
    "duration": 122,
    "start_time": "2023-02-21T21:00:49.566Z"
   },
   {
    "duration": 142,
    "start_time": "2023-02-21T21:00:49.690Z"
   },
   {
    "duration": 150,
    "start_time": "2023-02-21T21:00:49.833Z"
   },
   {
    "duration": 156,
    "start_time": "2023-02-21T21:00:49.985Z"
   },
   {
    "duration": 254,
    "start_time": "2023-02-21T21:00:50.142Z"
   },
   {
    "duration": 267,
    "start_time": "2023-02-21T21:00:50.398Z"
   },
   {
    "duration": 1485,
    "start_time": "2023-02-22T12:03:12.770Z"
   },
   {
    "duration": 383,
    "start_time": "2023-02-22T12:03:14.257Z"
   },
   {
    "duration": 29,
    "start_time": "2023-02-22T12:03:14.641Z"
   },
   {
    "duration": 14,
    "start_time": "2023-02-22T12:03:14.672Z"
   },
   {
    "duration": 2428,
    "start_time": "2023-02-22T12:03:14.688Z"
   },
   {
    "duration": 4,
    "start_time": "2023-02-22T12:03:17.120Z"
   },
   {
    "duration": 21,
    "start_time": "2023-02-22T12:03:17.130Z"
   },
   {
    "duration": 7,
    "start_time": "2023-02-22T12:03:17.153Z"
   },
   {
    "duration": 198,
    "start_time": "2023-02-22T12:03:17.162Z"
   },
   {
    "duration": 32,
    "start_time": "2023-02-22T12:03:17.362Z"
   },
   {
    "duration": 144,
    "start_time": "2023-02-22T12:03:17.396Z"
   },
   {
    "duration": 220,
    "start_time": "2023-02-22T12:03:17.542Z"
   },
   {
    "duration": 12,
    "start_time": "2023-02-22T12:03:17.764Z"
   },
   {
    "duration": 46,
    "start_time": "2023-02-22T12:03:17.780Z"
   },
   {
    "duration": 239,
    "start_time": "2023-02-22T12:03:17.828Z"
   },
   {
    "duration": 8,
    "start_time": "2023-02-22T12:03:18.069Z"
   },
   {
    "duration": 12,
    "start_time": "2023-02-22T12:03:18.079Z"
   },
   {
    "duration": 25,
    "start_time": "2023-02-22T12:03:18.093Z"
   },
   {
    "duration": 559,
    "start_time": "2023-02-22T12:03:18.120Z"
   },
   {
    "duration": 5,
    "start_time": "2023-02-22T12:03:18.681Z"
   },
   {
    "duration": 19,
    "start_time": "2023-02-22T12:03:18.688Z"
   },
   {
    "duration": 16,
    "start_time": "2023-02-22T12:03:18.711Z"
   },
   {
    "duration": 392,
    "start_time": "2023-02-22T12:03:18.730Z"
   },
   {
    "duration": 11,
    "start_time": "2023-02-22T12:03:19.128Z"
   },
   {
    "duration": 10,
    "start_time": "2023-02-22T12:03:19.140Z"
   },
   {
    "duration": 9,
    "start_time": "2023-02-22T12:03:19.151Z"
   },
   {
    "duration": 6,
    "start_time": "2023-02-22T12:03:19.161Z"
   },
   {
    "duration": 5,
    "start_time": "2023-02-22T12:03:19.168Z"
   },
   {
    "duration": 1387,
    "start_time": "2023-02-22T12:03:19.174Z"
   },
   {
    "duration": 5,
    "start_time": "2023-02-22T12:03:20.563Z"
   },
   {
    "duration": 7,
    "start_time": "2023-02-22T12:03:20.569Z"
   },
   {
    "duration": 6,
    "start_time": "2023-02-22T12:03:20.578Z"
   },
   {
    "duration": 50,
    "start_time": "2023-02-22T12:03:20.585Z"
   },
   {
    "duration": 109,
    "start_time": "2023-02-22T12:03:20.636Z"
   },
   {
    "duration": 219,
    "start_time": "2023-02-22T12:03:20.747Z"
   },
   {
    "duration": 219,
    "start_time": "2023-02-22T12:03:20.968Z"
   },
   {
    "duration": 192,
    "start_time": "2023-02-22T12:03:21.190Z"
   },
   {
    "duration": 267,
    "start_time": "2023-02-22T12:03:21.384Z"
   },
   {
    "duration": 157,
    "start_time": "2023-02-22T12:03:21.653Z"
   },
   {
    "duration": 175,
    "start_time": "2023-02-22T12:03:21.816Z"
   },
   {
    "duration": 275,
    "start_time": "2023-02-22T12:03:22.005Z"
   },
   {
    "duration": 157,
    "start_time": "2023-02-22T12:03:22.281Z"
   },
   {
    "duration": 201,
    "start_time": "2023-02-22T12:03:22.440Z"
   },
   {
    "duration": 828,
    "start_time": "2023-02-22T12:03:22.643Z"
   },
   {
    "duration": 954,
    "start_time": "2023-02-22T12:03:23.473Z"
   },
   {
    "duration": 841,
    "start_time": "2023-02-22T12:03:24.429Z"
   },
   {
    "duration": 411,
    "start_time": "2023-02-22T12:03:25.272Z"
   },
   {
    "duration": 316,
    "start_time": "2023-02-22T12:03:25.684Z"
   },
   {
    "duration": 204,
    "start_time": "2023-02-22T12:03:26.002Z"
   },
   {
    "duration": 184,
    "start_time": "2023-02-22T12:03:26.208Z"
   },
   {
    "duration": 201,
    "start_time": "2023-02-22T12:03:26.394Z"
   },
   {
    "duration": 210,
    "start_time": "2023-02-22T12:03:26.597Z"
   },
   {
    "duration": 180,
    "start_time": "2023-02-22T12:03:26.809Z"
   },
   {
    "duration": 198,
    "start_time": "2023-02-22T12:03:26.991Z"
   },
   {
    "duration": 184,
    "start_time": "2023-02-22T12:03:27.190Z"
   },
   {
    "duration": 170,
    "start_time": "2023-02-22T12:03:27.376Z"
   },
   {
    "duration": 298,
    "start_time": "2023-02-22T12:03:27.547Z"
   },
   {
    "duration": 311,
    "start_time": "2023-02-22T12:03:27.847Z"
   },
   {
    "duration": 3,
    "start_time": "2023-02-22T12:03:58.171Z"
   },
   {
    "duration": 117,
    "start_time": "2023-02-22T12:03:58.176Z"
   },
   {
    "duration": 36,
    "start_time": "2023-02-22T12:03:58.295Z"
   },
   {
    "duration": 13,
    "start_time": "2023-02-22T12:03:58.334Z"
   },
   {
    "duration": 2131,
    "start_time": "2023-02-22T12:03:58.348Z"
   },
   {
    "duration": 4,
    "start_time": "2023-02-22T12:04:00.480Z"
   },
   {
    "duration": 61,
    "start_time": "2023-02-22T12:04:00.485Z"
   },
   {
    "duration": 46,
    "start_time": "2023-02-22T12:04:00.549Z"
   },
   {
    "duration": 154,
    "start_time": "2023-02-22T12:04:00.597Z"
   },
   {
    "duration": 26,
    "start_time": "2023-02-22T12:04:00.753Z"
   },
   {
    "duration": 131,
    "start_time": "2023-02-22T12:04:00.781Z"
   },
   {
    "duration": 205,
    "start_time": "2023-02-22T12:04:00.916Z"
   },
   {
    "duration": 15,
    "start_time": "2023-02-22T12:04:01.124Z"
   },
   {
    "duration": 67,
    "start_time": "2023-02-22T12:04:01.141Z"
   },
   {
    "duration": 249,
    "start_time": "2023-02-22T12:04:01.210Z"
   },
   {
    "duration": 8,
    "start_time": "2023-02-22T12:04:01.461Z"
   },
   {
    "duration": 24,
    "start_time": "2023-02-22T12:04:01.471Z"
   },
   {
    "duration": 13,
    "start_time": "2023-02-22T12:04:01.497Z"
   },
   {
    "duration": 570,
    "start_time": "2023-02-22T12:04:01.516Z"
   },
   {
    "duration": 6,
    "start_time": "2023-02-22T12:04:02.088Z"
   },
   {
    "duration": 26,
    "start_time": "2023-02-22T12:04:02.104Z"
   },
   {
    "duration": 26,
    "start_time": "2023-02-22T12:04:02.133Z"
   },
   {
    "duration": 343,
    "start_time": "2023-02-22T12:04:02.161Z"
   },
   {
    "duration": 10,
    "start_time": "2023-02-22T12:04:02.508Z"
   },
   {
    "duration": 31,
    "start_time": "2023-02-22T12:04:02.522Z"
   },
   {
    "duration": 13,
    "start_time": "2023-02-22T12:04:02.554Z"
   },
   {
    "duration": 17,
    "start_time": "2023-02-22T12:04:02.569Z"
   },
   {
    "duration": 60,
    "start_time": "2023-02-22T12:04:02.590Z"
   },
   {
    "duration": 1413,
    "start_time": "2023-02-22T12:04:02.652Z"
   },
   {
    "duration": 6,
    "start_time": "2023-02-22T12:04:04.067Z"
   },
   {
    "duration": 7,
    "start_time": "2023-02-22T12:04:04.075Z"
   },
   {
    "duration": 6,
    "start_time": "2023-02-22T12:04:04.084Z"
   },
   {
    "duration": 37,
    "start_time": "2023-02-22T12:04:04.104Z"
   },
   {
    "duration": 115,
    "start_time": "2023-02-22T12:04:04.143Z"
   },
   {
    "duration": 208,
    "start_time": "2023-02-22T12:04:04.259Z"
   },
   {
    "duration": 192,
    "start_time": "2023-02-22T12:04:04.469Z"
   },
   {
    "duration": 193,
    "start_time": "2023-02-22T12:04:04.663Z"
   },
   {
    "duration": 265,
    "start_time": "2023-02-22T12:04:04.858Z"
   },
   {
    "duration": 172,
    "start_time": "2023-02-22T12:04:05.125Z"
   },
   {
    "duration": 205,
    "start_time": "2023-02-22T12:04:05.303Z"
   },
   {
    "duration": 298,
    "start_time": "2023-02-22T12:04:05.513Z"
   },
   {
    "duration": 148,
    "start_time": "2023-02-22T12:04:05.812Z"
   },
   {
    "duration": 191,
    "start_time": "2023-02-22T12:04:05.962Z"
   },
   {
    "duration": 903,
    "start_time": "2023-02-22T12:04:06.155Z"
   },
   {
    "duration": 981,
    "start_time": "2023-02-22T12:04:07.060Z"
   },
   {
    "duration": 851,
    "start_time": "2023-02-22T12:04:08.043Z"
   },
   {
    "duration": 466,
    "start_time": "2023-02-22T12:04:08.896Z"
   },
   {
    "duration": 303,
    "start_time": "2023-02-22T12:04:09.364Z"
   },
   {
    "duration": 188,
    "start_time": "2023-02-22T12:04:09.669Z"
   },
   {
    "duration": 186,
    "start_time": "2023-02-22T12:04:09.859Z"
   },
   {
    "duration": 210,
    "start_time": "2023-02-22T12:04:10.047Z"
   },
   {
    "duration": 176,
    "start_time": "2023-02-22T12:04:10.261Z"
   },
   {
    "duration": 136,
    "start_time": "2023-02-22T12:04:10.438Z"
   },
   {
    "duration": 171,
    "start_time": "2023-02-22T12:04:10.575Z"
   },
   {
    "duration": 178,
    "start_time": "2023-02-22T12:04:10.750Z"
   },
   {
    "duration": 169,
    "start_time": "2023-02-22T12:04:10.931Z"
   },
   {
    "duration": 228,
    "start_time": "2023-02-22T12:04:11.102Z"
   },
   {
    "duration": 305,
    "start_time": "2023-02-22T12:04:11.332Z"
   },
   {
    "duration": 427,
    "start_time": "2023-02-22T12:06:44.458Z"
   },
   {
    "duration": 823,
    "start_time": "2023-02-22T12:06:50.227Z"
   },
   {
    "duration": 995,
    "start_time": "2023-02-22T12:07:04.628Z"
   },
   {
    "duration": 1316,
    "start_time": "2023-02-22T12:07:12.629Z"
   },
   {
    "duration": 1279,
    "start_time": "2023-02-22T12:07:52.979Z"
   },
   {
    "duration": 1376,
    "start_time": "2023-02-22T12:08:05.069Z"
   },
   {
    "duration": 12,
    "start_time": "2023-02-22T12:08:09.849Z"
   },
   {
    "duration": 16,
    "start_time": "2023-02-22T12:08:21.523Z"
   },
   {
    "duration": 12,
    "start_time": "2023-02-22T12:08:36.026Z"
   },
   {
    "duration": 12,
    "start_time": "2023-02-22T12:08:46.148Z"
   },
   {
    "duration": 115,
    "start_time": "2023-02-22T12:09:44.930Z"
   },
   {
    "duration": 258,
    "start_time": "2023-02-22T12:12:23.560Z"
   },
   {
    "duration": 127,
    "start_time": "2023-02-22T12:12:46.364Z"
   },
   {
    "duration": 113,
    "start_time": "2023-02-22T12:13:12.326Z"
   },
   {
    "duration": 151,
    "start_time": "2023-02-22T12:13:20.521Z"
   },
   {
    "duration": 14,
    "start_time": "2023-02-22T12:14:03.262Z"
   },
   {
    "duration": 10,
    "start_time": "2023-02-22T12:15:05.720Z"
   },
   {
    "duration": 15,
    "start_time": "2023-02-22T12:18:14.741Z"
   },
   {
    "duration": 14,
    "start_time": "2023-02-22T12:19:23.860Z"
   },
   {
    "duration": 10,
    "start_time": "2023-02-22T12:19:44.260Z"
   },
   {
    "duration": 11,
    "start_time": "2023-02-22T12:20:24.423Z"
   },
   {
    "duration": 5,
    "start_time": "2023-02-22T12:20:30.499Z"
   },
   {
    "duration": 4,
    "start_time": "2023-02-22T12:20:40.699Z"
   },
   {
    "duration": 4,
    "start_time": "2023-02-22T12:21:00.973Z"
   },
   {
    "duration": 182,
    "start_time": "2023-02-22T12:22:41.888Z"
   },
   {
    "duration": 208,
    "start_time": "2023-02-22T12:22:48.849Z"
   },
   {
    "duration": 312,
    "start_time": "2023-02-22T12:30:58.574Z"
   },
   {
    "duration": 358,
    "start_time": "2023-02-22T12:31:07.877Z"
   },
   {
    "duration": 425,
    "start_time": "2023-02-22T12:31:21.443Z"
   },
   {
    "duration": 4,
    "start_time": "2023-02-22T12:31:23.999Z"
   },
   {
    "duration": 109,
    "start_time": "2023-02-22T12:31:24.007Z"
   },
   {
    "duration": 28,
    "start_time": "2023-02-22T12:31:24.117Z"
   },
   {
    "duration": 18,
    "start_time": "2023-02-22T12:31:24.147Z"
   },
   {
    "duration": 1909,
    "start_time": "2023-02-22T12:31:24.167Z"
   },
   {
    "duration": 3,
    "start_time": "2023-02-22T12:31:26.078Z"
   },
   {
    "duration": 32,
    "start_time": "2023-02-22T12:31:26.083Z"
   },
   {
    "duration": 7,
    "start_time": "2023-02-22T12:31:26.117Z"
   },
   {
    "duration": 213,
    "start_time": "2023-02-22T12:31:26.126Z"
   },
   {
    "duration": 27,
    "start_time": "2023-02-22T12:31:26.341Z"
   },
   {
    "duration": 117,
    "start_time": "2023-02-22T12:31:26.370Z"
   },
   {
    "duration": 182,
    "start_time": "2023-02-22T12:31:26.488Z"
   },
   {
    "duration": 10,
    "start_time": "2023-02-22T12:31:26.672Z"
   },
   {
    "duration": 27,
    "start_time": "2023-02-22T12:31:26.685Z"
   },
   {
    "duration": 235,
    "start_time": "2023-02-22T12:31:26.714Z"
   },
   {
    "duration": 8,
    "start_time": "2023-02-22T12:31:26.952Z"
   },
   {
    "duration": 19,
    "start_time": "2023-02-22T12:31:26.963Z"
   },
   {
    "duration": 20,
    "start_time": "2023-02-22T12:31:26.984Z"
   },
   {
    "duration": 521,
    "start_time": "2023-02-22T12:31:27.005Z"
   },
   {
    "duration": 5,
    "start_time": "2023-02-22T12:31:27.528Z"
   },
   {
    "duration": 10,
    "start_time": "2023-02-22T12:31:27.534Z"
   },
   {
    "duration": 8,
    "start_time": "2023-02-22T12:31:27.545Z"
   },
   {
    "duration": 315,
    "start_time": "2023-02-22T12:31:27.555Z"
   },
   {
    "duration": 6,
    "start_time": "2023-02-22T12:31:27.872Z"
   },
   {
    "duration": 11,
    "start_time": "2023-02-22T12:31:27.879Z"
   },
   {
    "duration": 15,
    "start_time": "2023-02-22T12:31:27.891Z"
   },
   {
    "duration": 7,
    "start_time": "2023-02-22T12:31:27.907Z"
   },
   {
    "duration": 15,
    "start_time": "2023-02-22T12:31:27.915Z"
   },
   {
    "duration": 1267,
    "start_time": "2023-02-22T12:31:27.931Z"
   },
   {
    "duration": 6,
    "start_time": "2023-02-22T12:31:29.199Z"
   },
   {
    "duration": 9,
    "start_time": "2023-02-22T12:31:29.218Z"
   },
   {
    "duration": 5,
    "start_time": "2023-02-22T12:31:29.228Z"
   },
   {
    "duration": 23,
    "start_time": "2023-02-22T12:31:29.234Z"
   },
   {
    "duration": 103,
    "start_time": "2023-02-22T12:31:29.258Z"
   },
   {
    "duration": 194,
    "start_time": "2023-02-22T12:31:29.363Z"
   },
   {
    "duration": 183,
    "start_time": "2023-02-22T12:31:29.558Z"
   },
   {
    "duration": 182,
    "start_time": "2023-02-22T12:31:29.743Z"
   },
   {
    "duration": 219,
    "start_time": "2023-02-22T12:31:29.926Z"
   },
   {
    "duration": 177,
    "start_time": "2023-02-22T12:31:30.147Z"
   },
   {
    "duration": 185,
    "start_time": "2023-02-22T12:31:30.326Z"
   },
   {
    "duration": 178,
    "start_time": "2023-02-22T12:31:30.518Z"
   },
   {
    "duration": 137,
    "start_time": "2023-02-22T12:31:30.698Z"
   },
   {
    "duration": 184,
    "start_time": "2023-02-22T12:31:30.837Z"
   },
   {
    "duration": 858,
    "start_time": "2023-02-22T12:31:31.022Z"
   },
   {
    "duration": 896,
    "start_time": "2023-02-22T12:31:31.882Z"
   },
   {
    "duration": 729,
    "start_time": "2023-02-22T12:31:32.779Z"
   },
   {
    "duration": 257,
    "start_time": "2023-02-22T12:31:33.510Z"
   },
   {
    "duration": 206,
    "start_time": "2023-02-22T12:31:33.769Z"
   },
   {
    "duration": 175,
    "start_time": "2023-02-22T12:31:33.977Z"
   },
   {
    "duration": 325,
    "start_time": "2023-02-22T12:31:34.153Z"
   },
   {
    "duration": 169,
    "start_time": "2023-02-22T12:31:34.480Z"
   },
   {
    "duration": 182,
    "start_time": "2023-02-22T12:31:34.650Z"
   },
   {
    "duration": 139,
    "start_time": "2023-02-22T12:31:34.834Z"
   },
   {
    "duration": 178,
    "start_time": "2023-02-22T12:31:34.975Z"
   },
   {
    "duration": 166,
    "start_time": "2023-02-22T12:31:35.155Z"
   },
   {
    "duration": 163,
    "start_time": "2023-02-22T12:31:35.323Z"
   },
   {
    "duration": 185,
    "start_time": "2023-02-22T12:31:35.488Z"
   },
   {
    "duration": 279,
    "start_time": "2023-02-22T12:31:35.675Z"
   },
   {
    "duration": 305,
    "start_time": "2023-02-22T12:31:36.987Z"
   },
   {
    "duration": 423,
    "start_time": "2023-02-22T12:31:40.218Z"
   },
   {
    "duration": 3,
    "start_time": "2023-02-22T12:31:40.747Z"
   },
   {
    "duration": 11,
    "start_time": "2023-02-22T12:31:41.122Z"
   },
   {
    "duration": 9,
    "start_time": "2023-02-22T12:31:41.685Z"
   },
   {
    "duration": 307,
    "start_time": "2023-02-22T12:31:42.288Z"
   },
   {
    "duration": 7,
    "start_time": "2023-02-22T12:31:42.597Z"
   },
   {
    "duration": 11,
    "start_time": "2023-02-22T12:31:44.004Z"
   },
   {
    "duration": 5,
    "start_time": "2023-02-22T12:31:44.357Z"
   },
   {
    "duration": 6,
    "start_time": "2023-02-22T12:31:44.716Z"
   },
   {
    "duration": 10,
    "start_time": "2023-02-22T12:31:45.111Z"
   },
   {
    "duration": 1130,
    "start_time": "2023-02-22T12:31:45.460Z"
   },
   {
    "duration": 23,
    "start_time": "2023-02-22T12:31:46.592Z"
   },
   {
    "duration": 19,
    "start_time": "2023-02-22T12:31:46.617Z"
   },
   {
    "duration": 15,
    "start_time": "2023-02-22T12:31:46.639Z"
   },
   {
    "duration": 34,
    "start_time": "2023-02-22T12:31:46.656Z"
   },
   {
    "duration": 104,
    "start_time": "2023-02-22T12:31:47.495Z"
   },
   {
    "duration": 207,
    "start_time": "2023-02-22T12:31:47.674Z"
   },
   {
    "duration": 209,
    "start_time": "2023-02-22T12:31:48.052Z"
   },
   {
    "duration": 190,
    "start_time": "2023-02-22T12:31:48.436Z"
   },
   {
    "duration": 385,
    "start_time": "2023-02-22T12:31:48.821Z"
   },
   {
    "duration": 152,
    "start_time": "2023-02-22T12:31:49.218Z"
   },
   {
    "duration": 190,
    "start_time": "2023-02-22T12:31:49.577Z"
   },
   {
    "duration": 178,
    "start_time": "2023-02-22T12:31:49.945Z"
   },
   {
    "duration": 122,
    "start_time": "2023-02-22T12:31:50.317Z"
   },
   {
    "duration": 164,
    "start_time": "2023-02-22T12:31:50.696Z"
   },
   {
    "duration": 886,
    "start_time": "2023-02-22T12:31:51.077Z"
   },
   {
    "duration": 726,
    "start_time": "2023-02-22T12:31:51.965Z"
   },
   {
    "duration": 850,
    "start_time": "2023-02-22T12:31:52.693Z"
   },
   {
    "duration": 266,
    "start_time": "2023-02-22T12:31:53.545Z"
   },
   {
    "duration": 202,
    "start_time": "2023-02-22T12:31:53.819Z"
   },
   {
    "duration": 164,
    "start_time": "2023-02-22T12:31:54.024Z"
   },
   {
    "duration": 171,
    "start_time": "2023-02-22T12:31:54.190Z"
   },
   {
    "duration": 166,
    "start_time": "2023-02-22T12:31:54.363Z"
   },
   {
    "duration": 183,
    "start_time": "2023-02-22T12:31:54.531Z"
   },
   {
    "duration": 123,
    "start_time": "2023-02-22T12:31:54.717Z"
   },
   {
    "duration": 141,
    "start_time": "2023-02-22T12:31:54.842Z"
   },
   {
    "duration": 170,
    "start_time": "2023-02-22T12:31:54.985Z"
   },
   {
    "duration": 166,
    "start_time": "2023-02-22T12:31:55.157Z"
   },
   {
    "duration": 166,
    "start_time": "2023-02-22T12:31:55.916Z"
   },
   {
    "duration": 471,
    "start_time": "2023-02-22T12:31:56.845Z"
   },
   {
    "duration": 333,
    "start_time": "2023-02-22T12:32:37.832Z"
   },
   {
    "duration": 10,
    "start_time": "2023-02-22T12:32:40.046Z"
   },
   {
    "duration": 330,
    "start_time": "2023-02-22T12:32:40.789Z"
   },
   {
    "duration": 101,
    "start_time": "2023-02-22T12:34:18.793Z"
   },
   {
    "duration": 13,
    "start_time": "2023-02-22T12:34:46.704Z"
   },
   {
    "duration": 133,
    "start_time": "2023-02-22T12:39:11.369Z"
   },
   {
    "duration": 167,
    "start_time": "2023-02-22T12:41:31.591Z"
   }
  ],
  "kernelspec": {
   "display_name": "Python 3 (ipykernel)",
   "language": "python",
   "name": "python3"
  },
  "language_info": {
   "codemirror_mode": {
    "name": "ipython",
    "version": 3
   },
   "file_extension": ".py",
   "mimetype": "text/x-python",
   "name": "python",
   "nbconvert_exporter": "python",
   "pygments_lexer": "ipython3",
   "version": "3.9.5"
  },
  "toc": {
   "base_numbering": 1,
   "nav_menu": {},
   "number_sections": true,
   "sideBar": true,
   "skip_h1_title": true,
   "title_cell": "Table of Contents",
   "title_sidebar": "Contents",
   "toc_cell": false,
   "toc_position": {},
   "toc_section_display": true,
   "toc_window_display": false
  },
  "widgets": {
   "application/vnd.jupyter.widget-state+json": {
    "state": {},
    "version_major": 2,
    "version_minor": 0
   }
  }
 },
 "nbformat": 4,
 "nbformat_minor": 5
}
